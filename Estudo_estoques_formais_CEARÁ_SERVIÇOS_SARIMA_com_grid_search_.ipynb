{
  "nbformat": 4,
  "nbformat_minor": 0,
  "metadata": {
    "colab": {
      "name": "Estudo estoques formais CEARÁ - SERVIÇOS- SARIMA com grid search .ipynb",
      "provenance": [],
      "collapsed_sections": [],
      "toc_visible": true,
      "mount_file_id": "17zXFFeFSmd97iXQgigHm-uc6L3g1TRLq",
      "authorship_tag": "ABX9TyNqWPtH0xqPM4XzV8XPfO5M",
      "include_colab_link": true
    },
    "kernelspec": {
      "name": "python3",
      "display_name": "Python 3"
    }
  },
  "cells": [
    {
      "cell_type": "markdown",
      "metadata": {
        "id": "view-in-github",
        "colab_type": "text"
      },
      "source": [
        "<a href=\"https://colab.research.google.com/github/bernarducs/caged_time_series/blob/master/Estudo_estoques_formais_CEAR%C3%81_SERVI%C3%87OS_SARIMA_com_grid_search_.ipynb\" target=\"_parent\"><img src=\"https://colab.research.google.com/assets/colab-badge.svg\" alt=\"Open In Colab\"/></a>"
      ]
    },
    {
      "cell_type": "markdown",
      "metadata": {
        "id": "2xmOlNMYsw8u",
        "colab_type": "text"
      },
      "source": [
        "## Objetivo\n",
        "### Abaixo, utilizaremos funções que buscarão os melhores parâmetros para modelagem do método ARIMA com fator sazonal - SARIMA."
      ]
    },
    {
      "cell_type": "markdown",
      "metadata": {
        "id": "24n8i1qyCPaP",
        "colab_type": "text"
      },
      "source": [
        "Based on article: https://machinelearningmastery.com/how-to-grid-search-sarima-model-hyperparameters-for-time-series-forecasting-in-python/"
      ]
    },
    {
      "cell_type": "markdown",
      "metadata": {
        "id": "rG4qQ8BPtTXu",
        "colab_type": "text"
      },
      "source": [
        "## Pacotes"
      ]
    },
    {
      "cell_type": "code",
      "metadata": {
        "id": "Pfthvjm47P7O",
        "colab_type": "code",
        "colab": {}
      },
      "source": [
        "from math import sqrt\n",
        "from itertools import product\n",
        "import pandas as pd"
      ],
      "execution_count": 1,
      "outputs": []
    },
    {
      "cell_type": "code",
      "metadata": {
        "id": "FSpWQbok-kCQ",
        "colab_type": "code",
        "colab": {
          "base_uri": "https://localhost:8080/",
          "height": 73
        },
        "outputId": "e4640ce3-eeba-4b82-ffbb-e0f7cd37a403"
      },
      "source": [
        "# viz\n",
        "import matplotlib.pyplot as plt\n",
        "import seaborn as sns\n",
        "sns.set_style(\"darkgrid\")\n",
        "sns.set_context(\"talk\")"
      ],
      "execution_count": 2,
      "outputs": [
        {
          "output_type": "stream",
          "text": [
            "/usr/local/lib/python3.6/dist-packages/statsmodels/tools/_testing.py:19: FutureWarning: pandas.util.testing is deprecated. Use the functions in the public API at pandas.testing instead.\n",
            "  import pandas.util.testing as tm\n"
          ],
          "name": "stderr"
        }
      ]
    },
    {
      "cell_type": "code",
      "metadata": {
        "id": "G9feBiuUFNMo",
        "colab_type": "code",
        "colab": {}
      },
      "source": [
        "# multiprocessing\n",
        "from multiprocessing import cpu_count\n",
        "from joblib import Parallel\n",
        "from joblib import delayed\n",
        "from warnings import catch_warnings\n",
        "from warnings import filterwarnings"
      ],
      "execution_count": 3,
      "outputs": []
    },
    {
      "cell_type": "code",
      "metadata": {
        "id": "NsgI-Fff54pZ",
        "colab_type": "code",
        "colab": {}
      },
      "source": [
        "# stats\n",
        "from statsmodels.tsa.statespace.sarimax import SARIMAX\n",
        "from sklearn.metrics import mean_squared_error"
      ],
      "execution_count": 4,
      "outputs": []
    },
    {
      "cell_type": "markdown",
      "metadata": {
        "id": "_z6oSAbntYl6",
        "colab_type": "text"
      },
      "source": [
        "## Datasets"
      ]
    },
    {
      "cell_type": "markdown",
      "metadata": {
        "id": "otBiszKBDdt1",
        "colab_type": "text"
      },
      "source": [
        "#### Estoques"
      ]
    },
    {
      "cell_type": "code",
      "metadata": {
        "id": "txvZzuuraHQd",
        "colab_type": "code",
        "colab": {
          "base_uri": "https://localhost:8080/",
          "height": 237
        },
        "outputId": "6715a50b-6392-4d34-ae4f-091ccc55c5f2"
      },
      "source": [
        "file_path = \"/content/drive/My Drive/Colab Notebooks/emprego/bases/estoque_ce_servicos.xlsx\"\n",
        "df = pd.read_excel(file_path, index_col='ano_mes')\n",
        "df.columns = ['estoques']\n",
        "df.index = pd.to_datetime(df.index, format=\"%Y%m\")\n",
        "df.tail()"
      ],
      "execution_count": 5,
      "outputs": [
        {
          "output_type": "execute_result",
          "data": {
            "text/html": [
              "<div>\n",
              "<style scoped>\n",
              "    .dataframe tbody tr th:only-of-type {\n",
              "        vertical-align: middle;\n",
              "    }\n",
              "\n",
              "    .dataframe tbody tr th {\n",
              "        vertical-align: top;\n",
              "    }\n",
              "\n",
              "    .dataframe thead th {\n",
              "        text-align: right;\n",
              "    }\n",
              "</style>\n",
              "<table border=\"1\" class=\"dataframe\">\n",
              "  <thead>\n",
              "    <tr style=\"text-align: right;\">\n",
              "      <th></th>\n",
              "      <th>estoques</th>\n",
              "    </tr>\n",
              "    <tr>\n",
              "      <th>ano_mes</th>\n",
              "      <th></th>\n",
              "    </tr>\n",
              "  </thead>\n",
              "  <tbody>\n",
              "    <tr>\n",
              "      <th>2020-03-01</th>\n",
              "      <td>558456</td>\n",
              "    </tr>\n",
              "    <tr>\n",
              "      <th>2020-04-01</th>\n",
              "      <td>548023</td>\n",
              "    </tr>\n",
              "    <tr>\n",
              "      <th>2020-05-01</th>\n",
              "      <td>543931</td>\n",
              "    </tr>\n",
              "    <tr>\n",
              "      <th>2020-06-01</th>\n",
              "      <td>542383</td>\n",
              "    </tr>\n",
              "    <tr>\n",
              "      <th>2020-07-01</th>\n",
              "      <td>542092</td>\n",
              "    </tr>\n",
              "  </tbody>\n",
              "</table>\n",
              "</div>"
            ],
            "text/plain": [
              "            estoques\n",
              "ano_mes             \n",
              "2020-03-01    558456\n",
              "2020-04-01    548023\n",
              "2020-05-01    543931\n",
              "2020-06-01    542383\n",
              "2020-07-01    542092"
            ]
          },
          "metadata": {
            "tags": []
          },
          "execution_count": 5
        }
      ]
    },
    {
      "cell_type": "markdown",
      "metadata": {
        "id": "L08HxaiEDhD3",
        "colab_type": "text"
      },
      "source": [
        "#### Saldo"
      ]
    },
    {
      "cell_type": "code",
      "metadata": {
        "id": "CnnGhP3hDhYb",
        "colab_type": "code",
        "colab": {
          "base_uri": "https://localhost:8080/",
          "height": 237
        },
        "outputId": "41b80a9c-c9dd-431b-9ca1-075d7967c287"
      },
      "source": [
        "file_path2 = \"/content/drive/My Drive/Colab Notebooks/emprego/bases/saldo_caged_servicos_ce.xlsx\"\n",
        "df_saldo = pd.read_excel(file_path2)\n",
        "df_saldo.columns = ['ano', 'saldo']\n",
        "df_saldo.set_index('ano', inplace=True)\n",
        "df_saldo.index = pd.to_datetime(df_saldo.index, format=\"%Y\")\n",
        "df_saldo.tail()"
      ],
      "execution_count": 6,
      "outputs": [
        {
          "output_type": "execute_result",
          "data": {
            "text/html": [
              "<div>\n",
              "<style scoped>\n",
              "    .dataframe tbody tr th:only-of-type {\n",
              "        vertical-align: middle;\n",
              "    }\n",
              "\n",
              "    .dataframe tbody tr th {\n",
              "        vertical-align: top;\n",
              "    }\n",
              "\n",
              "    .dataframe thead th {\n",
              "        text-align: right;\n",
              "    }\n",
              "</style>\n",
              "<table border=\"1\" class=\"dataframe\">\n",
              "  <thead>\n",
              "    <tr style=\"text-align: right;\">\n",
              "      <th></th>\n",
              "      <th>saldo</th>\n",
              "    </tr>\n",
              "    <tr>\n",
              "      <th>ano</th>\n",
              "      <th></th>\n",
              "    </tr>\n",
              "  </thead>\n",
              "  <tbody>\n",
              "    <tr>\n",
              "      <th>2016-01-01</th>\n",
              "      <td>-769</td>\n",
              "    </tr>\n",
              "    <tr>\n",
              "      <th>2017-01-01</th>\n",
              "      <td>3332</td>\n",
              "    </tr>\n",
              "    <tr>\n",
              "      <th>2018-01-01</th>\n",
              "      <td>16039</td>\n",
              "    </tr>\n",
              "    <tr>\n",
              "      <th>2019-01-01</th>\n",
              "      <td>11944</td>\n",
              "    </tr>\n",
              "    <tr>\n",
              "      <th>2020-01-01</th>\n",
              "      <td>-9733</td>\n",
              "    </tr>\n",
              "  </tbody>\n",
              "</table>\n",
              "</div>"
            ],
            "text/plain": [
              "            saldo\n",
              "ano              \n",
              "2016-01-01   -769\n",
              "2017-01-01   3332\n",
              "2018-01-01  16039\n",
              "2019-01-01  11944\n",
              "2020-01-01  -9733"
            ]
          },
          "metadata": {
            "tags": []
          },
          "execution_count": 6
        }
      ]
    },
    {
      "cell_type": "markdown",
      "metadata": {
        "id": "9oLA0W8ftenV",
        "colab_type": "text"
      },
      "source": [
        "## Rotinas\n",
        "\n",
        "Aqui temos funções para o sarima em 1 passo (faz a predição para t+1). A próxima função é raiz quadrada dos erros médios e por fim a função responsável por separação do dataset entre teste e treino."
      ]
    },
    {
      "cell_type": "code",
      "metadata": {
        "id": "nG_TDMvf6JhI",
        "colab_type": "code",
        "colab": {}
      },
      "source": [
        "# one-step sarima forecast\n",
        "def sarima_forecast(history, config):\n",
        "\torder, sorder, trend = config\n",
        "\t# define model\n",
        "\tmodel = SARIMAX(history, order=order, seasonal_order=sorder, trend=trend, \n",
        "                 enforce_stationarity=False, enforce_invertibility=False)\n",
        "\t# fit model\n",
        "\tmodel_fit = model.fit(disp=False)\n",
        "\t# make one step forecast\n",
        "\tyhat = model_fit.predict()\n",
        "\treturn yhat\n",
        " \n",
        "# root mean squared error or rmse\n",
        "def measure_rmse(actual, predicted):\n",
        "\treturn sqrt(mean_squared_error(actual, predicted))\n",
        " \n",
        "# split a univariate dataset into train/test sets\n",
        "def train_test_split(data, percent_test=0.25):\n",
        "  n_test = int(len(data) * percent_test)\n",
        "  return data[:-n_test], data[-n_test:]"
      ],
      "execution_count": 7,
      "outputs": []
    },
    {
      "cell_type": "markdown",
      "metadata": {
        "id": "WPe8kgqauCk-",
        "colab_type": "text"
      },
      "source": [
        "Aqui usamos a funções acima retornando o quadrado dos desvios."
      ]
    },
    {
      "cell_type": "code",
      "metadata": {
        "id": "w4gmgXxd9rL7",
        "colab_type": "code",
        "colab": {}
      },
      "source": [
        "# walk-forward validation for univariate data\n",
        "def walk_forward_validation(data, percent_test, cfg):\n",
        "\n",
        "  # split dataset\n",
        "  train, test = train_test_split(data, percent_test)\n",
        "\n",
        "  # fit model and make forecast for history\n",
        "  yhat = sarima_forecast(train, cfg)\n",
        "\n",
        "  # estimate prediction error\n",
        "  error = measure_rmse(train, yhat)\n",
        "  return error  "
      ],
      "execution_count": 8,
      "outputs": []
    },
    {
      "cell_type": "markdown",
      "metadata": {
        "id": "As6bSAOUuLIG",
        "colab_type": "text"
      },
      "source": [
        "Avalia qual a melhor configuração de parâmetros `cfg` tem a melhor avaliação, ou seja, o menor erro."
      ]
    },
    {
      "cell_type": "code",
      "metadata": {
        "id": "tkYM4hBsMjsD",
        "colab_type": "code",
        "colab": {}
      },
      "source": [
        "def score_model(data, n_test, cfg, debug=False):\n",
        "  result = None\n",
        "  # convert config to a key\n",
        "  key = str(cfg)\n",
        "  # show all warnings and fail on exception if debugging\n",
        "  if debug:\n",
        "    result = walk_forward_validation(data, n_test, cfg)\n",
        "  else:\n",
        "    # one failure during model validation suggests an unstable config\n",
        "    try:\n",
        "      # never show warnings when grid searching, too noisy\n",
        "      with catch_warnings():\n",
        "        filterwarnings(\"ignore\")\n",
        "        result = walk_forward_validation(data, n_test, cfg)\n",
        "    except:\n",
        "      error = None\n",
        "  # check for an interesting result\n",
        "  if result is not None:\n",
        "    print(' > Model[%s] %.3f' % (key, result))\n",
        "  return (key, result)"
      ],
      "execution_count": 9,
      "outputs": []
    },
    {
      "cell_type": "code",
      "metadata": {
        "id": "ZT8jnDItMuXh",
        "colab_type": "code",
        "colab": {}
      },
      "source": [
        "# grid search configs\n",
        "def grid_search(data, cfg_list, n_test, parallel=True):\n",
        "  scores = None\n",
        "  if parallel:\n",
        "    # execute configs in parallel\n",
        "    executor = Parallel(n_jobs=cpu_count(), backend='multiprocessing')\n",
        "    tasks = (delayed(score_model)(data, n_test, cfg) for cfg in cfg_list)\n",
        "    scores = executor(tasks)\n",
        "  else:\n",
        "    scores = [score_model(data, n_test, cfg) for cfg in cfg_list]\n",
        "  # remove empty results\n",
        "  scores = [r for r in scores if r[1] != None]\n",
        "  # sort configs by error, asc\n",
        "  scores.sort(key=lambda tup: tup[1])\n",
        "  return scores"
      ],
      "execution_count": 10,
      "outputs": []
    },
    {
      "cell_type": "code",
      "metadata": {
        "id": "vRFAwENkt4np",
        "colab_type": "code",
        "colab": {}
      },
      "source": [
        "# evaluating grid search results for test data\n",
        "def test_grid_search_results(data, scores, ntop_scores=5):\n",
        "\n",
        "  if ntop_scores > len(scores):\n",
        "    ntop_scores = 5\n",
        "\n",
        "  scores_test = list()\n",
        "  _, test = train_test_split(data, percent_test=0.4)  \n",
        "\n",
        "  for cfg_str, _ in scores[:ntop_scores]:\n",
        "    cfg = eval(cfg_str)\n",
        "    with catch_warnings():\n",
        "      filterwarnings(\"ignore\")\n",
        "      yhat = sarima_forecast(test, cfg)\n",
        "    error = measure_rmse(test, yhat)\n",
        "    result = (cfg_str, error)\n",
        "    print(result)\n",
        "    scores_test.append(result)\n",
        "  \n",
        "  scores_test.sort(key=lambda tup: tup[1])\n",
        "  return scores_test"
      ],
      "execution_count": 11,
      "outputs": []
    },
    {
      "cell_type": "code",
      "metadata": {
        "id": "QyxmozW79v8i",
        "colab_type": "code",
        "colab": {}
      },
      "source": [
        "def plot_model(data, cfg):\n",
        "  order = cfg[0]\n",
        "  s_order = cfg[1]\n",
        "  trend = cfg[2]\n",
        "  sarimax_pred = SARIMAX(\n",
        "      endog=df, order=order, seasonal_order=s_order, trend=trend,\n",
        "      enforce_stationarity=False, enforce_invertibility=False)\n",
        "\n",
        "  model_sarimax_pred = sarimax_pred.fit(disp=False)\n",
        "\n",
        "  previsao_sarimax = model_sarimax_pred.predict()\n",
        "\n",
        "  error = measure_rmse(df, previsao_sarimax)\n",
        "  print('Error:', error)\n",
        "\n",
        "  plt.figure(figsize=(22, 10))\n",
        "  plt.plot(previsao_sarimax[10:], label = 'forecast')\n",
        "  plt.plot(df[10:], label = 'target')\n",
        "  plt.title('Target x Forecast')\n",
        "  plt.legend()\n",
        "  plt.show()"
      ],
      "execution_count": 12,
      "outputs": []
    },
    {
      "cell_type": "code",
      "metadata": {
        "id": "WO8ntgVZPxJX",
        "colab_type": "code",
        "colab": {}
      },
      "source": [
        "def sarima_configs(seasonal=[12]):\n",
        "  models = list()\n",
        "  # define config lists\n",
        "  p_params = [0, 1, 2]\n",
        "  d_params = [0, 1]\n",
        "  q_params = [0, 1, 2]\n",
        "  t_params = ['n','c','t','ct']\n",
        "  P_params = [0, 1, 2]\n",
        "  D_params = [0, 1]\n",
        "  Q_params = [0, 1]\n",
        "  m_params = seasonal\n",
        "  # create config instances\n",
        "  for p, d, q, t, P, D, Q, m in product(p_params, d_params, q_params, t_params, P_params, D_params, Q_params, m_params):\n",
        "    cfg = [(p,d,q), (P,D,Q,m), t]\n",
        "    models.append(cfg)\n",
        "  return models"
      ],
      "execution_count": 13,
      "outputs": []
    },
    {
      "cell_type": "markdown",
      "metadata": {
        "id": "80wqYsTau8DJ",
        "colab_type": "text"
      },
      "source": [
        "## Gerando modelo"
      ]
    },
    {
      "cell_type": "code",
      "metadata": {
        "id": "FPy0vStORq8h",
        "colab_type": "code",
        "colab": {
          "base_uri": "https://localhost:8080/",
          "height": 1000
        },
        "outputId": "bc630e59-a66f-4a3c-9f4a-e1ceaff438a6"
      },
      "source": [
        "cfg_list = sarima_configs(seasonal=[12])\n",
        "scores = grid_search(df, cfg_list, 0.25)"
      ],
      "execution_count": 14,
      "outputs": [
        {
          "output_type": "stream",
          "text": [
            " > Model[[(0, 0, 0), (0, 0, 0, 12), 'n']] 510496.063\n",
            " > Model[[(0, 0, 0), (0, 1, 0, 12), 'n']] 157305.608\n",
            " > Model[[(0, 0, 0), (0, 0, 1, 12), 'n']] 316331.242\n",
            " > Model[[(0, 0, 0), (0, 1, 1, 12), 'n']] 155386.517\n",
            " > Model[[(0, 0, 0), (1, 0, 0, 12), 'n']] 156687.095\n",
            " > Model[[(0, 0, 0), (1, 0, 1, 12), 'n']] 154400.794\n",
            " > Model[[(0, 0, 0), (1, 1, 0, 12), 'n']] 154142.898\n",
            " > Model[[(0, 0, 0), (2, 0, 0, 12), 'n']] 154086.202\n",
            " > Model[[(0, 0, 0), (1, 1, 1, 12), 'n']] 155225.224\n",
            " > Model[[(0, 0, 0), (2, 1, 0, 12), 'n']] 161257.292\n",
            " > Model[[(0, 0, 0), (2, 0, 1, 12), 'n']] 154838.880\n",
            " > Model[[(0, 0, 0), (0, 0, 0, 12), 'c']] 58838.473\n",
            " > Model[[(0, 0, 0), (0, 0, 1, 12), 'c']] 57779.277\n",
            " > Model[[(0, 0, 0), (0, 1, 0, 12), 'c']] 150479.777\n",
            " > Model[[(0, 0, 0), (0, 1, 1, 12), 'c']] 148599.092\n",
            " > Model[[(0, 0, 0), (2, 1, 1, 12), 'n']] 156084.327\n",
            " > Model[[(0, 0, 0), (1, 0, 0, 12), 'c']] 56646.186\n",
            " > Model[[(0, 0, 0), (1, 1, 0, 12), 'c']] 152531.365\n",
            " > Model[[(0, 0, 0), (1, 0, 1, 12), 'c']] 55957.598\n",
            " > Model[[(0, 0, 0), (2, 0, 0, 12), 'c']] 56516.806\n",
            " > Model[[(0, 0, 0), (1, 1, 1, 12), 'c']] 153869.088\n",
            " > Model[[(0, 0, 0), (2, 0, 1, 12), 'c']] 56548.376\n",
            " > Model[[(0, 0, 0), (0, 0, 0, 12), 't']] 231036.519\n",
            " > Model[[(0, 0, 0), (0, 0, 1, 12), 't']] 3726810714.994\n",
            " > Model[[(0, 0, 0), (0, 1, 0, 12), 't']] 157004.969\n",
            " > Model[[(0, 0, 0), (2, 1, 0, 12), 'c']] 167790.775\n",
            " > Model[[(0, 0, 0), (0, 1, 1, 12), 't']] 155375.027\n",
            " > Model[[(0, 0, 0), (1, 0, 0, 12), 't']] 157821.793\n",
            " > Model[[(0, 0, 0), (1, 0, 1, 12), 't']] 173114.030\n",
            " > Model[[(0, 0, 0), (1, 1, 0, 12), 't']] 154165.229\n",
            " > Model[[(0, 0, 0), (2, 1, 1, 12), 'c']] 166366.804\n",
            " > Model[[(0, 0, 0), (2, 0, 0, 12), 't']] 451877.450\n",
            " > Model[[(0, 0, 0), (1, 1, 1, 12), 't']] 155314.589\n",
            " > Model[[(0, 0, 0), (2, 0, 1, 12), 't']] 191551.246\n",
            " > Model[[(0, 0, 0), (0, 0, 0, 12), 'ct']] 50679.880\n",
            " > Model[[(0, 0, 0), (0, 0, 1, 12), 'ct']] 50580.413\n",
            " > Model[[(0, 0, 0), (0, 1, 0, 12), 'ct']] 135287.778\n",
            " > Model[[(0, 0, 0), (2, 1, 0, 12), 't']] 161287.206\n",
            " > Model[[(0, 0, 0), (0, 1, 1, 12), 'ct']] 139683.004\n",
            " > Model[[(0, 0, 0), (1, 0, 0, 12), 'ct']] 46879.994\n",
            " > Model[[(0, 0, 0), (1, 0, 1, 12), 'ct']] 50098.408\n",
            " > Model[[(0, 0, 0), (2, 1, 1, 12), 't']] 157936.276\n",
            " > Model[[(0, 0, 0), (1, 1, 0, 12), 'ct']] 142914.771\n",
            " > Model[[(0, 0, 0), (2, 0, 0, 12), 'ct']] 47335.588\n",
            " > Model[[(0, 0, 0), (1, 1, 1, 12), 'ct']] 137820.457\n",
            " > Model[[(0, 0, 0), (2, 0, 1, 12), 'ct']] 86944.774\n",
            " > Model[[(0, 0, 0), (2, 1, 0, 12), 'ct']] 159707.718\n",
            " > Model[[(0, 0, 1), (0, 0, 0, 12), 'n']] 272556.962\n",
            " > Model[[(0, 0, 1), (0, 0, 1, 12), 'n']] 183039.387\n",
            " > Model[[(0, 0, 1), (0, 1, 0, 12), 'n']] 108655.519\n",
            " > Model[[(0, 0, 1), (0, 1, 1, 12), 'n']] 104675.201\n",
            " > Model[[(0, 0, 1), (1, 0, 0, 12), 'n']] 117265.232\n",
            " > Model[[(0, 0, 1), (1, 0, 1, 12), 'n']] 109734.308\n",
            " > Model[[(0, 0, 1), (1, 1, 0, 12), 'n']] 104539.495\n",
            " > Model[[(0, 0, 1), (1, 1, 1, 12), 'n']] 105778.849\n",
            " > Model[[(0, 0, 1), (2, 0, 0, 12), 'n']] 151476.683\n",
            " > Model[[(0, 0, 0), (2, 1, 1, 12), 'ct']] 142378.098\n",
            " > Model[[(0, 0, 1), (2, 0, 1, 12), 'n']] 106534.841\n",
            " > Model[[(0, 0, 1), (2, 1, 0, 12), 'n']] 110306.457\n",
            " > Model[[(0, 0, 1), (0, 0, 0, 12), 'c']] 49914.132\n",
            " > Model[[(0, 0, 1), (0, 0, 1, 12), 'c']] 1067333.902\n",
            " > Model[[(0, 0, 1), (0, 1, 0, 12), 'c']] 105896.452\n",
            " > Model[[(0, 0, 1), (0, 1, 1, 12), 'c']] 101195.988\n",
            " > Model[[(0, 0, 1), (1, 0, 0, 12), 'c']] 49434.520\n",
            " > Model[[(0, 0, 1), (2, 1, 1, 12), 'n']] 113576.499\n",
            " > Model[[(0, 0, 1), (1, 0, 1, 12), 'c']] 48939.374\n",
            " > Model[[(0, 0, 1), (1, 1, 0, 12), 'c']] 102254.024\n",
            " > Model[[(0, 0, 1), (1, 1, 1, 12), 'c']] 107315.093\n",
            " > Model[[(0, 0, 1), (2, 0, 0, 12), 'c']] 50174.030\n",
            " > Model[[(0, 0, 1), (2, 1, 0, 12), 'c']] 112840.926\n",
            " > Model[[(0, 0, 1), (2, 0, 1, 12), 'c']] 51969.894\n",
            " > Model[[(0, 0, 1), (0, 0, 0, 12), 't']] 135876.617\n",
            " > Model[[(0, 0, 1), (0, 0, 1, 12), 't']] 115356.933\n",
            " > Model[[(0, 0, 1), (0, 1, 0, 12), 't']] 108557.164\n",
            " > Model[[(0, 0, 1), (2, 1, 1, 12), 'c']] 107171.618\n",
            " > Model[[(0, 0, 1), (0, 1, 1, 12), 't']] 104668.007\n",
            " > Model[[(0, 0, 1), (1, 0, 0, 12), 't']] 11154967.194\n",
            " > Model[[(0, 0, 1), (1, 0, 1, 12), 't']] 115286.695\n",
            " > Model[[(0, 0, 1), (1, 1, 0, 12), 't']] 104519.968\n",
            " > Model[[(0, 0, 1), (2, 0, 0, 12), 't']] 5491956.546\n",
            " > Model[[(0, 0, 1), (1, 1, 1, 12), 't']] 106107.128\n",
            " > Model[[(0, 0, 1), (2, 1, 0, 12), 't']] 110703.302\n",
            " > Model[[(0, 0, 1), (2, 0, 1, 12), 't']] 5607864.630\n",
            " > Model[[(0, 0, 1), (0, 0, 0, 12), 'ct']] 46328.552\n",
            " > Model[[(0, 0, 1), (0, 0, 1, 12), 'ct']] 46296.499\n",
            " > Model[[(0, 0, 1), (0, 1, 0, 12), 'ct']] 100132.017\n",
            " > Model[[(0, 0, 1), (0, 1, 1, 12), 'ct']] 100825.270\n",
            " > Model[[(0, 0, 1), (1, 0, 0, 12), 'ct']] 46271.570\n",
            " > Model[[(0, 0, 1), (2, 1, 1, 12), 't']] 107357.145\n",
            " > Model[[(0, 0, 1), (1, 0, 1, 12), 'ct']] 46236.442\n",
            " > Model[[(0, 0, 1), (1, 1, 0, 12), 'ct']] 101239.848\n",
            " > Model[[(0, 0, 1), (2, 0, 0, 12), 'ct']] 46131.723\n",
            " > Model[[(0, 0, 1), (1, 1, 1, 12), 'ct']] 100535.711\n",
            " > Model[[(0, 0, 1), (2, 0, 1, 12), 'ct']] 47992.628\n",
            " > Model[[(0, 0, 1), (2, 1, 0, 12), 'ct']] 120142.168\n",
            " > Model[[(0, 0, 2), (0, 0, 0, 12), 'n']] 173052.334\n",
            " > Model[[(0, 0, 2), (0, 0, 1, 12), 'n']] 142576.558\n",
            " > Model[[(0, 0, 2), (0, 1, 0, 12), 'n']] 89782.276\n",
            " > Model[[(0, 0, 2), (0, 1, 1, 12), 'n']] 88371.111\n",
            " > Model[[(0, 0, 2), (1, 0, 0, 12), 'n']] 108724.734\n",
            " > Model[[(0, 0, 2), (1, 0, 1, 12), 'n']] 90317.321\n",
            " > Model[[(0, 0, 2), (1, 1, 0, 12), 'n']] 88660.931\n",
            " > Model[[(0, 0, 1), (2, 1, 1, 12), 'ct']] 99657.272\n",
            " > Model[[(0, 0, 2), (1, 1, 1, 12), 'n']] 90137.542\n",
            " > Model[[(0, 0, 2), (2, 0, 0, 12), 'n']] 99656.421\n",
            " > Model[[(0, 0, 2), (2, 0, 1, 12), 'n']] 90984.562\n",
            " > Model[[(0, 0, 2), (2, 1, 0, 12), 'n']] 92709.102\n",
            " > Model[[(0, 0, 2), (0, 0, 0, 12), 'c']] 47389.795\n",
            " > Model[[(0, 0, 2), (0, 0, 1, 12), 'c']] 1857161.709\n",
            " > Model[[(0, 0, 2), (0, 1, 0, 12), 'c']] 88333.285\n",
            " > Model[[(0, 0, 2), (0, 1, 1, 12), 'c']] 86474.640\n",
            " > Model[[(0, 0, 2), (1, 0, 0, 12), 'c']] 47285.841\n",
            " > Model[[(0, 0, 2), (2, 1, 1, 12), 'n']] 88449.180\n",
            " > Model[[(0, 0, 2), (1, 1, 0, 12), 'c']] 86214.624\n",
            " > Model[[(0, 0, 2), (1, 0, 1, 12), 'c']] 47179.437\n",
            " > Model[[(0, 0, 2), (1, 1, 1, 12), 'c']] 88540.490\n",
            " > Model[[(0, 0, 2), (2, 0, 0, 12), 'c']] 47298.604\n",
            " > Model[[(0, 0, 2), (2, 0, 1, 12), 'c']] 47230.760\n",
            " > Model[[(0, 0, 2), (2, 1, 0, 12), 'c']] 93298.376\n",
            " > Model[[(0, 0, 2), (0, 0, 0, 12), 't']] 101358.154\n",
            " > Model[[(0, 0, 2), (0, 0, 1, 12), 't']] 7741666.670\n",
            " > Model[[(0, 0, 2), (0, 1, 0, 12), 't']] 89778.584\n",
            " > Model[[(0, 0, 2), (2, 1, 1, 12), 'c']] 88457.319\n",
            " > Model[[(0, 0, 2), (0, 1, 1, 12), 't']] 88377.113\n",
            " > Model[[(0, 0, 2), (1, 0, 0, 12), 't']] 10278586.567\n",
            " > Model[[(0, 0, 2), (1, 1, 0, 12), 't']] 88617.096\n",
            " > Model[[(0, 0, 2), (1, 0, 1, 12), 't']] 7715035.498\n",
            " > Model[[(0, 0, 2), (1, 1, 1, 12), 't']] 89922.917\n",
            " > Model[[(0, 0, 2), (2, 0, 0, 12), 't']] 3146863.296\n",
            " > Model[[(0, 0, 2), (2, 1, 0, 12), 't']] 92801.044\n",
            " > Model[[(0, 0, 2), (2, 0, 1, 12), 't']] 2767077.391\n",
            " > Model[[(0, 0, 2), (0, 0, 0, 12), 'ct']] 45381.509\n",
            " > Model[[(0, 0, 2), (0, 0, 1, 12), 'ct']] 45505.676\n",
            " > Model[[(0, 0, 2), (0, 1, 0, 12), 'ct']] 85048.422\n",
            " > Model[[(0, 0, 2), (2, 1, 1, 12), 't']] 88527.382\n",
            " > Model[[(0, 0, 2), (1, 0, 0, 12), 'ct']] 45405.345\n",
            " > Model[[(0, 0, 2), (1, 0, 1, 12), 'ct']] 45560.754\n",
            " > Model[[(0, 0, 2), (0, 1, 1, 12), 'ct']] 85792.289\n",
            " > Model[[(0, 0, 2), (1, 1, 0, 12), 'ct']] 83060.401\n",
            " > Model[[(0, 0, 2), (2, 0, 0, 12), 'ct']] 45375.532\n",
            " > Model[[(0, 0, 2), (1, 1, 1, 12), 'ct']] 84190.434\n",
            " > Model[[(0, 0, 2), (2, 0, 1, 12), 'ct']] 45499.132\n",
            " > Model[[(0, 0, 2), (2, 1, 1, 12), 'ct']] 82562.473\n",
            " > Model[[(0, 1, 0), (0, 0, 0, 12), 'n']] 43619.055\n",
            " > Model[[(0, 1, 0), (0, 0, 1, 12), 'n']] 43611.903\n",
            " > Model[[(0, 1, 0), (0, 1, 0, 12), 'n']] 49273.610\n",
            " > Model[[(0, 0, 2), (2, 1, 0, 12), 'ct']] 88594.373\n",
            " > Model[[(0, 1, 0), (0, 1, 1, 12), 'n']] 49436.932\n",
            " > Model[[(0, 1, 0), (1, 0, 0, 12), 'n']] 43821.983\n",
            " > Model[[(0, 1, 0), (1, 1, 0, 12), 'n']] 48932.994\n",
            " > Model[[(0, 1, 0), (1, 0, 1, 12), 'n']] 43312.957\n",
            " > Model[[(0, 1, 0), (2, 0, 0, 12), 'n']] 46219.344\n",
            " > Model[[(0, 1, 0), (2, 0, 1, 12), 'n']] 46455.998\n",
            " > Model[[(0, 1, 0), (1, 1, 1, 12), 'n']] 45392.802\n",
            " > Model[[(0, 1, 0), (2, 1, 0, 12), 'n']] 50148.291\n",
            " > Model[[(0, 1, 0), (0, 0, 0, 12), 'c']] 43591.733\n",
            " > Model[[(0, 1, 0), (0, 0, 1, 12), 'c']] 43579.654\n",
            " > Model[[(0, 1, 0), (0, 1, 0, 12), 'c']] 49226.553\n",
            " > Model[[(0, 1, 0), (0, 1, 1, 12), 'c']] 49406.378\n",
            " > Model[[(0, 1, 0), (2, 1, 1, 12), 'n']] 51115.134\n",
            " > Model[[(0, 1, 0), (1, 0, 0, 12), 'c']] 43882.887\n",
            " > Model[[(0, 1, 0), (1, 0, 1, 12), 'c']] 45791.541\n",
            " > Model[[(0, 1, 0), (1, 1, 0, 12), 'c']] 48873.596\n",
            " > Model[[(0, 1, 0), (2, 0, 0, 12), 'c']] 46592.987\n",
            " > Model[[(0, 1, 0), (1, 1, 1, 12), 'c']] 45593.041\n",
            " > Model[[(0, 1, 0), (2, 0, 1, 12), 'c']] 46814.089\n",
            " > Model[[(0, 1, 0), (2, 1, 1, 12), 'c']] 51748.832\n",
            " > Model[[(0, 1, 0), (0, 0, 0, 12), 't']] 43616.230\n",
            " > Model[[(0, 1, 0), (0, 0, 1, 12), 't']] 43608.657\n",
            " > Model[[(0, 1, 0), (0, 1, 0, 12), 't']] 49269.819\n",
            " > Model[[(0, 1, 0), (0, 1, 1, 12), 't']] 49438.553\n",
            " > Model[[(0, 1, 0), (2, 1, 0, 12), 'c']] 50113.944\n",
            " > Model[[(0, 1, 0), (1, 0, 0, 12), 't']] 43830.414\n",
            " > Model[[(0, 1, 0), (1, 0, 1, 12), 't']] 43298.701\n",
            " > Model[[(0, 1, 0), (1, 1, 0, 12), 't']] 48936.618\n",
            " > Model[[(0, 1, 0), (2, 0, 0, 12), 't']] 46365.369\n",
            " > Model[[(0, 1, 0), (1, 1, 1, 12), 't']] 45557.726\n",
            " > Model[[(0, 1, 0), (2, 0, 1, 12), 't']] 45159.585\n",
            " > Model[[(0, 1, 0), (2, 1, 1, 12), 't']] 51906.964\n",
            " > Model[[(0, 1, 0), (0, 0, 0, 12), 'ct']] 43558.442\n",
            " > Model[[(0, 1, 0), (2, 1, 0, 12), 't']] 50169.723\n",
            " > Model[[(0, 1, 0), (0, 1, 0, 12), 'ct']] 49142.648\n",
            " > Model[[(0, 1, 0), (0, 0, 1, 12), 'ct']] 43534.066\n",
            " > Model[[(0, 1, 0), (1, 0, 0, 12), 'ct']] 43998.692\n",
            " > Model[[(0, 1, 0), (0, 1, 1, 12), 'ct']] 49320.666\n",
            " > Model[[(0, 1, 0), (1, 0, 1, 12), 'ct']] 43303.267\n",
            " > Model[[(0, 1, 0), (1, 1, 0, 12), 'ct']] 48778.513\n",
            " > Model[[(0, 1, 0), (1, 1, 1, 12), 'ct']] 45750.063\n",
            " > Model[[(0, 1, 0), (2, 0, 0, 12), 'ct']] 46894.204\n",
            " > Model[[(0, 1, 0), (2, 0, 1, 12), 'ct']] 46957.647\n",
            " > Model[[(0, 1, 0), (2, 1, 0, 12), 'ct']] 50055.793\n",
            " > Model[[(0, 1, 1), (0, 0, 0, 12), 'n']] 43617.305\n",
            " > Model[[(0, 1, 1), (0, 0, 1, 12), 'n']] 43610.121\n",
            " > Model[[(0, 1, 1), (0, 1, 0, 12), 'n']] 49274.256\n",
            " > Model[[(0, 1, 1), (0, 1, 1, 12), 'n']] 49439.175\n",
            " > Model[[(0, 1, 1), (1, 0, 0, 12), 'n']] 43826.718\n",
            " > Model[[(0, 1, 1), (1, 0, 1, 12), 'n']] 43296.271\n",
            " > Model[[(0, 1, 1), (1, 1, 0, 12), 'n']] 48933.811\n",
            " > Model[[(0, 1, 1), (1, 1, 1, 12), 'n']] 45565.823\n",
            " > Model[[(0, 1, 0), (2, 1, 1, 12), 'ct']] 50975.574\n",
            " > Model[[(0, 1, 1), (2, 0, 0, 12), 'n']] 46273.227\n",
            " > Model[[(0, 1, 1), (2, 0, 1, 12), 'n']] 46493.271\n",
            " > Model[[(0, 1, 1), (2, 1, 0, 12), 'n']] 50466.629\n",
            " > Model[[(0, 1, 1), (0, 0, 0, 12), 'c']] 43591.587\n",
            " > Model[[(0, 1, 1), (0, 0, 1, 12), 'c']] 43581.437\n",
            " > Model[[(0, 1, 1), (0, 1, 0, 12), 'c']] 49224.874\n",
            " > Model[[(0, 1, 1), (0, 1, 1, 12), 'c']] 49403.972\n",
            " > Model[[(0, 1, 1), (1, 0, 0, 12), 'c']] 43912.193\n",
            " > Model[[(0, 1, 1), (2, 1, 1, 12), 'n']] 51692.932\n",
            " > Model[[(0, 1, 1), (1, 0, 1, 12), 'c']] 43315.898\n",
            " > Model[[(0, 1, 1), (1, 1, 0, 12), 'c']] 48851.459\n",
            " > Model[[(0, 1, 1), (2, 0, 0, 12), 'c']] 46605.043\n",
            " > Model[[(0, 1, 1), (2, 0, 1, 12), 'c']] 46808.740\n",
            " > Model[[(0, 1, 1), (1, 1, 1, 12), 'c']] 45603.869\n",
            " > Model[[(0, 1, 1), (2, 1, 1, 12), 'c']] 51753.093\n",
            " > Model[[(0, 1, 1), (0, 0, 0, 12), 't']] 43614.708\n",
            " > Model[[(0, 1, 1), (0, 0, 1, 12), 't']] 43606.484\n",
            " > Model[[(0, 1, 1), (0, 1, 0, 12), 't']] 49270.451\n",
            " > Model[[(0, 1, 1), (2, 1, 0, 12), 'c']] 50112.622\n",
            " > Model[[(0, 1, 1), (0, 1, 1, 12), 't']] 49439.668\n",
            " > Model[[(0, 1, 1), (1, 0, 0, 12), 't']] 43834.452\n",
            " > Model[[(0, 1, 1), (1, 0, 1, 12), 't']] 43290.662\n",
            " > Model[[(0, 1, 1), (1, 1, 0, 12), 't']] 48930.923\n",
            " > Model[[(0, 1, 1), (2, 0, 0, 12), 't']] 46396.559\n",
            " > Model[[(0, 1, 1), (1, 1, 1, 12), 't']] 45566.342\n",
            " > Model[[(0, 1, 1), (2, 0, 1, 12), 't']] 43215.957\n",
            " > Model[[(0, 1, 1), (2, 1, 0, 12), 't']] 50558.912\n",
            " > Model[[(0, 1, 1), (0, 0, 0, 12), 'ct']] 43557.823\n",
            " > Model[[(0, 1, 1), (0, 0, 1, 12), 'ct']] 43534.346\n",
            " > Model[[(0, 1, 1), (0, 1, 0, 12), 'ct']] 49125.263\n",
            " > Model[[(0, 1, 1), (0, 1, 1, 12), 'ct']] 49300.248\n",
            " > Model[[(0, 1, 1), (2, 1, 1, 12), 't']] 51908.209\n",
            " > Model[[(0, 1, 1), (1, 0, 0, 12), 'ct']] 44016.579\n",
            " > Model[[(0, 1, 1), (1, 0, 1, 12), 'ct']] 43313.093\n",
            " > Model[[(0, 1, 1), (1, 1, 0, 12), 'ct']] 48760.612\n",
            " > Model[[(0, 1, 1), (1, 1, 1, 12), 'ct']] 45781.047\n",
            " > Model[[(0, 1, 1), (2, 0, 0, 12), 'ct']] 46903.438\n",
            " > Model[[(0, 1, 1), (2, 0, 1, 12), 'ct']] 46667.089\n",
            " > Model[[(0, 1, 1), (2, 1, 0, 12), 'ct']] 50420.254\n",
            " > Model[[(0, 1, 2), (0, 0, 0, 12), 'n']] 43614.981\n",
            " > Model[[(0, 1, 2), (0, 0, 1, 12), 'n']] 43608.775\n",
            " > Model[[(0, 1, 2), (0, 1, 0, 12), 'n']] 49274.311\n",
            " > Model[[(0, 1, 2), (0, 1, 1, 12), 'n']] 49452.178\n",
            " > Model[[(0, 1, 2), (1, 0, 0, 12), 'n']] 43842.737\n",
            " > Model[[(0, 1, 2), (1, 0, 1, 12), 'n']] 43294.370\n",
            " > Model[[(0, 1, 2), (1, 1, 0, 12), 'n']] 48932.458\n",
            " > Model[[(0, 1, 1), (2, 1, 1, 12), 'ct']] 51668.452\n",
            " > Model[[(0, 1, 2), (1, 1, 1, 12), 'n']] 45565.478\n",
            " > Model[[(0, 1, 2), (2, 0, 0, 12), 'n']] 46357.443\n",
            " > Model[[(0, 1, 2), (2, 0, 1, 12), 'n']] 46566.343\n",
            " > Model[[(0, 1, 2), (2, 1, 0, 12), 'n']] 50451.946\n",
            " > Model[[(0, 1, 2), (0, 0, 0, 12), 'c']] 43591.095\n",
            " > Model[[(0, 1, 2), (0, 0, 1, 12), 'c']] 43580.395\n",
            " > Model[[(0, 1, 2), (0, 1, 0, 12), 'c']] 49221.230\n",
            " > Model[[(0, 1, 2), (0, 1, 1, 12), 'c']] 49409.272\n",
            " > Model[[(0, 1, 2), (2, 1, 1, 12), 'n']] 51661.160\n",
            " > Model[[(0, 1, 2), (1, 0, 0, 12), 'c']] 43889.593\n",
            " > Model[[(0, 1, 2), (1, 1, 0, 12), 'c']] 48846.732\n",
            " > Model[[(0, 1, 2), (1, 0, 1, 12), 'c']] 45894.072\n",
            " > Model[[(0, 1, 2), (2, 0, 0, 12), 'c']] 46630.668\n",
            " > Model[[(0, 1, 2), (1, 1, 1, 12), 'c']] 45605.909\n",
            " > Model[[(0, 1, 2), (2, 0, 1, 12), 'c']] 46831.306\n",
            " > Model[[(0, 1, 2), (2, 1, 1, 12), 'c']] 51704.697\n",
            " > Model[[(0, 1, 2), (0, 0, 0, 12), 't']] 43612.763\n",
            " > Model[[(0, 1, 2), (0, 0, 1, 12), 't']] 43605.831\n",
            " > Model[[(0, 1, 2), (0, 1, 0, 12), 't']] 49270.407\n",
            " > Model[[(0, 1, 2), (0, 1, 1, 12), 't']] 49451.654\n",
            " > Model[[(0, 1, 2), (1, 0, 0, 12), 't']] 43849.450\n",
            " > Model[[(0, 1, 2), (1, 0, 1, 12), 't']] 43288.825\n",
            " > Model[[(0, 1, 2), (2, 1, 0, 12), 'c']] 50075.291\n",
            " > Model[[(0, 1, 2), (1, 1, 0, 12), 't']] 48934.250\n",
            " > Model[[(0, 1, 2), (2, 0, 0, 12), 't']] 46471.386\n",
            " > Model[[(0, 1, 2), (1, 1, 1, 12), 't']] 45565.257\n",
            " > Model[[(0, 1, 2), (2, 0, 1, 12), 't']] 46695.222\n",
            " > Model[[(0, 1, 2), (2, 1, 0, 12), 't']] 50544.060\n",
            " > Model[[(0, 1, 2), (0, 0, 0, 12), 'ct']] 43557.906\n",
            " > Model[[(0, 1, 2), (0, 0, 1, 12), 'ct']] 43534.755\n",
            " > Model[[(0, 1, 2), (0, 1, 0, 12), 'ct']] 49099.139\n",
            " > Model[[(0, 1, 2), (2, 1, 1, 12), 't']] 51868.461\n",
            " > Model[[(0, 1, 2), (1, 0, 0, 12), 'ct']] 44035.288\n",
            " > Model[[(0, 1, 2), (0, 1, 1, 12), 'ct']] 49280.028\n",
            " > Model[[(0, 1, 2), (1, 0, 1, 12), 'ct']] 43320.926\n",
            " > Model[[(0, 1, 2), (1, 1, 0, 12), 'ct']] 48735.816\n",
            " > Model[[(0, 1, 2), (2, 0, 0, 12), 'ct']] 46909.426\n",
            " > Model[[(0, 1, 2), (1, 1, 1, 12), 'ct']] 45824.623\n",
            " > Model[[(0, 1, 2), (2, 0, 1, 12), 'ct']] 46930.133\n",
            " > Model[[(0, 1, 2), (2, 1, 0, 12), 'ct']] 50372.800\n",
            " > Model[[(1, 0, 0), (0, 0, 0, 12), 'n']] 43598.186\n",
            " > Model[[(1, 0, 0), (0, 0, 1, 12), 'n']] 43590.540\n",
            " > Model[[(1, 0, 0), (0, 1, 0, 12), 'n']] 60703.154\n",
            " > Model[[(1, 0, 0), (0, 1, 1, 12), 'n']] 61530.050\n",
            " > Model[[(1, 0, 0), (1, 0, 0, 12), 'n']] 44184.072\n",
            " > Model[[(1, 0, 0), (1, 0, 1, 12), 'n']] 48287.760\n",
            " > Model[[(1, 0, 0), (1, 1, 0, 12), 'n']] 60579.418\n",
            " > Model[[(0, 1, 2), (2, 1, 1, 12), 'ct']] 51562.382\n",
            " > Model[[(1, 0, 0), (1, 1, 1, 12), 'n']] 56013.282\n",
            " > Model[[(1, 0, 0), (2, 0, 0, 12), 'n']] 52267.840\n",
            " > Model[[(1, 0, 0), (2, 1, 0, 12), 'n']] 64574.455\n",
            " > Model[[(1, 0, 0), (2, 0, 1, 12), 'n']] 51377.781\n",
            " > Model[[(1, 0, 0), (0, 0, 0, 12), 'c']] 43531.376\n",
            " > Model[[(1, 0, 0), (0, 0, 1, 12), 'c']] 43513.208\n",
            " > Model[[(1, 0, 0), (0, 1, 0, 12), 'c']] 60722.901\n",
            " > Model[[(1, 0, 0), (0, 1, 1, 12), 'c']] 61636.457\n",
            " > Model[[(1, 0, 0), (2, 1, 1, 12), 'n']] 66587.294\n",
            " > Model[[(1, 0, 0), (1, 0, 0, 12), 'c']] 44230.025\n",
            " > Model[[(1, 0, 0), (1, 1, 0, 12), 'c']] 60693.291\n",
            " > Model[[(1, 0, 0), (1, 0, 1, 12), 'c']] 43202.766\n",
            " > Model[[(1, 0, 0), (1, 1, 1, 12), 'c']] 56045.474\n",
            " > Model[[(1, 0, 0), (2, 0, 0, 12), 'c']] 52599.730\n",
            " > Model[[(1, 0, 0), (2, 1, 0, 12), 'c']] 64537.469\n",
            " > Model[[(1, 0, 0), (2, 0, 1, 12), 'c']] 51597.964\n",
            " > Model[[(1, 0, 0), (0, 0, 0, 12), 't']] 43568.480\n",
            " > Model[[(1, 0, 0), (0, 0, 1, 12), 't']] 43545.190\n",
            " > Model[[(1, 0, 0), (0, 1, 0, 12), 't']] 60707.013\n",
            " > Model[[(1, 0, 0), (0, 1, 1, 12), 't']] 61538.694\n",
            " > Model[[(1, 0, 0), (2, 1, 1, 12), 'c']] 66590.637\n",
            " > Model[[(1, 0, 0), (1, 0, 0, 12), 't']] 58202.608\n",
            " > Model[[(1, 0, 0), (1, 1, 0, 12), 't']] 60591.897\n",
            " > Model[[(1, 0, 0), (1, 0, 1, 12), 't']] 49312.006\n",
            " > Model[[(1, 0, 0), (1, 1, 1, 12), 't']] 56015.406\n",
            " > Model[[(1, 0, 0), (2, 0, 0, 12), 't']] 53817.707\n",
            " > Model[[(1, 0, 0), (2, 1, 0, 12), 't']] 64775.406\n",
            " > Model[[(1, 0, 0), (2, 0, 1, 12), 't']] 52834.220\n",
            " > Model[[(1, 0, 0), (0, 0, 0, 12), 'ct']] 43531.353\n",
            " > Model[[(1, 0, 0), (0, 0, 1, 12), 'ct']] 43513.333\n",
            " > Model[[(1, 0, 0), (0, 1, 0, 12), 'ct']] 60851.404\n",
            " > Model[[(1, 0, 0), (0, 1, 1, 12), 'ct']] 62274.432\n",
            " > Model[[(1, 0, 0), (1, 0, 0, 12), 'ct']] 44222.622\n",
            " > Model[[(1, 0, 0), (1, 0, 1, 12), 'ct']] 43202.151\n",
            " > Model[[(1, 0, 0), (2, 1, 1, 12), 't']] 66835.221\n",
            " > Model[[(1, 0, 0), (1, 1, 0, 12), 'ct']] 61226.694\n",
            " > Model[[(1, 0, 0), (1, 1, 1, 12), 'ct']] 56228.528\n",
            " > Model[[(1, 0, 0), (2, 0, 0, 12), 'ct']] 52567.289\n",
            " > Model[[(1, 0, 0), (2, 1, 0, 12), 'ct']] 64618.578\n",
            " > Model[[(1, 0, 0), (2, 0, 1, 12), 'ct']] 51555.220\n",
            " > Model[[(1, 0, 1), (0, 0, 0, 12), 'n']] 43597.872\n",
            " > Model[[(1, 0, 0), (2, 1, 1, 12), 'ct']] 66721.255\n",
            " > Model[[(1, 0, 1), (0, 0, 1, 12), 'n']] 43589.931\n",
            " > Model[[(1, 0, 1), (0, 1, 0, 12), 'n']] 60748.646\n",
            " > Model[[(1, 0, 1), (0, 1, 1, 12), 'n']] 61660.229\n",
            " > Model[[(1, 0, 1), (1, 0, 0, 12), 'n']] 44181.293\n",
            " > Model[[(1, 0, 1), (1, 1, 0, 12), 'n']] 60579.367\n",
            " > Model[[(1, 0, 1), (1, 0, 1, 12), 'n']] 48359.423\n",
            " > Model[[(1, 0, 1), (2, 0, 0, 12), 'n']] 52267.133\n",
            " > Model[[(1, 0, 1), (1, 1, 1, 12), 'n']] 56409.395\n",
            " > Model[[(1, 0, 1), (2, 1, 0, 12), 'n']] 64555.293\n",
            " > Model[[(1, 0, 1), (2, 0, 1, 12), 'n']] 51381.488\n",
            " > Model[[(1, 0, 1), (0, 0, 0, 12), 'c']] 43532.891\n",
            " > Model[[(1, 0, 1), (0, 0, 1, 12), 'c']] 43517.027\n",
            " > Model[[(1, 0, 1), (0, 1, 0, 12), 'c']] 60779.897\n",
            " > Model[[(1, 0, 1), (0, 1, 1, 12), 'c']] 61781.296\n",
            " > Model[[(1, 0, 1), (2, 1, 1, 12), 'n']] 68123.850\n",
            " > Model[[(1, 0, 1), (1, 0, 0, 12), 'c']] 44256.274\n",
            " > Model[[(1, 0, 1), (1, 1, 0, 12), 'c']] 60703.912\n",
            " > Model[[(1, 0, 1), (1, 0, 1, 12), 'c']] 43204.801\n",
            " > Model[[(1, 0, 1), (1, 1, 1, 12), 'c']] 56436.314\n",
            " > Model[[(1, 0, 1), (2, 0, 0, 12), 'c']] 52671.610\n",
            " > Model[[(1, 0, 1), (2, 0, 1, 12), 'c']] 51460.950\n",
            " > Model[[(1, 0, 1), (2, 1, 0, 12), 'c']] 64524.772\n",
            " > Model[[(1, 0, 1), (0, 0, 0, 12), 't']] 43567.981\n",
            " > Model[[(1, 0, 1), (0, 0, 1, 12), 't']] 43544.535\n",
            " > Model[[(1, 0, 1), (0, 1, 0, 12), 't']] 60752.260\n",
            " > Model[[(1, 0, 1), (0, 1, 1, 12), 't']] 61670.495\n",
            " > Model[[(1, 0, 1), (2, 1, 1, 12), 'c']] 68072.278\n",
            " > Model[[(1, 0, 1), (1, 0, 0, 12), 't']] 44437.635\n",
            " > Model[[(1, 0, 1), (1, 0, 1, 12), 't']] 43241.342\n",
            " > Model[[(1, 0, 1), (1, 1, 0, 12), 't']] 60594.400\n",
            " > Model[[(1, 0, 1), (2, 0, 0, 12), 't']] 53863.031\n",
            " > Model[[(1, 0, 1), (1, 1, 1, 12), 't']] 56392.614\n",
            " > Model[[(1, 0, 1), (2, 1, 0, 12), 't']] 64544.787\n",
            " > Model[[(1, 0, 1), (2, 0, 1, 12), 't']] 52845.523\n",
            " > Model[[(1, 0, 1), (0, 0, 0, 12), 'ct']] 43532.910\n",
            " > Model[[(1, 0, 1), (0, 0, 1, 12), 'ct']] 43517.240\n",
            " > Model[[(1, 0, 1), (0, 1, 0, 12), 'ct']] 60969.430\n",
            " > Model[[(1, 0, 1), (0, 1, 1, 12), 'ct']] 62512.470\n",
            " > Model[[(1, 0, 1), (2, 1, 1, 12), 't']] 68800.919\n",
            " > Model[[(1, 0, 1), (1, 0, 0, 12), 'ct']] 44250.392\n",
            " > Model[[(1, 0, 1), (1, 0, 1, 12), 'ct']] 43203.957\n",
            " > Model[[(1, 0, 1), (1, 1, 0, 12), 'ct']] 61287.018\n",
            " > Model[[(1, 0, 1), (2, 0, 0, 12), 'ct']] 52619.696\n",
            " > Model[[(1, 0, 1), (1, 1, 1, 12), 'ct']] 56715.045\n",
            " > Model[[(1, 0, 1), (2, 0, 1, 12), 'ct']] 51638.604\n",
            " > Model[[(1, 0, 1), (2, 1, 0, 12), 'ct']] 64567.242\n",
            " > Model[[(1, 0, 2), (0, 0, 0, 12), 'n']] 43597.093\n",
            " > Model[[(1, 0, 2), (0, 0, 1, 12), 'n']] 43590.850\n",
            " > Model[[(1, 0, 2), (0, 1, 0, 12), 'n']] 60868.295\n",
            " > Model[[(1, 0, 2), (0, 1, 1, 12), 'n']] 61615.464\n",
            " > Model[[(1, 0, 1), (2, 1, 1, 12), 'ct']] 68637.110\n",
            " > Model[[(1, 0, 2), (1, 0, 0, 12), 'n']] 44212.974\n",
            " > Model[[(1, 0, 2), (1, 1, 0, 12), 'n']] 60579.546\n",
            " > Model[[(1, 0, 2), (1, 0, 1, 12), 'n']] 48578.107\n",
            " > Model[[(1, 0, 2), (2, 0, 0, 12), 'n']] 52344.499\n",
            " > Model[[(1, 0, 2), (1, 1, 1, 12), 'n']] 56650.003\n",
            " > Model[[(1, 0, 2), (2, 1, 0, 12), 'n']] 64563.299\n",
            " > Model[[(1, 0, 2), (2, 0, 1, 12), 'n']] 50187.320\n",
            " > Model[[(1, 0, 2), (0, 0, 0, 12), 'c']] 43548.388\n",
            " > Model[[(1, 0, 2), (0, 0, 1, 12), 'c']] 43538.363\n",
            " > Model[[(1, 0, 2), (0, 1, 0, 12), 'c']] 60919.850\n",
            " > Model[[(1, 0, 2), (2, 1, 1, 12), 'n']] 67957.822\n",
            " > Model[[(1, 0, 2), (0, 1, 1, 12), 'c']] 61744.197\n",
            " > Model[[(1, 0, 2), (1, 0, 0, 12), 'c']] 44289.686\n",
            " > Model[[(1, 0, 2), (1, 1, 0, 12), 'c']] 60711.423\n",
            " > Model[[(1, 0, 2), (1, 0, 1, 12), 'c']] 43216.371\n",
            " > Model[[(1, 0, 2), (1, 1, 1, 12), 'c']] 56652.872\n",
            " > Model[[(1, 0, 2), (2, 0, 0, 12), 'c']] 52923.626\n",
            " > Model[[(1, 0, 2), (2, 1, 0, 12), 'c']] 64566.372\n",
            " > Model[[(1, 0, 2), (2, 0, 1, 12), 'c']] 50260.364\n",
            " > Model[[(1, 0, 2), (0, 0, 0, 12), 't']] 43568.170\n",
            " > Model[[(1, 0, 2), (0, 0, 1, 12), 't']] 43544.861\n",
            " > Model[[(1, 0, 2), (0, 1, 0, 12), 't']] 60873.601\n",
            " > Model[[(1, 0, 2), (0, 1, 1, 12), 't']] 61625.234\n",
            " > Model[[(1, 0, 2), (2, 1, 1, 12), 'c']] 67942.555\n",
            " > Model[[(1, 0, 2), (1, 0, 0, 12), 't']] 44327.606\n",
            " > Model[[(1, 0, 2), (1, 1, 0, 12), 't']] 60595.794\n",
            " > Model[[(1, 0, 2), (1, 0, 1, 12), 't']] 43217.516\n",
            " > Model[[(1, 0, 2), (1, 1, 1, 12), 't']] 56642.395\n",
            " > Model[[(1, 0, 2), (2, 0, 0, 12), 't']] 53915.071\n",
            " > Model[[(1, 0, 2), (2, 0, 1, 12), 't']] 50423.884\n",
            " > Model[[(1, 0, 2), (2, 1, 0, 12), 't']] 64692.952\n",
            " > Model[[(1, 0, 2), (0, 0, 0, 12), 'ct']] 43548.491\n",
            " > Model[[(1, 0, 2), (0, 0, 1, 12), 'ct']] 43538.482\n",
            " > Model[[(1, 0, 2), (2, 1, 1, 12), 't']] 67940.763\n",
            " > Model[[(1, 0, 2), (0, 1, 0, 12), 'ct']] 61179.736\n",
            " > Model[[(1, 0, 2), (1, 0, 0, 12), 'ct']] 44268.723\n",
            " > Model[[(1, 0, 2), (0, 1, 1, 12), 'ct']] 62497.209\n",
            " > Model[[(1, 0, 2), (1, 1, 0, 12), 'ct']] 61302.589\n",
            " > Model[[(1, 0, 2), (1, 0, 1, 12), 'ct']] 48105.978\n",
            " > Model[[(1, 0, 2), (1, 1, 1, 12), 'ct']] 56880.245\n",
            " > Model[[(1, 0, 2), (2, 0, 0, 12), 'ct']] 52874.708\n",
            " > Model[[(1, 0, 2), (2, 0, 1, 12), 'ct']] 45484.657\n",
            " > Model[[(1, 0, 2), (2, 1, 0, 12), 'ct']] 64606.692\n",
            " > Model[[(1, 1, 0), (0, 0, 0, 12), 'n']] 43626.980\n",
            " > Model[[(1, 1, 0), (0, 0, 1, 12), 'n']] 43634.650\n",
            " > Model[[(1, 1, 0), (0, 1, 0, 12), 'n']] 49273.992\n",
            " > Model[[(1, 1, 0), (0, 1, 1, 12), 'n']] 49439.340\n",
            " > Model[[(1, 1, 0), (1, 0, 0, 12), 'n']] 43848.047\n",
            " > Model[[(1, 1, 0), (1, 0, 1, 12), 'n']] 43334.881\n",
            " > Model[[(1, 1, 0), (1, 1, 0, 12), 'n']] 48936.081\n",
            " > Model[[(1, 1, 0), (1, 1, 1, 12), 'n']] 45538.304\n",
            " > Model[[(1, 0, 2), (2, 1, 1, 12), 'ct']] 68673.893\n",
            " > Model[[(1, 1, 0), (2, 0, 0, 12), 'n']] 47937.207\n",
            " > Model[[(1, 1, 0), (2, 1, 0, 12), 'n']] 51743.236\n",
            " > Model[[(1, 1, 0), (2, 0, 1, 12), 'n']] 48250.414\n",
            " > Model[[(1, 1, 0), (0, 0, 0, 12), 'c']] 43592.797\n",
            " > Model[[(1, 1, 0), (0, 0, 1, 12), 'c']] 43579.661\n",
            " > Model[[(1, 1, 0), (0, 1, 0, 12), 'c']] 49225.990\n",
            " > Model[[(1, 1, 0), (0, 1, 1, 12), 'c']] 49409.234\n",
            " > Model[[(1, 1, 0), (2, 1, 1, 12), 'n']] 53947.094\n",
            " > Model[[(1, 1, 0), (1, 0, 0, 12), 'c']] 43889.557\n",
            " > Model[[(1, 1, 0), (1, 1, 0, 12), 'c']] 48855.022\n",
            " > Model[[(1, 1, 0), (1, 0, 1, 12), 'c']] 45860.692\n",
            " > Model[[(1, 1, 0), (2, 0, 0, 12), 'c']] 47382.705\n",
            " > Model[[(1, 1, 0), (1, 1, 1, 12), 'c']] 45591.148\n",
            " > Model[[(1, 1, 0), (2, 0, 1, 12), 'c']] 47741.934\n",
            " > Model[[(1, 1, 0), (2, 1, 0, 12), 'c']] 50449.519\n",
            " > Model[[(1, 1, 0), (0, 0, 0, 12), 't']] 43622.814\n",
            " > Model[[(1, 1, 0), (0, 0, 1, 12), 't']] 43627.675\n",
            " > Model[[(1, 1, 0), (2, 1, 1, 12), 'c']] 52275.441\n",
            " > Model[[(1, 1, 0), (0, 1, 0, 12), 't']] 49270.176\n",
            " > Model[[(1, 1, 0), (0, 1, 1, 12), 't']] 49440.303\n",
            " > Model[[(1, 1, 0), (1, 0, 0, 12), 't']] 43852.425\n",
            " > Model[[(1, 1, 0), (1, 0, 1, 12), 't']] 45902.691\n",
            " > Model[[(1, 1, 0), (1, 1, 0, 12), 't']] 48929.784\n",
            " > Model[[(1, 1, 0), (1, 1, 1, 12), 't']] 45538.906\n",
            " > Model[[(1, 1, 0), (2, 0, 0, 12), 't']] 47679.234\n",
            " > Model[[(1, 1, 0), (2, 0, 1, 12), 't']] 47152.777\n",
            " > Model[[(1, 1, 0), (2, 1, 0, 12), 't']] 50556.737\n",
            " > Model[[(1, 1, 0), (0, 0, 0, 12), 'ct']] 43558.168\n",
            " > Model[[(1, 1, 0), (2, 1, 1, 12), 't']] 52104.667\n",
            " > Model[[(1, 1, 0), (0, 0, 1, 12), 'ct']] 43560.636\n",
            " > Model[[(1, 1, 0), (0, 1, 0, 12), 'ct']] 49138.334\n",
            " > Model[[(1, 1, 0), (1, 0, 0, 12), 'ct']] 44008.097\n",
            " > Model[[(1, 1, 0), (0, 1, 1, 12), 'ct']] 49320.465\n",
            " > Model[[(1, 1, 0), (1, 0, 1, 12), 'ct']] 43333.746\n",
            " > Model[[(1, 1, 0), (1, 1, 0, 12), 'ct']] 48777.391\n",
            " > Model[[(1, 1, 0), (1, 1, 1, 12), 'ct']] 45771.160\n",
            " > Model[[(1, 1, 0), (2, 0, 0, 12), 'ct']] 47257.003\n",
            " > Model[[(1, 1, 0), (2, 0, 1, 12), 'ct']] 47410.806\n",
            " > Model[[(1, 1, 0), (2, 1, 1, 12), 'ct']] 51952.054\n",
            " > Model[[(1, 1, 1), (0, 0, 0, 12), 'n']] 44141.261\n",
            " > Model[[(1, 1, 1), (0, 0, 1, 12), 'n']] 54162.082\n",
            " > Model[[(1, 1, 1), (0, 1, 0, 12), 'n']] 49564.721\n",
            " > Model[[(1, 1, 0), (2, 1, 0, 12), 'ct']] 50293.625\n",
            " > Model[[(1, 1, 1), (0, 1, 1, 12), 'n']] 49710.178\n",
            " > Model[[(1, 1, 1), (1, 0, 0, 12), 'n']] 57353.829\n",
            " > Model[[(1, 1, 1), (1, 1, 0, 12), 'n']] 49222.885\n",
            " > Model[[(1, 1, 1), (1, 0, 1, 12), 'n']] 55588.581\n",
            " > Model[[(1, 1, 1), (2, 0, 0, 12), 'n']] 56538.986\n",
            " > Model[[(1, 1, 1), (1, 1, 1, 12), 'n']] 45548.880\n",
            " > Model[[(1, 1, 1), (2, 1, 0, 12), 'n']] 50744.362\n",
            " > Model[[(1, 1, 1), (2, 0, 1, 12), 'n']] 48482.707\n",
            " > Model[[(1, 1, 1), (0, 0, 0, 12), 'c']] 43622.392\n",
            " > Model[[(1, 1, 1), (2, 1, 1, 12), 'n']] 51967.225\n",
            " > Model[[(1, 1, 1), (0, 0, 1, 12), 'c']] 44525.191\n",
            " > Model[[(1, 1, 1), (0, 1, 0, 12), 'c']] 49230.808\n",
            " > Model[[(1, 1, 1), (0, 1, 1, 12), 'c']] 52404.315\n",
            " > Model[[(1, 1, 1), (1, 0, 0, 12), 'c']] 50186.795\n",
            " > Model[[(1, 1, 1), (1, 0, 1, 12), 'c']] 46013.519\n",
            " > Model[[(1, 1, 1), (1, 1, 0, 12), 'c']] 51701.207\n",
            " > Model[[(1, 1, 1), (2, 0, 0, 12), 'c']] 47539.379\n",
            " > Model[[(1, 1, 1), (1, 1, 1, 12), 'c']] 45599.639\n",
            " > Model[[(1, 1, 1), (2, 0, 1, 12), 'c']] 47894.443\n",
            " > Model[[(1, 1, 1), (2, 1, 0, 12), 'c']] 50931.617\n",
            " > Model[[(1, 1, 1), (0, 0, 0, 12), 't']] 44132.875\n",
            " > Model[[(1, 1, 1), (0, 0, 1, 12), 't']] 49026.723\n",
            " > Model[[(1, 1, 1), (0, 1, 0, 12), 't']] 50797.556\n",
            " > Model[[(1, 1, 1), (0, 1, 1, 12), 't']] 49692.172\n",
            " > Model[[(1, 1, 1), (1, 0, 0, 12), 't']] 50033.100\n",
            " > Model[[(1, 1, 1), (2, 1, 1, 12), 'c']] 52305.815\n",
            " > Model[[(1, 1, 1), (1, 1, 0, 12), 't']] 49198.484\n",
            " > Model[[(1, 1, 1), (1, 0, 1, 12), 't']] 55553.219\n",
            " > Model[[(1, 1, 1), (1, 1, 1, 12), 't']] 45549.251\n",
            " > Model[[(1, 1, 1), (2, 0, 0, 12), 't']] 46174.661\n",
            " > Model[[(1, 1, 1), (2, 0, 1, 12), 't']] 58759.557\n",
            " > Model[[(1, 1, 1), (2, 1, 0, 12), 't']] 58698.430\n",
            " > Model[[(1, 1, 1), (0, 0, 0, 12), 'ct']] 43732.791\n",
            " > Model[[(1, 1, 1), (0, 0, 1, 12), 'ct']] 44208.305\n",
            " > Model[[(1, 1, 1), (0, 1, 0, 12), 'ct']] 120605.526\n",
            " > Model[[(1, 1, 1), (0, 1, 1, 12), 'ct']] 94194.405\n",
            " > Model[[(1, 1, 1), (1, 0, 0, 12), 'ct']] 50019.303\n",
            " > Model[[(1, 1, 1), (1, 0, 1, 12), 'ct']] 43461.458\n",
            " > Model[[(1, 1, 1), (2, 1, 1, 12), 't']] 55402.066\n",
            " > Model[[(1, 1, 1), (1, 1, 0, 12), 'ct']] 48872.736\n",
            " > Model[[(1, 1, 1), (1, 1, 1, 12), 'ct']] 96007.879\n",
            " > Model[[(1, 1, 1), (2, 0, 0, 12), 'ct']] 57646.980\n",
            " > Model[[(1, 1, 1), (2, 0, 1, 12), 'ct']] 48684.957\n",
            " > Model[[(1, 1, 1), (2, 1, 0, 12), 'ct']] 54564.595\n",
            " > Model[[(1, 1, 2), (0, 0, 0, 12), 'n']] 45166.631\n",
            " > Model[[(1, 1, 2), (0, 0, 1, 12), 'n']] 47917.626\n",
            " > Model[[(1, 1, 2), (0, 1, 0, 12), 'n']] 126430.207\n",
            " > Model[[(1, 1, 1), (2, 1, 1, 12), 'ct']] 50926.967\n",
            " > Model[[(1, 1, 2), (1, 0, 0, 12), 'n']] 50037.271\n",
            " > Model[[(1, 1, 2), (0, 1, 1, 12), 'n']] 51116.626\n",
            " > Model[[(1, 1, 2), (1, 0, 1, 12), 'n']] 45879.409\n",
            " > Model[[(1, 1, 2), (1, 1, 0, 12), 'n']] 99499.331\n",
            " > Model[[(1, 1, 2), (2, 0, 0, 12), 'n']] 55824.434\n",
            " > Model[[(1, 1, 2), (1, 1, 1, 12), 'n']] 96988.744\n",
            " > Model[[(1, 1, 2), (2, 0, 1, 12), 'n']] 47063.708\n",
            " > Model[[(1, 1, 2), (2, 1, 0, 12), 'n']] 60265.563\n",
            " > Model[[(1, 1, 2), (0, 0, 0, 12), 'c']] 43776.228\n",
            " > Model[[(1, 1, 2), (0, 0, 1, 12), 'c']] 45651.980\n",
            " > Model[[(1, 1, 2), (0, 1, 0, 12), 'c']] 49254.582\n",
            " > Model[[(1, 1, 2), (0, 1, 1, 12), 'c']] 51323.538\n",
            " > Model[[(1, 1, 2), (1, 0, 0, 12), 'c']] 49819.408\n",
            " > Model[[(1, 1, 2), (1, 0, 1, 12), 'c']] 46011.734\n",
            " > Model[[(1, 1, 2), (1, 1, 0, 12), 'c']] 51356.972\n",
            " > Model[[(1, 1, 2), (2, 1, 1, 12), 'n']] 62084.307\n",
            " > Model[[(1, 1, 2), (1, 1, 1, 12), 'c']] 96927.783\n",
            " > Model[[(1, 1, 2), (2, 0, 1, 12), 'c']] 47733.828\n",
            " > Model[[(1, 1, 2), (2, 0, 0, 12), 'c']] 47461.416\n",
            " > Model[[(1, 1, 2), (2, 1, 0, 12), 'c']] 50874.464\n",
            " > Model[[(1, 1, 2), (0, 0, 0, 12), 't']] 45120.312\n",
            " > Model[[(1, 1, 2), (0, 0, 1, 12), 't']] 47810.805\n",
            " > Model[[(1, 1, 2), (0, 1, 0, 12), 't']] 126427.710\n",
            " > Model[[(1, 1, 2), (0, 1, 1, 12), 't']] 51117.357\n",
            " > Model[[(1, 1, 2), (2, 1, 1, 12), 'c']] 52024.778\n",
            " > Model[[(1, 1, 2), (1, 0, 0, 12), 't']] 50010.227\n",
            " > Model[[(1, 1, 2), (1, 0, 1, 12), 't']] 45877.733\n",
            " > Model[[(1, 1, 2), (1, 1, 0, 12), 't']] 51281.649\n",
            " > Model[[(1, 1, 2), (1, 1, 1, 12), 't']] 96996.150\n",
            " > Model[[(1, 1, 2), (2, 0, 0, 12), 't']] 55672.053\n",
            " > Model[[(1, 1, 2), (2, 0, 1, 12), 't']] 47081.239\n",
            " > Model[[(1, 1, 2), (2, 1, 1, 12), 't']] 54697.910\n",
            " > Model[[(1, 1, 2), (2, 1, 0, 12), 't']] 60321.605\n",
            " > Model[[(1, 1, 2), (0, 0, 0, 12), 'ct']] 43604.621\n",
            " > Model[[(1, 1, 2), (0, 1, 0, 12), 'ct']] 125258.797\n",
            " > Model[[(1, 1, 2), (0, 0, 1, 12), 'ct']] 44730.194\n",
            " > Model[[(1, 1, 2), (1, 0, 0, 12), 'ct']] 49511.515\n",
            " > Model[[(1, 1, 2), (0, 1, 1, 12), 'ct']] 50955.385\n",
            " > Model[[(1, 1, 2), (1, 0, 1, 12), 'ct']] 43533.058\n",
            " > Model[[(1, 1, 2), (1, 1, 0, 12), 'ct']] 98968.532\n",
            " > Model[[(1, 1, 2), (1, 1, 1, 12), 'ct']] 45828.064\n",
            " > Model[[(1, 1, 2), (2, 0, 0, 12), 'ct']] 54771.317\n",
            " > Model[[(1, 1, 2), (2, 0, 1, 12), 'ct']] 48377.252\n",
            " > Model[[(1, 1, 2), (2, 1, 0, 12), 'ct']] 62631.013\n",
            " > Model[[(2, 0, 0), (0, 0, 0, 12), 'n']] 43606.689\n",
            " > Model[[(2, 0, 0), (0, 0, 1, 12), 'n']] 43592.087\n",
            " > Model[[(2, 0, 0), (0, 1, 0, 12), 'n']] 60605.244\n",
            " > Model[[(2, 0, 0), (0, 1, 1, 12), 'n']] 61445.105\n",
            " > Model[[(2, 0, 0), (1, 0, 0, 12), 'n']] 44223.262\n",
            " > Model[[(2, 0, 0), (1, 0, 1, 12), 'n']] 48527.659\n",
            " > Model[[(2, 0, 0), (1, 1, 0, 12), 'n']] 60452.226\n",
            " > Model[[(2, 0, 0), (1, 1, 1, 12), 'n']] 57731.391\n",
            " > Model[[(1, 1, 2), (2, 1, 1, 12), 'ct']] 61887.118\n",
            " > Model[[(2, 0, 0), (2, 0, 0, 12), 'n']] 54207.822\n",
            " > Model[[(2, 0, 0), (2, 1, 0, 12), 'n']] 66224.193\n",
            " > Model[[(2, 0, 0), (2, 0, 1, 12), 'n']] 53951.232\n",
            " > Model[[(2, 0, 0), (0, 0, 0, 12), 'c']] 43526.097\n",
            " > Model[[(2, 0, 0), (0, 0, 1, 12), 'c']] 43507.075\n",
            " > Model[[(2, 0, 0), (0, 1, 0, 12), 'c']] 60599.927\n",
            " > Model[[(2, 0, 0), (0, 1, 1, 12), 'c']] 61526.585\n",
            " > Model[[(2, 0, 0), (1, 0, 0, 12), 'c']] 44294.749\n",
            " > Model[[(2, 0, 0), (2, 1, 1, 12), 'n']] 68345.273\n",
            " > Model[[(2, 0, 0), (1, 1, 0, 12), 'c']] 60548.449\n",
            " > Model[[(2, 0, 0), (1, 0, 1, 12), 'c']] 48217.086\n",
            " > Model[[(2, 0, 0), (1, 1, 1, 12), 'c']] 57700.466\n",
            " > Model[[(2, 0, 0), (2, 0, 0, 12), 'c']] 52537.796\n",
            " > Model[[(2, 0, 0), (2, 0, 1, 12), 'c']] 51794.429\n",
            " > Model[[(2, 0, 0), (2, 1, 0, 12), 'c']] 66605.299\n",
            " > Model[[(2, 0, 0), (0, 0, 0, 12), 't']] 43579.329\n",
            " > Model[[(2, 0, 0), (0, 0, 1, 12), 't']] 43546.661\n",
            " > Model[[(2, 0, 0), (0, 1, 0, 12), 't']] 60606.618\n",
            " > Model[[(2, 0, 0), (0, 1, 1, 12), 't']] 61452.386\n",
            " > Model[[(2, 0, 0), (2, 1, 1, 12), 'c']] 68681.380\n",
            " > Model[[(2, 0, 0), (1, 0, 0, 12), 't']] 44435.920\n",
            " > Model[[(2, 0, 0), (1, 0, 1, 12), 't']] 49358.114\n",
            " > Model[[(2, 0, 0), (1, 1, 0, 12), 't']] 60463.954\n",
            " > Model[[(2, 0, 0), (2, 0, 0, 12), 't']] 57978.855\n",
            " > Model[[(2, 0, 0), (1, 1, 1, 12), 't']] 57719.555\n",
            " > Model[[(2, 0, 0), (2, 0, 1, 12), 't']] 53330.940\n",
            " > Model[[(2, 0, 0), (2, 1, 0, 12), 't']] 65572.041\n",
            " > Model[[(2, 0, 0), (0, 0, 0, 12), 'ct']] 43526.019\n",
            " > Model[[(2, 0, 0), (0, 0, 1, 12), 'ct']] 43507.142\n",
            " > Model[[(2, 0, 0), (0, 1, 0, 12), 'ct']] 60599.663\n",
            " > Model[[(2, 0, 0), (0, 1, 1, 12), 'ct']] 62098.040\n",
            " > Model[[(2, 0, 0), (1, 0, 0, 12), 'ct']] 44286.161\n",
            " > Model[[(2, 0, 0), (1, 0, 1, 12), 'ct']] 43214.741\n",
            " > Model[[(2, 0, 0), (2, 1, 1, 12), 't']] 68825.258\n",
            " > Model[[(2, 0, 0), (1, 1, 0, 12), 'ct']] 61062.470\n",
            " > Model[[(2, 0, 0), (1, 1, 1, 12), 'ct']] 57986.578\n",
            " > Model[[(2, 0, 0), (2, 0, 0, 12), 'ct']] 54072.740\n",
            " > Model[[(2, 0, 0), (2, 1, 0, 12), 'ct']] 64925.062\n",
            " > Model[[(2, 0, 0), (2, 0, 1, 12), 'ct']] 52225.551\n",
            " > Model[[(2, 0, 1), (0, 0, 0, 12), 'n']] 44082.251\n",
            " > Model[[(2, 0, 1), (0, 0, 1, 12), 'n']] 62119.503\n",
            " > Model[[(2, 0, 1), (0, 1, 0, 12), 'n']] 57420.023\n",
            " > Model[[(2, 0, 1), (0, 1, 1, 12), 'n']] 57323.538\n",
            " > Model[[(2, 0, 1), (1, 0, 0, 12), 'n']] 61311.453\n",
            " > Model[[(2, 0, 0), (2, 1, 1, 12), 'ct']] 68692.133\n",
            " > Model[[(2, 0, 1), (1, 1, 0, 12), 'n']] 56458.571\n",
            " > Model[[(2, 0, 1), (1, 0, 1, 12), 'n']] 88985.160\n",
            " > Model[[(2, 0, 1), (1, 1, 1, 12), 'n']] 56789.655\n",
            " > Model[[(2, 0, 1), (2, 0, 0, 12), 'n']] 66131.190\n",
            " > Model[[(2, 0, 1), (2, 0, 1, 12), 'n']] 72862.358\n",
            " > Model[[(2, 0, 1), (2, 1, 0, 12), 'n']] 68650.061\n",
            " > Model[[(2, 0, 1), (0, 0, 0, 12), 'c']] 43526.431\n",
            " > Model[[(2, 0, 1), (0, 0, 1, 12), 'c']] 43643.379\n",
            " > Model[[(2, 0, 1), (0, 1, 0, 12), 'c']] 58194.204\n",
            " > Model[[(2, 0, 1), (0, 1, 1, 12), 'c']] 59539.812\n",
            " > Model[[(2, 0, 1), (1, 0, 0, 12), 'c']] 44881.233\n",
            " > Model[[(2, 0, 1), (2, 1, 1, 12), 'n']] 77816.995\n",
            " > Model[[(2, 0, 1), (1, 0, 1, 12), 'c']] 43201.427\n",
            " > Model[[(2, 0, 1), (1, 1, 0, 12), 'c']] 59588.857\n",
            " > Model[[(2, 0, 1), (1, 1, 1, 12), 'c']] 56695.498\n",
            " > Model[[(2, 0, 1), (2, 0, 0, 12), 'c']] 53945.066\n",
            " > Model[[(2, 0, 1), (2, 0, 1, 12), 'c']] 52673.997\n",
            " > Model[[(2, 0, 1), (2, 1, 0, 12), 'c']] 62938.900\n",
            " > Model[[(2, 0, 1), (0, 0, 0, 12), 't']] 43598.060\n",
            " > Model[[(2, 0, 1), (0, 0, 1, 12), 't']] 52195.567\n",
            " > Model[[(2, 0, 1), (2, 1, 1, 12), 'c']] 66886.163\n",
            " > Model[[(2, 0, 1), (0, 1, 0, 12), 't']] 57616.366\n",
            " > Model[[(2, 0, 1), (0, 1, 1, 12), 't']] 57276.097\n",
            " > Model[[(2, 0, 1), (1, 0, 0, 12), 't']] 62658.676\n",
            " > Model[[(2, 0, 1), (1, 0, 1, 12), 't']] 74875.999\n",
            " > Model[[(2, 0, 1), (1, 1, 0, 12), 't']] 60498.945\n",
            " > Model[[(2, 0, 1), (2, 0, 0, 12), 't']] 65469.228\n",
            " > Model[[(2, 0, 1), (1, 1, 1, 12), 't']] 56771.673\n",
            " > Model[[(2, 0, 1), (2, 0, 1, 12), 't']] 64208.784\n",
            " > Model[[(2, 0, 1), (2, 1, 0, 12), 't']] 72116.902\n",
            " > Model[[(2, 0, 1), (0, 0, 0, 12), 'ct']] 43526.322\n",
            " > Model[[(2, 0, 1), (0, 0, 1, 12), 'ct']] 43636.563\n",
            " > Model[[(2, 0, 1), (0, 1, 0, 12), 'ct']] 60668.632\n",
            " > Model[[(2, 0, 1), (2, 1, 1, 12), 't']] 70344.887\n",
            " > Model[[(2, 0, 1), (1, 0, 0, 12), 'ct']] 45544.263\n",
            " > Model[[(2, 0, 1), (1, 0, 1, 12), 'ct']] 43221.044\n",
            " > Model[[(2, 0, 1), (0, 1, 1, 12), 'ct']] 56608.254\n",
            " > Model[[(2, 0, 1), (1, 1, 0, 12), 'ct']] 56521.515\n",
            " > Model[[(2, 0, 1), (1, 1, 1, 12), 'ct']] 58035.813\n",
            " > Model[[(2, 0, 1), (2, 0, 0, 12), 'ct']] 53394.761\n",
            " > Model[[(2, 0, 1), (2, 0, 1, 12), 'ct']] 51870.032\n",
            " > Model[[(2, 0, 1), (2, 1, 0, 12), 'ct']] 56579.814\n",
            " > Model[[(2, 0, 2), (0, 0, 0, 12), 'n']] 44223.341\n",
            " > Model[[(2, 0, 2), (0, 0, 1, 12), 'n']] 48038.450\n",
            " > Model[[(2, 0, 1), (2, 1, 1, 12), 'ct']] 86743.183\n",
            " > Model[[(2, 0, 2), (0, 1, 0, 12), 'n']] 62820.075\n",
            " > Model[[(2, 0, 2), (1, 0, 0, 12), 'n']] 63343.825\n",
            " > Model[[(2, 0, 2), (0, 1, 1, 12), 'n']] 70496.508\n",
            " > Model[[(2, 0, 2), (1, 1, 0, 12), 'n']] 60539.481\n",
            " > Model[[(2, 0, 2), (1, 0, 1, 12), 'n']] 80812.266\n",
            " > Model[[(2, 0, 2), (1, 1, 1, 12), 'n']] 58290.611\n",
            " > Model[[(2, 0, 2), (2, 0, 0, 12), 'n']] 103743.895\n",
            " > Model[[(2, 0, 2), (2, 0, 1, 12), 'n']] 70435.466\n",
            " > Model[[(2, 0, 2), (2, 1, 0, 12), 'n']] 66441.687\n",
            " > Model[[(2, 0, 2), (0, 0, 0, 12), 'c']] 44732.937\n",
            " > Model[[(2, 0, 2), (0, 0, 1, 12), 'c']] 44716.241\n",
            " > Model[[(2, 0, 2), (0, 1, 0, 12), 'c']] 56270.358\n",
            " > Model[[(2, 0, 2), (0, 1, 1, 12), 'c']] 70471.346\n",
            " > Model[[(2, 0, 2), (2, 1, 1, 12), 'n']] 71463.002\n",
            " > Model[[(2, 0, 2), (1, 0, 0, 12), 'c']] 48153.853\n",
            " > Model[[(2, 0, 2), (1, 1, 0, 12), 'c']] 59863.671\n",
            " > Model[[(2, 0, 2), (1, 0, 1, 12), 'c']] 43297.115\n",
            " > Model[[(2, 0, 2), (1, 1, 1, 12), 'c']] 57885.198\n",
            " > Model[[(2, 0, 2), (2, 0, 0, 12), 'c']] 53973.959\n",
            " > Model[[(2, 0, 2), (2, 0, 1, 12), 'c']] 53279.801\n",
            " > Model[[(2, 0, 2), (2, 1, 0, 12), 'c']] 66737.983\n",
            " > Model[[(2, 0, 2), (0, 0, 0, 12), 't']] 44118.690\n",
            " > Model[[(2, 0, 2), (0, 0, 1, 12), 't']] 47589.333\n",
            " > Model[[(2, 0, 2), (0, 1, 0, 12), 't']] 62806.362\n",
            " > Model[[(2, 0, 2), (0, 1, 1, 12), 't']] 61174.410\n",
            " > Model[[(2, 0, 2), (2, 1, 1, 12), 'c']] 72673.746\n",
            " > Model[[(2, 0, 2), (1, 0, 0, 12), 't']] 61577.186\n",
            " > Model[[(2, 0, 2), (1, 0, 1, 12), 't']] 50769.336\n",
            " > Model[[(2, 0, 2), (1, 1, 0, 12), 't']] 60326.067\n",
            " > Model[[(2, 0, 2), (1, 1, 1, 12), 't']] 58205.491\n",
            " > Model[[(2, 0, 2), (2, 0, 0, 12), 't']] 63555.531\n",
            " > Model[[(2, 0, 2), (2, 0, 1, 12), 't']] 61341.477\n",
            " > Model[[(2, 0, 2), (2, 1, 0, 12), 't']] 65350.044\n",
            " > Model[[(2, 0, 2), (0, 0, 0, 12), 'ct']] 44757.230\n",
            " > Model[[(2, 0, 2), (0, 0, 1, 12), 'ct']] 44626.278\n",
            " > Model[[(2, 0, 2), (2, 1, 1, 12), 't']] 71018.021\n",
            " > Model[[(2, 0, 2), (0, 1, 0, 12), 'ct']] 64282.508\n",
            " > Model[[(2, 0, 2), (1, 0, 0, 12), 'ct']] 44239.716\n",
            " > Model[[(2, 0, 2), (1, 0, 1, 12), 'ct']] 43272.967\n",
            " > Model[[(2, 0, 2), (0, 1, 1, 12), 'ct']] 58265.089\n",
            " > Model[[(2, 0, 2), (1, 1, 0, 12), 'ct']] 55681.822\n",
            " > Model[[(2, 0, 2), (1, 1, 1, 12), 'ct']] 58857.118\n",
            " > Model[[(2, 0, 2), (2, 0, 0, 12), 'ct']] 53302.018\n",
            " > Model[[(2, 0, 2), (2, 0, 1, 12), 'ct']] 53039.998\n",
            " > Model[[(2, 0, 2), (2, 1, 0, 12), 'ct']] 60730.069\n",
            " > Model[[(2, 1, 0), (0, 0, 0, 12), 'n']] 43630.239\n",
            " > Model[[(2, 1, 0), (0, 0, 1, 12), 'n']] 43628.044\n",
            " > Model[[(2, 1, 0), (0, 1, 0, 12), 'n']] 49273.944\n",
            " > Model[[(2, 1, 0), (0, 1, 1, 12), 'n']] 49439.756\n",
            " > Model[[(2, 1, 0), (1, 0, 0, 12), 'n']] 43855.024\n",
            " > Model[[(2, 1, 0), (1, 0, 1, 12), 'n']] 43323.918\n",
            " > Model[[(2, 1, 0), (1, 1, 0, 12), 'n']] 48960.350\n",
            " > Model[[(2, 1, 0), (1, 1, 1, 12), 'n']] 45547.568\n",
            " > Model[[(2, 0, 2), (2, 1, 1, 12), 'ct']] 107655.456\n",
            " > Model[[(2, 1, 0), (2, 0, 0, 12), 'n']] 48071.291\n",
            " > Model[[(2, 1, 0), (2, 0, 1, 12), 'n']] 48228.151\n",
            " > Model[[(2, 1, 0), (2, 1, 1, 12), 'n']] 53769.653\n",
            " > Model[[(2, 1, 0), (0, 0, 0, 12), 'c']] 43592.966\n",
            " > Model[[(2, 1, 0), (0, 0, 1, 12), 'c']] 43577.948\n",
            " > Model[[(2, 1, 0), (0, 1, 0, 12), 'c']] 49226.110\n",
            " > Model[[(2, 1, 0), (0, 1, 1, 12), 'c']] 49408.635\n",
            " > Model[[(2, 1, 0), (1, 0, 0, 12), 'c']] 43928.725\n",
            " > Model[[(2, 1, 0), (1, 0, 1, 12), 'c']] 43328.428\n",
            " > Model[[(2, 1, 0), (1, 1, 0, 12), 'c']] 48880.612\n",
            " > Model[[(2, 1, 0), (2, 1, 0, 12), 'n']] 51261.581\n",
            " > Model[[(2, 1, 0), (1, 1, 1, 12), 'c']] 45610.559\n",
            " > Model[[(2, 1, 0), (2, 0, 0, 12), 'c']] 47476.332\n",
            " > Model[[(2, 1, 0), (2, 0, 1, 12), 'c']] 47725.229\n",
            " > Model[[(2, 1, 0), (2, 1, 1, 12), 'c']] 52171.071\n",
            " > Model[[(2, 1, 0), (0, 0, 0, 12), 't']] 43625.265\n",
            " > Model[[(2, 1, 0), (2, 1, 0, 12), 'c']] 50427.493\n",
            " > Model[[(2, 1, 0), (0, 1, 0, 12), 't']] 49270.193\n",
            " > Model[[(2, 1, 0), (0, 0, 1, 12), 't']] 43621.150\n",
            " > Model[[(2, 1, 0), (0, 1, 1, 12), 't']] 49440.450\n",
            " > Model[[(2, 1, 0), (1, 0, 0, 12), 't']] 43859.761\n",
            " > Model[[(2, 1, 0), (1, 1, 0, 12), 't']] 48956.128\n",
            " > Model[[(2, 1, 0), (1, 0, 1, 12), 't']] 43341.977\n",
            " > Model[[(2, 1, 0), (1, 1, 1, 12), 't']] 45547.630\n",
            " > Model[[(2, 1, 0), (2, 0, 0, 12), 't']] 47218.293\n",
            " > Model[[(2, 1, 0), (2, 0, 1, 12), 't']] 48037.124\n",
            " > Model[[(2, 1, 0), (2, 1, 1, 12), 't']] 53548.116\n",
            " > Model[[(2, 1, 0), (0, 0, 0, 12), 'ct']] 43558.956\n",
            " > Model[[(2, 1, 0), (0, 0, 1, 12), 'ct']] 43566.905\n",
            " > Model[[(2, 1, 0), (0, 1, 0, 12), 'ct']] 49136.783\n",
            " > Model[[(2, 1, 0), (0, 1, 1, 12), 'ct']] 49317.101\n",
            " > Model[[(2, 1, 0), (1, 0, 0, 12), 'ct']] 44044.338\n",
            " > Model[[(2, 1, 0), (2, 1, 0, 12), 't']] 50588.857\n",
            " > Model[[(2, 1, 0), (1, 0, 1, 12), 'ct']] 43358.539\n",
            " > Model[[(2, 1, 0), (1, 1, 0, 12), 'ct']] 48804.975\n",
            " > Model[[(2, 1, 0), (1, 1, 1, 12), 'ct']] 45818.444\n",
            " > Model[[(2, 1, 0), (2, 0, 0, 12), 'ct']] 47253.502\n",
            " > Model[[(2, 1, 0), (2, 0, 1, 12), 'ct']] 47360.804\n",
            " > Model[[(2, 1, 0), (2, 1, 1, 12), 'ct']] 51965.138\n",
            " > Model[[(2, 1, 1), (0, 0, 0, 12), 'n']] 44153.169\n",
            " > Model[[(2, 1, 1), (0, 0, 1, 12), 'n']] 55048.394\n",
            " > Model[[(2, 1, 0), (2, 1, 0, 12), 'ct']] 50274.046\n",
            " > Model[[(2, 1, 1), (0, 1, 0, 12), 'n']] 51412.293\n",
            " > Model[[(2, 1, 1), (1, 0, 0, 12), 'n']] 60702.391\n",
            " > Model[[(2, 1, 1), (1, 0, 1, 12), 'n']] 43301.713\n",
            " > Model[[(2, 1, 1), (0, 1, 1, 12), 'n']] 93977.344\n",
            " > Model[[(2, 1, 1), (1, 1, 0, 12), 'n']] 50744.459\n",
            " > Model[[(2, 1, 1), (2, 0, 0, 12), 'n']] 59168.916\n",
            " > Model[[(2, 1, 1), (1, 1, 1, 12), 'n']] 45843.415\n",
            " > Model[[(2, 1, 1), (2, 0, 1, 12), 'n']] 59414.516\n",
            " > Model[[(2, 1, 1), (2, 1, 1, 12), 'n']] 211198.748\n",
            " > Model[[(2, 1, 1), (0, 0, 0, 12), 'c']] 43600.877\n",
            " > Model[[(2, 1, 1), (0, 0, 1, 12), 'c']] 45189.244\n",
            " > Model[[(2, 1, 1), (2, 1, 0, 12), 'n']] 62112.166\n",
            " > Model[[(2, 1, 1), (0, 1, 0, 12), 'c']] 103407.638\n",
            " > Model[[(2, 1, 1), (1, 0, 0, 12), 'c']] 50813.503\n",
            " > Model[[(2, 1, 1), (1, 0, 1, 12), 'c']] 45996.518\n",
            " > Model[[(2, 1, 1), (0, 1, 1, 12), 'c']] 51541.358\n",
            " > Model[[(2, 1, 1), (1, 1, 0, 12), 'c']] 50810.751\n",
            " > Model[[(2, 1, 1), (1, 1, 1, 12), 'c']] 84819.216\n",
            " > Model[[(2, 1, 1), (2, 0, 0, 12), 'c']] 51294.021\n",
            " > Model[[(2, 1, 1), (2, 0, 1, 12), 'c']] 57447.556\n",
            " > Model[[(2, 1, 1), (2, 1, 0, 12), 'c']] 70572.108\n",
            " > Model[[(2, 1, 1), (0, 0, 0, 12), 't']] 44143.442\n",
            " > Model[[(2, 1, 1), (0, 0, 1, 12), 't']] 55134.124\n",
            " > Model[[(2, 1, 1), (0, 1, 0, 12), 't']] 114253.806\n",
            " > Model[[(2, 1, 1), (2, 1, 1, 12), 'c']] 80521.637\n",
            " > Model[[(2, 1, 1), (0, 1, 1, 12), 't']] 51412.286\n",
            " > Model[[(2, 1, 1), (1, 0, 0, 12), 't']] 60702.470\n",
            " > Model[[(2, 1, 1), (1, 0, 1, 12), 't']] 55938.307\n",
            " > Model[[(2, 1, 1), (1, 1, 0, 12), 't']] 94541.912\n",
            " > Model[[(2, 1, 1), (1, 1, 1, 12), 't']] 93624.920\n",
            " > Model[[(2, 1, 1), (2, 0, 0, 12), 't']] 58940.048\n",
            " > Model[[(2, 1, 1), (2, 0, 1, 12), 't']] 59211.988\n",
            " > Model[[(2, 1, 1), (2, 1, 0, 12), 't']] 62450.113\n",
            " > Model[[(2, 1, 1), (0, 0, 0, 12), 'ct']] 43563.744\n",
            " > Model[[(2, 1, 1), (0, 0, 1, 12), 'ct']] 44134.540\n",
            " > Model[[(2, 1, 1), (0, 1, 0, 12), 'ct']] 116633.822\n",
            " > Model[[(2, 1, 1), (2, 1, 1, 12), 't']] 83284.752\n",
            " > Model[[(2, 1, 1), (1, 0, 0, 12), 'ct']] 51145.877\n",
            " > Model[[(2, 1, 1), (0, 1, 1, 12), 'ct']] 93947.200\n",
            " > Model[[(2, 1, 1), (1, 0, 1, 12), 'ct']] 43445.825\n",
            " > Model[[(2, 1, 1), (1, 1, 0, 12), 'ct']] 94608.338\n",
            " > Model[[(2, 1, 1), (1, 1, 1, 12), 'ct']] 94034.984\n",
            " > Model[[(2, 1, 1), (2, 0, 0, 12), 'ct']] 48887.666\n",
            " > Model[[(2, 1, 1), (2, 0, 1, 12), 'ct']] 49232.389\n",
            " > Model[[(2, 1, 1), (2, 1, 0, 12), 'ct']] 60380.958\n",
            " > Model[[(2, 1, 2), (0, 0, 0, 12), 'n']] 45311.677\n",
            " > Model[[(2, 1, 2), (0, 0, 1, 12), 'n']] 45250.031\n",
            " > Model[[(2, 1, 2), (0, 1, 0, 12), 'n']] 50434.927\n",
            " > Model[[(2, 1, 2), (0, 1, 1, 12), 'n']] 89860.534\n",
            " > Model[[(2, 1, 2), (1, 0, 0, 12), 'n']] 47043.042\n",
            " > Model[[(2, 1, 2), (1, 0, 1, 12), 'n']] 46190.615\n",
            " > Model[[(2, 1, 1), (2, 1, 1, 12), 'ct']] 61195.464\n",
            " > Model[[(2, 1, 2), (1, 1, 0, 12), 'n']] 115915.379\n",
            " > Model[[(2, 1, 2), (1, 1, 1, 12), 'n']] 127490.132\n",
            " > Model[[(2, 1, 2), (2, 0, 0, 12), 'n']] 53358.226\n",
            " > Model[[(2, 1, 2), (2, 0, 1, 12), 'n']] 47063.345\n",
            " > Model[[(2, 1, 2), (2, 1, 0, 12), 'n']] 51918.531\n",
            " > Model[[(2, 1, 2), (0, 0, 0, 12), 'c']] 43684.222\n",
            " > Model[[(2, 1, 2), (0, 0, 1, 12), 'c']] 44657.176\n",
            " > Model[[(2, 1, 2), (0, 1, 0, 12), 'c']] 61840.287\n",
            " > Model[[(2, 1, 2), (0, 1, 1, 12), 'c']] 101536.427\n",
            " > Model[[(2, 1, 2), (1, 0, 0, 12), 'c']] 49521.592\n",
            " > Model[[(2, 1, 2), (1, 0, 1, 12), 'c']] 50883.864\n",
            " > Model[[(2, 1, 2), (2, 1, 1, 12), 'n']] 59517.359\n",
            " > Model[[(2, 1, 2), (1, 1, 1, 12), 'c']] 95813.984\n",
            " > Model[[(2, 1, 2), (1, 1, 0, 12), 'c']] 74710.231\n",
            " > Model[[(2, 1, 2), (2, 0, 0, 12), 'c']] 53428.141\n",
            " > Model[[(2, 1, 2), (2, 0, 1, 12), 'c']] 53743.122\n",
            " > Model[[(2, 1, 2), (2, 1, 0, 12), 'c']] 73756.483\n",
            " > Model[[(2, 1, 2), (0, 0, 0, 12), 't']] 45252.497\n",
            " > Model[[(2, 1, 2), (0, 0, 1, 12), 't']] 45210.401\n",
            " > Model[[(2, 1, 2), (0, 1, 0, 12), 't']] 50619.061\n",
            " > Model[[(2, 1, 2), (2, 1, 1, 12), 'c']] 75012.529\n",
            " > Model[[(2, 1, 2), (0, 1, 1, 12), 't']] 89881.733\n",
            " > Model[[(2, 1, 2), (1, 0, 0, 12), 't']] 47028.538\n",
            " > Model[[(2, 1, 2), (1, 0, 1, 12), 't']] 46440.161\n",
            " > Model[[(2, 1, 2), (1, 1, 0, 12), 't']] 77038.458\n",
            " > Model[[(2, 1, 2), (1, 1, 1, 12), 't']] 127885.350\n",
            " > Model[[(2, 1, 2), (2, 0, 1, 12), 't']] 47035.350\n",
            " > Model[[(2, 1, 2), (2, 0, 0, 12), 't']] 53444.632\n",
            " > Model[[(2, 1, 2), (2, 1, 0, 12), 't']] 56770.745\n",
            " > Model[[(2, 1, 2), (0, 0, 0, 12), 'ct']] 43640.597\n",
            " > Model[[(2, 1, 2), (0, 0, 1, 12), 'ct']] 44777.501\n",
            " > Model[[(2, 1, 2), (0, 1, 0, 12), 'ct']] 64316.899\n",
            " > Model[[(2, 1, 2), (2, 1, 1, 12), 't']] 60021.966\n",
            " > Model[[(2, 1, 2), (1, 0, 0, 12), 'ct']] 48571.609\n",
            " > Model[[(2, 1, 2), (1, 0, 1, 12), 'ct']] 46439.295\n",
            " > Model[[(2, 1, 2), (0, 1, 1, 12), 'ct']] 89863.110\n",
            " > Model[[(2, 1, 2), (1, 1, 1, 12), 'ct']] 95015.943\n",
            " > Model[[(2, 1, 2), (1, 1, 0, 12), 'ct']] 80636.457\n",
            " > Model[[(2, 1, 2), (2, 0, 1, 12), 'ct']] 47203.127\n",
            " > Model[[(2, 1, 2), (2, 0, 0, 12), 'ct']] 53102.155\n",
            " > Model[[(2, 1, 2), (2, 1, 0, 12), 'ct']] 55258.104\n",
            " > Model[[(2, 1, 2), (2, 1, 1, 12), 'ct']] 59472.600\n"
          ],
          "name": "stdout"
        }
      ]
    },
    {
      "cell_type": "code",
      "metadata": {
        "id": "MVlYRml704BF",
        "colab_type": "code",
        "colab": {
          "base_uri": "https://localhost:8080/",
          "height": 72
        },
        "outputId": "33a0a59b-302f-433a-ee6f-2d6b07ad3083"
      },
      "source": [
        "scores[:3]"
      ],
      "execution_count": 15,
      "outputs": [
        {
          "output_type": "execute_result",
          "data": {
            "text/plain": [
              "[(\"[(2, 0, 1), (1, 0, 1, 12), 'c']\", 43201.42666154455),\n",
              " (\"[(1, 0, 0), (1, 0, 1, 12), 'ct']\", 43202.150667308146),\n",
              " (\"[(1, 0, 0), (1, 0, 1, 12), 'c']\", 43202.76619025652)]"
            ]
          },
          "metadata": {
            "tags": []
          },
          "execution_count": 15
        }
      ]
    },
    {
      "cell_type": "code",
      "metadata": {
        "id": "5oIIpjO9kLLq",
        "colab_type": "code",
        "colab": {
          "base_uri": "https://localhost:8080/",
          "height": 72
        },
        "outputId": "7d32f97d-9708-4860-dc3e-4d9694b03de6"
      },
      "source": [
        "test_scores = test_grid_search_results(df, scores, ntop_scores=3)"
      ],
      "execution_count": 16,
      "outputs": [
        {
          "output_type": "stream",
          "text": [
            "(\"[(2, 0, 1), (1, 0, 1, 12), 'c']\", 80791.37011061398)\n",
            "(\"[(1, 0, 0), (1, 0, 1, 12), 'ct']\", 83169.33601941148)\n",
            "(\"[(1, 0, 0), (1, 0, 1, 12), 'c']\", 80330.77029244688)\n"
          ],
          "name": "stdout"
        }
      ]
    },
    {
      "cell_type": "code",
      "metadata": {
        "id": "xPlaymyj7dJY",
        "colab_type": "code",
        "colab": {
          "base_uri": "https://localhost:8080/",
          "height": 72
        },
        "outputId": "274b1ac9-f3c4-4c85-fa46-edd37f398775"
      },
      "source": [
        "test_scores"
      ],
      "execution_count": 17,
      "outputs": [
        {
          "output_type": "execute_result",
          "data": {
            "text/plain": [
              "[(\"[(1, 0, 0), (1, 0, 1, 12), 'c']\", 80330.77029244688),\n",
              " (\"[(2, 0, 1), (1, 0, 1, 12), 'c']\", 80791.37011061398),\n",
              " (\"[(1, 0, 0), (1, 0, 1, 12), 'ct']\", 83169.33601941148)]"
            ]
          },
          "metadata": {
            "tags": []
          },
          "execution_count": 17
        }
      ]
    },
    {
      "cell_type": "code",
      "metadata": {
        "id": "66-cWYnWBPzc",
        "colab_type": "code",
        "colab": {
          "base_uri": "https://localhost:8080/",
          "height": 604
        },
        "outputId": "ed9d4e26-6ddf-420d-dec9-6ac0339dc5ad"
      },
      "source": [
        "plot_model(df, eval(test_scores[0][0]))"
      ],
      "execution_count": 18,
      "outputs": [
        {
          "output_type": "stream",
          "text": [
            "/usr/local/lib/python3.6/dist-packages/statsmodels/tsa/base/tsa_model.py:165: ValueWarning: No frequency information was provided, so inferred frequency MS will be used.\n",
            "  % freq, ValueWarning)\n"
          ],
          "name": "stderr"
        },
        {
          "output_type": "stream",
          "text": [
            "Error: 37468.565288898484\n"
          ],
          "name": "stdout"
        },
        {
          "output_type": "display_data",
          "data": {
            "image/png": "[encoded data removed]",
            "text/plain": [
              "<Figure size 1584x720 with 1 Axes>"
            ]
          },
          "metadata": {
            "tags": []
          }
        }
      ]
    },
    {
      "cell_type": "markdown",
      "metadata": {
        "id": "1mm1mQP6I3tk",
        "colab_type": "text"
      },
      "source": [
        "___"
      ]
    },
    {
      "cell_type": "markdown",
      "metadata": {
        "id": "xKxy7ujzvCxy",
        "colab_type": "text"
      },
      "source": [
        "## Previsão"
      ]
    },
    {
      "cell_type": "code",
      "metadata": {
        "id": "Lsp8I1dtn40j",
        "colab_type": "code",
        "colab": {
          "base_uri": "https://localhost:8080/",
          "height": 73
        },
        "outputId": "58714815-f43c-4938-fab3-2a399b3e0de9"
      },
      "source": [
        "cfg= eval(test_scores[0][0])\n",
        "order = cfg[0]\n",
        "s_order = cfg[1]\n",
        "trend = cfg[2]\n",
        "sarimax_pred = SARIMAX(\n",
        "    endog=df, order=order, seasonal_order=s_order, trend=trend,\n",
        "    enforce_stationarity=False, enforce_invertibility=False)\n",
        "\n",
        "model_sarimax_pred = sarimax_pred.fit(disp=False)\n",
        "\n",
        "fcast_sarimax = model_sarimax_pred.get_forecast(5)\n"
      ],
      "execution_count": 19,
      "outputs": [
        {
          "output_type": "stream",
          "text": [
            "/usr/local/lib/python3.6/dist-packages/statsmodels/tsa/base/tsa_model.py:165: ValueWarning: No frequency information was provided, so inferred frequency MS will be used.\n",
            "  % freq, ValueWarning)\n"
          ],
          "name": "stderr"
        }
      ]
    },
    {
      "cell_type": "code",
      "metadata": {
        "id": "rqZ3UU1gqBkG",
        "colab_type": "code",
        "colab": {}
      },
      "source": [
        "df_fcast = pd.concat([model_sarimax_pred.predict(), fcast_sarimax.predicted_mean], axis=0)"
      ],
      "execution_count": 20,
      "outputs": []
    },
    {
      "cell_type": "code",
      "metadata": {
        "id": "favbcK0yqbKV",
        "colab_type": "code",
        "colab": {
          "base_uri": "https://localhost:8080/",
          "height": 206
        },
        "outputId": "730894d8-12a4-45ea-996c-7701bccc39e1"
      },
      "source": [
        "df_fcast.name = 'fcast'\n",
        "df_fcast = pd.concat([df_fcast, fcast_sarimax.conf_int()], axis=1)\n",
        "df_fcast.tail()"
      ],
      "execution_count": 21,
      "outputs": [
        {
          "output_type": "execute_result",
          "data": {
            "text/html": [
              "<div>\n",
              "<style scoped>\n",
              "    .dataframe tbody tr th:only-of-type {\n",
              "        vertical-align: middle;\n",
              "    }\n",
              "\n",
              "    .dataframe tbody tr th {\n",
              "        vertical-align: top;\n",
              "    }\n",
              "\n",
              "    .dataframe thead th {\n",
              "        text-align: right;\n",
              "    }\n",
              "</style>\n",
              "<table border=\"1\" class=\"dataframe\">\n",
              "  <thead>\n",
              "    <tr style=\"text-align: right;\">\n",
              "      <th></th>\n",
              "      <th>fcast</th>\n",
              "      <th>lower estoques</th>\n",
              "      <th>upper estoques</th>\n",
              "    </tr>\n",
              "  </thead>\n",
              "  <tbody>\n",
              "    <tr>\n",
              "      <th>2020-08-01</th>\n",
              "      <td>540908.571441</td>\n",
              "      <td>527770.095749</td>\n",
              "      <td>554047.047132</td>\n",
              "    </tr>\n",
              "    <tr>\n",
              "      <th>2020-09-01</th>\n",
              "      <td>539387.364844</td>\n",
              "      <td>521319.645582</td>\n",
              "      <td>557455.084105</td>\n",
              "    </tr>\n",
              "    <tr>\n",
              "      <th>2020-10-01</th>\n",
              "      <td>538629.942089</td>\n",
              "      <td>517100.530178</td>\n",
              "      <td>560159.354000</td>\n",
              "    </tr>\n",
              "    <tr>\n",
              "      <th>2020-11-01</th>\n",
              "      <td>537719.919126</td>\n",
              "      <td>513519.449431</td>\n",
              "      <td>561920.388821</td>\n",
              "    </tr>\n",
              "    <tr>\n",
              "      <th>2020-12-01</th>\n",
              "      <td>538962.432969</td>\n",
              "      <td>512608.889765</td>\n",
              "      <td>565315.976173</td>\n",
              "    </tr>\n",
              "  </tbody>\n",
              "</table>\n",
              "</div>"
            ],
            "text/plain": [
              "                    fcast  lower estoques  upper estoques\n",
              "2020-08-01  540908.571441   527770.095749   554047.047132\n",
              "2020-09-01  539387.364844   521319.645582   557455.084105\n",
              "2020-10-01  538629.942089   517100.530178   560159.354000\n",
              "2020-11-01  537719.919126   513519.449431   561920.388821\n",
              "2020-12-01  538962.432969   512608.889765   565315.976173"
            ]
          },
          "metadata": {
            "tags": []
          },
          "execution_count": 21
        }
      ]
    },
    {
      "cell_type": "code",
      "metadata": {
        "id": "zKn4JeG7rFGz",
        "colab_type": "code",
        "colab": {}
      },
      "source": [
        "previsoes_sarimax = pd.concat(\n",
        "    [df['estoques'], df_fcast],\n",
        "    axis=1)"
      ],
      "execution_count": 22,
      "outputs": []
    },
    {
      "cell_type": "code",
      "metadata": {
        "id": "bGEGC6u2rb_v",
        "colab_type": "code",
        "colab": {
          "base_uri": "https://localhost:8080/",
          "height": 410
        },
        "outputId": "521ada39-59d8-49c5-aedf-dd88e243f23d"
      },
      "source": [
        "fig, ax = plt.subplots(figsize=(16, 6))\n",
        "previsoes_sarimax.estoques.loc['2012-03-01':].plot(ax=ax, style='o', label='real')\n",
        "\n",
        "previsoes_sarimax.fcast.loc['2012-03-01':].plot(ax=ax, style='g--x', label='previsão')\n",
        "\n",
        "ax.fill_between(\n",
        "    previsoes_sarimax.index, \n",
        "    previsoes_sarimax.iloc[:,2], \n",
        "    previsoes_sarimax.iloc[:,3], color='g', alpha=0.1)\n",
        "\n",
        "plt.title('Estimativa do estoque de empregos formais para COMÉRCIO - PERNAMBUCO')\n",
        "legend = ax.legend(loc='lower left')"
      ],
      "execution_count": 23,
      "outputs": [
        {
          "output_type": "display_data",
          "data": {
            "image/png": "[encoded data removed]",
            "text/plain": [
              "<Figure size 1152x432 with 1 Axes>"
            ]
          },
          "metadata": {
            "tags": []
          }
        }
      ]
    },
    {
      "cell_type": "markdown",
      "metadata": {
        "id": "TwOU21Mn6kD7",
        "colab_type": "text"
      },
      "source": [
        "Até o fim do ano o saldo será:"
      ]
    },
    {
      "cell_type": "code",
      "metadata": {
        "id": "lqPZq_8a6ks9",
        "colab_type": "code",
        "colab": {
          "base_uri": "https://localhost:8080/",
          "height": 35
        },
        "outputId": "f34c9fa1-2c5a-43dc-f20b-0bcc6a422375"
      },
      "source": [
        "fcast_sarimax.predicted_mean[-1] - df.estoques[-1]"
      ],
      "execution_count": 24,
      "outputs": [
        {
          "output_type": "execute_result",
          "data": {
            "text/plain": [
              "-3129.5670311003923"
            ]
          },
          "metadata": {
            "tags": []
          },
          "execution_count": 24
        }
      ]
    },
    {
      "cell_type": "code",
      "metadata": {
        "id": "V9UUWpve7hU0",
        "colab_type": "code",
        "colab": {}
      },
      "source": [
        "pred2020df = pd.DataFrame(df_saldo.saldo[-1] + fcast_sarimax.predicted_mean[-1] - df.estoques[-1], \n",
        "                          index=[\"2020\"], columns=['saldo'])\n",
        "pred2020df.index.name = \"Ano\"\n",
        "pred2020df.index = pd.to_datetime(pred2020df.index, format=\"%Y\")\n",
        "\n",
        "# df_saldo.update(pred2020df)\n",
        "# df_saldo.tail()"
      ],
      "execution_count": 25,
      "outputs": []
    },
    {
      "cell_type": "code",
      "metadata": {
        "id": "IKDPI80WCnQz",
        "colab_type": "code",
        "colab": {
          "base_uri": "https://localhost:8080/",
          "height": 363
        },
        "outputId": "a687a3b8-358f-4e37-9c83-8a1e2a3d3f4b"
      },
      "source": [
        "df_saldo_pred = pd.concat([df_saldo[1:][:-1], pred2020df], axis=0)\n",
        "df_saldo_pred"
      ],
      "execution_count": 26,
      "outputs": [
        {
          "output_type": "execute_result",
          "data": {
            "text/html": [
              "<div>\n",
              "<style scoped>\n",
              "    .dataframe tbody tr th:only-of-type {\n",
              "        vertical-align: middle;\n",
              "    }\n",
              "\n",
              "    .dataframe tbody tr th {\n",
              "        vertical-align: top;\n",
              "    }\n",
              "\n",
              "    .dataframe thead th {\n",
              "        text-align: right;\n",
              "    }\n",
              "</style>\n",
              "<table border=\"1\" class=\"dataframe\">\n",
              "  <thead>\n",
              "    <tr style=\"text-align: right;\">\n",
              "      <th></th>\n",
              "      <th>saldo</th>\n",
              "    </tr>\n",
              "  </thead>\n",
              "  <tbody>\n",
              "    <tr>\n",
              "      <th>2011-01-01</th>\n",
              "      <td>24254.000000</td>\n",
              "    </tr>\n",
              "    <tr>\n",
              "      <th>2012-01-01</th>\n",
              "      <td>22786.000000</td>\n",
              "    </tr>\n",
              "    <tr>\n",
              "      <th>2013-01-01</th>\n",
              "      <td>21583.000000</td>\n",
              "    </tr>\n",
              "    <tr>\n",
              "      <th>2014-01-01</th>\n",
              "      <td>26232.000000</td>\n",
              "    </tr>\n",
              "    <tr>\n",
              "      <th>2015-01-01</th>\n",
              "      <td>-2254.000000</td>\n",
              "    </tr>\n",
              "    <tr>\n",
              "      <th>2016-01-01</th>\n",
              "      <td>-769.000000</td>\n",
              "    </tr>\n",
              "    <tr>\n",
              "      <th>2017-01-01</th>\n",
              "      <td>3332.000000</td>\n",
              "    </tr>\n",
              "    <tr>\n",
              "      <th>2018-01-01</th>\n",
              "      <td>16039.000000</td>\n",
              "    </tr>\n",
              "    <tr>\n",
              "      <th>2019-01-01</th>\n",
              "      <td>11944.000000</td>\n",
              "    </tr>\n",
              "    <tr>\n",
              "      <th>2020-01-01</th>\n",
              "      <td>-12862.567031</td>\n",
              "    </tr>\n",
              "  </tbody>\n",
              "</table>\n",
              "</div>"
            ],
            "text/plain": [
              "                   saldo\n",
              "2011-01-01  24254.000000\n",
              "2012-01-01  22786.000000\n",
              "2013-01-01  21583.000000\n",
              "2014-01-01  26232.000000\n",
              "2015-01-01  -2254.000000\n",
              "2016-01-01   -769.000000\n",
              "2017-01-01   3332.000000\n",
              "2018-01-01  16039.000000\n",
              "2019-01-01  11944.000000\n",
              "2020-01-01 -12862.567031"
            ]
          },
          "metadata": {
            "tags": []
          },
          "execution_count": 26
        }
      ]
    },
    {
      "cell_type": "code",
      "metadata": {
        "id": "5oQ4XJrJ_5Xj",
        "colab_type": "code",
        "colab": {
          "base_uri": "https://localhost:8080/",
          "height": 410
        },
        "outputId": "fc4cc273-16c8-4559-8713-037d5b86b12c"
      },
      "source": [
        "plt.figure(figsize=(12, 6))\n",
        "plt.bar(df_saldo_pred.index.year, df_saldo_pred.saldo)\n",
        "plt.title('Saldo de vagas - COMÉRCIO')\n",
        "plt.show();"
      ],
      "execution_count": 27,
      "outputs": [
        {
          "output_type": "display_data",
          "data": {
            "image/png": "[encoded data removed]",
            "text/plain": [
              "<Figure size 864x432 with 1 Axes>"
            ]
          },
          "metadata": {
            "tags": []
          }
        }
      ]
    }
  ]
}