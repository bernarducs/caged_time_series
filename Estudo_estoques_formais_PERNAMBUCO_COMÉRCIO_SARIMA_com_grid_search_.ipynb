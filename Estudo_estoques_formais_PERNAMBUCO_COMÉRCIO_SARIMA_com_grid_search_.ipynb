{
  "nbformat": 4,
  "nbformat_minor": 0,
  "metadata": {
    "colab": {
      "name": "Estudo estoques formais PERNAMBUCO - COMÉRCIO - SARIMA com grid search .ipynb",
      "provenance": [],
      "collapsed_sections": [],
      "toc_visible": true,
      "mount_file_id": "1ureD_zSa_WDyfIXXBgF9IPj8ZkETHpWG",
      "authorship_tag": "ABX9TyNoAQXZRHOcyNAufvtRHpRD",
      "include_colab_link": true
    },
    "kernelspec": {
      "name": "python3",
      "display_name": "Python 3"
    }
  },
  "cells": [
    {
      "cell_type": "markdown",
      "metadata": {
        "id": "view-in-github",
        "colab_type": "text"
      },
      "source": [
        "<a href=\"https://colab.research.google.com/github/bernarducs/caged_time_series/blob/master/Estudo_estoques_formais_PERNAMBUCO_COM%C3%89RCIO_SARIMA_com_grid_search_.ipynb\" target=\"_parent\"><img src=\"https://colab.research.google.com/assets/colab-badge.svg\" alt=\"Open In Colab\"/></a>"
      ]
    },
    {
      "cell_type": "markdown",
      "metadata": {
        "id": "2xmOlNMYsw8u",
        "colab_type": "text"
      },
      "source": [
        "## Objetivo\n",
        "### Abaixo, utilizaremos funções que buscarão os melhores parâmetros para modelagem do método ARIMA com fator sazonal - SARIMA."
      ]
    },
    {
      "cell_type": "markdown",
      "metadata": {
        "id": "24n8i1qyCPaP",
        "colab_type": "text"
      },
      "source": [
        "Based on article: https://machinelearningmastery.com/how-to-grid-search-sarima-model-hyperparameters-for-time-series-forecasting-in-python/"
      ]
    },
    {
      "cell_type": "markdown",
      "metadata": {
        "id": "rG4qQ8BPtTXu",
        "colab_type": "text"
      },
      "source": [
        "## Pacotes"
      ]
    },
    {
      "cell_type": "code",
      "metadata": {
        "id": "Pfthvjm47P7O",
        "colab_type": "code",
        "colab": {}
      },
      "source": [
        "from math import sqrt\n",
        "from itertools import product\n",
        "import pandas as pd"
      ],
      "execution_count": null,
      "outputs": []
    },
    {
      "cell_type": "code",
      "metadata": {
        "id": "FSpWQbok-kCQ",
        "colab_type": "code",
        "colab": {}
      },
      "source": [
        "# viz\n",
        "import matplotlib.pyplot as plt\n",
        "import seaborn as sns\n",
        "sns.set_style(\"darkgrid\")\n",
        "sns.set_context(\"talk\")"
      ],
      "execution_count": null,
      "outputs": []
    },
    {
      "cell_type": "code",
      "metadata": {
        "id": "G9feBiuUFNMo",
        "colab_type": "code",
        "colab": {}
      },
      "source": [
        "# multiprocessing\n",
        "from multiprocessing import cpu_count\n",
        "from joblib import Parallel\n",
        "from joblib import delayed\n",
        "from warnings import catch_warnings\n",
        "from warnings import filterwarnings"
      ],
      "execution_count": null,
      "outputs": []
    },
    {
      "cell_type": "code",
      "metadata": {
        "id": "NsgI-Fff54pZ",
        "colab_type": "code",
        "colab": {}
      },
      "source": [
        "# stats\n",
        "from statsmodels.tsa.statespace.sarimax import SARIMAX\n",
        "from sklearn.metrics import mean_squared_error"
      ],
      "execution_count": null,
      "outputs": []
    },
    {
      "cell_type": "markdown",
      "metadata": {
        "id": "_z6oSAbntYl6",
        "colab_type": "text"
      },
      "source": [
        "## Datasets"
      ]
    },
    {
      "cell_type": "code",
      "metadata": {
        "id": "RIhuGLGa6wWS",
        "colab_type": "code",
        "colab": {}
      },
      "source": [
        "# df = pd.read_csv(\"https://raw.githubusercontent.com/EraylsonGaldino/dataset_time_series/master/traffic.txt\", names=['col'])\n",
        "# df.index = pd.date_range(start='1/1/2016', freq=\"D\", periods=len(df))"
      ],
      "execution_count": null,
      "outputs": []
    },
    {
      "cell_type": "markdown",
      "metadata": {
        "id": "otBiszKBDdt1",
        "colab_type": "text"
      },
      "source": [
        "#### Estoques"
      ]
    },
    {
      "cell_type": "code",
      "metadata": {
        "id": "txvZzuuraHQd",
        "colab_type": "code",
        "colab": {
          "base_uri": "https://localhost:8080/",
          "height": 237
        },
        "outputId": "e9f5120e-4e4d-4ad8-838d-2a5b2d4c08e8"
      },
      "source": [
        "file_path = \"/content/drive/My Drive/Colab Notebooks/emprego/bases/estoque_pe_comercio.xlsx\"\n",
        "df = pd.read_excel(file_path, index_col='ano_mes')\n",
        "df.columns = ['estoques']\n",
        "df.index = pd.to_datetime(df.index, format=\"%Y%m\")\n",
        "df.tail()"
      ],
      "execution_count": null,
      "outputs": [
        {
          "output_type": "execute_result",
          "data": {
            "text/html": [
              "<div>\n",
              "<style scoped>\n",
              "    .dataframe tbody tr th:only-of-type {\n",
              "        vertical-align: middle;\n",
              "    }\n",
              "\n",
              "    .dataframe tbody tr th {\n",
              "        vertical-align: top;\n",
              "    }\n",
              "\n",
              "    .dataframe thead th {\n",
              "        text-align: right;\n",
              "    }\n",
              "</style>\n",
              "<table border=\"1\" class=\"dataframe\">\n",
              "  <thead>\n",
              "    <tr style=\"text-align: right;\">\n",
              "      <th></th>\n",
              "      <th>estoques</th>\n",
              "    </tr>\n",
              "    <tr>\n",
              "      <th>ano_mes</th>\n",
              "      <th></th>\n",
              "    </tr>\n",
              "  </thead>\n",
              "  <tbody>\n",
              "    <tr>\n",
              "      <th>2020-03-01</th>\n",
              "      <td>294054</td>\n",
              "    </tr>\n",
              "    <tr>\n",
              "      <th>2020-04-01</th>\n",
              "      <td>285305</td>\n",
              "    </tr>\n",
              "    <tr>\n",
              "      <th>2020-05-01</th>\n",
              "      <td>282688</td>\n",
              "    </tr>\n",
              "    <tr>\n",
              "      <th>2020-06-01</th>\n",
              "      <td>281584</td>\n",
              "    </tr>\n",
              "    <tr>\n",
              "      <th>2020-07-01</th>\n",
              "      <td>282098</td>\n",
              "    </tr>\n",
              "  </tbody>\n",
              "</table>\n",
              "</div>"
            ],
            "text/plain": [
              "            estoques\n",
              "ano_mes             \n",
              "2020-03-01    294054\n",
              "2020-04-01    285305\n",
              "2020-05-01    282688\n",
              "2020-06-01    281584\n",
              "2020-07-01    282098"
            ]
          },
          "metadata": {
            "tags": []
          },
          "execution_count": 39
        }
      ]
    },
    {
      "cell_type": "markdown",
      "metadata": {
        "id": "L08HxaiEDhD3",
        "colab_type": "text"
      },
      "source": [
        "#### Saldo"
      ]
    },
    {
      "cell_type": "code",
      "metadata": {
        "id": "CnnGhP3hDhYb",
        "colab_type": "code",
        "colab": {
          "base_uri": "https://localhost:8080/",
          "height": 237
        },
        "outputId": "fe321837-e9b0-4928-fbaa-bf50fe06bd0c"
      },
      "source": [
        "file_path2 = \"/content/drive/My Drive/Colab Notebooks/emprego/bases/saldo_caged_comercio_pe.xlsx\"\n",
        "df_saldo = pd.read_excel(file_path2)\n",
        "df_saldo.columns = ['ano', 'saldo']\n",
        "df_saldo.set_index('ano', inplace=True)\n",
        "df_saldo.index = pd.to_datetime(df_saldo.index, format=\"%Y\")\n",
        "df_saldo.tail()"
      ],
      "execution_count": null,
      "outputs": [
        {
          "output_type": "execute_result",
          "data": {
            "text/html": [
              "<div>\n",
              "<style scoped>\n",
              "    .dataframe tbody tr th:only-of-type {\n",
              "        vertical-align: middle;\n",
              "    }\n",
              "\n",
              "    .dataframe tbody tr th {\n",
              "        vertical-align: top;\n",
              "    }\n",
              "\n",
              "    .dataframe thead th {\n",
              "        text-align: right;\n",
              "    }\n",
              "</style>\n",
              "<table border=\"1\" class=\"dataframe\">\n",
              "  <thead>\n",
              "    <tr style=\"text-align: right;\">\n",
              "      <th></th>\n",
              "      <th>saldo</th>\n",
              "    </tr>\n",
              "    <tr>\n",
              "      <th>ano</th>\n",
              "      <th></th>\n",
              "    </tr>\n",
              "  </thead>\n",
              "  <tbody>\n",
              "    <tr>\n",
              "      <th>2016-01-01</th>\n",
              "      <td>-11072</td>\n",
              "    </tr>\n",
              "    <tr>\n",
              "      <th>2017-01-01</th>\n",
              "      <td>227</td>\n",
              "    </tr>\n",
              "    <tr>\n",
              "      <th>2018-01-01</th>\n",
              "      <td>3208</td>\n",
              "    </tr>\n",
              "    <tr>\n",
              "      <th>2019-01-01</th>\n",
              "      <td>2654</td>\n",
              "    </tr>\n",
              "    <tr>\n",
              "      <th>2020-01-01</th>\n",
              "      <td>-16292</td>\n",
              "    </tr>\n",
              "  </tbody>\n",
              "</table>\n",
              "</div>"
            ],
            "text/plain": [
              "            saldo\n",
              "ano              \n",
              "2016-01-01 -11072\n",
              "2017-01-01    227\n",
              "2018-01-01   3208\n",
              "2019-01-01   2654\n",
              "2020-01-01 -16292"
            ]
          },
          "metadata": {
            "tags": []
          },
          "execution_count": 40
        }
      ]
    },
    {
      "cell_type": "markdown",
      "metadata": {
        "id": "9oLA0W8ftenV",
        "colab_type": "text"
      },
      "source": [
        "## Rotinas\n",
        "\n",
        "Aqui temos funções para o sarima em 1 passo (faz a predição para t+1). A próxima função é raiz quadrada dos erros médios e por fim a função responsável por separação do dataset entre teste e treino."
      ]
    },
    {
      "cell_type": "code",
      "metadata": {
        "id": "nG_TDMvf6JhI",
        "colab_type": "code",
        "colab": {}
      },
      "source": [
        "# one-step sarima forecast\n",
        "def sarima_forecast(history, config):\n",
        "\torder, sorder, trend = config\n",
        "\t# define model\n",
        "\tmodel = SARIMAX(history, order=order, seasonal_order=sorder, trend=trend, \n",
        "                 enforce_stationarity=False, enforce_invertibility=False)\n",
        "\t# fit model\n",
        "\tmodel_fit = model.fit(disp=False)\n",
        "\t# make one step forecast\n",
        "\tyhat = model_fit.predict()\n",
        "\treturn yhat\n",
        " \n",
        "# root mean squared error or rmse\n",
        "def measure_rmse(actual, predicted):\n",
        "\treturn sqrt(mean_squared_error(actual, predicted))\n",
        " \n",
        "# split a univariate dataset into train/test sets\n",
        "def train_test_split(data, percent_test=0.25):\n",
        "  n_test = int(len(data) * percent_test)\n",
        "  return data[:-n_test], data[-n_test:]"
      ],
      "execution_count": null,
      "outputs": []
    },
    {
      "cell_type": "markdown",
      "metadata": {
        "id": "WPe8kgqauCk-",
        "colab_type": "text"
      },
      "source": [
        "Aqui usamos a funções acima retornando o quadrado dos desvios."
      ]
    },
    {
      "cell_type": "code",
      "metadata": {
        "id": "w4gmgXxd9rL7",
        "colab_type": "code",
        "colab": {}
      },
      "source": [
        "# walk-forward validation for univariate data\n",
        "def walk_forward_validation(data, percent_test, cfg):\n",
        "\n",
        "  # split dataset\n",
        "  train, test = train_test_split(data, percent_test)\n",
        "\n",
        "  # fit model and make forecast for history\n",
        "  yhat = sarima_forecast(train, cfg)\n",
        "\n",
        "  # estimate prediction error\n",
        "  error = measure_rmse(train, yhat)\n",
        "  return error  "
      ],
      "execution_count": null,
      "outputs": []
    },
    {
      "cell_type": "markdown",
      "metadata": {
        "id": "As6bSAOUuLIG",
        "colab_type": "text"
      },
      "source": [
        "Avalia qual a melhor configuração de parâmetros `cfg` tem a melhor avaliação, ou seja, o menor erro."
      ]
    },
    {
      "cell_type": "code",
      "metadata": {
        "id": "tkYM4hBsMjsD",
        "colab_type": "code",
        "colab": {}
      },
      "source": [
        "def score_model(data, n_test, cfg, debug=False):\n",
        "  result = None\n",
        "  # convert config to a key\n",
        "  key = str(cfg)\n",
        "  # show all warnings and fail on exception if debugging\n",
        "  if debug:\n",
        "    result = walk_forward_validation(data, n_test, cfg)\n",
        "  else:\n",
        "    # one failure during model validation suggests an unstable config\n",
        "    try:\n",
        "      # never show warnings when grid searching, too noisy\n",
        "      with catch_warnings():\n",
        "        filterwarnings(\"ignore\")\n",
        "        result = walk_forward_validation(data, n_test, cfg)\n",
        "    except:\n",
        "      error = None\n",
        "  # check for an interesting result\n",
        "  if result is not None:\n",
        "    print(' > Model[%s] %.3f' % (key, result))\n",
        "  return (key, result)"
      ],
      "execution_count": null,
      "outputs": []
    },
    {
      "cell_type": "code",
      "metadata": {
        "id": "ZT8jnDItMuXh",
        "colab_type": "code",
        "colab": {}
      },
      "source": [
        "# grid search configs\n",
        "def grid_search(data, cfg_list, n_test, parallel=True):\n",
        "  scores = None\n",
        "  if parallel:\n",
        "    # execute configs in parallel\n",
        "    executor = Parallel(n_jobs=cpu_count(), backend='multiprocessing')\n",
        "    tasks = (delayed(score_model)(data, n_test, cfg) for cfg in cfg_list)\n",
        "    scores = executor(tasks)\n",
        "  else:\n",
        "    scores = [score_model(data, n_test, cfg) for cfg in cfg_list]\n",
        "  # remove empty results\n",
        "  scores = [r for r in scores if r[1] != None]\n",
        "  # sort configs by error, asc\n",
        "  scores.sort(key=lambda tup: tup[1])\n",
        "  return scores"
      ],
      "execution_count": null,
      "outputs": []
    },
    {
      "cell_type": "code",
      "metadata": {
        "id": "vRFAwENkt4np",
        "colab_type": "code",
        "colab": {}
      },
      "source": [
        "# evaluating grid search results for test data\n",
        "def test_grid_search_results(data, scores, ntop_scores=5):\n",
        "\n",
        "  if ntop_scores > len(scores):\n",
        "    ntop_scores = 5\n",
        "\n",
        "  scores_test = list()\n",
        "  _, test = train_test_split(data, percent_test=0.4)  \n",
        "\n",
        "  for cfg_str, _ in scores[:ntop_scores]:\n",
        "    cfg = eval(cfg_str)\n",
        "    with catch_warnings():\n",
        "      filterwarnings(\"ignore\")\n",
        "      yhat = sarima_forecast(test, cfg)\n",
        "    error = measure_rmse(test, yhat)\n",
        "    result = (cfg_str, error)\n",
        "    print(result)\n",
        "    scores_test.append(result)\n",
        "  \n",
        "  scores_test.sort(key=lambda tup: tup[1])\n",
        "  return scores_test"
      ],
      "execution_count": null,
      "outputs": []
    },
    {
      "cell_type": "code",
      "metadata": {
        "id": "QyxmozW79v8i",
        "colab_type": "code",
        "colab": {}
      },
      "source": [
        "def plot_model(data, cfg):\n",
        "  order = cfg[0]\n",
        "  s_order = cfg[1]\n",
        "  trend = cfg[2]\n",
        "  sarimax_pred = SARIMAX(\n",
        "      endog=df, order=order, seasonal_order=s_order, trend=trend,\n",
        "      enforce_stationarity=False, enforce_invertibility=False)\n",
        "\n",
        "  model_sarimax_pred = sarimax_pred.fit(disp=False)\n",
        "\n",
        "  previsao_sarimax = model_sarimax_pred.predict()\n",
        "\n",
        "  error = measure_rmse(df, previsao_sarimax)\n",
        "  print('Error:', error)\n",
        "\n",
        "  plt.figure(figsize=(22, 10))\n",
        "  plt.plot(previsao_sarimax[10:], label = 'forecast')\n",
        "  plt.plot(df[10:], label = 'target')\n",
        "  plt.title('Target x Forecast')\n",
        "  plt.legend()\n",
        "  plt.show()"
      ],
      "execution_count": null,
      "outputs": []
    },
    {
      "cell_type": "code",
      "metadata": {
        "id": "WO8ntgVZPxJX",
        "colab_type": "code",
        "colab": {}
      },
      "source": [
        "def sarima_configs(seasonal=[12]):\n",
        "  models = list()\n",
        "  # define config lists\n",
        "  p_params = [0, 1, 2]\n",
        "  d_params = [0, 1]\n",
        "  q_params = [0, 1, 2]\n",
        "  t_params = ['n','c','t','ct']\n",
        "  P_params = [0, 1, 2]\n",
        "  D_params = [0, 1]\n",
        "  Q_params = [0, 1]\n",
        "  m_params = seasonal\n",
        "  # create config instances\n",
        "  for p, d, q, t, P, D, Q, m in product(p_params, d_params, q_params, t_params, P_params, D_params, Q_params, m_params):\n",
        "    cfg = [(p,d,q), (P,D,Q,m), t]\n",
        "    models.append(cfg)\n",
        "  return models"
      ],
      "execution_count": null,
      "outputs": []
    },
    {
      "cell_type": "markdown",
      "metadata": {
        "id": "80wqYsTau8DJ",
        "colab_type": "text"
      },
      "source": [
        "## Gerando modelo"
      ]
    },
    {
      "cell_type": "code",
      "metadata": {
        "id": "FPy0vStORq8h",
        "colab_type": "code",
        "colab": {
          "base_uri": "https://localhost:8080/",
          "height": 1000
        },
        "outputId": "6931ea7d-dfd4-4c8b-f4f5-62fc53fad421"
      },
      "source": [
        "cfg_list = sarima_configs(seasonal=[12])\n",
        "scores = grid_search(df, cfg_list, 0.25)"
      ],
      "execution_count": null,
      "outputs": [
        {
          "output_type": "stream",
          "text": [
            " > Model[[(0, 0, 0), (0, 0, 0, 12), 'n']] 300572.166\n",
            " > Model[[(0, 0, 0), (0, 1, 0, 12), 'n']] 100313.985\n",
            " > Model[[(0, 0, 0), (0, 0, 1, 12), 'n']] 8991082643.041\n",
            " > Model[[(0, 0, 0), (0, 1, 1, 12), 'n']] 99987.775\n",
            " > Model[[(0, 0, 0), (1, 0, 0, 12), 'n']] 100249.289\n",
            " > Model[[(0, 0, 0), (1, 0, 1, 12), 'n']] 99932.695\n",
            " > Model[[(0, 0, 0), (1, 1, 0, 12), 'n']] 106529.327\n",
            " > Model[[(0, 0, 0), (2, 0, 0, 12), 'n']] 110668.708\n",
            " > Model[[(0, 0, 0), (1, 1, 1, 12), 'n']] 101005.701\n",
            " > Model[[(0, 0, 0), (2, 0, 1, 12), 'n']] 101221.672\n",
            " > Model[[(0, 0, 0), (0, 0, 0, 12), 'c']] 32253.597\n",
            " > Model[[(0, 0, 0), (2, 1, 0, 12), 'n']] 100684.851\n",
            " > Model[[(0, 0, 0), (0, 0, 1, 12), 'c']] 32667.365\n",
            " > Model[[(0, 0, 0), (0, 1, 0, 12), 'c']] 98709.087\n",
            " > Model[[(0, 0, 0), (0, 1, 1, 12), 'c']] 98448.922\n",
            " > Model[[(0, 0, 0), (2, 1, 1, 12), 'n']] 101965.908\n",
            " > Model[[(0, 0, 0), (1, 0, 0, 12), 'c']] 31818.915\n",
            " > Model[[(0, 0, 0), (1, 0, 1, 12), 'c']] 31251.577\n",
            " > Model[[(0, 0, 0), (2, 0, 0, 12), 'c']] 51798.864\n",
            " > Model[[(0, 0, 0), (1, 1, 0, 12), 'c']] 110324.085\n",
            " > Model[[(0, 0, 0), (2, 0, 1, 12), 'c']] 61096.240\n",
            " > Model[[(0, 0, 0), (1, 1, 1, 12), 'c']] 100461.657\n",
            " > Model[[(0, 0, 0), (0, 0, 0, 12), 't']] 145291.201\n",
            " > Model[[(0, 0, 0), (0, 0, 1, 12), 't']] 998619498.496\n",
            " > Model[[(0, 0, 0), (0, 1, 0, 12), 't']] 100340.610\n",
            " > Model[[(0, 0, 0), (0, 1, 1, 12), 't']] 100080.677\n",
            " > Model[[(0, 0, 0), (1, 0, 0, 12), 't']] 100893.598\n",
            " > Model[[(0, 0, 0), (1, 0, 1, 12), 't']] 111978.616\n",
            " > Model[[(0, 0, 0), (2, 1, 0, 12), 'c']] 101165.123\n",
            " > Model[[(0, 0, 0), (1, 1, 0, 12), 't']] 107925.243\n",
            " > Model[[(0, 0, 0), (1, 1, 1, 12), 't']] 100091.619\n",
            " > Model[[(0, 0, 0), (2, 1, 1, 12), 'c']] 108414.614\n",
            " > Model[[(0, 0, 0), (2, 0, 0, 12), 't']] 636507.369\n",
            " > Model[[(0, 0, 0), (2, 0, 1, 12), 't']] 119868.969\n",
            " > Model[[(0, 0, 0), (0, 0, 0, 12), 'ct']] 31432.012\n",
            " > Model[[(0, 0, 0), (0, 0, 1, 12), 'ct']] 30656.434\n",
            " > Model[[(0, 0, 0), (0, 1, 0, 12), 'ct']] 90092.063\n",
            " > Model[[(0, 0, 0), (0, 1, 1, 12), 'ct']] 92055.879\n",
            " > Model[[(0, 0, 0), (2, 1, 0, 12), 't']] 108624.117\n",
            " > Model[[(0, 0, 0), (1, 0, 0, 12), 'ct']] 30265.848\n",
            " > Model[[(0, 0, 0), (1, 0, 1, 12), 'ct']] 29765.286\n",
            " > Model[[(0, 0, 0), (1, 1, 0, 12), 'ct']] 91995.164\n",
            " > Model[[(0, 0, 0), (1, 1, 1, 12), 'ct']] 94681.181\n",
            " > Model[[(0, 0, 0), (2, 1, 1, 12), 't']] 124530.788\n",
            " > Model[[(0, 0, 0), (2, 0, 0, 12), 'ct']] 63111.070\n",
            " > Model[[(0, 0, 0), (2, 0, 1, 12), 'ct']] 90531.969\n",
            " > Model[[(0, 0, 1), (0, 0, 0, 12), 'n']] 162280.386\n",
            " > Model[[(0, 0, 1), (0, 0, 1, 12), 'n']] 3288737041.710\n",
            " > Model[[(0, 0, 1), (0, 1, 0, 12), 'n']] 72901.949\n",
            " > Model[[(0, 0, 0), (2, 1, 0, 12), 'ct']] 102676.226\n",
            " > Model[[(0, 0, 1), (0, 1, 1, 12), 'n']] 119093.403\n",
            " > Model[[(0, 0, 1), (1, 0, 0, 12), 'n']] 80138.197\n",
            " > Model[[(0, 0, 1), (1, 0, 1, 12), 'n']] 73917.486\n",
            " > Model[[(0, 0, 1), (1, 1, 0, 12), 'n']] 122445.180\n",
            " > Model[[(0, 0, 1), (1, 1, 1, 12), 'n']] 120242.336\n",
            " > Model[[(0, 0, 1), (2, 0, 0, 12), 'n']] 5371955.269\n",
            " > Model[[(0, 0, 0), (2, 1, 1, 12), 'ct']] 117546.677\n",
            " > Model[[(0, 0, 1), (2, 0, 1, 12), 'n']] 75904.372\n",
            " > Model[[(0, 0, 1), (2, 1, 0, 12), 'n']] 105695.875\n",
            " > Model[[(0, 0, 1), (0, 0, 0, 12), 'c']] 29893.582\n",
            " > Model[[(0, 0, 1), (0, 0, 1, 12), 'c']] 151618.659\n",
            " > Model[[(0, 0, 1), (0, 1, 0, 12), 'c']] 72278.660\n",
            " > Model[[(0, 0, 1), (0, 1, 1, 12), 'c']] 113860.607\n",
            " > Model[[(0, 0, 1), (1, 0, 0, 12), 'c']] 29813.214\n",
            " > Model[[(0, 0, 1), (1, 0, 1, 12), 'c']] 29646.459\n",
            " > Model[[(0, 0, 1), (1, 1, 0, 12), 'c']] 116413.765\n",
            " > Model[[(0, 0, 1), (2, 1, 1, 12), 'n']] 72047.882\n",
            " > Model[[(0, 0, 1), (1, 1, 1, 12), 'c']] 114768.102\n",
            " > Model[[(0, 0, 1), (2, 0, 0, 12), 'c']] 29788.367\n",
            " > Model[[(0, 0, 1), (2, 1, 0, 12), 'c']] 70582.851\n",
            " > Model[[(0, 0, 1), (2, 0, 1, 12), 'c']] 29704.344\n",
            " > Model[[(0, 0, 1), (0, 0, 0, 12), 't']] 86481.458\n",
            " > Model[[(0, 0, 1), (0, 0, 1, 12), 't']] 22586582497.342\n",
            " > Model[[(0, 0, 1), (0, 1, 0, 12), 't']] 72927.491\n",
            " > Model[[(0, 0, 1), (0, 1, 1, 12), 't']] 69151.146\n",
            " > Model[[(0, 0, 1), (1, 0, 0, 12), 't']] 4066432.014\n",
            " > Model[[(0, 0, 1), (1, 0, 1, 12), 't']] 3416761.965\n",
            " > Model[[(0, 0, 1), (1, 1, 0, 12), 't']] 78614.721\n",
            " > Model[[(0, 0, 1), (2, 1, 1, 12), 'c']] 71233.054\n",
            " > Model[[(0, 0, 1), (1, 1, 1, 12), 't']] 72028.241\n",
            " > Model[[(0, 0, 1), (2, 0, 0, 12), 't']] 9592757.303\n",
            " > Model[[(0, 0, 1), (2, 0, 1, 12), 't']] 2413207.169\n",
            " > Model[[(0, 0, 1), (2, 1, 0, 12), 't']] 74561.195\n",
            " > Model[[(0, 0, 1), (0, 0, 0, 12), 'ct']] 29535.473\n",
            " > Model[[(0, 0, 1), (0, 0, 1, 12), 'ct']] 183798.442\n",
            " > Model[[(0, 0, 1), (0, 1, 0, 12), 'ct']] 72058.723\n",
            " > Model[[(0, 0, 1), (2, 1, 1, 12), 't']] 84452.839\n",
            " > Model[[(0, 0, 1), (0, 1, 1, 12), 'ct']] 65169.015\n",
            " > Model[[(0, 0, 1), (1, 0, 0, 12), 'ct']] 29509.375\n",
            " > Model[[(0, 0, 1), (1, 0, 1, 12), 'ct']] 29329.620\n",
            " > Model[[(0, 0, 1), (1, 1, 0, 12), 'ct']] 65840.661\n",
            " > Model[[(0, 0, 1), (1, 1, 1, 12), 'ct']] 65350.462\n",
            " > Model[[(0, 0, 1), (2, 0, 0, 12), 'ct']] 71982.010\n",
            " > Model[[(0, 0, 1), (2, 0, 1, 12), 'ct']] 81031.767\n",
            " > Model[[(0, 0, 1), (2, 1, 0, 12), 'ct']] 67816.966\n",
            " > Model[[(0, 0, 2), (0, 0, 0, 12), 'n']] 105202.198\n",
            " > Model[[(0, 0, 1), (2, 1, 1, 12), 'ct']] 77848.484\n",
            " > Model[[(0, 0, 2), (0, 1, 0, 12), 'n']] 165736.762\n",
            " > Model[[(0, 0, 2), (0, 0, 1, 12), 'n']] 22065452.492\n",
            " > Model[[(0, 0, 2), (0, 1, 1, 12), 'n']] 60092.141\n",
            " > Model[[(0, 0, 2), (1, 0, 0, 12), 'n']] 9371600.875\n",
            " > Model[[(0, 0, 2), (1, 0, 1, 12), 'n']] 22107073.027\n",
            " > Model[[(0, 0, 2), (1, 1, 0, 12), 'n']] 111229.309\n",
            " > Model[[(0, 0, 2), (1, 1, 1, 12), 'n']] 71139.975\n",
            " > Model[[(0, 0, 2), (2, 0, 0, 12), 'n']] 221193.957\n",
            " > Model[[(0, 0, 2), (2, 0, 1, 12), 'n']] 489765.727\n",
            " > Model[[(0, 0, 2), (2, 1, 0, 12), 'n']] 65105.230\n",
            " > Model[[(0, 0, 2), (0, 0, 0, 12), 'c']] 29275.589\n",
            " > Model[[(0, 0, 2), (0, 0, 1, 12), 'c']] 2435024.519\n",
            " > Model[[(0, 0, 2), (0, 1, 0, 12), 'c']] 59412.757\n",
            " > Model[[(0, 0, 2), (0, 1, 1, 12), 'c']] 148800.971\n",
            " > Model[[(0, 0, 2), (1, 0, 0, 12), 'c']] 29293.091\n",
            " > Model[[(0, 0, 2), (2, 1, 1, 12), 'n']] 64315.750\n",
            " > Model[[(0, 0, 2), (1, 0, 1, 12), 'c']] 29224.269\n",
            " > Model[[(0, 0, 2), (1, 1, 0, 12), 'c']] 187070.374\n",
            " > Model[[(0, 0, 2), (2, 0, 0, 12), 'c']] 29240.959\n",
            " > Model[[(0, 0, 2), (1, 1, 1, 12), 'c']] 61723.321\n",
            " > Model[[(0, 0, 2), (2, 0, 1, 12), 'c']] 29582.456\n",
            " > Model[[(0, 0, 2), (2, 1, 0, 12), 'c']] 68551.041\n",
            " > Model[[(0, 0, 2), (0, 0, 0, 12), 't']] 1262312.150\n",
            " > Model[[(0, 0, 2), (0, 0, 1, 12), 't']] 9292331.707\n",
            " > Model[[(0, 0, 2), (0, 1, 0, 12), 't']] 59861.197\n",
            " > Model[[(0, 0, 2), (2, 1, 1, 12), 'c']] 56245.319\n",
            " > Model[[(0, 0, 2), (0, 1, 1, 12), 't']] 59506.349\n",
            " > Model[[(0, 0, 2), (1, 0, 0, 12), 't']] 3568105.962\n",
            " > Model[[(0, 0, 2), (1, 1, 0, 12), 't']] 109545.697\n",
            " > Model[[(0, 0, 2), (1, 0, 1, 12), 't']] 2683379.403\n",
            " > Model[[(0, 0, 2), (1, 1, 1, 12), 't']] 62216.209\n",
            " > Model[[(0, 0, 2), (2, 0, 0, 12), 't']] 2075386.990\n",
            " > Model[[(0, 0, 2), (2, 1, 0, 12), 't']] 67029.463\n",
            " > Model[[(0, 0, 2), (2, 0, 1, 12), 't']] 904445.241\n",
            " > Model[[(0, 0, 2), (0, 0, 0, 12), 'ct']] 29089.400\n",
            " > Model[[(0, 0, 2), (0, 0, 1, 12), 'ct']] 1074712.703\n",
            " > Model[[(0, 0, 2), (0, 1, 0, 12), 'ct']] 58606.604\n",
            " > Model[[(0, 0, 2), (2, 1, 1, 12), 't']] 65471.438\n",
            " > Model[[(0, 0, 2), (0, 1, 1, 12), 'ct']] 57059.417\n",
            " > Model[[(0, 0, 2), (1, 0, 0, 12), 'ct']] 29108.185\n",
            " > Model[[(0, 0, 2), (1, 0, 1, 12), 'ct']] 29054.111\n",
            " > Model[[(0, 0, 2), (1, 1, 0, 12), 'ct']] 70690.610\n",
            " > Model[[(0, 0, 2), (2, 0, 0, 12), 'ct']] 62770.746\n",
            " > Model[[(0, 0, 2), (1, 1, 1, 12), 'ct']] 56422.911\n",
            " > Model[[(0, 0, 2), (2, 0, 1, 12), 'ct']] 29137.101\n",
            " > Model[[(0, 0, 2), (2, 1, 0, 12), 'ct']] 58217.398\n",
            " > Model[[(0, 1, 0), (0, 0, 0, 12), 'n']] 28495.219\n",
            " > Model[[(0, 1, 0), (0, 0, 1, 12), 'n']] 28456.389\n",
            " > Model[[(0, 1, 0), (0, 1, 0, 12), 'n']] 33639.184\n",
            " > Model[[(0, 0, 2), (2, 1, 1, 12), 'ct']] 65288.132\n",
            " > Model[[(0, 1, 0), (1, 0, 0, 12), 'n']] 29135.531\n",
            " > Model[[(0, 1, 0), (0, 1, 1, 12), 'n']] 33643.540\n",
            " > Model[[(0, 1, 0), (1, 0, 1, 12), 'n']] 29081.594\n",
            " > Model[[(0, 1, 0), (1, 1, 0, 12), 'n']] 32446.714\n",
            " > Model[[(0, 1, 0), (2, 0, 0, 12), 'n']] 28590.711\n",
            " > Model[[(0, 1, 0), (1, 1, 1, 12), 'n']] 31870.091\n",
            " > Model[[(0, 1, 0), (2, 1, 0, 12), 'n']] 32245.102\n",
            " > Model[[(0, 1, 0), (2, 0, 1, 12), 'n']] 28607.556\n",
            " > Model[[(0, 1, 0), (2, 1, 1, 12), 'n']] 31197.001\n",
            " > Model[[(0, 1, 0), (0, 0, 0, 12), 'c']] 28493.269\n",
            " > Model[[(0, 1, 0), (0, 1, 0, 12), 'c']] 33620.438\n",
            " > Model[[(0, 1, 0), (0, 0, 1, 12), 'c']] 28473.267\n",
            " > Model[[(0, 1, 0), (0, 1, 1, 12), 'c']] 33625.245\n",
            " > Model[[(0, 1, 0), (1, 0, 1, 12), 'c']] 29036.167\n",
            " > Model[[(0, 1, 0), (1, 0, 0, 12), 'c']] 29129.478\n",
            " > Model[[(0, 1, 0), (1, 1, 0, 12), 'c']] 32405.021\n",
            " > Model[[(0, 1, 0), (1, 1, 1, 12), 'c']] 31940.521\n",
            " > Model[[(0, 1, 0), (2, 0, 0, 12), 'c']] 28642.608\n",
            " > Model[[(0, 1, 0), (2, 0, 1, 12), 'c']] 29328.082\n",
            " > Model[[(0, 1, 0), (2, 1, 0, 12), 'c']] 32185.273\n",
            " > Model[[(0, 1, 0), (0, 0, 0, 12), 't']] 28494.917\n",
            " > Model[[(0, 1, 0), (2, 1, 1, 12), 'c']] 31253.042\n",
            " > Model[[(0, 1, 0), (0, 1, 0, 12), 't']] 33636.266\n",
            " > Model[[(0, 1, 0), (0, 0, 1, 12), 't']] 28456.286\n",
            " > Model[[(0, 1, 0), (0, 1, 1, 12), 't']] 33640.662\n",
            " > Model[[(0, 1, 0), (1, 0, 0, 12), 't']] 29134.084\n",
            " > Model[[(0, 1, 0), (1, 1, 0, 12), 't']] 32438.274\n",
            " > Model[[(0, 1, 0), (1, 0, 1, 12), 't']] 29077.898\n",
            " > Model[[(0, 1, 0), (2, 0, 0, 12), 't']] 28607.954\n",
            " > Model[[(0, 1, 0), (1, 1, 1, 12), 't']] 31930.574\n",
            " > Model[[(0, 1, 0), (2, 0, 1, 12), 't']] 28532.862\n",
            " > Model[[(0, 1, 0), (2, 1, 0, 12), 't']] 32218.323\n",
            " > Model[[(0, 1, 0), (0, 0, 0, 12), 'ct']] 28480.626\n",
            " > Model[[(0, 1, 0), (0, 0, 1, 12), 'ct']] 28466.736\n",
            " > Model[[(0, 1, 0), (0, 1, 0, 12), 'ct']] 33602.175\n",
            " > Model[[(0, 1, 0), (0, 1, 1, 12), 'ct']] 33606.220\n",
            " > Model[[(0, 1, 0), (1, 0, 0, 12), 'ct']] 29061.307\n",
            " > Model[[(0, 1, 0), (2, 1, 1, 12), 't']] 31234.087\n",
            " > Model[[(0, 1, 0), (1, 0, 1, 12), 'ct']] 28868.457\n",
            " > Model[[(0, 1, 0), (1, 1, 0, 12), 'ct']] 32322.273\n",
            " > Model[[(0, 1, 0), (1, 1, 1, 12), 'ct']] 31916.726\n",
            " > Model[[(0, 1, 0), (2, 0, 0, 12), 'ct']] 28537.522\n",
            " > Model[[(0, 1, 0), (2, 0, 1, 12), 'ct']] 28464.749\n",
            " > Model[[(0, 1, 0), (2, 1, 0, 12), 'ct']] 32169.691\n",
            " > Model[[(0, 1, 1), (0, 0, 0, 12), 'n']] 28486.541\n",
            " > Model[[(0, 1, 1), (0, 0, 1, 12), 'n']] 28471.996\n",
            " > Model[[(0, 1, 1), (0, 1, 0, 12), 'n']] 33652.031\n",
            " > Model[[(0, 1, 1), (0, 1, 1, 12), 'n']] 33654.090\n",
            " > Model[[(0, 1, 1), (1, 0, 0, 12), 'n']] 29124.742\n",
            " > Model[[(0, 1, 1), (1, 0, 1, 12), 'n']] 29030.408\n",
            " > Model[[(0, 1, 1), (1, 1, 0, 12), 'n']] 32462.809\n",
            " > Model[[(0, 1, 1), (1, 1, 1, 12), 'n']] 31922.703\n",
            " > Model[[(0, 1, 1), (2, 0, 0, 12), 'n']] 28581.896\n",
            " > Model[[(0, 1, 1), (2, 0, 1, 12), 'n']] 29375.712\n",
            " > Model[[(0, 1, 0), (2, 1, 1, 12), 'ct']] 31402.141\n",
            " > Model[[(0, 1, 1), (2, 1, 0, 12), 'n']] 32243.285\n",
            " > Model[[(0, 1, 1), (0, 0, 0, 12), 'c']] 28485.376\n",
            " > Model[[(0, 1, 1), (0, 0, 1, 12), 'c']] 28470.831\n",
            " > Model[[(0, 1, 1), (0, 1, 0, 12), 'c']] 33624.912\n",
            " > Model[[(0, 1, 1), (0, 1, 1, 12), 'c']] 33625.632\n",
            " > Model[[(0, 1, 1), (2, 1, 1, 12), 'n']] 31182.014\n",
            " > Model[[(0, 1, 1), (1, 0, 1, 12), 'c']] 28990.814\n",
            " > Model[[(0, 1, 1), (1, 0, 0, 12), 'c']] 29114.303\n",
            " > Model[[(0, 1, 1), (1, 1, 0, 12), 'c']] 32435.856\n",
            " > Model[[(0, 1, 1), (2, 0, 0, 12), 'c']] 28593.683\n",
            " > Model[[(0, 1, 1), (1, 1, 1, 12), 'c']] 31944.544\n",
            " > Model[[(0, 1, 1), (2, 1, 0, 12), 'c']] 32361.134\n",
            " > Model[[(0, 1, 1), (2, 0, 1, 12), 'c']] 29337.609\n",
            " > Model[[(0, 1, 1), (0, 0, 0, 12), 't']] 28486.351\n",
            " > Model[[(0, 1, 1), (0, 0, 1, 12), 't']] 28472.091\n",
            " > Model[[(0, 1, 1), (0, 1, 0, 12), 't']] 33646.185\n",
            " > Model[[(0, 1, 1), (0, 1, 1, 12), 't']] 33647.928\n",
            " > Model[[(0, 1, 1), (1, 0, 0, 12), 't']] 29125.334\n",
            " > Model[[(0, 1, 1), (1, 0, 1, 12), 't']] 29045.740\n",
            " > Model[[(0, 1, 1), (2, 1, 1, 12), 'c']] 31276.395\n",
            " > Model[[(0, 1, 1), (1, 1, 0, 12), 't']] 32439.643\n",
            " > Model[[(0, 1, 1), (2, 0, 0, 12), 't']] 28604.977\n",
            " > Model[[(0, 1, 1), (1, 1, 1, 12), 't']] 31417.447\n",
            " > Model[[(0, 1, 1), (2, 0, 1, 12), 't']] 28662.089\n",
            " > Model[[(0, 1, 1), (2, 1, 0, 12), 't']] 32217.637\n",
            " > Model[[(0, 1, 1), (0, 0, 0, 12), 'ct']] 28477.278\n",
            " > Model[[(0, 1, 1), (0, 0, 1, 12), 'ct']] 28465.483\n",
            " > Model[[(0, 1, 1), (0, 1, 0, 12), 'ct']] 33597.499\n",
            " > Model[[(0, 1, 1), (0, 1, 1, 12), 'ct']] 33595.127\n",
            " > Model[[(0, 1, 1), (1, 0, 0, 12), 'ct']] 28936.027\n",
            " > Model[[(0, 1, 1), (1, 0, 1, 12), 'ct']] 28852.275\n",
            " > Model[[(0, 1, 1), (2, 1, 1, 12), 't']] 31421.566\n",
            " > Model[[(0, 1, 1), (1, 1, 0, 12), 'ct']] 32409.685\n",
            " > Model[[(0, 1, 1), (2, 0, 0, 12), 'ct']] 28532.869\n",
            " > Model[[(0, 1, 1), (1, 1, 1, 12), 'ct']] 31914.714\n",
            " > Model[[(0, 1, 1), (2, 0, 1, 12), 'ct']] 28571.859\n",
            " > Model[[(0, 1, 1), (2, 1, 0, 12), 'ct']] 32162.731\n",
            " > Model[[(0, 1, 2), (0, 0, 0, 12), 'n']] 28485.349\n",
            " > Model[[(0, 1, 2), (0, 0, 1, 12), 'n']] 28470.748\n",
            " > Model[[(0, 1, 2), (0, 1, 0, 12), 'n']] 33665.808\n",
            " > Model[[(0, 1, 2), (0, 1, 1, 12), 'n']] 33675.131\n",
            " > Model[[(0, 1, 2), (1, 0, 0, 12), 'n']] 29123.506\n",
            " > Model[[(0, 1, 2), (1, 0, 1, 12), 'n']] 29047.390\n",
            " > Model[[(0, 1, 2), (1, 1, 0, 12), 'n']] 32471.254\n",
            " > Model[[(0, 1, 1), (2, 1, 1, 12), 'ct']] 31389.913\n",
            " > Model[[(0, 1, 2), (2, 0, 0, 12), 'n']] 28587.477\n",
            " > Model[[(0, 1, 2), (1, 1, 1, 12), 'n']] 32153.386\n",
            " > Model[[(0, 1, 2), (2, 0, 1, 12), 'n']] 28614.457\n",
            " > Model[[(0, 1, 2), (2, 1, 0, 12), 'n']] 32243.740\n",
            " > Model[[(0, 1, 2), (0, 0, 0, 12), 'c']] 28484.458\n",
            " > Model[[(0, 1, 2), (0, 0, 1, 12), 'c']] 28469.576\n",
            " > Model[[(0, 1, 2), (0, 1, 0, 12), 'c']] 33642.190\n",
            " > Model[[(0, 1, 2), (0, 1, 1, 12), 'c']] 33641.387\n",
            " > Model[[(0, 1, 2), (1, 0, 0, 12), 'c']] 29074.990\n",
            " > Model[[(0, 1, 2), (1, 0, 1, 12), 'c']] 29007.190\n",
            " > Model[[(0, 1, 2), (1, 1, 0, 12), 'c']] 32443.848\n",
            " > Model[[(0, 1, 2), (1, 1, 1, 12), 'c']] 32200.038\n",
            " > Model[[(0, 1, 2), (2, 1, 1, 12), 'n']] 31117.489\n",
            " > Model[[(0, 1, 2), (2, 0, 0, 12), 'c']] 28594.447\n",
            " > Model[[(0, 1, 2), (2, 0, 1, 12), 'c']] 28676.577\n",
            " > Model[[(0, 1, 2), (2, 1, 0, 12), 'c']] 32172.950\n",
            " > Model[[(0, 1, 2), (0, 0, 0, 12), 't']] 28485.196\n",
            " > Model[[(0, 1, 2), (0, 0, 1, 12), 't']] 28471.786\n",
            " > Model[[(0, 1, 2), (0, 1, 0, 12), 't']] 33660.215\n",
            " > Model[[(0, 1, 2), (2, 1, 1, 12), 'c']] 31225.025\n",
            " > Model[[(0, 1, 2), (1, 0, 0, 12), 't']] 29124.610\n",
            " > Model[[(0, 1, 2), (0, 1, 1, 12), 't']] 33667.310\n",
            " > Model[[(0, 1, 2), (1, 0, 1, 12), 't']] 29048.317\n",
            " > Model[[(0, 1, 2), (1, 1, 0, 12), 't']] 32440.276\n",
            " > Model[[(0, 1, 2), (1, 1, 1, 12), 't']] 32114.885\n",
            " > Model[[(0, 1, 2), (2, 0, 0, 12), 't']] 28609.273\n",
            " > Model[[(0, 1, 2), (2, 0, 1, 12), 't']] 28705.786\n",
            " > Model[[(0, 1, 2), (2, 1, 0, 12), 't']] 32220.093\n",
            " > Model[[(0, 1, 2), (0, 0, 0, 12), 'ct']] 28477.329\n",
            " > Model[[(0, 1, 2), (0, 0, 1, 12), 'ct']] 28465.445\n",
            " > Model[[(0, 1, 2), (0, 1, 0, 12), 'ct']] 33619.052\n",
            " > Model[[(0, 1, 2), (2, 1, 1, 12), 't']] 31369.827\n",
            " > Model[[(0, 1, 2), (0, 1, 1, 12), 'ct']] 33597.748\n",
            " > Model[[(0, 1, 2), (1, 0, 0, 12), 'ct']] 28858.054\n",
            " > Model[[(0, 1, 2), (1, 0, 1, 12), 'ct']] 28869.893\n",
            " > Model[[(0, 1, 2), (1, 1, 0, 12), 'ct']] 32410.941\n",
            " > Model[[(0, 1, 2), (2, 0, 0, 12), 'ct']] 28549.173\n",
            " > Model[[(0, 1, 2), (1, 1, 1, 12), 'ct']] 31942.977\n",
            " > Model[[(0, 1, 2), (2, 0, 1, 12), 'ct']] 28552.475\n",
            " > Model[[(0, 1, 2), (2, 1, 0, 12), 'ct']] 32156.605\n",
            " > Model[[(1, 0, 0), (0, 0, 0, 12), 'n']] 28493.645\n",
            " > Model[[(1, 0, 0), (0, 0, 1, 12), 'n']] 29298.279\n",
            " > Model[[(1, 0, 0), (0, 1, 0, 12), 'n']] 41630.740\n",
            " > Model[[(1, 0, 0), (0, 1, 1, 12), 'n']] 41601.037\n",
            " > Model[[(1, 0, 0), (1, 0, 0, 12), 'n']] 31628.196\n",
            " > Model[[(1, 0, 0), (1, 0, 1, 12), 'n']] 30978.755\n",
            " > Model[[(1, 0, 0), (1, 1, 0, 12), 'n']] 39608.698\n",
            " > Model[[(1, 0, 0), (1, 1, 1, 12), 'n']] 44375.925\n",
            " > Model[[(1, 0, 0), (2, 0, 0, 12), 'n']] 29587.306\n",
            " > Model[[(0, 1, 2), (2, 1, 1, 12), 'ct']] 31399.489\n",
            " > Model[[(1, 0, 0), (2, 0, 1, 12), 'n']] 33036.426\n",
            " > Model[[(1, 0, 0), (2, 1, 0, 12), 'n']] 38876.826\n",
            " > Model[[(1, 0, 0), (0, 0, 0, 12), 'c']] 28486.201\n",
            " > Model[[(1, 0, 0), (0, 0, 1, 12), 'c']] 29284.359\n",
            " > Model[[(1, 0, 0), (0, 1, 0, 12), 'c']] 41662.751\n",
            " > Model[[(1, 0, 0), (0, 1, 1, 12), 'c']] 41602.324\n",
            " > Model[[(1, 0, 0), (1, 0, 0, 12), 'c']] 30495.009\n",
            " > Model[[(1, 0, 0), (1, 0, 1, 12), 'c']] 30216.699\n",
            " > Model[[(1, 0, 0), (2, 1, 1, 12), 'n']] 39248.126\n",
            " > Model[[(1, 0, 0), (1, 1, 0, 12), 'c']] 39616.192\n",
            " > Model[[(1, 0, 0), (1, 1, 1, 12), 'c']] 44594.341\n",
            " > Model[[(1, 0, 0), (2, 0, 1, 12), 'c']] 33572.775\n",
            " > Model[[(1, 0, 0), (2, 0, 0, 12), 'c']] 29243.571\n",
            " > Model[[(1, 0, 0), (2, 1, 0, 12), 'c']] 38751.901\n",
            " > Model[[(1, 0, 0), (0, 0, 0, 12), 't']] 28481.443\n",
            " > Model[[(1, 0, 0), (0, 0, 1, 12), 't']] 29196.314\n",
            " > Model[[(1, 0, 0), (2, 1, 1, 12), 'c']] 39579.055\n",
            " > Model[[(1, 0, 0), (0, 1, 0, 12), 't']] 41624.757\n",
            " > Model[[(1, 0, 0), (0, 1, 1, 12), 't']] 41631.180\n",
            " > Model[[(1, 0, 0), (1, 0, 0, 12), 't']] 31305.666\n",
            " > Model[[(1, 0, 0), (1, 0, 1, 12), 't']] 30713.652\n",
            " > Model[[(1, 0, 0), (1, 1, 0, 12), 't']] 39675.870\n",
            " > Model[[(1, 0, 0), (1, 1, 1, 12), 't']] 44843.032\n",
            " > Model[[(1, 0, 0), (2, 0, 0, 12), 't']] 29674.923\n",
            " > Model[[(1, 0, 0), (2, 0, 1, 12), 't']] 29256.275\n",
            " > Model[[(1, 0, 0), (2, 1, 0, 12), 't']] 38809.264\n",
            " > Model[[(1, 0, 0), (0, 0, 0, 12), 'ct']] 28479.688\n",
            " > Model[[(1, 0, 0), (0, 0, 1, 12), 'ct']] 29219.732\n",
            " > Model[[(1, 0, 0), (0, 1, 0, 12), 'ct']] 41583.629\n",
            " > Model[[(1, 0, 0), (0, 1, 1, 12), 'ct']] 41664.470\n",
            " > Model[[(1, 0, 0), (1, 0, 0, 12), 'ct']] 31184.201\n",
            " > Model[[(1, 0, 0), (2, 1, 1, 12), 't']] 39820.667\n",
            " > Model[[(1, 0, 0), (1, 0, 1, 12), 'ct']] 30604.011\n",
            " > Model[[(1, 0, 0), (1, 1, 0, 12), 'ct']] 39695.264\n",
            " > Model[[(1, 0, 0), (1, 1, 1, 12), 'ct']] 44869.711\n",
            " > Model[[(1, 0, 0), (2, 0, 0, 12), 'ct']] 29870.058\n",
            " > Model[[(1, 0, 0), (2, 0, 1, 12), 'ct']] 31814.951\n",
            " > Model[[(1, 0, 0), (2, 1, 0, 12), 'ct']] 38820.059\n",
            " > Model[[(1, 0, 1), (0, 0, 0, 12), 'n']] 28485.694\n",
            " > Model[[(1, 0, 1), (0, 0, 1, 12), 'n']] 29273.135\n",
            " > Model[[(1, 0, 1), (0, 1, 0, 12), 'n']] 41597.404\n",
            " > Model[[(1, 0, 1), (0, 1, 1, 12), 'n']] 41597.892\n",
            " > Model[[(1, 0, 1), (1, 0, 0, 12), 'n']] 31610.853\n",
            " > Model[[(1, 0, 0), (2, 1, 1, 12), 'ct']] 39497.278\n",
            " > Model[[(1, 0, 1), (1, 0, 1, 12), 'n']] 30819.563\n",
            " > Model[[(1, 0, 1), (1, 1, 0, 12), 'n']] 39617.573\n",
            " > Model[[(1, 0, 1), (1, 1, 1, 12), 'n']] 44919.294\n",
            " > Model[[(1, 0, 1), (2, 0, 0, 12), 'n']] 29533.784\n",
            " > Model[[(1, 0, 1), (2, 0, 1, 12), 'n']] 44813.132\n",
            " > Model[[(1, 0, 1), (2, 1, 0, 12), 'n']] 39411.164\n",
            " > Model[[(1, 0, 1), (0, 0, 0, 12), 'c']] 28479.964\n",
            " > Model[[(1, 0, 1), (0, 0, 1, 12), 'c']] 29283.722\n",
            " > Model[[(1, 0, 1), (0, 1, 0, 12), 'c']] 41626.555\n",
            " > Model[[(1, 0, 1), (0, 1, 1, 12), 'c']] 41608.486\n",
            " > Model[[(1, 0, 1), (1, 0, 0, 12), 'c']] 30309.174\n",
            " > Model[[(1, 0, 1), (1, 0, 1, 12), 'c']] 30069.748\n",
            " > Model[[(1, 0, 1), (1, 1, 0, 12), 'c']] 39625.783\n",
            " > Model[[(1, 0, 1), (1, 1, 1, 12), 'c']] 45089.025\n",
            " > Model[[(1, 0, 1), (2, 1, 1, 12), 'n']] 38526.327\n",
            " > Model[[(1, 0, 1), (2, 0, 0, 12), 'c']] 29158.782\n",
            " > Model[[(1, 0, 1), (2, 0, 1, 12), 'c']] 33920.332\n",
            " > Model[[(1, 0, 1), (2, 1, 0, 12), 'c']] 39432.380\n",
            " > Model[[(1, 0, 1), (0, 0, 0, 12), 't']] 28477.980\n",
            " > Model[[(1, 0, 1), (0, 0, 1, 12), 't']] 28465.660\n",
            " > Model[[(1, 0, 1), (0, 1, 0, 12), 't']] 41590.273\n",
            " > Model[[(1, 0, 1), (0, 1, 1, 12), 't']] 41644.002\n",
            " > Model[[(1, 0, 1), (1, 0, 0, 12), 't']] 30248.409\n",
            " > Model[[(1, 0, 1), (1, 0, 1, 12), 't']] 29904.256\n",
            " > Model[[(1, 0, 1), (2, 1, 1, 12), 'c']] 38891.530\n",
            " > Model[[(1, 0, 1), (1, 1, 0, 12), 't']] 39607.278\n",
            " > Model[[(1, 0, 1), (1, 1, 1, 12), 't']] 45180.218\n",
            " > Model[[(1, 0, 1), (2, 0, 0, 12), 't']] 29743.945\n",
            " > Model[[(1, 0, 1), (2, 0, 1, 12), 't']] 40169.225\n",
            " > Model[[(1, 0, 1), (2, 1, 0, 12), 't']] 38837.976\n",
            " > Model[[(1, 0, 1), (0, 0, 0, 12), 'ct']] 28476.325\n",
            " > Model[[(1, 0, 1), (0, 0, 1, 12), 'ct']] 29175.325\n",
            " > Model[[(1, 0, 1), (2, 1, 1, 12), 't']] 39559.242\n",
            " > Model[[(1, 0, 1), (0, 1, 0, 12), 'ct']] 41552.812\n",
            " > Model[[(1, 0, 1), (0, 1, 1, 12), 'ct']] 41678.481\n",
            " > Model[[(1, 0, 1), (1, 0, 0, 12), 'ct']] 31093.843\n",
            " > Model[[(1, 0, 1), (1, 0, 1, 12), 'ct']] 30516.748\n",
            " > Model[[(1, 0, 1), (1, 1, 0, 12), 'ct']] 39709.896\n",
            " > Model[[(1, 0, 1), (1, 1, 1, 12), 'ct']] 45144.146\n",
            " > Model[[(1, 0, 1), (2, 0, 0, 12), 'ct']] 29595.962\n",
            " > Model[[(1, 0, 1), (2, 0, 1, 12), 'ct']] 32504.632\n",
            " > Model[[(1, 0, 1), (2, 1, 0, 12), 'ct']] 39823.339\n",
            " > Model[[(1, 0, 2), (0, 0, 0, 12), 'n']] 28484.617\n",
            " > Model[[(1, 0, 2), (0, 0, 1, 12), 'n']] 28471.634\n",
            " > Model[[(1, 0, 2), (0, 1, 0, 12), 'n']] 41626.794\n",
            " > Model[[(1, 0, 2), (0, 1, 1, 12), 'n']] 41640.072\n",
            " > Model[[(1, 0, 2), (1, 0, 0, 12), 'n']] 31607.817\n",
            " > Model[[(1, 0, 2), (1, 0, 1, 12), 'n']] 30829.584\n",
            " > Model[[(1, 0, 1), (2, 1, 1, 12), 'ct']] 39517.939\n",
            " > Model[[(1, 0, 2), (1, 1, 0, 12), 'n']] 39636.489\n",
            " > Model[[(1, 0, 2), (1, 1, 1, 12), 'n']] 45223.477\n",
            " > Model[[(1, 0, 2), (2, 0, 0, 12), 'n']] 29532.235\n",
            " > Model[[(1, 0, 2), (2, 0, 1, 12), 'n']] 44841.683\n",
            " > Model[[(1, 0, 2), (2, 1, 0, 12), 'n']] 39438.995\n",
            " > Model[[(1, 0, 2), (0, 0, 0, 12), 'c']] 28479.630\n",
            " > Model[[(1, 0, 2), (0, 0, 1, 12), 'c']] 28515.507\n",
            " > Model[[(1, 0, 2), (0, 1, 0, 12), 'c']] 41654.064\n",
            " > Model[[(1, 0, 2), (2, 1, 1, 12), 'n']] 39706.225\n",
            " > Model[[(1, 0, 2), (0, 1, 1, 12), 'c']] 41639.651\n",
            " > Model[[(1, 0, 2), (1, 0, 0, 12), 'c']] 30016.135\n",
            " > Model[[(1, 0, 2), (1, 1, 0, 12), 'c']] 39647.473\n",
            " > Model[[(1, 0, 2), (1, 0, 1, 12), 'c']] 29980.930\n",
            " > Model[[(1, 0, 2), (1, 1, 1, 12), 'c']] 45332.756\n",
            " > Model[[(1, 0, 2), (2, 0, 0, 12), 'c']] 29140.610\n",
            " > Model[[(1, 0, 2), (2, 0, 1, 12), 'c']] 33547.943\n",
            " > Model[[(1, 0, 2), (2, 1, 0, 12), 'c']] 38747.872\n",
            " > Model[[(1, 0, 2), (0, 0, 0, 12), 't']] 28477.996\n",
            " > Model[[(1, 0, 2), (2, 1, 1, 12), 'c']] 39601.632\n",
            " > Model[[(1, 0, 2), (0, 0, 1, 12), 't']] 29267.809\n",
            " > Model[[(1, 0, 2), (0, 1, 0, 12), 't']] 41621.243\n",
            " > Model[[(1, 0, 2), (1, 0, 0, 12), 't']] 30200.613\n",
            " > Model[[(1, 0, 2), (0, 1, 1, 12), 't']] 41689.334\n",
            " > Model[[(1, 0, 2), (1, 0, 1, 12), 't']] 29883.184\n",
            " > Model[[(1, 0, 2), (1, 1, 0, 12), 't']] 39718.675\n",
            " > Model[[(1, 0, 2), (1, 1, 1, 12), 't']] 45407.597\n",
            " > Model[[(1, 0, 2), (2, 0, 0, 12), 't']] 34698.107\n",
            " > Model[[(1, 0, 2), (2, 0, 1, 12), 't']] 44741.023\n",
            " > Model[[(1, 0, 2), (2, 1, 0, 12), 't']] 39676.815\n",
            " > Model[[(1, 0, 2), (0, 0, 0, 12), 'ct']] 28477.219\n",
            " > Model[[(1, 0, 2), (0, 0, 1, 12), 'ct']] 29324.057\n",
            " > Model[[(1, 0, 2), (0, 1, 0, 12), 'ct']] 41613.462\n",
            " > Model[[(1, 0, 2), (2, 1, 1, 12), 't']] 39594.916\n",
            " > Model[[(1, 0, 2), (0, 1, 1, 12), 'ct']] 41692.566\n",
            " > Model[[(1, 0, 2), (1, 0, 0, 12), 'ct']] 30886.915\n",
            " > Model[[(1, 0, 2), (1, 0, 1, 12), 'ct']] 30359.056\n",
            " > Model[[(1, 0, 2), (1, 1, 0, 12), 'ct']] 39723.952\n",
            " > Model[[(1, 0, 2), (1, 1, 1, 12), 'ct']] 45401.788\n",
            " > Model[[(1, 0, 2), (2, 0, 0, 12), 'ct']] 29416.966\n",
            " > Model[[(1, 0, 2), (2, 0, 1, 12), 'ct']] 32597.139\n",
            " > Model[[(1, 0, 2), (2, 1, 0, 12), 'ct']] 39677.310\n",
            " > Model[[(1, 1, 0), (0, 0, 0, 12), 'n']] 28831.761\n",
            " > Model[[(1, 1, 0), (0, 0, 1, 12), 'n']] 28475.255\n",
            " > Model[[(1, 1, 0), (0, 1, 0, 12), 'n']] 33659.446\n",
            " > Model[[(1, 1, 0), (0, 1, 1, 12), 'n']] 33665.594\n",
            " > Model[[(1, 1, 0), (1, 0, 0, 12), 'n']] 29125.980\n",
            " > Model[[(1, 1, 0), (1, 0, 1, 12), 'n']] 29078.325\n",
            " > Model[[(1, 1, 0), (1, 1, 0, 12), 'n']] 32541.891\n",
            " > Model[[(1, 1, 0), (1, 1, 1, 12), 'n']] 32092.284\n",
            " > Model[[(1, 0, 2), (2, 1, 1, 12), 'ct']] 39596.043\n",
            " > Model[[(1, 1, 0), (2, 0, 0, 12), 'n']] 28595.641\n",
            " > Model[[(1, 1, 0), (2, 0, 1, 12), 'n']] 28836.802\n",
            " > Model[[(1, 1, 0), (2, 1, 0, 12), 'n']] 32656.404\n",
            " > Model[[(1, 1, 0), (0, 0, 0, 12), 'c']] 28804.783\n",
            " > Model[[(1, 1, 0), (0, 0, 1, 12), 'c']] 28473.113\n",
            " > Model[[(1, 1, 0), (0, 1, 0, 12), 'c']] 33628.192\n",
            " > Model[[(1, 1, 0), (0, 1, 1, 12), 'c']] 33631.142\n",
            " > Model[[(1, 1, 0), (1, 0, 0, 12), 'c']] 29143.600\n",
            " > Model[[(1, 1, 0), (1, 0, 1, 12), 'c']] 29067.657\n",
            " > Model[[(1, 1, 0), (1, 1, 0, 12), 'c']] 32432.225\n",
            " > Model[[(1, 1, 0), (1, 1, 1, 12), 'c']] 32047.070\n",
            " > Model[[(1, 1, 0), (2, 1, 1, 12), 'n']] 31293.570\n",
            " > Model[[(1, 1, 0), (2, 0, 0, 12), 'c']] 28639.374\n",
            " > Model[[(1, 1, 0), (2, 0, 1, 12), 'c']] 28714.633\n",
            " > Model[[(1, 1, 0), (2, 1, 0, 12), 'c']] 32349.654\n",
            " > Model[[(1, 1, 0), (0, 0, 0, 12), 't']] 28827.348\n",
            " > Model[[(1, 1, 0), (0, 0, 1, 12), 't']] 28475.351\n",
            " > Model[[(1, 1, 0), (0, 1, 0, 12), 't']] 33651.202\n",
            " > Model[[(1, 1, 0), (0, 1, 1, 12), 't']] 33655.150\n",
            " > Model[[(1, 1, 0), (1, 0, 0, 12), 't']] 29122.653\n",
            " > Model[[(1, 1, 0), (2, 1, 1, 12), 'c']] 31417.517\n",
            " > Model[[(1, 1, 0), (1, 1, 0, 12), 't']] 32499.730\n",
            " > Model[[(1, 1, 0), (1, 0, 1, 12), 't']] 29080.046\n",
            " > Model[[(1, 1, 0), (2, 0, 0, 12), 't']] 28601.163\n",
            " > Model[[(1, 1, 0), (1, 1, 1, 12), 't']] 32064.984\n",
            " > Model[[(1, 1, 0), (2, 0, 1, 12), 't']] 29069.501\n",
            " > Model[[(1, 1, 0), (2, 1, 0, 12), 't']] 32380.238\n",
            " > Model[[(1, 1, 0), (0, 0, 0, 12), 'ct']] 28631.047\n",
            " > Model[[(1, 1, 0), (0, 0, 1, 12), 'ct']] 28465.785\n",
            " > Model[[(1, 1, 0), (0, 1, 0, 12), 'ct']] 33605.053\n",
            " > Model[[(1, 1, 0), (0, 1, 1, 12), 'ct']] 33605.408\n",
            " > Model[[(1, 1, 0), (2, 1, 1, 12), 't']] 31392.196\n",
            " > Model[[(1, 1, 0), (1, 0, 0, 12), 'ct']] 28893.597\n",
            " > Model[[(1, 1, 0), (1, 0, 1, 12), 'ct']] 28903.813\n",
            " > Model[[(1, 1, 0), (1, 1, 0, 12), 'ct']] 32437.509\n",
            " > Model[[(1, 1, 0), (2, 0, 0, 12), 'ct']] 28541.524\n",
            " > Model[[(1, 1, 0), (1, 1, 1, 12), 'ct']] 31281.662\n",
            " > Model[[(1, 1, 0), (2, 0, 1, 12), 'ct']] 28592.162\n",
            " > Model[[(1, 1, 0), (2, 1, 0, 12), 'ct']] 32279.579\n",
            " > Model[[(1, 1, 1), (0, 0, 0, 12), 'n']] 28953.317\n",
            " > Model[[(1, 1, 1), (0, 0, 1, 12), 'n']] 28524.745\n",
            " > Model[[(1, 1, 1), (0, 1, 0, 12), 'n']] 38996.841\n",
            " > Model[[(1, 1, 1), (0, 1, 1, 12), 'n']] 36388.065\n",
            " > Model[[(1, 1, 1), (1, 0, 0, 12), 'n']] 29476.143\n",
            " > Model[[(1, 1, 1), (1, 0, 1, 12), 'n']] 29757.241\n",
            " > Model[[(1, 1, 1), (1, 1, 0, 12), 'n']] 35526.741\n",
            " > Model[[(1, 1, 0), (2, 1, 1, 12), 'ct']] 31544.723\n",
            " > Model[[(1, 1, 1), (2, 0, 0, 12), 'n']] 30362.867\n",
            " > Model[[(1, 1, 1), (1, 1, 1, 12), 'n']] 34429.514\n",
            " > Model[[(1, 1, 1), (2, 0, 1, 12), 'n']] 28811.858\n",
            " > Model[[(1, 1, 1), (2, 1, 0, 12), 'n']] 33672.438\n",
            " > Model[[(1, 1, 1), (0, 0, 0, 12), 'c']] 28867.336\n",
            " > Model[[(1, 1, 1), (0, 0, 1, 12), 'c']] 28522.382\n",
            " > Model[[(1, 1, 1), (0, 1, 0, 12), 'c']] 38206.727\n",
            " > Model[[(1, 1, 1), (0, 1, 1, 12), 'c']] 36236.837\n",
            " > Model[[(1, 1, 1), (1, 0, 0, 12), 'c']] 29581.788\n",
            " > Model[[(1, 1, 1), (1, 0, 1, 12), 'c']] 30417.888\n",
            " > Model[[(1, 1, 1), (2, 1, 1, 12), 'n']] 34861.699\n",
            " > Model[[(1, 1, 1), (1, 1, 0, 12), 'c']] 35122.195\n",
            " > Model[[(1, 1, 1), (1, 1, 1, 12), 'c']] 34632.271\n",
            " > Model[[(1, 1, 1), (2, 0, 0, 12), 'c']] 29462.805\n",
            " > Model[[(1, 1, 1), (2, 0, 1, 12), 'c']] 29375.554\n",
            " > Model[[(1, 1, 1), (2, 1, 0, 12), 'c']] 34919.495\n",
            " > Model[[(1, 1, 1), (0, 0, 0, 12), 't']] 28949.394\n",
            " > Model[[(1, 1, 1), (0, 0, 1, 12), 't']] 28515.936\n",
            " > Model[[(1, 1, 1), (0, 1, 0, 12), 't']] 39068.318\n",
            " > Model[[(1, 1, 1), (0, 1, 1, 12), 't']] 36349.719\n",
            " > Model[[(1, 1, 1), (2, 1, 1, 12), 'c']] 33889.757\n",
            " > Model[[(1, 1, 1), (1, 0, 0, 12), 't']] 29426.192\n",
            " > Model[[(1, 1, 1), (1, 0, 1, 12), 't']] 30436.187\n",
            " > Model[[(1, 1, 1), (1, 1, 0, 12), 't']] 35272.765\n",
            " > Model[[(1, 1, 1), (2, 0, 0, 12), 't']] 29546.086\n",
            " > Model[[(1, 1, 1), (1, 1, 1, 12), 't']] 33623.291\n",
            " > Model[[(1, 1, 1), (2, 0, 1, 12), 't']] 29589.961\n",
            " > Model[[(1, 1, 1), (2, 1, 0, 12), 't']] 32574.245\n",
            " > Model[[(1, 1, 1), (0, 0, 0, 12), 'ct']] 28529.569\n",
            " > Model[[(1, 1, 1), (0, 0, 1, 12), 'ct']] 28542.730\n",
            " > Model[[(1, 1, 1), (0, 1, 0, 12), 'ct']] 36633.999\n",
            " > Model[[(1, 1, 1), (0, 1, 1, 12), 'ct']] 35044.571\n",
            " > Model[[(1, 1, 1), (2, 1, 1, 12), 't']] 32641.610\n",
            " > Model[[(1, 1, 1), (1, 0, 0, 12), 'ct']] 29655.639\n",
            " > Model[[(1, 1, 1), (1, 0, 1, 12), 'ct']] 29962.045\n",
            " > Model[[(1, 1, 1), (1, 1, 0, 12), 'ct']] 34563.735\n",
            " > Model[[(1, 1, 1), (2, 0, 0, 12), 'ct']] 29787.813\n",
            " > Model[[(1, 1, 1), (1, 1, 1, 12), 'ct']] 34196.118\n",
            " > Model[[(1, 1, 1), (2, 0, 1, 12), 'ct']] 29854.773\n",
            " > Model[[(1, 1, 1), (2, 1, 0, 12), 'ct']] 34538.338\n",
            " > Model[[(1, 1, 2), (0, 0, 0, 12), 'n']] 29631.827\n",
            " > Model[[(1, 1, 2), (0, 0, 1, 12), 'n']] 28529.698\n",
            " > Model[[(1, 1, 2), (0, 1, 0, 12), 'n']] 33921.554\n",
            " > Model[[(1, 1, 2), (0, 1, 1, 12), 'n']] 36258.035\n",
            " > Model[[(1, 1, 2), (1, 0, 0, 12), 'n']] 29100.194\n",
            " > Model[[(1, 1, 1), (2, 1, 1, 12), 'ct']] 34286.717\n",
            " > Model[[(1, 1, 2), (1, 0, 1, 12), 'n']] 29271.106\n",
            " > Model[[(1, 1, 2), (1, 1, 0, 12), 'n']] 34928.280\n",
            " > Model[[(1, 1, 2), (1, 1, 1, 12), 'n']] 33393.673\n",
            " > Model[[(1, 1, 2), (2, 0, 0, 12), 'n']] 29017.539\n",
            " > Model[[(1, 1, 2), (2, 0, 1, 12), 'n']] 30534.657\n",
            " > Model[[(1, 1, 2), (2, 1, 0, 12), 'n']] 33963.011\n",
            " > Model[[(1, 1, 2), (0, 0, 0, 12), 'c']] 29438.543\n",
            " > Model[[(1, 1, 2), (0, 0, 1, 12), 'c']] 28525.679\n",
            " > Model[[(1, 1, 2), (0, 1, 0, 12), 'c']] 33742.517\n",
            " > Model[[(1, 1, 2), (2, 1, 1, 12), 'n']] 31139.573\n",
            " > Model[[(1, 1, 2), (1, 0, 0, 12), 'c']] 30034.891\n",
            " > Model[[(1, 1, 2), (0, 1, 1, 12), 'c']] 33785.146\n",
            " > Model[[(1, 1, 2), (1, 0, 1, 12), 'c']] 30149.385\n",
            " > Model[[(1, 1, 2), (1, 1, 0, 12), 'c']] 32945.284\n",
            " > Model[[(1, 1, 2), (1, 1, 1, 12), 'c']] 32627.198\n",
            " > Model[[(1, 1, 2), (2, 0, 0, 12), 'c']] 28622.892\n",
            " > Model[[(1, 1, 2), (2, 0, 1, 12), 'c']] 29480.645\n",
            " > Model[[(1, 1, 2), (2, 1, 0, 12), 'c']] 33012.946\n",
            " > Model[[(1, 1, 2), (0, 0, 0, 12), 't']] 29628.038\n",
            " > Model[[(1, 1, 2), (0, 0, 1, 12), 't']] 28541.626\n",
            " > Model[[(1, 1, 2), (0, 1, 0, 12), 't']] 33887.412\n",
            " > Model[[(1, 1, 2), (2, 1, 1, 12), 'c']] 31285.468\n",
            " > Model[[(1, 1, 2), (1, 0, 0, 12), 't']] 30020.338\n",
            " > Model[[(1, 1, 2), (0, 1, 1, 12), 't']] 36182.905\n",
            " > Model[[(1, 1, 2), (1, 0, 1, 12), 't']] 30051.671\n",
            " > Model[[(1, 1, 2), (1, 1, 0, 12), 't']] 35302.797\n",
            " > Model[[(1, 1, 2), (1, 1, 1, 12), 't']] 34937.475\n",
            " > Model[[(1, 1, 2), (2, 0, 0, 12), 't']] 29943.737\n",
            " > Model[[(1, 1, 2), (2, 0, 1, 12), 't']] 30848.094\n",
            " > Model[[(1, 1, 2), (2, 1, 0, 12), 't']] 32515.638\n",
            " > Model[[(1, 1, 2), (0, 0, 0, 12), 'ct']] 28516.627\n",
            " > Model[[(1, 1, 2), (0, 0, 1, 12), 'ct']] 28576.298\n",
            " > Model[[(1, 1, 2), (2, 1, 1, 12), 't']] 31206.032\n",
            " > Model[[(1, 1, 2), (0, 1, 0, 12), 'ct']] 33714.513\n",
            " > Model[[(1, 1, 2), (1, 0, 0, 12), 'ct']] 29326.882\n",
            " > Model[[(1, 1, 2), (0, 1, 1, 12), 'ct']] 34009.508\n",
            " > Model[[(1, 1, 2), (1, 0, 1, 12), 'ct']] 30235.400\n",
            " > Model[[(1, 1, 2), (1, 1, 0, 12), 'ct']] 33107.731\n",
            " > Model[[(1, 1, 2), (1, 1, 1, 12), 'ct']] 32413.503\n",
            " > Model[[(1, 1, 2), (2, 0, 0, 12), 'ct']] 29620.613\n",
            " > Model[[(1, 1, 2), (2, 0, 1, 12), 'ct']] 28558.207\n",
            " > Model[[(1, 1, 2), (2, 1, 0, 12), 'ct']] 33505.984\n",
            " > Model[[(2, 0, 0), (0, 0, 0, 12), 'n']] 29725.335\n",
            " > Model[[(2, 0, 0), (0, 0, 1, 12), 'n']] 29167.033\n",
            " > Model[[(2, 0, 0), (0, 1, 0, 12), 'n']] 41384.988\n",
            " > Model[[(2, 0, 0), (0, 1, 1, 12), 'n']] 41519.250\n",
            " > Model[[(2, 0, 0), (1, 0, 0, 12), 'n']] 31548.017\n",
            " > Model[[(2, 0, 0), (1, 0, 1, 12), 'n']] 30932.630\n",
            " > Model[[(1, 1, 2), (2, 1, 1, 12), 'ct']] 31439.493\n",
            " > Model[[(2, 0, 0), (1, 1, 0, 12), 'n']] 39433.046\n",
            " > Model[[(2, 0, 0), (1, 1, 1, 12), 'n']] 44828.897\n",
            " > Model[[(2, 0, 0), (2, 0, 0, 12), 'n']] 29575.241\n",
            " > Model[[(2, 0, 0), (2, 1, 0, 12), 'n']] 39331.902\n",
            " > Model[[(2, 0, 0), (2, 0, 1, 12), 'n']] 32978.609\n",
            " > Model[[(2, 0, 0), (0, 0, 0, 12), 'c']] 29526.001\n",
            " > Model[[(2, 0, 0), (0, 0, 1, 12), 'c']] 28469.032\n",
            " > Model[[(2, 0, 0), (0, 1, 0, 12), 'c']] 41485.195\n",
            " > Model[[(2, 0, 0), (0, 1, 1, 12), 'c']] 41638.390\n",
            " > Model[[(2, 0, 0), (1, 0, 0, 12), 'c']] 30605.962\n",
            " > Model[[(2, 0, 0), (1, 0, 1, 12), 'c']] 30389.287\n",
            " > Model[[(2, 0, 0), (2, 1, 1, 12), 'n']] 39488.060\n",
            " > Model[[(2, 0, 0), (1, 1, 1, 12), 'c']] 45078.420\n",
            " > Model[[(2, 0, 0), (1, 1, 0, 12), 'c']] 39640.646\n",
            " > Model[[(2, 0, 0), (2, 0, 0, 12), 'c']] 29242.118\n",
            " > Model[[(2, 0, 0), (2, 0, 1, 12), 'c']] 33401.070\n",
            " > Model[[(2, 0, 0), (2, 1, 0, 12), 'c']] 39243.762\n",
            " > Model[[(2, 0, 0), (0, 0, 0, 12), 't']] 29045.146\n",
            " > Model[[(2, 0, 0), (0, 0, 1, 12), 't']] 28467.150\n",
            " > Model[[(2, 0, 0), (0, 1, 0, 12), 't']] 41426.710\n",
            " > Model[[(2, 0, 0), (0, 1, 1, 12), 't']] 41727.089\n",
            " > Model[[(2, 0, 0), (1, 0, 0, 12), 't']] 31223.184\n",
            " > Model[[(2, 0, 0), (1, 0, 1, 12), 't']] 30064.132\n",
            " > Model[[(2, 0, 0), (2, 1, 1, 12), 'c']] 38232.724\n",
            " > Model[[(2, 0, 0), (1, 1, 0, 12), 't']] 39756.246\n",
            " > Model[[(2, 0, 0), (1, 1, 1, 12), 't']] 45152.261\n",
            " > Model[[(2, 0, 0), (2, 0, 0, 12), 't']] 34565.030\n",
            " > Model[[(2, 0, 0), (2, 0, 1, 12), 't']] 31301.541\n",
            " > Model[[(2, 0, 0), (2, 1, 0, 12), 't']] 39336.153\n",
            " > Model[[(2, 0, 0), (0, 0, 0, 12), 'ct']] 29094.030\n",
            " > Model[[(2, 0, 0), (0, 0, 1, 12), 'ct']] 29086.494\n",
            " > Model[[(2, 0, 0), (0, 1, 0, 12), 'ct']] 41332.725\n",
            " > Model[[(2, 0, 0), (0, 1, 1, 12), 'ct']] 41728.803\n",
            " > Model[[(2, 0, 0), (1, 0, 0, 12), 'ct']] 31101.769\n",
            " > Model[[(2, 0, 0), (1, 0, 1, 12), 'ct']] 30629.280\n",
            " > Model[[(2, 0, 0), (2, 1, 1, 12), 't']] 39243.839\n",
            " > Model[[(2, 0, 0), (1, 1, 0, 12), 'ct']] 39822.072\n",
            " > Model[[(2, 0, 0), (1, 1, 1, 12), 'ct']] 45015.656\n",
            " > Model[[(2, 0, 0), (2, 0, 0, 12), 'ct']] 29587.878\n",
            " > Model[[(2, 0, 0), (2, 0, 1, 12), 'ct']] 32581.978\n",
            " > Model[[(2, 0, 0), (2, 1, 0, 12), 'ct']] 39999.296\n",
            " > Model[[(2, 0, 1), (0, 0, 0, 12), 'n']] 29763.537\n",
            " > Model[[(2, 0, 0), (2, 1, 1, 12), 'ct']] 39223.856\n",
            " > Model[[(2, 0, 1), (0, 0, 1, 12), 'n']] 29165.401\n",
            " > Model[[(2, 0, 1), (0, 1, 0, 12), 'n']] 47519.099\n",
            " > Model[[(2, 0, 1), (1, 0, 0, 12), 'n']] 31579.052\n",
            " > Model[[(2, 0, 1), (0, 1, 1, 12), 'n']] 42213.151\n",
            " > Model[[(2, 0, 1), (1, 0, 1, 12), 'n']] 30877.415\n",
            " > Model[[(2, 0, 1), (1, 1, 1, 12), 'n']] 45586.157\n",
            " > Model[[(2, 0, 1), (1, 1, 0, 12), 'n']] 43678.942\n",
            " > Model[[(2, 0, 1), (2, 0, 0, 12), 'n']] 29627.381\n",
            " > Model[[(2, 0, 1), (2, 0, 1, 12), 'n']] 33774.628\n",
            " > Model[[(2, 0, 1), (2, 1, 0, 12), 'n']] 39391.042\n",
            " > Model[[(2, 0, 1), (0, 0, 0, 12), 'c']] 29358.231\n",
            " > Model[[(2, 0, 1), (0, 0, 1, 12), 'c']] 29155.720\n",
            " > Model[[(2, 0, 1), (0, 1, 0, 12), 'c']] 41658.934\n",
            " > Model[[(2, 0, 1), (2, 1, 1, 12), 'n']] 39245.709\n",
            " > Model[[(2, 0, 1), (0, 1, 1, 12), 'c']] 39756.569\n",
            " > Model[[(2, 0, 1), (1, 0, 0, 12), 'c']] 30981.883\n",
            " > Model[[(2, 0, 1), (1, 0, 1, 12), 'c']] 30112.524\n",
            " > Model[[(2, 0, 1), (1, 1, 0, 12), 'c']] 42270.776\n",
            " > Model[[(2, 0, 1), (1, 1, 1, 12), 'c']] 46350.159\n",
            " > Model[[(2, 0, 1), (2, 0, 0, 12), 'c']] 32843.970\n",
            " > Model[[(2, 0, 1), (2, 0, 1, 12), 'c']] 32490.659\n",
            " > Model[[(2, 0, 1), (2, 1, 0, 12), 'c']] 39331.140\n",
            " > Model[[(2, 0, 1), (0, 0, 0, 12), 't']] 28499.162\n",
            " > Model[[(2, 0, 1), (0, 0, 1, 12), 't']] 28570.325\n",
            " > Model[[(2, 0, 1), (2, 1, 1, 12), 'c']] 45470.383\n",
            " > Model[[(2, 0, 1), (0, 1, 0, 12), 't']] 40571.732\n",
            " > Model[[(2, 0, 1), (1, 0, 0, 12), 't']] 37639.156\n",
            " > Model[[(2, 0, 1), (0, 1, 1, 12), 't']] 41372.439\n",
            " > Model[[(2, 0, 1), (1, 0, 1, 12), 't']] 34625.296\n",
            " > Model[[(2, 0, 1), (1, 1, 0, 12), 't']] 40179.413\n",
            " > Model[[(2, 0, 1), (1, 1, 1, 12), 't']] 43246.020\n",
            " > Model[[(2, 0, 1), (2, 0, 0, 12), 't']] 33194.865\n",
            " > Model[[(2, 0, 1), (2, 0, 1, 12), 't']] 31606.219\n",
            " > Model[[(2, 0, 1), (2, 1, 0, 12), 't']] 39333.213\n",
            " > Model[[(2, 0, 1), (0, 0, 0, 12), 'ct']] 28849.960\n",
            " > Model[[(2, 0, 1), (2, 1, 1, 12), 't']] 39633.111\n",
            " > Model[[(2, 0, 1), (0, 0, 1, 12), 'ct']] 29103.019\n",
            " > Model[[(2, 0, 1), (0, 1, 0, 12), 'ct']] 42965.158\n",
            " > Model[[(2, 0, 1), (1, 0, 0, 12), 'ct']] 32161.224\n",
            " > Model[[(2, 0, 1), (0, 1, 1, 12), 'ct']] 41037.312\n",
            " > Model[[(2, 0, 1), (1, 0, 1, 12), 'ct']] 31970.743\n",
            " > Model[[(2, 0, 1), (1, 1, 0, 12), 'ct']] 39485.331\n",
            " > Model[[(2, 0, 1), (1, 1, 1, 12), 'ct']] 45054.216\n",
            " > Model[[(2, 0, 1), (2, 0, 0, 12), 'ct']] 29586.594\n",
            " > Model[[(2, 0, 1), (2, 0, 1, 12), 'ct']] 32378.701\n",
            " > Model[[(2, 0, 1), (2, 1, 0, 12), 'ct']] 43712.415\n",
            " > Model[[(2, 0, 2), (0, 0, 0, 12), 'n']] 30547.841\n",
            " > Model[[(2, 0, 2), (0, 0, 1, 12), 'n']] 29195.605\n",
            " > Model[[(2, 0, 2), (0, 1, 0, 12), 'n']] 45578.422\n",
            " > Model[[(2, 0, 1), (2, 1, 1, 12), 'ct']] 41763.870\n",
            " > Model[[(2, 0, 2), (1, 0, 0, 12), 'n']] 32214.321\n",
            " > Model[[(2, 0, 2), (0, 1, 1, 12), 'n']] 40962.896\n",
            " > Model[[(2, 0, 2), (1, 0, 1, 12), 'n']] 30859.163\n",
            " > Model[[(2, 0, 2), (1, 1, 0, 12), 'n']] 38251.735\n",
            " > Model[[(2, 0, 2), (1, 1, 1, 12), 'n']] 43199.167\n",
            " > Model[[(2, 0, 2), (2, 0, 0, 12), 'n']] 30853.487\n",
            " > Model[[(2, 0, 2), (2, 1, 0, 12), 'n']] 39245.035\n",
            " > Model[[(2, 0, 2), (2, 0, 1, 12), 'n']] 33624.613\n",
            " > Model[[(2, 0, 2), (0, 0, 0, 12), 'c']] 29297.254\n",
            " > Model[[(2, 0, 2), (0, 0, 1, 12), 'c']] 29236.240\n",
            " > Model[[(2, 0, 2), (0, 1, 0, 12), 'c']] 39694.840\n",
            " > Model[[(2, 0, 2), (0, 1, 1, 12), 'c']] 39567.334\n",
            " > Model[[(2, 0, 2), (1, 0, 0, 12), 'c']] 33527.926\n",
            " > Model[[(2, 0, 2), (2, 1, 1, 12), 'n']] 39380.467\n",
            " > Model[[(2, 0, 2), (1, 0, 1, 12), 'c']] 30004.627\n",
            " > Model[[(2, 0, 2), (1, 1, 0, 12), 'c']] 38238.353\n",
            " > Model[[(2, 0, 2), (1, 1, 1, 12), 'c']] 42641.342\n",
            " > Model[[(2, 0, 2), (2, 0, 0, 12), 'c']] 29043.688\n",
            " > Model[[(2, 0, 2), (2, 0, 1, 12), 'c']] 33197.982\n",
            " > Model[[(2, 0, 2), (2, 1, 1, 12), 'c']] 39912.651\n",
            " > Model[[(2, 0, 2), (0, 0, 0, 12), 't']] 28735.157\n",
            " > Model[[(2, 0, 2), (2, 1, 0, 12), 'c']] 40475.846\n",
            " > Model[[(2, 0, 2), (0, 0, 1, 12), 't']] 28674.044\n",
            " > Model[[(2, 0, 2), (0, 1, 0, 12), 't']] 44738.948\n",
            " > Model[[(2, 0, 2), (1, 0, 0, 12), 't']] 45815.200\n",
            " > Model[[(2, 0, 2), (0, 1, 1, 12), 't']] 39835.430\n",
            " > Model[[(2, 0, 2), (1, 0, 1, 12), 't']] 34389.996\n",
            " > Model[[(2, 0, 2), (1, 1, 0, 12), 't']] 37872.600\n",
            " > Model[[(2, 0, 2), (1, 1, 1, 12), 't']] 46434.182\n",
            " > Model[[(2, 0, 2), (2, 0, 0, 12), 't']] 49771.889\n",
            " > Model[[(2, 0, 2), (2, 0, 1, 12), 't']] 51897.881\n",
            " > Model[[(2, 0, 2), (2, 1, 0, 12), 't']] 38536.517\n",
            " > Model[[(2, 0, 2), (0, 0, 0, 12), 'ct']] 28881.375\n",
            " > Model[[(2, 0, 2), (0, 0, 1, 12), 'ct']] 29175.932\n",
            " > Model[[(2, 0, 2), (0, 1, 0, 12), 'ct']] 41624.071\n",
            " > Model[[(2, 0, 2), (2, 1, 1, 12), 't']] 38412.449\n",
            " > Model[[(2, 0, 2), (1, 0, 0, 12), 'ct']] 44758.625\n",
            " > Model[[(2, 0, 2), (1, 0, 1, 12), 'ct']] 33334.866\n",
            " > Model[[(2, 0, 2), (0, 1, 1, 12), 'ct']] 40632.387\n",
            " > Model[[(2, 0, 2), (1, 1, 0, 12), 'ct']] 39024.281\n",
            " > Model[[(2, 0, 2), (1, 1, 1, 12), 'ct']] 42929.432\n",
            " > Model[[(2, 0, 2), (2, 0, 0, 12), 'ct']] 33672.831\n",
            " > Model[[(2, 0, 2), (2, 0, 1, 12), 'ct']] 39658.236\n",
            " > Model[[(2, 0, 2), (2, 1, 0, 12), 'ct']] 39690.589\n",
            " > Model[[(2, 1, 0), (0, 0, 0, 12), 'n']] 28810.731\n",
            " > Model[[(2, 1, 0), (0, 0, 1, 12), 'n']] 28474.743\n",
            " > Model[[(2, 1, 0), (0, 1, 0, 12), 'n']] 33701.504\n",
            " > Model[[(2, 1, 0), (0, 1, 1, 12), 'n']] 33713.810\n",
            " > Model[[(2, 1, 0), (1, 0, 0, 12), 'n']] 29138.538\n",
            " > Model[[(2, 1, 0), (1, 0, 1, 12), 'n']] 29079.027\n",
            " > Model[[(2, 1, 0), (1, 1, 0, 12), 'n']] 32607.140\n",
            " > Model[[(2, 0, 2), (2, 1, 1, 12), 'ct']] 39528.786\n",
            " > Model[[(2, 1, 0), (2, 0, 0, 12), 'n']] 28600.266\n",
            " > Model[[(2, 1, 0), (1, 1, 1, 12), 'n']] 32301.148\n",
            " > Model[[(2, 1, 0), (2, 0, 1, 12), 'n']] 28987.510\n",
            " > Model[[(2, 1, 0), (2, 1, 0, 12), 'n']] 33088.819\n",
            " > Model[[(2, 1, 0), (0, 0, 0, 12), 'c']] 28789.757\n",
            " > Model[[(2, 1, 0), (0, 0, 1, 12), 'c']] 28473.209\n",
            " > Model[[(2, 1, 0), (0, 1, 0, 12), 'c']] 33656.844\n",
            " > Model[[(2, 1, 0), (0, 1, 1, 12), 'c']] 33659.112\n",
            " > Model[[(2, 1, 0), (1, 0, 0, 12), 'c']] 29153.563\n",
            " > Model[[(2, 1, 0), (1, 0, 1, 12), 'c']] 29070.833\n",
            " > Model[[(2, 1, 0), (1, 1, 0, 12), 'c']] 32513.555\n",
            " > Model[[(2, 1, 0), (2, 1, 1, 12), 'n']] 31756.161\n",
            " > Model[[(2, 1, 0), (1, 1, 1, 12), 'c']] 32169.354\n",
            " > Model[[(2, 1, 0), (2, 0, 0, 12), 'c']] 28602.850\n",
            " > Model[[(2, 1, 0), (2, 0, 1, 12), 'c']] 28993.998\n",
            " > Model[[(2, 1, 0), (2, 1, 0, 12), 'c']] 32658.560\n",
            " > Model[[(2, 1, 0), (0, 0, 0, 12), 't']] 28806.937\n",
            " > Model[[(2, 1, 0), (0, 0, 1, 12), 't']] 28474.876\n",
            " > Model[[(2, 1, 0), (0, 1, 0, 12), 't']] 33687.869\n",
            " > Model[[(2, 1, 0), (0, 1, 1, 12), 't']] 33694.573\n",
            " > Model[[(2, 1, 0), (1, 0, 0, 12), 't']] 29131.792\n",
            " > Model[[(2, 1, 0), (2, 1, 1, 12), 'c']] 31690.387\n",
            " > Model[[(2, 1, 0), (1, 0, 1, 12), 't']] 29077.319\n",
            " > Model[[(2, 1, 0), (1, 1, 0, 12), 't']] 32527.072\n",
            " > Model[[(2, 1, 0), (1, 1, 1, 12), 't']] 32179.309\n",
            " > Model[[(2, 1, 0), (2, 0, 0, 12), 't']] 28601.982\n",
            " > Model[[(2, 1, 0), (2, 0, 1, 12), 't']] 29538.423\n",
            " > Model[[(2, 1, 0), (2, 1, 0, 12), 't']] 32730.415\n",
            " > Model[[(2, 1, 0), (0, 0, 0, 12), 'ct']] 28640.672\n",
            " > Model[[(2, 1, 0), (0, 0, 1, 12), 'ct']] 28466.051\n",
            " > Model[[(2, 1, 0), (0, 1, 0, 12), 'ct']] 33627.966\n",
            " > Model[[(2, 1, 0), (0, 1, 1, 12), 'ct']] 33622.600\n",
            " > Model[[(2, 1, 0), (1, 0, 0, 12), 'ct']] 28879.146\n",
            " > Model[[(2, 1, 0), (1, 0, 1, 12), 'ct']] 28885.720\n",
            " > Model[[(2, 1, 0), (2, 1, 1, 12), 't']] 31676.278\n",
            " > Model[[(2, 1, 0), (1, 1, 0, 12), 'ct']] 32425.969\n",
            " > Model[[(2, 1, 0), (1, 1, 1, 12), 'ct']] 32047.495\n",
            " > Model[[(2, 1, 0), (2, 0, 0, 12), 'ct']] 28532.934\n",
            " > Model[[(2, 1, 0), (2, 0, 1, 12), 'ct']] 29764.244\n",
            " > Model[[(2, 1, 0), (2, 1, 0, 12), 'ct']] 32574.931\n",
            " > Model[[(2, 1, 1), (0, 0, 0, 12), 'n']] 28583.502\n",
            " > Model[[(2, 1, 1), (0, 0, 1, 12), 'n']] 28516.128\n",
            " > Model[[(2, 1, 1), (0, 1, 0, 12), 'n']] 33698.634\n",
            " > Model[[(2, 1, 1), (0, 1, 1, 12), 'n']] 36422.613\n",
            " > Model[[(2, 1, 1), (1, 0, 0, 12), 'n']] 29114.351\n",
            " > Model[[(2, 1, 0), (2, 1, 1, 12), 'ct']] 31645.399\n",
            " > Model[[(2, 1, 1), (1, 0, 1, 12), 'n']] 29143.216\n",
            " > Model[[(2, 1, 1), (1, 1, 0, 12), 'n']] 35591.469\n",
            " > Model[[(2, 1, 1), (1, 1, 1, 12), 'n']] 33329.632\n",
            " > Model[[(2, 1, 1), (2, 0, 0, 12), 'n']] 30926.128\n",
            " > Model[[(2, 1, 1), (2, 0, 1, 12), 'n']] 30876.424\n",
            " > Model[[(2, 1, 1), (2, 1, 0, 12), 'n']] 33382.162\n",
            " > Model[[(2, 1, 1), (0, 0, 0, 12), 'c']] 28551.046\n",
            " > Model[[(2, 1, 1), (0, 0, 1, 12), 'c']] 28521.789\n",
            " > Model[[(2, 1, 1), (0, 1, 0, 12), 'c']] 36791.256\n",
            " > Model[[(2, 1, 1), (2, 1, 1, 12), 'n']] 33512.007\n",
            " > Model[[(2, 1, 1), (0, 1, 1, 12), 'c']] 36237.171\n",
            " > Model[[(2, 1, 1), (1, 0, 0, 12), 'c']] 29732.677\n",
            " > Model[[(2, 1, 1), (1, 0, 1, 12), 'c']] 29633.926\n",
            " > Model[[(2, 1, 1), (1, 1, 0, 12), 'c']] 35240.386\n",
            " > Model[[(2, 1, 1), (1, 1, 1, 12), 'c']] 32748.401\n",
            " > Model[[(2, 1, 1), (2, 0, 0, 12), 'c']] 29035.714\n",
            " > Model[[(2, 1, 1), (2, 0, 1, 12), 'c']] 29001.655\n",
            " > Model[[(2, 1, 1), (2, 1, 0, 12), 'c']] 36523.929\n",
            " > Model[[(2, 1, 1), (0, 0, 0, 12), 't']] 28580.049\n",
            " > Model[[(2, 1, 1), (0, 0, 1, 12), 't']] 28515.449\n",
            " > Model[[(2, 1, 1), (0, 1, 0, 12), 't']] 38972.599\n",
            " > Model[[(2, 1, 1), (2, 1, 1, 12), 'c']] 35532.590\n",
            " > Model[[(2, 1, 1), (0, 1, 1, 12), 't']] 36386.169\n",
            " > Model[[(2, 1, 1), (1, 0, 0, 12), 't']] 29997.081\n",
            " > Model[[(2, 1, 1), (1, 0, 1, 12), 't']] 30191.484\n",
            " > Model[[(2, 1, 1), (1, 1, 0, 12), 't']] 35422.234\n",
            " > Model[[(2, 1, 1), (1, 1, 1, 12), 't']] 33503.618\n",
            " > Model[[(2, 1, 1), (2, 0, 0, 12), 't']] 29582.462\n",
            " > Model[[(2, 1, 1), (2, 0, 1, 12), 't']] 30375.193\n",
            " > Model[[(2, 1, 1), (2, 1, 0, 12), 't']] 32996.349\n",
            " > Model[[(2, 1, 1), (0, 0, 0, 12), 'ct']] 28509.514\n",
            " > Model[[(2, 1, 1), (0, 0, 1, 12), 'ct']] 30895.223\n",
            " > Model[[(2, 1, 1), (0, 1, 0, 12), 'ct']] 35815.587\n",
            " > Model[[(2, 1, 1), (2, 1, 1, 12), 't']] 33256.852\n",
            " > Model[[(2, 1, 1), (0, 1, 1, 12), 'ct']] 35078.419\n",
            " > Model[[(2, 1, 1), (1, 0, 0, 12), 'ct']] 34335.500\n",
            " > Model[[(2, 1, 1), (1, 0, 1, 12), 'ct']] 34329.095\n",
            " > Model[[(2, 1, 1), (1, 1, 0, 12), 'ct']] 34452.353\n",
            " > Model[[(2, 1, 1), (1, 1, 1, 12), 'ct']] 34600.080\n",
            " > Model[[(2, 1, 1), (2, 0, 0, 12), 'ct']] 30297.951\n",
            " > Model[[(2, 1, 1), (2, 0, 1, 12), 'ct']] 28852.489\n",
            " > Model[[(2, 1, 1), (2, 1, 0, 12), 'ct']] 34664.380\n",
            " > Model[[(2, 1, 2), (0, 0, 0, 12), 'n']] 28676.079\n",
            " > Model[[(2, 1, 2), (0, 0, 1, 12), 'n']] 28644.484\n",
            " > Model[[(2, 1, 2), (0, 1, 0, 12), 'n']] 35745.773\n",
            " > Model[[(2, 1, 1), (2, 1, 1, 12), 'ct']] 34060.262\n",
            " > Model[[(2, 1, 2), (1, 0, 0, 12), 'n']] 30638.153\n",
            " > Model[[(2, 1, 2), (0, 1, 1, 12), 'n']] 36038.338\n",
            " > Model[[(2, 1, 2), (1, 0, 1, 12), 'n']] 33440.562\n",
            " > Model[[(2, 1, 2), (1, 1, 0, 12), 'n']] 35193.259\n",
            " > Model[[(2, 1, 2), (1, 1, 1, 12), 'n']] 40140.387\n",
            " > Model[[(2, 1, 2), (2, 0, 0, 12), 'n']] 32391.803\n",
            " > Model[[(2, 1, 2), (2, 0, 1, 12), 'n']] 30589.981\n",
            " > Model[[(2, 1, 2), (2, 1, 1, 12), 'n']] 33011.103\n",
            " > Model[[(2, 1, 2), (0, 0, 0, 12), 'c']] 28654.029\n",
            " > Model[[(2, 1, 2), (2, 1, 0, 12), 'n']] 39076.456\n",
            " > Model[[(2, 1, 2), (0, 1, 0, 12), 'c']] 33742.846\n",
            " > Model[[(2, 1, 2), (0, 0, 1, 12), 'c']] 28548.809\n",
            " > Model[[(2, 1, 2), (0, 1, 1, 12), 'c']] 34471.748\n",
            " > Model[[(2, 1, 2), (1, 0, 0, 12), 'c']] 32375.175\n",
            " > Model[[(2, 1, 2), (1, 0, 1, 12), 'c']] 30756.144\n",
            " > Model[[(2, 1, 2), (1, 1, 0, 12), 'c']] 33917.093\n",
            " > Model[[(2, 1, 2), (1, 1, 1, 12), 'c']] 33095.256\n",
            " > Model[[(2, 1, 2), (2, 0, 0, 12), 'c']] 39954.141\n",
            " > Model[[(2, 1, 2), (2, 0, 1, 12), 'c']] 29983.144\n",
            " > Model[[(2, 1, 2), (2, 1, 0, 12), 'c']] 32474.746\n",
            " > Model[[(2, 1, 2), (0, 0, 0, 12), 't']] 28674.561\n",
            " > Model[[(2, 1, 2), (0, 0, 1, 12), 't']] 28534.136\n",
            " > Model[[(2, 1, 2), (0, 1, 0, 12), 't']] 33908.722\n",
            " > Model[[(2, 1, 2), (2, 1, 1, 12), 'c']] 31266.917\n",
            " > Model[[(2, 1, 2), (0, 1, 1, 12), 't']] 36020.487\n",
            " > Model[[(2, 1, 2), (1, 0, 0, 12), 't']] 30059.572\n",
            " > Model[[(2, 1, 2), (1, 0, 1, 12), 't']] 30547.481\n",
            " > Model[[(2, 1, 2), (1, 1, 0, 12), 't']] 35140.736\n",
            " > Model[[(2, 1, 2), (1, 1, 1, 12), 't']] 32823.088\n",
            " > Model[[(2, 1, 2), (2, 0, 0, 12), 't']] 30029.615\n",
            " > Model[[(2, 1, 2), (2, 0, 1, 12), 't']] 30253.240\n",
            " > Model[[(2, 1, 2), (2, 1, 0, 12), 't']] 32831.044\n",
            " > Model[[(2, 1, 2), (0, 0, 0, 12), 'ct']] 28508.672\n",
            " > Model[[(2, 1, 2), (0, 0, 1, 12), 'ct']] 28578.490\n",
            " > Model[[(2, 1, 2), (2, 1, 1, 12), 't']] 32336.235\n",
            " > Model[[(2, 1, 2), (0, 1, 0, 12), 'ct']] 33812.097\n",
            " > Model[[(2, 1, 2), (1, 0, 0, 12), 'ct']] 32694.294\n",
            " > Model[[(2, 1, 2), (0, 1, 1, 12), 'ct']] 34503.794\n",
            " > Model[[(2, 1, 2), (1, 0, 1, 12), 'ct']] 32513.036\n",
            " > Model[[(2, 1, 2), (1, 1, 0, 12), 'ct']] 33945.799\n",
            " > Model[[(2, 1, 2), (1, 1, 1, 12), 'ct']] 32338.127\n",
            " > Model[[(2, 1, 2), (2, 0, 0, 12), 'ct']] 39429.611\n",
            " > Model[[(2, 1, 2), (2, 0, 1, 12), 'ct']] 28566.321\n",
            " > Model[[(2, 1, 2), (2, 1, 0, 12), 'ct']] 32438.564\n",
            " > Model[[(2, 1, 2), (2, 1, 1, 12), 'ct']] 31239.978\n"
          ],
          "name": "stdout"
        }
      ]
    },
    {
      "cell_type": "code",
      "metadata": {
        "id": "MVlYRml704BF",
        "colab_type": "code",
        "colab": {
          "base_uri": "https://localhost:8080/",
          "height": 72
        },
        "outputId": "04b950f1-d19c-4ba1-a68e-b607e0878ef0"
      },
      "source": [
        "scores[:3]"
      ],
      "execution_count": null,
      "outputs": [
        {
          "output_type": "execute_result",
          "data": {
            "text/plain": [
              "[(\"[(0, 1, 0), (0, 0, 1, 12), 't']\", 28456.286049511644),\n",
              " (\"[(0, 1, 0), (0, 0, 1, 12), 'n']\", 28456.388730023824),\n",
              " (\"[(0, 1, 0), (2, 0, 1, 12), 'ct']\", 28464.749265223363)]"
            ]
          },
          "metadata": {
            "tags": []
          },
          "execution_count": 49
        }
      ]
    },
    {
      "cell_type": "code",
      "metadata": {
        "id": "5oIIpjO9kLLq",
        "colab_type": "code",
        "colab": {
          "base_uri": "https://localhost:8080/",
          "height": 72
        },
        "outputId": "9dc7b930-3ea6-44f0-cc3b-d2dc9341b653"
      },
      "source": [
        "test_scores = test_grid_search_results(df, scores, ntop_scores=3)"
      ],
      "execution_count": null,
      "outputs": [
        {
          "output_type": "stream",
          "text": [
            "(\"[(0, 1, 0), (0, 0, 1, 12), 't']\", 45562.9225975752)\n",
            "(\"[(0, 1, 0), (0, 0, 1, 12), 'n']\", 44627.62488075674)\n",
            "(\"[(0, 1, 0), (2, 0, 1, 12), 'ct']\", 50608.49106381138)\n"
          ],
          "name": "stdout"
        }
      ]
    },
    {
      "cell_type": "code",
      "metadata": {
        "id": "xPlaymyj7dJY",
        "colab_type": "code",
        "colab": {
          "base_uri": "https://localhost:8080/",
          "height": 72
        },
        "outputId": "c12dd60b-3a09-4db4-fddd-77596900e476"
      },
      "source": [
        "test_scores"
      ],
      "execution_count": null,
      "outputs": [
        {
          "output_type": "execute_result",
          "data": {
            "text/plain": [
              "[(\"[(0, 1, 0), (0, 0, 1, 12), 'n']\", 44627.62488075674),\n",
              " (\"[(0, 1, 0), (0, 0, 1, 12), 't']\", 45562.9225975752),\n",
              " (\"[(0, 1, 0), (2, 0, 1, 12), 'ct']\", 50608.49106381138)]"
            ]
          },
          "metadata": {
            "tags": []
          },
          "execution_count": 51
        }
      ]
    },
    {
      "cell_type": "code",
      "metadata": {
        "id": "66-cWYnWBPzc",
        "colab_type": "code",
        "colab": {
          "base_uri": "https://localhost:8080/",
          "height": 604
        },
        "outputId": "7c54d26b-ddd6-4706-b050-cc21801abfe3"
      },
      "source": [
        "plot_model(df, eval(test_scores[0][0]))"
      ],
      "execution_count": null,
      "outputs": [
        {
          "output_type": "stream",
          "text": [
            "Error: 24668.237015643794\n"
          ],
          "name": "stdout"
        },
        {
          "output_type": "stream",
          "text": [
            "/usr/local/lib/python3.6/dist-packages/statsmodels/tsa/base/tsa_model.py:165: ValueWarning: No frequency information was provided, so inferred frequency MS will be used.\n",
            "  % freq, ValueWarning)\n"
          ],
          "name": "stderr"
        },
        {
          "output_type": "display_data",
          "data": {
            "image/png": "[encoded data removed]",
            "text/plain": [
              "<Figure size 1584x720 with 1 Axes>"
            ]
          },
          "metadata": {
            "tags": []
          }
        }
      ]
    },
    {
      "cell_type": "markdown",
      "metadata": {
        "id": "1mm1mQP6I3tk",
        "colab_type": "text"
      },
      "source": [
        "___"
      ]
    },
    {
      "cell_type": "markdown",
      "metadata": {
        "id": "xKxy7ujzvCxy",
        "colab_type": "text"
      },
      "source": [
        "## Previsão"
      ]
    },
    {
      "cell_type": "code",
      "metadata": {
        "id": "Lsp8I1dtn40j",
        "colab_type": "code",
        "colab": {
          "base_uri": "https://localhost:8080/",
          "height": 73
        },
        "outputId": "a9d6cff1-cc20-47f8-d3f4-f6e98ddca283"
      },
      "source": [
        "cfg= eval(test_scores[0][0])\n",
        "order = cfg[0]\n",
        "s_order = cfg[1]\n",
        "trend = cfg[2]\n",
        "sarimax_pred = SARIMAX(\n",
        "    endog=df, order=order, seasonal_order=s_order, trend=trend,\n",
        "    enforce_stationarity=False, enforce_invertibility=False)\n",
        "\n",
        "model_sarimax_pred = sarimax_pred.fit(disp=False)\n",
        "\n",
        "fcast_sarimax = model_sarimax_pred.get_forecast(5)\n"
      ],
      "execution_count": null,
      "outputs": [
        {
          "output_type": "stream",
          "text": [
            "/usr/local/lib/python3.6/dist-packages/statsmodels/tsa/base/tsa_model.py:165: ValueWarning: No frequency information was provided, so inferred frequency MS will be used.\n",
            "  % freq, ValueWarning)\n"
          ],
          "name": "stderr"
        }
      ]
    },
    {
      "cell_type": "code",
      "metadata": {
        "id": "rqZ3UU1gqBkG",
        "colab_type": "code",
        "colab": {}
      },
      "source": [
        "df_fcast = pd.concat([model_sarimax_pred.predict(), fcast_sarimax.predicted_mean], axis=0)"
      ],
      "execution_count": null,
      "outputs": []
    },
    {
      "cell_type": "code",
      "metadata": {
        "id": "favbcK0yqbKV",
        "colab_type": "code",
        "colab": {
          "base_uri": "https://localhost:8080/",
          "height": 206
        },
        "outputId": "f294dc48-6342-44ed-b083-20632dc896f8"
      },
      "source": [
        "df_fcast.name = 'fcast'\n",
        "df_fcast = pd.concat([df_fcast, fcast_sarimax.conf_int()], axis=1)\n",
        "df_fcast.tail()"
      ],
      "execution_count": null,
      "outputs": [
        {
          "output_type": "execute_result",
          "data": {
            "text/html": [
              "<div>\n",
              "<style scoped>\n",
              "    .dataframe tbody tr th:only-of-type {\n",
              "        vertical-align: middle;\n",
              "    }\n",
              "\n",
              "    .dataframe tbody tr th {\n",
              "        vertical-align: top;\n",
              "    }\n",
              "\n",
              "    .dataframe thead th {\n",
              "        text-align: right;\n",
              "    }\n",
              "</style>\n",
              "<table border=\"1\" class=\"dataframe\">\n",
              "  <thead>\n",
              "    <tr style=\"text-align: right;\">\n",
              "      <th></th>\n",
              "      <th>fcast</th>\n",
              "      <th>lower estoques</th>\n",
              "      <th>upper estoques</th>\n",
              "    </tr>\n",
              "  </thead>\n",
              "  <tbody>\n",
              "    <tr>\n",
              "      <th>2020-08-01</th>\n",
              "      <td>282033.687533</td>\n",
              "      <td>278108.127303</td>\n",
              "      <td>285959.247764</td>\n",
              "    </tr>\n",
              "    <tr>\n",
              "      <th>2020-09-01</th>\n",
              "      <td>282424.705386</td>\n",
              "      <td>276873.124868</td>\n",
              "      <td>287976.285904</td>\n",
              "    </tr>\n",
              "    <tr>\n",
              "      <th>2020-10-01</th>\n",
              "      <td>283090.831475</td>\n",
              "      <td>276291.561707</td>\n",
              "      <td>289890.101242</td>\n",
              "    </tr>\n",
              "    <tr>\n",
              "      <th>2020-11-01</th>\n",
              "      <td>284625.704404</td>\n",
              "      <td>276774.583943</td>\n",
              "      <td>292476.824865</td>\n",
              "    </tr>\n",
              "    <tr>\n",
              "      <th>2020-12-01</th>\n",
              "      <td>285488.548488</td>\n",
              "      <td>276710.728962</td>\n",
              "      <td>294266.368013</td>\n",
              "    </tr>\n",
              "  </tbody>\n",
              "</table>\n",
              "</div>"
            ],
            "text/plain": [
              "                    fcast  lower estoques  upper estoques\n",
              "2020-08-01  282033.687533   278108.127303   285959.247764\n",
              "2020-09-01  282424.705386   276873.124868   287976.285904\n",
              "2020-10-01  283090.831475   276291.561707   289890.101242\n",
              "2020-11-01  284625.704404   276774.583943   292476.824865\n",
              "2020-12-01  285488.548488   276710.728962   294266.368013"
            ]
          },
          "metadata": {
            "tags": []
          },
          "execution_count": 55
        }
      ]
    },
    {
      "cell_type": "code",
      "metadata": {
        "id": "zKn4JeG7rFGz",
        "colab_type": "code",
        "colab": {}
      },
      "source": [
        "previsoes_sarimax = pd.concat(\n",
        "    [df['estoques'], df_fcast],\n",
        "    axis=1)"
      ],
      "execution_count": null,
      "outputs": []
    },
    {
      "cell_type": "code",
      "metadata": {
        "id": "bGEGC6u2rb_v",
        "colab_type": "code",
        "colab": {
          "base_uri": "https://localhost:8080/",
          "height": 410
        },
        "outputId": "7d567d1f-fad7-4f8d-dc2f-f1c2a7a96b69"
      },
      "source": [
        "fig, ax = plt.subplots(figsize=(16, 6))\n",
        "previsoes_sarimax.estoques.loc['2012-03-01':].plot(ax=ax, style='o', label='real')\n",
        "\n",
        "previsoes_sarimax.fcast.loc['2012-03-01':].plot(ax=ax, style='g--x', label='previsão')\n",
        "\n",
        "ax.fill_between(\n",
        "    previsoes_sarimax.index, \n",
        "    previsoes_sarimax.iloc[:,2], \n",
        "    previsoes_sarimax.iloc[:,3], color='g', alpha=0.1)\n",
        "\n",
        "plt.title('Estimativa do estoque de empregos formais para COMÉRCIO - PERNAMBUCO')\n",
        "legend = ax.legend(loc='lower left')"
      ],
      "execution_count": null,
      "outputs": [
        {
          "output_type": "display_data",
          "data": {
            "image/png": "[encoded data removed]",
            "text/plain": [
              "<Figure size 1152x432 with 1 Axes>"
            ]
          },
          "metadata": {
            "tags": []
          }
        }
      ]
    },
    {
      "cell_type": "markdown",
      "metadata": {
        "id": "TwOU21Mn6kD7",
        "colab_type": "text"
      },
      "source": [
        "Até o fim do ano o saldo será:"
      ]
    },
    {
      "cell_type": "code",
      "metadata": {
        "id": "lqPZq_8a6ks9",
        "colab_type": "code",
        "colab": {
          "base_uri": "https://localhost:8080/",
          "height": 35
        },
        "outputId": "059f18d7-0475-4c9e-838e-a1d8637dd0bc"
      },
      "source": [
        "fcast_sarimax.predicted_mean[-1] - df.estoques[-1]"
      ],
      "execution_count": null,
      "outputs": [
        {
          "output_type": "execute_result",
          "data": {
            "text/plain": [
              "3390.5484875936527"
            ]
          },
          "metadata": {
            "tags": []
          },
          "execution_count": 58
        }
      ]
    },
    {
      "cell_type": "code",
      "metadata": {
        "id": "V9UUWpve7hU0",
        "colab_type": "code",
        "colab": {}
      },
      "source": [
        "pred2020df = pd.DataFrame(df_saldo.saldo[-1] + fcast_sarimax.predicted_mean[-1] - df.estoques[-1], \n",
        "                          index=[\"2020\"], columns=['saldo'])\n",
        "pred2020df.index.name = \"Ano\"\n",
        "pred2020df.index = pd.to_datetime(pred2020df.index, format=\"%Y\")\n",
        "\n",
        "# df_saldo.update(pred2020df)\n",
        "# df_saldo.tail()"
      ],
      "execution_count": null,
      "outputs": []
    },
    {
      "cell_type": "code",
      "metadata": {
        "id": "IKDPI80WCnQz",
        "colab_type": "code",
        "colab": {
          "base_uri": "https://localhost:8080/",
          "height": 363
        },
        "outputId": "54745754-a286-4089-d01e-457922d19a51"
      },
      "source": [
        "df_saldo_pred = pd.concat([df_saldo[1:][:-1], pred2020df], axis=0)\n",
        "df_saldo_pred"
      ],
      "execution_count": null,
      "outputs": [
        {
          "output_type": "execute_result",
          "data": {
            "text/html": [
              "<div>\n",
              "<style scoped>\n",
              "    .dataframe tbody tr th:only-of-type {\n",
              "        vertical-align: middle;\n",
              "    }\n",
              "\n",
              "    .dataframe tbody tr th {\n",
              "        vertical-align: top;\n",
              "    }\n",
              "\n",
              "    .dataframe thead th {\n",
              "        text-align: right;\n",
              "    }\n",
              "</style>\n",
              "<table border=\"1\" class=\"dataframe\">\n",
              "  <thead>\n",
              "    <tr style=\"text-align: right;\">\n",
              "      <th></th>\n",
              "      <th>saldo</th>\n",
              "    </tr>\n",
              "  </thead>\n",
              "  <tbody>\n",
              "    <tr>\n",
              "      <th>2011-01-01</th>\n",
              "      <td>13565.000000</td>\n",
              "    </tr>\n",
              "    <tr>\n",
              "      <th>2012-01-01</th>\n",
              "      <td>18231.000000</td>\n",
              "    </tr>\n",
              "    <tr>\n",
              "      <th>2013-01-01</th>\n",
              "      <td>5141.000000</td>\n",
              "    </tr>\n",
              "    <tr>\n",
              "      <th>2014-01-01</th>\n",
              "      <td>4741.000000</td>\n",
              "    </tr>\n",
              "    <tr>\n",
              "      <th>2015-01-01</th>\n",
              "      <td>-9349.000000</td>\n",
              "    </tr>\n",
              "    <tr>\n",
              "      <th>2016-01-01</th>\n",
              "      <td>-11072.000000</td>\n",
              "    </tr>\n",
              "    <tr>\n",
              "      <th>2017-01-01</th>\n",
              "      <td>227.000000</td>\n",
              "    </tr>\n",
              "    <tr>\n",
              "      <th>2018-01-01</th>\n",
              "      <td>3208.000000</td>\n",
              "    </tr>\n",
              "    <tr>\n",
              "      <th>2019-01-01</th>\n",
              "      <td>2654.000000</td>\n",
              "    </tr>\n",
              "    <tr>\n",
              "      <th>2020-01-01</th>\n",
              "      <td>-12901.451512</td>\n",
              "    </tr>\n",
              "  </tbody>\n",
              "</table>\n",
              "</div>"
            ],
            "text/plain": [
              "                   saldo\n",
              "2011-01-01  13565.000000\n",
              "2012-01-01  18231.000000\n",
              "2013-01-01   5141.000000\n",
              "2014-01-01   4741.000000\n",
              "2015-01-01  -9349.000000\n",
              "2016-01-01 -11072.000000\n",
              "2017-01-01    227.000000\n",
              "2018-01-01   3208.000000\n",
              "2019-01-01   2654.000000\n",
              "2020-01-01 -12901.451512"
            ]
          },
          "metadata": {
            "tags": []
          },
          "execution_count": 60
        }
      ]
    },
    {
      "cell_type": "code",
      "metadata": {
        "id": "5oQ4XJrJ_5Xj",
        "colab_type": "code",
        "colab": {
          "base_uri": "https://localhost:8080/",
          "height": 410
        },
        "outputId": "615c6903-e03f-4ae5-ad11-aafa6d7c3c9c"
      },
      "source": [
        "plt.figure(figsize=(12, 6))\n",
        "plt.bar(df_saldo_pred.index.year, df_saldo_pred.saldo)\n",
        "plt.title('Saldo de vagas - COMÉRCIO')\n",
        "plt.show();"
      ],
      "execution_count": null,
      "outputs": [
        {
          "output_type": "display_data",
          "data": {
            "image/png": "[encoded data removed]",
            "text/plain": [
              "<Figure size 864x432 with 1 Axes>"
            ]
          },
          "metadata": {
            "tags": []
          }
        }
      ]
    }
  ]
}