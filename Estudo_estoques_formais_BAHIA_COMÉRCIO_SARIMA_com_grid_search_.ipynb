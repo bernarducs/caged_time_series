{
  "nbformat": 4,
  "nbformat_minor": 0,
  "metadata": {
    "colab": {
      "name": "Estudo estoques formais BAHIA - COMÉRCIO - SARIMA com grid search .ipynb",
      "provenance": [],
      "collapsed_sections": [],
      "toc_visible": true,
      "mount_file_id": "1b9wlij1WGOGdUn-ghxEGNkU8Lecq1u6n",
      "authorship_tag": "ABX9TyMoE5gsHi4iSyJGyBpBmvGi",
      "include_colab_link": true
    },
    "kernelspec": {
      "name": "python3",
      "display_name": "Python 3"
    }
  },
  "cells": [
    {
      "cell_type": "markdown",
      "metadata": {
        "id": "view-in-github",
        "colab_type": "text"
      },
      "source": [
        "<a href=\"https://colab.research.google.com/github/bernarducs/caged_time_series/blob/master/Estudo_estoques_formais_BAHIA_COM%C3%89RCIO_SARIMA_com_grid_search_.ipynb\" target=\"_parent\"><img src=\"https://colab.research.google.com/assets/colab-badge.svg\" alt=\"Open In Colab\"/></a>"
      ]
    },
    {
      "cell_type": "markdown",
      "metadata": {
        "id": "2xmOlNMYsw8u",
        "colab_type": "text"
      },
      "source": [
        "## Objetivo\n",
        "### Abaixo, utilizaremos funções que buscarão os melhores parâmetros para modelagem do método ARIMA com fator sazonal - SARIMA."
      ]
    },
    {
      "cell_type": "markdown",
      "metadata": {
        "id": "24n8i1qyCPaP",
        "colab_type": "text"
      },
      "source": [
        "Based on article: https://machinelearningmastery.com/how-to-grid-search-sarima-model-hyperparameters-for-time-series-forecasting-in-python/"
      ]
    },
    {
      "cell_type": "markdown",
      "metadata": {
        "id": "rG4qQ8BPtTXu",
        "colab_type": "text"
      },
      "source": [
        "## Pacotes"
      ]
    },
    {
      "cell_type": "code",
      "metadata": {
        "id": "Pfthvjm47P7O",
        "colab_type": "code",
        "colab": {}
      },
      "source": [
        "from math import sqrt\n",
        "from itertools import product\n",
        "import pandas as pd"
      ],
      "execution_count": 1,
      "outputs": []
    },
    {
      "cell_type": "code",
      "metadata": {
        "id": "FSpWQbok-kCQ",
        "colab_type": "code",
        "colab": {
          "base_uri": "https://localhost:8080/",
          "height": 73
        },
        "outputId": "70be2a0d-8bc8-4186-84c2-bfb143de9244"
      },
      "source": [
        "# viz\n",
        "import matplotlib.pyplot as plt\n",
        "import seaborn as sns\n",
        "sns.set_style(\"darkgrid\")\n",
        "sns.set_context(\"talk\")"
      ],
      "execution_count": 2,
      "outputs": [
        {
          "output_type": "stream",
          "text": [
            "/usr/local/lib/python3.6/dist-packages/statsmodels/tools/_testing.py:19: FutureWarning: pandas.util.testing is deprecated. Use the functions in the public API at pandas.testing instead.\n",
            "  import pandas.util.testing as tm\n"
          ],
          "name": "stderr"
        }
      ]
    },
    {
      "cell_type": "code",
      "metadata": {
        "id": "G9feBiuUFNMo",
        "colab_type": "code",
        "colab": {}
      },
      "source": [
        "# multiprocessing\n",
        "from multiprocessing import cpu_count\n",
        "from joblib import Parallel\n",
        "from joblib import delayed\n",
        "from warnings import catch_warnings\n",
        "from warnings import filterwarnings"
      ],
      "execution_count": 3,
      "outputs": []
    },
    {
      "cell_type": "code",
      "metadata": {
        "id": "NsgI-Fff54pZ",
        "colab_type": "code",
        "colab": {}
      },
      "source": [
        "# stats\n",
        "from statsmodels.tsa.statespace.sarimax import SARIMAX\n",
        "from sklearn.metrics import mean_squared_error"
      ],
      "execution_count": 4,
      "outputs": []
    },
    {
      "cell_type": "markdown",
      "metadata": {
        "id": "_z6oSAbntYl6",
        "colab_type": "text"
      },
      "source": [
        "## Datasets"
      ]
    },
    {
      "cell_type": "code",
      "metadata": {
        "id": "RIhuGLGa6wWS",
        "colab_type": "code",
        "colab": {}
      },
      "source": [
        "# df = pd.read_csv(\"https://raw.githubusercontent.com/EraylsonGaldino/dataset_time_series/master/traffic.txt\", names=['col'])\n",
        "# df.index = pd.date_range(start='1/1/2016', freq=\"D\", periods=len(df))"
      ],
      "execution_count": 5,
      "outputs": []
    },
    {
      "cell_type": "markdown",
      "metadata": {
        "id": "otBiszKBDdt1",
        "colab_type": "text"
      },
      "source": [
        "#### Estoques"
      ]
    },
    {
      "cell_type": "code",
      "metadata": {
        "id": "txvZzuuraHQd",
        "colab_type": "code",
        "colab": {
          "base_uri": "https://localhost:8080/",
          "height": 237
        },
        "outputId": "60dc9c55-a9e9-46a6-ea94-ca05db0ace6f"
      },
      "source": [
        "file_path = \"/content/drive/My Drive/Colab Notebooks/emprego/bases/estoque_ba_comercio.xlsx\"\n",
        "df = pd.read_excel(file_path, index_col='ano_mes')\n",
        "df.columns = ['estoques']\n",
        "df.index = pd.to_datetime(df.index, format=\"%Y%m\")\n",
        "df.tail()"
      ],
      "execution_count": 7,
      "outputs": [
        {
          "output_type": "execute_result",
          "data": {
            "text/html": [
              "<div>\n",
              "<style scoped>\n",
              "    .dataframe tbody tr th:only-of-type {\n",
              "        vertical-align: middle;\n",
              "    }\n",
              "\n",
              "    .dataframe tbody tr th {\n",
              "        vertical-align: top;\n",
              "    }\n",
              "\n",
              "    .dataframe thead th {\n",
              "        text-align: right;\n",
              "    }\n",
              "</style>\n",
              "<table border=\"1\" class=\"dataframe\">\n",
              "  <thead>\n",
              "    <tr style=\"text-align: right;\">\n",
              "      <th></th>\n",
              "      <th>estoques</th>\n",
              "    </tr>\n",
              "    <tr>\n",
              "      <th>ano_mes</th>\n",
              "      <th></th>\n",
              "    </tr>\n",
              "  </thead>\n",
              "  <tbody>\n",
              "    <tr>\n",
              "      <th>2020-03-01</th>\n",
              "      <td>434652</td>\n",
              "    </tr>\n",
              "    <tr>\n",
              "      <th>2020-04-01</th>\n",
              "      <td>423895</td>\n",
              "    </tr>\n",
              "    <tr>\n",
              "      <th>2020-05-01</th>\n",
              "      <td>419324</td>\n",
              "    </tr>\n",
              "    <tr>\n",
              "      <th>2020-06-01</th>\n",
              "      <td>418063</td>\n",
              "    </tr>\n",
              "    <tr>\n",
              "      <th>2020-07-01</th>\n",
              "      <td>417880</td>\n",
              "    </tr>\n",
              "  </tbody>\n",
              "</table>\n",
              "</div>"
            ],
            "text/plain": [
              "            estoques\n",
              "ano_mes             \n",
              "2020-03-01    434652\n",
              "2020-04-01    423895\n",
              "2020-05-01    419324\n",
              "2020-06-01    418063\n",
              "2020-07-01    417880"
            ]
          },
          "metadata": {
            "tags": []
          },
          "execution_count": 7
        }
      ]
    },
    {
      "cell_type": "markdown",
      "metadata": {
        "id": "L08HxaiEDhD3",
        "colab_type": "text"
      },
      "source": [
        "#### Saldo"
      ]
    },
    {
      "cell_type": "code",
      "metadata": {
        "id": "CnnGhP3hDhYb",
        "colab_type": "code",
        "colab": {
          "base_uri": "https://localhost:8080/",
          "height": 237
        },
        "outputId": "dc50c454-1623-4f32-b116-e4f1a035bc69"
      },
      "source": [
        "file_path2 = \"/content/drive/My Drive/Colab Notebooks/emprego/bases/saldo_caged_comercio_ba.xlsx\"\n",
        "df_saldo = pd.read_excel(file_path2)\n",
        "df_saldo.columns = ['ano', 'saldo']\n",
        "df_saldo.set_index('ano', inplace=True)\n",
        "df_saldo.index = pd.to_datetime(df_saldo.index, format=\"%Y\")\n",
        "df_saldo.tail()"
      ],
      "execution_count": 8,
      "outputs": [
        {
          "output_type": "execute_result",
          "data": {
            "text/html": [
              "<div>\n",
              "<style scoped>\n",
              "    .dataframe tbody tr th:only-of-type {\n",
              "        vertical-align: middle;\n",
              "    }\n",
              "\n",
              "    .dataframe tbody tr th {\n",
              "        vertical-align: top;\n",
              "    }\n",
              "\n",
              "    .dataframe thead th {\n",
              "        text-align: right;\n",
              "    }\n",
              "</style>\n",
              "<table border=\"1\" class=\"dataframe\">\n",
              "  <thead>\n",
              "    <tr style=\"text-align: right;\">\n",
              "      <th></th>\n",
              "      <th>saldo</th>\n",
              "    </tr>\n",
              "    <tr>\n",
              "      <th>ano</th>\n",
              "      <th></th>\n",
              "    </tr>\n",
              "  </thead>\n",
              "  <tbody>\n",
              "    <tr>\n",
              "      <th>2016-01-01</th>\n",
              "      <td>-14214</td>\n",
              "    </tr>\n",
              "    <tr>\n",
              "      <th>2017-01-01</th>\n",
              "      <td>-346</td>\n",
              "    </tr>\n",
              "    <tr>\n",
              "      <th>2018-01-01</th>\n",
              "      <td>2395</td>\n",
              "    </tr>\n",
              "    <tr>\n",
              "      <th>2019-01-01</th>\n",
              "      <td>5297</td>\n",
              "    </tr>\n",
              "    <tr>\n",
              "      <th>2020-01-01</th>\n",
              "      <td>-20062</td>\n",
              "    </tr>\n",
              "  </tbody>\n",
              "</table>\n",
              "</div>"
            ],
            "text/plain": [
              "            saldo\n",
              "ano              \n",
              "2016-01-01 -14214\n",
              "2017-01-01   -346\n",
              "2018-01-01   2395\n",
              "2019-01-01   5297\n",
              "2020-01-01 -20062"
            ]
          },
          "metadata": {
            "tags": []
          },
          "execution_count": 8
        }
      ]
    },
    {
      "cell_type": "markdown",
      "metadata": {
        "id": "9oLA0W8ftenV",
        "colab_type": "text"
      },
      "source": [
        "## Rotinas\n",
        "\n",
        "Aqui temos funções para o sarima em 1 passo (faz a predição para t+1). A próxima função é raiz quadrada dos erros médios e por fim a função responsável por separação do dataset entre teste e treino."
      ]
    },
    {
      "cell_type": "code",
      "metadata": {
        "id": "nG_TDMvf6JhI",
        "colab_type": "code",
        "colab": {}
      },
      "source": [
        "# one-step sarima forecast\n",
        "def sarima_forecast(history, config):\n",
        "\torder, sorder, trend = config\n",
        "\t# define model\n",
        "\tmodel = SARIMAX(history, order=order, seasonal_order=sorder, trend=trend, \n",
        "                 enforce_stationarity=False, enforce_invertibility=False)\n",
        "\t# fit model\n",
        "\tmodel_fit = model.fit(disp=False)\n",
        "\t# make one step forecast\n",
        "\tyhat = model_fit.predict()\n",
        "\treturn yhat\n",
        " \n",
        "# root mean squared error or rmse\n",
        "def measure_rmse(actual, predicted):\n",
        "\treturn sqrt(mean_squared_error(actual, predicted))\n",
        " \n",
        "# split a univariate dataset into train/test sets\n",
        "def train_test_split(data, percent_test=0.25):\n",
        "  n_test = int(len(data) * percent_test)\n",
        "  return data[:-n_test], data[-n_test:]"
      ],
      "execution_count": 9,
      "outputs": []
    },
    {
      "cell_type": "markdown",
      "metadata": {
        "id": "WPe8kgqauCk-",
        "colab_type": "text"
      },
      "source": [
        "Aqui usamos a funções acima retornando o quadrado dos desvios."
      ]
    },
    {
      "cell_type": "code",
      "metadata": {
        "id": "w4gmgXxd9rL7",
        "colab_type": "code",
        "colab": {}
      },
      "source": [
        "# walk-forward validation for univariate data\n",
        "def walk_forward_validation(data, percent_test, cfg):\n",
        "\n",
        "  # split dataset\n",
        "  train, test = train_test_split(data, percent_test)\n",
        "\n",
        "  # fit model and make forecast for history\n",
        "  yhat = sarima_forecast(train, cfg)\n",
        "\n",
        "  # estimate prediction error\n",
        "  error = measure_rmse(train, yhat)\n",
        "  return error  "
      ],
      "execution_count": 10,
      "outputs": []
    },
    {
      "cell_type": "markdown",
      "metadata": {
        "id": "As6bSAOUuLIG",
        "colab_type": "text"
      },
      "source": [
        "Avalia qual a melhor configuração de parâmetros `cfg` tem a melhor avaliação, ou seja, o menor erro."
      ]
    },
    {
      "cell_type": "code",
      "metadata": {
        "id": "tkYM4hBsMjsD",
        "colab_type": "code",
        "colab": {}
      },
      "source": [
        "def score_model(data, n_test, cfg, debug=False):\n",
        "  result = None\n",
        "  # convert config to a key\n",
        "  key = str(cfg)\n",
        "  # show all warnings and fail on exception if debugging\n",
        "  if debug:\n",
        "    result = walk_forward_validation(data, n_test, cfg)\n",
        "  else:\n",
        "    # one failure during model validation suggests an unstable config\n",
        "    try:\n",
        "      # never show warnings when grid searching, too noisy\n",
        "      with catch_warnings():\n",
        "        filterwarnings(\"ignore\")\n",
        "        result = walk_forward_validation(data, n_test, cfg)\n",
        "    except:\n",
        "      error = None\n",
        "  # check for an interesting result\n",
        "  if result is not None:\n",
        "    print(' > Model[%s] %.3f' % (key, result))\n",
        "  return (key, result)"
      ],
      "execution_count": 11,
      "outputs": []
    },
    {
      "cell_type": "code",
      "metadata": {
        "id": "ZT8jnDItMuXh",
        "colab_type": "code",
        "colab": {}
      },
      "source": [
        "# grid search configs\n",
        "def grid_search(data, cfg_list, n_test, parallel=True):\n",
        "  scores = None\n",
        "  if parallel:\n",
        "    # execute configs in parallel\n",
        "    executor = Parallel(n_jobs=cpu_count(), backend='multiprocessing')\n",
        "    tasks = (delayed(score_model)(data, n_test, cfg) for cfg in cfg_list)\n",
        "    scores = executor(tasks)\n",
        "  else:\n",
        "    scores = [score_model(data, n_test, cfg) for cfg in cfg_list]\n",
        "  # remove empty results\n",
        "  scores = [r for r in scores if r[1] != None]\n",
        "  # sort configs by error, asc\n",
        "  scores.sort(key=lambda tup: tup[1])\n",
        "  return scores"
      ],
      "execution_count": 12,
      "outputs": []
    },
    {
      "cell_type": "code",
      "metadata": {
        "id": "vRFAwENkt4np",
        "colab_type": "code",
        "colab": {}
      },
      "source": [
        "# evaluating grid search results for test data\n",
        "def test_grid_search_results(data, scores, ntop_scores=5):\n",
        "\n",
        "  if ntop_scores > len(scores):\n",
        "    ntop_scores = 5\n",
        "\n",
        "  scores_test = list()\n",
        "  _, test = train_test_split(data, percent_test=0.4)  \n",
        "\n",
        "  for cfg_str, _ in scores[:ntop_scores]:\n",
        "    cfg = eval(cfg_str)\n",
        "    with catch_warnings():\n",
        "      filterwarnings(\"ignore\")\n",
        "      yhat = sarima_forecast(test, cfg)\n",
        "    error = measure_rmse(test, yhat)\n",
        "    result = (cfg_str, error)\n",
        "    print(result)\n",
        "    scores_test.append(result)\n",
        "  \n",
        "  scores_test.sort(key=lambda tup: tup[1])\n",
        "  return scores_test"
      ],
      "execution_count": 13,
      "outputs": []
    },
    {
      "cell_type": "code",
      "metadata": {
        "id": "QyxmozW79v8i",
        "colab_type": "code",
        "colab": {}
      },
      "source": [
        "def plot_model(data, cfg):\n",
        "  order = cfg[0]\n",
        "  s_order = cfg[1]\n",
        "  trend = cfg[2]\n",
        "  sarimax_pred = SARIMAX(\n",
        "      endog=df, order=order, seasonal_order=s_order, trend=trend,\n",
        "      enforce_stationarity=False, enforce_invertibility=False)\n",
        "\n",
        "  model_sarimax_pred = sarimax_pred.fit(disp=False)\n",
        "\n",
        "  previsao_sarimax = model_sarimax_pred.predict()\n",
        "\n",
        "  error = measure_rmse(df, previsao_sarimax)\n",
        "  print('Error:', error)\n",
        "\n",
        "  plt.figure(figsize=(22, 10))\n",
        "  plt.plot(previsao_sarimax[10:], label = 'forecast')\n",
        "  plt.plot(df[10:], label = 'target')\n",
        "  plt.title('Target x Forecast')\n",
        "  plt.legend()\n",
        "  plt.show()"
      ],
      "execution_count": 14,
      "outputs": []
    },
    {
      "cell_type": "code",
      "metadata": {
        "id": "WO8ntgVZPxJX",
        "colab_type": "code",
        "colab": {}
      },
      "source": [
        "def sarima_configs(seasonal=[12]):\n",
        "  models = list()\n",
        "  # define config lists\n",
        "  p_params = [0, 1, 2]\n",
        "  d_params = [0, 1]\n",
        "  q_params = [0, 1, 2]\n",
        "  t_params = ['n','c','t','ct']\n",
        "  P_params = [0, 1, 2]\n",
        "  D_params = [0, 1]\n",
        "  Q_params = [0, 1]\n",
        "  m_params = seasonal\n",
        "  # create config instances\n",
        "  for p, d, q, t, P, D, Q, m in product(p_params, d_params, q_params, t_params, P_params, D_params, Q_params, m_params):\n",
        "    cfg = [(p,d,q), (P,D,Q,m), t]\n",
        "    models.append(cfg)\n",
        "  return models"
      ],
      "execution_count": 15,
      "outputs": []
    },
    {
      "cell_type": "markdown",
      "metadata": {
        "id": "80wqYsTau8DJ",
        "colab_type": "text"
      },
      "source": [
        "## Gerando modelo"
      ]
    },
    {
      "cell_type": "code",
      "metadata": {
        "id": "FPy0vStORq8h",
        "colab_type": "code",
        "colab": {
          "base_uri": "https://localhost:8080/",
          "height": 1000
        },
        "outputId": "401c72b7-f315-4a0e-804f-1905b619c751"
      },
      "source": [
        "cfg_list = sarima_configs(seasonal=[12])\n",
        "scores = grid_search(df, cfg_list, 0.25)"
      ],
      "execution_count": 16,
      "outputs": [
        {
          "output_type": "stream",
          "text": [
            " > Model[[(0, 0, 0), (0, 0, 0, 12), 'n']] 435265.903\n",
            " > Model[[(0, 0, 0), (0, 1, 0, 12), 'n']] 146665.663\n",
            " > Model[[(0, 0, 0), (0, 0, 1, 12), 'n']] 276187.766\n",
            " > Model[[(0, 0, 0), (1, 0, 0, 12), 'n']] 146545.049\n",
            " > Model[[(0, 0, 0), (1, 0, 1, 12), 'n']] 146068.524\n",
            " > Model[[(0, 0, 0), (0, 1, 1, 12), 'n']] 146365.662\n",
            " > Model[[(0, 0, 0), (1, 1, 0, 12), 'n']] 146244.817\n",
            " > Model[[(0, 0, 0), (2, 0, 0, 12), 'n']] 146306.750\n",
            " > Model[[(0, 0, 0), (1, 1, 1, 12), 'n']] 146403.734\n",
            " > Model[[(0, 0, 0), (2, 0, 1, 12), 'n']] 153624.251\n",
            " > Model[[(0, 0, 0), (0, 0, 0, 12), 'c']] 45891.164\n",
            " > Model[[(0, 0, 0), (0, 0, 1, 12), 'c']] 45500.278\n",
            " > Model[[(0, 0, 0), (0, 1, 0, 12), 'c']] 144111.172\n",
            " > Model[[(0, 0, 0), (2, 1, 0, 12), 'n']] 152311.846\n",
            " > Model[[(0, 0, 0), (0, 1, 1, 12), 'c']] 144769.396\n",
            " > Model[[(0, 0, 0), (1, 0, 0, 12), 'c']] 45383.733\n",
            " > Model[[(0, 0, 0), (1, 0, 1, 12), 'c']] 45057.818\n",
            " > Model[[(0, 0, 0), (1, 1, 0, 12), 'c']] 144658.861\n",
            " > Model[[(0, 0, 0), (2, 1, 1, 12), 'n']] 186949.376\n",
            " > Model[[(0, 0, 0), (1, 1, 1, 12), 'c']] 143887.266\n",
            " > Model[[(0, 0, 0), (2, 0, 0, 12), 'c']] 45293.483\n",
            " > Model[[(0, 0, 0), (2, 0, 1, 12), 'c']] 105620.660\n",
            " > Model[[(0, 0, 0), (0, 0, 0, 12), 't']] 208151.254\n",
            " > Model[[(0, 0, 0), (0, 0, 1, 12), 't']] 160353.322\n",
            " > Model[[(0, 0, 0), (0, 1, 0, 12), 't']] 146619.319\n",
            " > Model[[(0, 0, 0), (0, 1, 1, 12), 't']] 146364.787\n",
            " > Model[[(0, 0, 0), (1, 0, 0, 12), 't']] 147424.358\n",
            " > Model[[(0, 0, 0), (1, 0, 1, 12), 't']] 160103.225\n",
            " > Model[[(0, 0, 0), (2, 1, 0, 12), 'c']] 163817.265\n",
            " > Model[[(0, 0, 0), (1, 1, 0, 12), 't']] 146509.693\n",
            " > Model[[(0, 0, 0), (1, 1, 1, 12), 't']] 146509.738\n",
            " > Model[[(0, 0, 0), (2, 0, 0, 12), 't']] 862311.605\n",
            " > Model[[(0, 0, 0), (2, 1, 1, 12), 'c']] 214577.031\n",
            " > Model[[(0, 0, 0), (2, 0, 1, 12), 't']] 174674.055\n",
            " > Model[[(0, 0, 0), (0, 0, 0, 12), 'ct']] 44062.911\n",
            " > Model[[(0, 0, 0), (0, 0, 1, 12), 'ct']] 43922.100\n",
            " > Model[[(0, 0, 0), (0, 1, 0, 12), 'ct']] 136841.584\n",
            " > Model[[(0, 0, 0), (2, 1, 0, 12), 't']] 160814.402\n",
            " > Model[[(0, 0, 0), (0, 1, 1, 12), 'ct']] 138789.629\n",
            " > Model[[(0, 0, 0), (1, 0, 0, 12), 'ct']] 43182.678\n",
            " > Model[[(0, 0, 0), (1, 0, 1, 12), 'ct']] 42866.575\n",
            " > Model[[(0, 0, 0), (1, 1, 0, 12), 'ct']] 142778.540\n",
            " > Model[[(0, 0, 0), (2, 1, 1, 12), 't']] 192437.024\n",
            " > Model[[(0, 0, 0), (2, 0, 0, 12), 'ct']] 45331.984\n",
            " > Model[[(0, 0, 0), (1, 1, 1, 12), 'ct']] 138277.140\n",
            " > Model[[(0, 0, 0), (2, 1, 0, 12), 'ct']] 137879.597\n",
            " > Model[[(0, 0, 0), (2, 0, 1, 12), 'ct']] 152749.186\n",
            " > Model[[(0, 0, 1), (0, 0, 0, 12), 'n']] 235487.311\n",
            " > Model[[(0, 0, 1), (0, 0, 1, 12), 'n']] 19274053.006\n",
            " > Model[[(0, 0, 1), (0, 1, 0, 12), 'n']] 107264.962\n",
            " > Model[[(0, 0, 1), (0, 1, 1, 12), 'n']] 100184.704\n",
            " > Model[[(0, 0, 1), (1, 0, 0, 12), 'n']] 23409427.933\n",
            " > Model[[(0, 0, 1), (1, 0, 1, 12), 'n']] 19160146.105\n",
            " > Model[[(0, 0, 1), (1, 1, 0, 12), 'n']] 101118.732\n",
            " > Model[[(0, 0, 1), (1, 1, 1, 12), 'n']] 108914.319\n",
            " > Model[[(0, 0, 0), (2, 1, 1, 12), 'ct']] 166856.642\n",
            " > Model[[(0, 0, 1), (2, 0, 0, 12), 'n']] 103202.982\n",
            " > Model[[(0, 0, 1), (2, 0, 1, 12), 'n']] 118671.250\n",
            " > Model[[(0, 0, 1), (2, 1, 1, 12), 'n']] 185877.300\n",
            " > Model[[(0, 0, 1), (0, 0, 0, 12), 'c']] 43315.255\n",
            " > Model[[(0, 0, 1), (0, 0, 1, 12), 'c']] 182235832.814\n",
            " > Model[[(0, 0, 1), (0, 1, 0, 12), 'c']] 106502.593\n",
            " > Model[[(0, 0, 1), (2, 1, 0, 12), 'n']] 122848.075\n",
            " > Model[[(0, 0, 1), (1, 0, 0, 12), 'c']] 43206.246\n",
            " > Model[[(0, 0, 1), (0, 1, 1, 12), 'c']] 99387.822\n",
            " > Model[[(0, 0, 1), (1, 0, 1, 12), 'c']] 43111.964\n",
            " > Model[[(0, 0, 1), (1, 1, 0, 12), 'c']] 99657.483\n",
            " > Model[[(0, 0, 1), (2, 0, 0, 12), 'c']] 43537.108\n",
            " > Model[[(0, 0, 1), (1, 1, 1, 12), 'c']] 104961.987\n",
            " > Model[[(0, 0, 1), (2, 0, 1, 12), 'c']] 105207.697\n",
            " > Model[[(0, 0, 1), (2, 1, 0, 12), 'c']] 111141.183\n",
            " > Model[[(0, 0, 1), (0, 0, 0, 12), 't']] 124442.725\n",
            " > Model[[(0, 0, 1), (0, 0, 1, 12), 't']] 7910861.574\n",
            " > Model[[(0, 0, 1), (2, 1, 1, 12), 'c']] 114373.630\n",
            " > Model[[(0, 0, 1), (0, 1, 0, 12), 't']] 107257.896\n",
            " > Model[[(0, 0, 1), (1, 0, 0, 12), 't']] 123561.311\n",
            " > Model[[(0, 0, 1), (0, 1, 1, 12), 't']] 100177.611\n",
            " > Model[[(0, 0, 1), (1, 0, 1, 12), 't']] 7910780.834\n",
            " > Model[[(0, 0, 1), (1, 1, 0, 12), 't']] 101182.266\n",
            " > Model[[(0, 0, 1), (2, 0, 0, 12), 't']] 489497.584\n",
            " > Model[[(0, 0, 1), (1, 1, 1, 12), 't']] 109078.473\n",
            " > Model[[(0, 0, 1), (2, 0, 1, 12), 't']] 5297839.617\n",
            " > Model[[(0, 0, 1), (2, 1, 1, 12), 't']] 182117.718\n",
            " > Model[[(0, 0, 1), (2, 1, 0, 12), 't']] 124040.776\n",
            " > Model[[(0, 0, 1), (0, 0, 0, 12), 'ct']] 42589.541\n",
            " > Model[[(0, 0, 1), (0, 0, 1, 12), 'ct']] 42559.269\n",
            " > Model[[(0, 0, 1), (0, 1, 0, 12), 'ct']] 105552.494\n",
            " > Model[[(0, 0, 1), (1, 0, 0, 12), 'ct']] 42571.307\n",
            " > Model[[(0, 0, 1), (1, 0, 1, 12), 'ct']] 42305.673\n",
            " > Model[[(0, 0, 1), (0, 1, 1, 12), 'ct']] 95785.176\n",
            " > Model[[(0, 0, 1), (1, 1, 0, 12), 'ct']] 96500.212\n",
            " > Model[[(0, 0, 1), (2, 0, 0, 12), 'ct']] 42565.798\n",
            " > Model[[(0, 0, 1), (1, 1, 1, 12), 'ct']] 96705.768\n",
            " > Model[[(0, 0, 1), (2, 0, 1, 12), 'ct']] 146126.925\n",
            " > Model[[(0, 0, 1), (2, 1, 0, 12), 'ct']] 110856.510\n",
            " > Model[[(0, 0, 2), (0, 0, 0, 12), 'n']] 152899.783\n",
            " > Model[[(0, 0, 2), (0, 0, 1, 12), 'n']] 53051933.295\n",
            " > Model[[(0, 0, 2), (0, 1, 0, 12), 'n']] 88212.380\n",
            " > Model[[(0, 0, 2), (0, 1, 1, 12), 'n']] 87302.735\n",
            " > Model[[(0, 0, 2), (1, 0, 0, 12), 'n']] 169317.297\n",
            " > Model[[(0, 0, 2), (1, 0, 1, 12), 'n']] 87656.193\n",
            " > Model[[(0, 0, 1), (2, 1, 1, 12), 'ct']] 98229.444\n",
            " > Model[[(0, 0, 2), (1, 1, 0, 12), 'n']] 88283.225\n",
            " > Model[[(0, 0, 2), (2, 0, 0, 12), 'n']] 30481676.577\n",
            " > Model[[(0, 0, 2), (1, 1, 1, 12), 'n']] 103968.349\n",
            " > Model[[(0, 0, 2), (2, 0, 1, 12), 'n']] 83999.823\n",
            " > Model[[(0, 0, 2), (2, 1, 1, 12), 'n']] 185829.891\n",
            " > Model[[(0, 0, 2), (0, 0, 0, 12), 'c']] 42646.593\n",
            " > Model[[(0, 0, 2), (0, 0, 1, 12), 'c']] 22180476.114\n",
            " > Model[[(0, 0, 2), (0, 1, 0, 12), 'c']] 270260.910\n",
            " > Model[[(0, 0, 2), (2, 1, 0, 12), 'n']] 111934.073\n",
            " > Model[[(0, 0, 2), (1, 0, 0, 12), 'c']] 42733.609\n",
            " > Model[[(0, 0, 2), (0, 1, 1, 12), 'c']] 86878.330\n",
            " > Model[[(0, 0, 2), (1, 0, 1, 12), 'c']] 42583.911\n",
            " > Model[[(0, 0, 2), (1, 1, 0, 12), 'c']] 93667.833\n",
            " > Model[[(0, 0, 2), (2, 0, 0, 12), 'c']] 42810.946\n",
            " > Model[[(0, 0, 2), (1, 1, 1, 12), 'c']] 102418.759\n",
            " > Model[[(0, 0, 2), (2, 0, 1, 12), 'c']] 42736.390\n",
            " > Model[[(0, 0, 2), (2, 1, 0, 12), 'c']] 108672.474\n",
            " > Model[[(0, 0, 2), (0, 0, 0, 12), 't']] 94105.877\n",
            " > Model[[(0, 0, 2), (0, 0, 1, 12), 't']] 19979521.951\n",
            " > Model[[(0, 0, 2), (0, 1, 0, 12), 't']] 88208.987\n",
            " > Model[[(0, 0, 2), (0, 1, 1, 12), 't']] 92834.848\n",
            " > Model[[(0, 0, 2), (2, 1, 1, 12), 'c']] 110969.542\n",
            " > Model[[(0, 0, 2), (1, 0, 0, 12), 't']] 14416653.135\n",
            " > Model[[(0, 0, 2), (1, 1, 0, 12), 't']] 179820.100\n",
            " > Model[[(0, 0, 2), (1, 0, 1, 12), 't']] 10324687.543\n",
            " > Model[[(0, 0, 2), (1, 1, 1, 12), 't']] 103930.681\n",
            " > Model[[(0, 0, 2), (2, 0, 0, 12), 't']] 3475628.753\n",
            " > Model[[(0, 0, 2), (2, 0, 1, 12), 't']] 4681762.507\n",
            " > Model[[(0, 0, 2), (2, 1, 0, 12), 't']] 112546.729\n",
            " > Model[[(0, 0, 2), (0, 0, 0, 12), 'ct']] 42244.289\n",
            " > Model[[(0, 0, 2), (2, 1, 1, 12), 't']] 180008.440\n",
            " > Model[[(0, 0, 2), (0, 1, 0, 12), 'ct']] 86922.520\n",
            " > Model[[(0, 0, 2), (0, 0, 1, 12), 'ct']] 42300.342\n",
            " > Model[[(0, 0, 2), (1, 0, 0, 12), 'ct']] 42361.922\n",
            " > Model[[(0, 0, 2), (1, 0, 1, 12), 'ct']] 42239.621\n",
            " > Model[[(0, 0, 2), (0, 1, 1, 12), 'ct']] 82300.207\n",
            " > Model[[(0, 0, 2), (1, 1, 0, 12), 'ct']] 86469.836\n",
            " > Model[[(0, 0, 2), (1, 1, 1, 12), 'ct']] 87729.588\n",
            " > Model[[(0, 0, 2), (2, 0, 0, 12), 'ct']] 42279.367\n",
            " > Model[[(0, 0, 2), (2, 0, 1, 12), 'ct']] 42218.425\n",
            " > Model[[(0, 0, 2), (2, 1, 0, 12), 'ct']] 89004.660\n",
            " > Model[[(0, 1, 0), (0, 0, 0, 12), 'n']] 41812.611\n",
            " > Model[[(0, 1, 0), (0, 0, 1, 12), 'n']] 41812.077\n",
            " > Model[[(0, 1, 0), (0, 1, 0, 12), 'n']] 48966.920\n",
            " > Model[[(0, 1, 0), (0, 1, 1, 12), 'n']] 48948.563\n",
            " > Model[[(0, 1, 0), (1, 0, 0, 12), 'n']] 41984.555\n",
            " > Model[[(0, 1, 0), (1, 0, 1, 12), 'n']] 41965.082\n",
            " > Model[[(0, 1, 0), (1, 1, 0, 12), 'n']] 47905.001\n",
            " > Model[[(0, 1, 0), (1, 1, 1, 12), 'n']] 49299.090\n",
            " > Model[[(0, 1, 0), (2, 0, 0, 12), 'n']] 42479.009\n",
            " > Model[[(0, 1, 0), (2, 0, 1, 12), 'n']] 42860.732\n",
            " > Model[[(0, 0, 2), (2, 1, 1, 12), 'ct']] 89468.507\n",
            " > Model[[(0, 1, 0), (2, 1, 0, 12), 'n']] 48114.486\n",
            " > Model[[(0, 1, 0), (0, 0, 0, 12), 'c']] 41809.026\n",
            " > Model[[(0, 1, 0), (0, 0, 1, 12), 'c']] 41809.013\n",
            " > Model[[(0, 1, 0), (0, 1, 0, 12), 'c']] 48937.659\n",
            " > Model[[(0, 1, 0), (0, 1, 1, 12), 'c']] 48999.668\n",
            " > Model[[(0, 1, 0), (2, 1, 1, 12), 'n']] 48117.803\n",
            " > Model[[(0, 1, 0), (1, 0, 0, 12), 'c']] 42024.710\n",
            " > Model[[(0, 1, 0), (1, 0, 1, 12), 'c']] 41888.058\n",
            " > Model[[(0, 1, 0), (1, 1, 0, 12), 'c']] 47863.322\n",
            " > Model[[(0, 1, 0), (1, 1, 1, 12), 'c']] 49258.609\n",
            " > Model[[(0, 1, 0), (2, 0, 0, 12), 'c']] 42554.836\n",
            " > Model[[(0, 1, 0), (2, 0, 1, 12), 'c']] 42850.496\n",
            " > Model[[(0, 1, 0), (2, 1, 0, 12), 'c']] 47683.527\n",
            " > Model[[(0, 1, 0), (0, 0, 0, 12), 't']] 41812.603\n",
            " > Model[[(0, 1, 0), (0, 0, 1, 12), 't']] 41812.152\n",
            " > Model[[(0, 1, 0), (0, 1, 0, 12), 't']] 48962.412\n",
            " > Model[[(0, 1, 0), (0, 1, 1, 12), 't']] 48942.565\n",
            " > Model[[(0, 1, 0), (1, 0, 0, 12), 't']] 41982.868\n",
            " > Model[[(0, 1, 0), (1, 0, 1, 12), 't']] 41888.129\n",
            " > Model[[(0, 1, 0), (1, 1, 0, 12), 't']] 47885.110\n",
            " > Model[[(0, 1, 0), (1, 1, 1, 12), 't']] 49391.223\n",
            " > Model[[(0, 1, 0), (2, 1, 1, 12), 'c']] 45272.217\n",
            " > Model[[(0, 1, 0), (2, 0, 0, 12), 't']] 42544.236\n",
            " > Model[[(0, 1, 0), (2, 0, 1, 12), 't']] 42888.748\n",
            " > Model[[(0, 1, 0), (2, 1, 0, 12), 't']] 47672.367\n",
            " > Model[[(0, 1, 0), (0, 0, 0, 12), 'ct']] 41799.177\n",
            " > Model[[(0, 1, 0), (0, 0, 1, 12), 'ct']] 41798.358\n",
            " > Model[[(0, 1, 0), (0, 1, 0, 12), 'ct']] 48908.704\n",
            " > Model[[(0, 1, 0), (0, 1, 1, 12), 'ct']] 48895.247\n",
            " > Model[[(0, 1, 0), (1, 0, 0, 12), 'ct']] 42152.075\n",
            " > Model[[(0, 1, 0), (1, 0, 1, 12), 'ct']] 42009.126\n",
            " > Model[[(0, 1, 0), (2, 1, 1, 12), 't']] 45648.289\n",
            " > Model[[(0, 1, 0), (1, 1, 1, 12), 'ct']] 49562.308\n",
            " > Model[[(0, 1, 0), (1, 1, 0, 12), 'ct']] 47872.112\n",
            " > Model[[(0, 1, 0), (2, 0, 0, 12), 'ct']] 42219.398\n",
            " > Model[[(0, 1, 0), (2, 0, 1, 12), 'ct']] 42456.292\n",
            " > Model[[(0, 1, 0), (2, 1, 0, 12), 'ct']] 47729.771\n",
            " > Model[[(0, 1, 1), (0, 0, 0, 12), 'n']] 41807.799\n",
            " > Model[[(0, 1, 1), (0, 0, 1, 12), 'n']] 41806.342\n",
            " > Model[[(0, 1, 1), (0, 1, 0, 12), 'n']] 48989.285\n",
            " > Model[[(0, 1, 1), (0, 1, 1, 12), 'n']] 49393.325\n",
            " > Model[[(0, 1, 1), (1, 0, 0, 12), 'n']] 41964.228\n",
            " > Model[[(0, 1, 1), (1, 0, 1, 12), 'n']] 41889.472\n",
            " > Model[[(0, 1, 1), (1, 1, 0, 12), 'n']] 48085.361\n",
            " > Model[[(0, 1, 1), (1, 1, 1, 12), 'n']] 49839.850\n",
            " > Model[[(0, 1, 0), (2, 1, 1, 12), 'ct']] 48993.491\n",
            " > Model[[(0, 1, 1), (2, 0, 0, 12), 'n']] 42447.496\n",
            " > Model[[(0, 1, 1), (2, 0, 1, 12), 'n']] 44541.629\n",
            " > Model[[(0, 1, 1), (2, 1, 0, 12), 'n']] 48892.470\n",
            " > Model[[(0, 1, 1), (0, 0, 0, 12), 'c']] 41805.198\n",
            " > Model[[(0, 1, 1), (0, 0, 1, 12), 'c']] 41804.553\n",
            " > Model[[(0, 1, 1), (0, 1, 0, 12), 'c']] 48954.027\n",
            " > Model[[(0, 1, 1), (0, 1, 1, 12), 'c']] 49412.232\n",
            " > Model[[(0, 1, 1), (1, 0, 0, 12), 'c']] 41999.977\n",
            " > Model[[(0, 1, 1), (2, 1, 1, 12), 'n']] 55863.337\n",
            " > Model[[(0, 1, 1), (1, 0, 1, 12), 'c']] 41934.595\n",
            " > Model[[(0, 1, 1), (1, 1, 0, 12), 'c']] 48054.995\n",
            " > Model[[(0, 1, 1), (1, 1, 1, 12), 'c']] 49827.444\n",
            " > Model[[(0, 1, 1), (2, 0, 0, 12), 'c']] 42373.056\n",
            " > Model[[(0, 1, 1), (2, 0, 1, 12), 'c']] 43000.686\n",
            " > Model[[(0, 1, 1), (2, 1, 0, 12), 'c']] 47627.668\n",
            " > Model[[(0, 1, 1), (0, 0, 0, 12), 't']] 41807.794\n",
            " > Model[[(0, 1, 1), (0, 0, 1, 12), 't']] 41806.391\n",
            " > Model[[(0, 1, 1), (0, 1, 0, 12), 't']] 48982.500\n",
            " > Model[[(0, 1, 1), (0, 1, 1, 12), 't']] 49405.084\n",
            " > Model[[(0, 1, 1), (1, 0, 0, 12), 't']] 41962.352\n",
            " > Model[[(0, 1, 1), (1, 0, 1, 12), 't']] 41889.560\n",
            " > Model[[(0, 1, 1), (1, 1, 0, 12), 't']] 48081.367\n",
            " > Model[[(0, 1, 1), (1, 1, 1, 12), 't']] 49804.328\n",
            " > Model[[(0, 1, 1), (2, 1, 1, 12), 'c']] 45329.780\n",
            " > Model[[(0, 1, 1), (2, 0, 0, 12), 't']] 42516.464\n",
            " > Model[[(0, 1, 1), (2, 0, 1, 12), 't']] 47368.966\n",
            " > Model[[(0, 1, 1), (2, 1, 0, 12), 't']] 47701.300\n",
            " > Model[[(0, 1, 1), (0, 0, 0, 12), 'ct']] 41797.570\n",
            " > Model[[(0, 1, 1), (2, 1, 1, 12), 't']] 55276.064\n",
            " > Model[[(0, 1, 1), (0, 1, 0, 12), 'ct']] 48916.073\n",
            " > Model[[(0, 1, 1), (0, 0, 1, 12), 'ct']] 41795.428\n",
            " > Model[[(0, 1, 1), (1, 0, 0, 12), 'ct']] 42149.810\n",
            " > Model[[(0, 1, 1), (1, 0, 1, 12), 'ct']] 41985.106\n",
            " > Model[[(0, 1, 1), (0, 1, 1, 12), 'ct']] 48957.172\n",
            " > Model[[(0, 1, 1), (1, 1, 0, 12), 'ct']] 47831.307\n",
            " > Model[[(0, 1, 1), (1, 1, 1, 12), 'ct']] 46885.672\n",
            " > Model[[(0, 1, 1), (2, 0, 0, 12), 'ct']] 42173.941\n",
            " > Model[[(0, 1, 1), (2, 0, 1, 12), 'ct']] 42676.698\n",
            " > Model[[(0, 1, 1), (2, 1, 0, 12), 'ct']] 48397.929\n",
            " > Model[[(0, 1, 2), (0, 0, 0, 12), 'n']] 41806.502\n",
            " > Model[[(0, 1, 2), (0, 0, 1, 12), 'n']] 41804.850\n",
            " > Model[[(0, 1, 2), (0, 1, 0, 12), 'n']] 49007.162\n",
            " > Model[[(0, 1, 1), (2, 1, 1, 12), 'ct']] 51247.273\n",
            " > Model[[(0, 1, 2), (1, 0, 0, 12), 'n']] 41954.708\n",
            " > Model[[(0, 1, 2), (0, 1, 1, 12), 'n']] 49009.971\n",
            " > Model[[(0, 1, 2), (1, 0, 1, 12), 'n']] 41810.848\n",
            " > Model[[(0, 1, 2), (1, 1, 0, 12), 'n']] 47905.328\n",
            " > Model[[(0, 1, 2), (2, 0, 0, 12), 'n']] 42430.658\n",
            " > Model[[(0, 1, 2), (1, 1, 1, 12), 'n']] 49367.521\n",
            " > Model[[(0, 1, 2), (2, 0, 1, 12), 'n']] 44802.249\n",
            " > Model[[(0, 1, 2), (2, 1, 1, 12), 'n']] 51416.610\n",
            " > Model[[(0, 1, 2), (0, 0, 0, 12), 'c']] 41804.335\n",
            " > Model[[(0, 1, 2), (2, 1, 0, 12), 'n']] 49481.864\n",
            " > Model[[(0, 1, 2), (0, 1, 0, 12), 'c']] 48970.492\n",
            " > Model[[(0, 1, 2), (0, 0, 1, 12), 'c']] 41802.766\n",
            " > Model[[(0, 1, 2), (1, 0, 0, 12), 'c']] 41999.776\n",
            " > Model[[(0, 1, 2), (0, 1, 1, 12), 'c']] 49399.676\n",
            " > Model[[(0, 1, 2), (1, 1, 0, 12), 'c']] 48057.719\n",
            " > Model[[(0, 1, 2), (1, 0, 1, 12), 'c']] 41810.796\n",
            " > Model[[(0, 1, 2), (2, 0, 0, 12), 'c']] 42343.929\n",
            " > Model[[(0, 1, 2), (2, 0, 1, 12), 'c']] 44198.650\n",
            " > Model[[(0, 1, 2), (1, 1, 1, 12), 'c']] 49328.194\n",
            " > Model[[(0, 1, 2), (2, 1, 0, 12), 'c']] 49330.030\n",
            " > Model[[(0, 1, 2), (0, 0, 0, 12), 't']] 41806.498\n",
            " > Model[[(0, 1, 2), (0, 0, 1, 12), 't']] 41804.882\n",
            " > Model[[(0, 1, 2), (0, 1, 0, 12), 't']] 49000.028\n",
            " > Model[[(0, 1, 2), (2, 1, 1, 12), 'c']] 49436.596\n",
            " > Model[[(0, 1, 2), (1, 0, 0, 12), 't']] 41953.042\n",
            " > Model[[(0, 1, 2), (0, 1, 1, 12), 't']] 49669.786\n",
            " > Model[[(0, 1, 2), (1, 0, 1, 12), 't']] 41952.556\n",
            " > Model[[(0, 1, 2), (1, 1, 0, 12), 't']] 47885.778\n",
            " > Model[[(0, 1, 2), (1, 1, 1, 12), 't']] 50164.743\n",
            " > Model[[(0, 1, 2), (2, 0, 0, 12), 't']] 42486.395\n",
            " > Model[[(0, 1, 2), (2, 0, 1, 12), 't']] 44855.276\n",
            " > Model[[(0, 1, 2), (2, 1, 0, 12), 't']] 49099.103\n",
            " > Model[[(0, 1, 2), (0, 0, 0, 12), 'ct']] 41797.483\n",
            " > Model[[(0, 1, 2), (0, 0, 1, 12), 'ct']] 41795.593\n",
            " > Model[[(0, 1, 2), (0, 1, 0, 12), 'ct']] 48928.109\n",
            " > Model[[(0, 1, 2), (2, 1, 1, 12), 't']] 49871.135\n",
            " > Model[[(0, 1, 2), (1, 0, 0, 12), 'ct']] 42155.477\n",
            " > Model[[(0, 1, 2), (1, 0, 1, 12), 'ct']] 42398.044\n",
            " > Model[[(0, 1, 2), (0, 1, 1, 12), 'ct']] 49927.910\n",
            " > Model[[(0, 1, 2), (1, 1, 0, 12), 'ct']] 47827.323\n",
            " > Model[[(0, 1, 2), (1, 1, 1, 12), 'ct']] 52459.150\n",
            " > Model[[(0, 1, 2), (2, 0, 0, 12), 'ct']] 42053.573\n",
            " > Model[[(0, 1, 2), (2, 0, 1, 12), 'ct']] 42754.328\n",
            " > Model[[(0, 1, 2), (2, 1, 0, 12), 'ct']] 50103.604\n",
            " > Model[[(1, 0, 0), (0, 0, 0, 12), 'n']] 41809.553\n",
            " > Model[[(1, 0, 0), (0, 0, 1, 12), 'n']] 42959.487\n",
            " > Model[[(1, 0, 0), (0, 1, 0, 12), 'n']] 60509.727\n",
            " > Model[[(1, 0, 0), (0, 1, 1, 12), 'n']] 61069.272\n",
            " > Model[[(1, 0, 0), (1, 0, 0, 12), 'n']] 42334.789\n",
            " > Model[[(1, 0, 0), (1, 0, 1, 12), 'n']] 41811.821\n",
            " > Model[[(1, 0, 0), (1, 1, 0, 12), 'n']] 59050.152\n",
            " > Model[[(0, 1, 2), (2, 1, 1, 12), 'ct']] 50659.139\n",
            " > Model[[(1, 0, 0), (1, 1, 1, 12), 'n']] 61911.641\n",
            " > Model[[(1, 0, 0), (2, 0, 0, 12), 'n']] 45138.109\n",
            " > Model[[(1, 0, 0), (2, 0, 1, 12), 'n']] 50357.754\n",
            " > Model[[(1, 0, 0), (2, 1, 0, 12), 'n']] 58952.263\n",
            " > Model[[(1, 0, 0), (0, 0, 0, 12), 'c']] 41799.344\n",
            " > Model[[(1, 0, 0), (0, 0, 1, 12), 'c']] 42983.615\n",
            " > Model[[(1, 0, 0), (0, 1, 0, 12), 'c']] 60511.056\n",
            " > Model[[(1, 0, 0), (0, 1, 1, 12), 'c']] 61099.245\n",
            " > Model[[(1, 0, 0), (1, 0, 0, 12), 'c']] 42417.702\n",
            " > Model[[(1, 0, 0), (1, 0, 1, 12), 'c']] 41812.010\n",
            " > Model[[(1, 0, 0), (1, 1, 0, 12), 'c']] 59083.922\n",
            " > Model[[(1, 0, 0), (2, 1, 1, 12), 'n']] 54834.038\n",
            " > Model[[(1, 0, 0), (1, 1, 1, 12), 'c']] 61969.856\n",
            " > Model[[(1, 0, 0), (2, 0, 0, 12), 'c']] 42858.149\n",
            " > Model[[(1, 0, 0), (2, 0, 1, 12), 'c']] 49295.591\n",
            " > Model[[(1, 0, 0), (2, 1, 0, 12), 'c']] 59138.003\n",
            " > Model[[(1, 0, 0), (0, 0, 0, 12), 't']] 41799.905\n",
            " > Model[[(1, 0, 0), (0, 0, 1, 12), 't']] 42925.906\n",
            " > Model[[(1, 0, 0), (0, 1, 0, 12), 't']] 60506.959\n",
            " > Model[[(1, 0, 0), (0, 1, 1, 12), 't']] 61068.998\n",
            " > Model[[(1, 0, 0), (1, 0, 0, 12), 't']] 57478.051\n",
            " > Model[[(1, 0, 0), (2, 1, 1, 12), 'c']] 59898.537\n",
            " > Model[[(1, 0, 0), (1, 0, 1, 12), 't']] 41860.544\n",
            " > Model[[(1, 0, 0), (1, 1, 1, 12), 't']] 61765.113\n",
            " > Model[[(1, 0, 0), (1, 1, 0, 12), 't']] 58472.890\n",
            " > Model[[(1, 0, 0), (2, 0, 1, 12), 't']] 58779.450\n",
            " > Model[[(1, 0, 0), (2, 0, 0, 12), 't']] 44772.691\n",
            " > Model[[(1, 0, 0), (2, 1, 0, 12), 't']] 58285.656\n",
            " > Model[[(1, 0, 0), (0, 0, 0, 12), 'ct']] 41797.488\n",
            " > Model[[(1, 0, 0), (0, 0, 1, 12), 'ct']] 42912.704\n",
            " > Model[[(1, 0, 0), (0, 1, 0, 12), 'ct']] 60628.512\n",
            " > Model[[(1, 0, 0), (2, 1, 1, 12), 't']] 63136.788\n",
            " > Model[[(1, 0, 0), (1, 0, 0, 12), 'ct']] 42594.638\n",
            " > Model[[(1, 0, 0), (1, 0, 1, 12), 'ct']] 41839.058\n",
            " > Model[[(1, 0, 0), (0, 1, 1, 12), 'ct']] 60717.046\n",
            " > Model[[(1, 0, 0), (1, 1, 0, 12), 'ct']] 58312.936\n",
            " > Model[[(1, 0, 0), (1, 1, 1, 12), 'ct']] 59226.789\n",
            " > Model[[(1, 0, 0), (2, 0, 0, 12), 'ct']] 43844.133\n",
            " > Model[[(1, 0, 0), (2, 0, 1, 12), 'ct']] 51764.099\n",
            " > Model[[(1, 0, 0), (2, 1, 0, 12), 'ct']] 57974.165\n",
            " > Model[[(1, 0, 1), (0, 0, 0, 12), 'n']] 41805.628\n",
            " > Model[[(1, 0, 1), (0, 0, 1, 12), 'n']] 42957.338\n",
            " > Model[[(1, 0, 1), (0, 1, 0, 12), 'n']] 60556.859\n",
            " > Model[[(1, 0, 1), (0, 1, 1, 12), 'n']] 60874.884\n",
            " > Model[[(1, 0, 0), (2, 1, 1, 12), 'ct']] 58852.943\n",
            " > Model[[(1, 0, 1), (1, 0, 0, 12), 'n']] 42225.626\n",
            " > Model[[(1, 0, 1), (1, 1, 0, 12), 'n']] 59125.239\n",
            " > Model[[(1, 0, 1), (1, 0, 1, 12), 'n']] 41814.892\n",
            " > Model[[(1, 0, 1), (2, 0, 0, 12), 'n']] 45023.826\n",
            " > Model[[(1, 0, 1), (1, 1, 1, 12), 'n']] 61813.592\n",
            " > Model[[(1, 0, 1), (2, 0, 1, 12), 'n']] 50522.809\n",
            " > Model[[(1, 0, 1), (2, 1, 0, 12), 'n']] 61961.440\n",
            " > Model[[(1, 0, 1), (0, 0, 0, 12), 'c']] 41796.657\n",
            " > Model[[(1, 0, 1), (0, 0, 1, 12), 'c']] 42980.802\n",
            " > Model[[(1, 0, 1), (0, 1, 0, 12), 'c']] 60554.070\n",
            " > Model[[(1, 0, 1), (0, 1, 1, 12), 'c']] 60892.370\n",
            " > Model[[(1, 0, 1), (1, 0, 0, 12), 'c']] 42339.040\n",
            " > Model[[(1, 0, 1), (1, 0, 1, 12), 'c']] 41811.046\n",
            " > Model[[(1, 0, 1), (1, 1, 0, 12), 'c']] 59151.706\n",
            " > Model[[(1, 0, 1), (2, 1, 1, 12), 'n']] 55084.780\n",
            " > Model[[(1, 0, 1), (1, 1, 1, 12), 'c']] 61942.914\n",
            " > Model[[(1, 0, 1), (2, 0, 0, 12), 'c']] 42319.425\n",
            " > Model[[(1, 0, 1), (2, 0, 1, 12), 'c']] 49269.919\n",
            " > Model[[(1, 0, 1), (2, 1, 1, 12), 'c']] 61057.218\n",
            " > Model[[(1, 0, 1), (0, 0, 0, 12), 't']] 41798.258\n",
            " > Model[[(1, 0, 1), (0, 0, 1, 12), 't']] 42968.915\n",
            " > Model[[(1, 0, 1), (2, 1, 0, 12), 'c']] 58731.947\n",
            " > Model[[(1, 0, 1), (0, 1, 0, 12), 't']] 60551.271\n",
            " > Model[[(1, 0, 1), (1, 0, 0, 12), 't']] 42763.301\n",
            " > Model[[(1, 0, 1), (0, 1, 1, 12), 't']] 62108.307\n",
            " > Model[[(1, 0, 1), (1, 0, 1, 12), 't']] 41847.523\n",
            " > Model[[(1, 0, 1), (1, 1, 0, 12), 't']] 59155.791\n",
            " > Model[[(1, 0, 1), (2, 0, 0, 12), 't']] 52126.198\n",
            " > Model[[(1, 0, 1), (1, 1, 1, 12), 't']] 62834.995\n",
            " > Model[[(1, 0, 1), (2, 0, 1, 12), 't']] 58666.759\n",
            " > Model[[(1, 0, 1), (2, 1, 0, 12), 't']] 63328.507\n",
            " > Model[[(1, 0, 1), (0, 0, 0, 12), 'ct']] 41795.634\n",
            " > Model[[(1, 0, 1), (0, 0, 1, 12), 'ct']] 42966.668\n",
            " > Model[[(1, 0, 1), (0, 1, 0, 12), 'ct']] 60737.787\n",
            " > Model[[(1, 0, 1), (2, 1, 1, 12), 't']] 59487.125\n",
            " > Model[[(1, 0, 1), (1, 0, 0, 12), 'ct']] 42528.089\n",
            " > Model[[(1, 0, 1), (0, 1, 1, 12), 'ct']] 60470.048\n",
            " > Model[[(1, 0, 1), (1, 0, 1, 12), 'ct']] 41827.533\n",
            " > Model[[(1, 0, 1), (1, 1, 1, 12), 'ct']] 61785.195\n",
            " > Model[[(1, 0, 1), (1, 1, 0, 12), 'ct']] 58308.022\n",
            " > Model[[(1, 0, 1), (2, 0, 0, 12), 'ct']] 43270.299\n",
            " > Model[[(1, 0, 1), (2, 0, 1, 12), 'ct']] 52051.813\n",
            " > Model[[(1, 0, 1), (2, 1, 0, 12), 'ct']] 58578.668\n",
            " > Model[[(1, 0, 2), (0, 0, 0, 12), 'n']] 41804.674\n",
            " > Model[[(1, 0, 1), (2, 1, 1, 12), 'ct']] 59623.431\n",
            " > Model[[(1, 0, 2), (0, 1, 0, 12), 'n']] 60679.826\n",
            " > Model[[(1, 0, 2), (0, 0, 1, 12), 'n']] 42971.278\n",
            " > Model[[(1, 0, 2), (1, 0, 0, 12), 'n']] 42179.460\n",
            " > Model[[(1, 0, 2), (0, 1, 1, 12), 'n']] 60993.349\n",
            " > Model[[(1, 0, 2), (1, 0, 1, 12), 'n']] 41816.763\n",
            " > Model[[(1, 0, 2), (1, 1, 0, 12), 'n']] 58525.793\n",
            " > Model[[(1, 0, 2), (2, 0, 0, 12), 'n']] 44959.190\n",
            " > Model[[(1, 0, 2), (1, 1, 1, 12), 'n']] 61501.845\n",
            " > Model[[(1, 0, 2), (2, 0, 1, 12), 'n']] 50541.739\n",
            " > Model[[(1, 0, 2), (2, 1, 1, 12), 'n']] 61532.539\n",
            " > Model[[(1, 0, 2), (0, 0, 0, 12), 'c']] 41796.897\n",
            " > Model[[(1, 0, 2), (2, 1, 0, 12), 'n']] 62084.019\n",
            " > Model[[(1, 0, 2), (0, 1, 0, 12), 'c']] 60672.277\n",
            " > Model[[(1, 0, 2), (0, 0, 1, 12), 'c']] 43108.172\n",
            " > Model[[(1, 0, 2), (1, 0, 0, 12), 'c']] 41761.103\n",
            " > Model[[(1, 0, 2), (0, 1, 1, 12), 'c']] 61106.285\n",
            " > Model[[(1, 0, 2), (1, 1, 0, 12), 'c']] 59173.441\n",
            " > Model[[(1, 0, 2), (1, 0, 1, 12), 'c']] 41815.492\n",
            " > Model[[(1, 0, 2), (1, 1, 1, 12), 'c']] 61572.264\n",
            " > Model[[(1, 0, 2), (2, 0, 0, 12), 'c']] 42291.434\n",
            " > Model[[(1, 0, 2), (2, 0, 1, 12), 'c']] 49549.512\n",
            " > Model[[(1, 0, 2), (2, 1, 1, 12), 'c']] 61219.247\n",
            " > Model[[(1, 0, 2), (0, 0, 0, 12), 't']] 41798.187\n",
            " > Model[[(1, 0, 2), (2, 1, 0, 12), 'c']] 58190.613\n",
            " > Model[[(1, 0, 2), (0, 1, 0, 12), 't']] 60672.660\n",
            " > Model[[(1, 0, 2), (0, 0, 1, 12), 't']] 43005.589\n",
            " > Model[[(1, 0, 2), (1, 0, 0, 12), 't']] 57554.573\n",
            " > Model[[(1, 0, 2), (0, 1, 1, 12), 't']] 60987.104\n",
            " > Model[[(1, 0, 2), (1, 0, 1, 12), 't']] 41854.705\n",
            " > Model[[(1, 0, 2), (1, 1, 0, 12), 't']] 59178.296\n",
            " > Model[[(1, 0, 2), (2, 0, 0, 12), 't']] 52221.068\n",
            " > Model[[(1, 0, 2), (1, 1, 1, 12), 't']] 63787.075\n",
            " > Model[[(1, 0, 2), (2, 0, 1, 12), 't']] 56739.481\n",
            " > Model[[(1, 0, 2), (2, 1, 1, 12), 't']] 60069.770\n",
            " > Model[[(1, 0, 2), (2, 1, 0, 12), 't']] 62183.103\n",
            " > Model[[(1, 0, 2), (0, 0, 0, 12), 'ct']] 41796.349\n",
            " > Model[[(1, 0, 2), (0, 1, 0, 12), 'ct']] 60910.915\n",
            " > Model[[(1, 0, 2), (0, 0, 1, 12), 'ct']] 43100.689\n",
            " > Model[[(1, 0, 2), (1, 0, 0, 12), 'ct']] 42563.758\n",
            " > Model[[(1, 0, 2), (0, 1, 1, 12), 'ct']] 63891.600\n",
            " > Model[[(1, 0, 2), (1, 0, 1, 12), 'ct']] 41831.111\n",
            " > Model[[(1, 0, 2), (1, 1, 0, 12), 'ct']] 58895.518\n",
            " > Model[[(1, 0, 2), (1, 1, 1, 12), 'ct']] 63417.473\n",
            " > Model[[(1, 0, 2), (2, 0, 0, 12), 'ct']] 42720.312\n",
            " > Model[[(1, 0, 2), (2, 0, 1, 12), 'ct']] 49277.576\n",
            " > Model[[(1, 0, 2), (2, 1, 0, 12), 'ct']] 62338.486\n",
            " > Model[[(1, 1, 0), (0, 0, 0, 12), 'n']] 42018.051\n",
            " > Model[[(1, 1, 0), (0, 0, 1, 12), 'n']] 42315.036\n",
            " > Model[[(1, 1, 0), (0, 1, 0, 12), 'n']] 48998.488\n",
            " > Model[[(1, 1, 0), (0, 1, 1, 12), 'n']] 49352.917\n",
            " > Model[[(1, 1, 0), (1, 0, 0, 12), 'n']] 42770.412\n",
            " > Model[[(1, 1, 0), (1, 0, 1, 12), 'n']] 41865.245\n",
            " > Model[[(1, 1, 0), (1, 1, 0, 12), 'n']] 48314.214\n",
            " > Model[[(1, 1, 0), (1, 1, 1, 12), 'n']] 49408.013\n",
            " > Model[[(1, 1, 0), (2, 0, 0, 12), 'n']] 42771.294\n",
            " > Model[[(1, 0, 2), (2, 1, 1, 12), 'ct']] 59725.013\n",
            " > Model[[(1, 1, 0), (2, 0, 1, 12), 'n']] 42706.328\n",
            " > Model[[(1, 1, 0), (2, 1, 0, 12), 'n']] 49105.699\n",
            " > Model[[(1, 1, 0), (0, 0, 0, 12), 'c']] 41976.886\n",
            " > Model[[(1, 1, 0), (0, 0, 1, 12), 'c']] 42270.514\n",
            " > Model[[(1, 1, 0), (0, 1, 0, 12), 'c']] 48959.286\n",
            " > Model[[(1, 1, 0), (0, 1, 1, 12), 'c']] 48926.802\n",
            " > Model[[(1, 1, 0), (1, 0, 0, 12), 'c']] 42756.990\n",
            " > Model[[(1, 1, 0), (1, 0, 1, 12), 'c']] 41800.832\n",
            " > Model[[(1, 1, 0), (2, 1, 1, 12), 'n']] 48954.375\n",
            " > Model[[(1, 1, 0), (1, 1, 0, 12), 'c']] 48171.123\n",
            " > Model[[(1, 1, 0), (1, 1, 1, 12), 'c']] 50002.615\n",
            " > Model[[(1, 1, 0), (2, 0, 0, 12), 'c']] 42759.103\n",
            " > Model[[(1, 1, 0), (2, 0, 1, 12), 'c']] 42551.300\n",
            " > Model[[(1, 1, 0), (2, 1, 0, 12), 'c']] 48341.089\n",
            " > Model[[(1, 1, 0), (0, 0, 0, 12), 't']] 42017.707\n",
            " > Model[[(1, 1, 0), (0, 0, 1, 12), 't']] 42315.128\n",
            " > Model[[(1, 1, 0), (0, 1, 0, 12), 't']] 48990.070\n",
            " > Model[[(1, 1, 0), (0, 1, 1, 12), 't']] 48942.825\n",
            " > Model[[(1, 1, 0), (1, 0, 0, 12), 't']] 42768.691\n",
            " > Model[[(1, 1, 0), (1, 0, 1, 12), 't']] 41865.205\n",
            " > Model[[(1, 1, 0), (1, 1, 0, 12), 't']] 48205.655\n",
            " > Model[[(1, 1, 0), (2, 1, 1, 12), 'c']] 48322.071\n",
            " > Model[[(1, 1, 0), (1, 1, 1, 12), 't']] 49951.963\n",
            " > Model[[(1, 1, 0), (2, 0, 0, 12), 't']] 42762.459\n",
            " > Model[[(1, 1, 0), (2, 0, 1, 12), 't']] 42642.387\n",
            " > Model[[(1, 1, 0), (2, 1, 0, 12), 't']] 48532.806\n",
            " > Model[[(1, 1, 0), (0, 0, 0, 12), 'ct']] 41878.717\n",
            " > Model[[(1, 1, 0), (0, 0, 1, 12), 'ct']] 42005.491\n",
            " > Model[[(1, 1, 0), (0, 1, 0, 12), 'ct']] 48925.213\n",
            " > Model[[(1, 1, 0), (2, 1, 1, 12), 't']] 50734.170\n",
            " > Model[[(1, 1, 0), (0, 1, 1, 12), 'ct']] 48897.286\n",
            " > Model[[(1, 1, 0), (1, 0, 0, 12), 'ct']] 42624.084\n",
            " > Model[[(1, 1, 0), (1, 0, 1, 12), 'ct']] 41885.844\n",
            " > Model[[(1, 1, 0), (1, 1, 0, 12), 'ct']] 48141.887\n",
            " > Model[[(1, 1, 0), (1, 1, 1, 12), 'ct']] 50072.044\n",
            " > Model[[(1, 1, 0), (2, 0, 0, 12), 'ct']] 42459.650\n",
            " > Model[[(1, 1, 0), (2, 0, 1, 12), 'ct']] 42215.623\n",
            " > Model[[(1, 1, 0), (2, 1, 0, 12), 'ct']] 48367.659\n",
            " > Model[[(1, 1, 1), (0, 0, 0, 12), 'n']] 42219.700\n",
            " > Model[[(1, 1, 1), (0, 0, 1, 12), 'n']] 43094.799\n",
            " > Model[[(1, 1, 1), (0, 1, 0, 12), 'n']] 52378.915\n",
            " > Model[[(1, 1, 1), (0, 1, 1, 12), 'n']] 49385.902\n",
            " > Model[[(1, 1, 1), (1, 0, 0, 12), 'n']] 42833.169\n",
            " > Model[[(1, 1, 0), (2, 1, 1, 12), 'ct']] 50534.873\n",
            " > Model[[(1, 1, 1), (1, 0, 1, 12), 'n']] 42007.891\n",
            " > Model[[(1, 1, 1), (1, 1, 0, 12), 'n']] 50822.265\n",
            " > Model[[(1, 1, 1), (1, 1, 1, 12), 'n']] 51265.939\n",
            " > Model[[(1, 1, 1), (2, 0, 0, 12), 'n']] 43509.161\n",
            " > Model[[(1, 1, 1), (2, 0, 1, 12), 'n']] 48230.643\n",
            " > Model[[(1, 1, 1), (2, 1, 0, 12), 'n']] 51065.071\n",
            " > Model[[(1, 1, 1), (0, 0, 0, 12), 'c']] 42096.624\n",
            " > Model[[(1, 1, 1), (0, 0, 1, 12), 'c']] 42667.812\n",
            " > Model[[(1, 1, 1), (0, 1, 0, 12), 'c']] 48968.962\n",
            " > Model[[(1, 1, 1), (2, 1, 1, 12), 'n']] 54478.198\n",
            " > Model[[(1, 1, 1), (1, 0, 0, 12), 'c']] 42761.704\n",
            " > Model[[(1, 1, 1), (1, 0, 1, 12), 'c']] 41878.546\n",
            " > Model[[(1, 1, 1), (0, 1, 1, 12), 'c']] 48987.878\n",
            " > Model[[(1, 1, 1), (1, 1, 1, 12), 'c']] 50196.176\n",
            " > Model[[(1, 1, 1), (1, 1, 0, 12), 'c']] 48178.950\n",
            " > Model[[(1, 1, 1), (2, 0, 0, 12), 'c']] 42887.952\n",
            " > Model[[(1, 1, 1), (2, 0, 1, 12), 'c']] 42464.048\n",
            " > Model[[(1, 1, 1), (2, 1, 0, 12), 'c']] 48084.916\n",
            " > Model[[(1, 1, 1), (0, 0, 0, 12), 't']] 42219.263\n",
            " > Model[[(1, 1, 1), (0, 0, 1, 12), 't']] 48659.157\n",
            " > Model[[(1, 1, 1), (2, 1, 1, 12), 'c']] 48515.831\n",
            " > Model[[(1, 1, 1), (0, 1, 0, 12), 't']] 49042.459\n",
            " > Model[[(1, 1, 1), (0, 1, 1, 12), 't']] 49368.008\n",
            " > Model[[(1, 1, 1), (1, 0, 0, 12), 't']] 42832.853\n",
            " > Model[[(1, 1, 1), (1, 0, 1, 12), 't']] 41822.357\n",
            " > Model[[(1, 1, 1), (1, 1, 0, 12), 't']] 54433.678\n",
            " > Model[[(1, 1, 1), (1, 1, 1, 12), 't']] 52764.272\n",
            " > Model[[(1, 1, 1), (2, 0, 0, 12), 't']] 42846.774\n",
            " > Model[[(1, 1, 1), (2, 0, 1, 12), 't']] 41741.795\n",
            " > Model[[(1, 1, 1), (2, 1, 0, 12), 't']] 57908.366\n",
            " > Model[[(1, 1, 1), (0, 0, 0, 12), 'ct']] 41859.825\n",
            " > Model[[(1, 1, 1), (0, 0, 1, 12), 'ct']] 41799.755\n",
            " > Model[[(1, 1, 1), (0, 1, 0, 12), 'ct']] 48932.482\n",
            " > Model[[(1, 1, 1), (2, 1, 1, 12), 't']] 51717.506\n",
            " > Model[[(1, 1, 1), (1, 0, 0, 12), 'ct']] 42477.923\n",
            " > Model[[(1, 1, 1), (0, 1, 1, 12), 'ct']] 51706.875\n",
            " > Model[[(1, 1, 1), (1, 0, 1, 12), 'ct']] 41882.703\n",
            " > Model[[(1, 1, 1), (1, 1, 0, 12), 'ct']] 48122.768\n",
            " > Model[[(1, 1, 1), (1, 1, 1, 12), 'ct']] 51609.771\n",
            " > Model[[(1, 1, 1), (2, 0, 0, 12), 'ct']] 43371.062\n",
            " > Model[[(1, 1, 1), (2, 0, 1, 12), 'ct']] 41993.625\n",
            " > Model[[(1, 1, 1), (2, 1, 0, 12), 'ct']] 51983.965\n",
            " > Model[[(1, 1, 2), (0, 0, 0, 12), 'n']] 43292.351\n",
            " > Model[[(1, 1, 2), (0, 0, 1, 12), 'n']] 45469.171\n",
            " > Model[[(1, 1, 2), (0, 1, 0, 12), 'n']] 49152.742\n",
            " > Model[[(1, 1, 1), (2, 1, 1, 12), 'ct']] 48133.249\n",
            " > Model[[(1, 1, 2), (1, 0, 0, 12), 'n']] 42561.556\n",
            " > Model[[(1, 1, 2), (1, 0, 1, 12), 'n']] 42147.642\n",
            " > Model[[(1, 1, 2), (0, 1, 1, 12), 'n']] 48991.857\n",
            " > Model[[(1, 1, 2), (1, 1, 0, 12), 'n']] 50980.540\n",
            " > Model[[(1, 1, 2), (2, 0, 0, 12), 'n']] 42901.454\n",
            " > Model[[(1, 1, 2), (1, 1, 1, 12), 'n']] 50006.139\n",
            " > Model[[(1, 1, 2), (2, 0, 1, 12), 'n']] 42370.760\n",
            " > Model[[(1, 1, 2), (2, 1, 0, 12), 'n']] 53487.620\n",
            " > Model[[(1, 1, 2), (0, 0, 0, 12), 'c']] 42775.998\n",
            " > Model[[(1, 1, 2), (0, 0, 1, 12), 'c']] 49964.043\n",
            " > Model[[(1, 1, 2), (0, 1, 0, 12), 'c']] 48976.582\n",
            " > Model[[(1, 1, 2), (0, 1, 1, 12), 'c']] 48973.417\n",
            " > Model[[(1, 1, 2), (1, 0, 0, 12), 'c']] 42382.264\n",
            " > Model[[(1, 1, 2), (2, 1, 1, 12), 'n']] 54459.887\n",
            " > Model[[(1, 1, 2), (1, 0, 1, 12), 'c']] 41830.169\n",
            " > Model[[(1, 1, 2), (1, 1, 0, 12), 'c']] 48258.912\n",
            " > Model[[(1, 1, 2), (1, 1, 1, 12), 'c']] 49861.026\n",
            " > Model[[(1, 1, 2), (2, 0, 0, 12), 'c']] 43999.411\n",
            " > Model[[(1, 1, 2), (2, 0, 1, 12), 'c']] 42404.302\n",
            " > Model[[(1, 1, 2), (2, 1, 0, 12), 'c']] 49521.043\n",
            " > Model[[(1, 1, 2), (0, 0, 0, 12), 't']] 43292.494\n",
            " > Model[[(1, 1, 2), (2, 1, 1, 12), 'c']] 49047.394\n",
            " > Model[[(1, 1, 2), (0, 1, 0, 12), 't']] 49103.322\n",
            " > Model[[(1, 1, 2), (0, 0, 1, 12), 't']] 50142.020\n",
            " > Model[[(1, 1, 2), (1, 0, 0, 12), 't']] 45555.216\n",
            " > Model[[(1, 1, 2), (0, 1, 1, 12), 't']] 50472.127\n",
            " > Model[[(1, 1, 2), (1, 0, 1, 12), 't']] 41878.716\n",
            " > Model[[(1, 1, 2), (1, 1, 0, 12), 't']] 51946.620\n",
            " > Model[[(1, 1, 2), (1, 1, 1, 12), 't']] 50278.216\n",
            " > Model[[(1, 1, 2), (2, 0, 0, 12), 't']] 47080.878\n",
            " > Model[[(1, 1, 2), (2, 0, 1, 12), 't']] 43137.071\n",
            " > Model[[(1, 1, 2), (2, 1, 0, 12), 't']] 54133.887\n",
            " > Model[[(1, 1, 2), (0, 0, 0, 12), 'ct']] 41811.631\n",
            " > Model[[(1, 1, 2), (2, 1, 1, 12), 't']] 54549.867\n",
            " > Model[[(1, 1, 2), (0, 0, 1, 12), 'ct']] 48692.068\n",
            " > Model[[(1, 1, 2), (0, 1, 0, 12), 'ct']] 48939.736\n",
            " > Model[[(1, 1, 2), (1, 0, 0, 12), 'ct']] 42294.972\n",
            " > Model[[(1, 1, 2), (1, 0, 1, 12), 'ct']] 41926.306\n",
            " > Model[[(1, 1, 2), (0, 1, 1, 12), 'ct']] 49596.023\n",
            " > Model[[(1, 1, 2), (1, 1, 0, 12), 'ct']] 52487.292\n",
            " > Model[[(1, 1, 2), (1, 1, 1, 12), 'ct']] 49912.383\n",
            " > Model[[(1, 1, 2), (2, 0, 0, 12), 'ct']] 43427.833\n",
            " > Model[[(1, 1, 2), (2, 0, 1, 12), 'ct']] 42755.292\n",
            " > Model[[(1, 1, 2), (2, 1, 0, 12), 'ct']] 48740.797\n",
            " > Model[[(2, 0, 0), (0, 0, 0, 12), 'n']] 42512.981\n",
            " > Model[[(2, 0, 0), (0, 0, 1, 12), 'n']] 41878.924\n",
            " > Model[[(2, 0, 0), (0, 1, 0, 12), 'n']] 60048.115\n",
            " > Model[[(1, 1, 2), (2, 1, 1, 12), 'ct']] 48735.002\n",
            " > Model[[(2, 0, 0), (0, 1, 1, 12), 'n']] 59814.758\n",
            " > Model[[(2, 0, 0), (1, 0, 0, 12), 'n']] 45101.096\n",
            " > Model[[(2, 0, 0), (1, 0, 1, 12), 'n']] 41801.049\n",
            " > Model[[(2, 0, 0), (1, 1, 0, 12), 'n']] 57645.602\n",
            " > Model[[(2, 0, 0), (1, 1, 1, 12), 'n']] 62294.468\n",
            " > Model[[(2, 0, 0), (2, 0, 0, 12), 'n']] 46042.400\n",
            " > Model[[(2, 0, 0), (2, 0, 1, 12), 'n']] 52549.860\n",
            " > Model[[(2, 0, 0), (2, 1, 0, 12), 'n']] 57806.927\n",
            " > Model[[(2, 0, 0), (0, 0, 0, 12), 'c']] 42327.191\n",
            " > Model[[(2, 0, 0), (0, 0, 1, 12), 'c']] 41819.824\n",
            " > Model[[(2, 0, 0), (0, 1, 0, 12), 'c']] 60061.839\n",
            " > Model[[(2, 0, 0), (0, 1, 1, 12), 'c']] 59832.839\n",
            " > Model[[(2, 0, 0), (1, 0, 0, 12), 'c']] 45149.350\n",
            " > Model[[(2, 0, 0), (2, 1, 1, 12), 'n']] 75129.101\n",
            " > Model[[(2, 0, 0), (1, 1, 0, 12), 'c']] 58913.712\n",
            " > Model[[(2, 0, 0), (1, 0, 1, 12), 'c']] 41801.602\n",
            " > Model[[(2, 0, 0), (1, 1, 1, 12), 'c']] 62304.128\n",
            " > Model[[(2, 0, 0), (2, 0, 0, 12), 'c']] 43234.599\n",
            " > Model[[(2, 0, 0), (2, 0, 1, 12), 'c']] 49799.958\n",
            " > Model[[(2, 0, 0), (2, 1, 0, 12), 'c']] 57629.082\n",
            " > Model[[(2, 0, 0), (0, 0, 0, 12), 't']] 42105.739\n",
            " > Model[[(2, 0, 0), (0, 0, 1, 12), 't']] 42856.502\n",
            " > Model[[(2, 0, 0), (0, 1, 0, 12), 't']] 60066.553\n",
            " > Model[[(2, 0, 0), (2, 1, 1, 12), 'c']] 59118.571\n",
            " > Model[[(2, 0, 0), (0, 1, 1, 12), 't']] 59817.548\n",
            " > Model[[(2, 0, 0), (1, 0, 1, 12), 't']] 41830.600\n",
            " > Model[[(2, 0, 0), (1, 0, 0, 12), 't']] 44588.373\n",
            " > Model[[(2, 0, 0), (1, 1, 1, 12), 't']] 62186.032\n",
            " > Model[[(2, 0, 0), (1, 1, 0, 12), 't']] 57666.887\n",
            " > Model[[(2, 0, 0), (2, 0, 0, 12), 't']] 53118.771\n",
            " > Model[[(2, 0, 0), (2, 0, 1, 12), 't']] 60566.672\n",
            " > Model[[(2, 0, 0), (2, 1, 0, 12), 't']] 58822.930\n",
            " > Model[[(2, 0, 0), (0, 0, 0, 12), 'ct']] 42187.738\n",
            " > Model[[(2, 0, 0), (0, 0, 1, 12), 'ct']] 41800.173\n",
            " > Model[[(2, 0, 0), (0, 1, 0, 12), 'ct']] 60054.692\n",
            " > Model[[(2, 0, 0), (0, 1, 1, 12), 'ct']] 59503.507\n",
            " > Model[[(2, 0, 0), (1, 0, 0, 12), 'ct']] 44740.740\n",
            " > Model[[(2, 0, 0), (2, 1, 1, 12), 't']] 59838.786\n",
            " > Model[[(2, 0, 0), (1, 0, 1, 12), 'ct']] 41816.514\n",
            " > Model[[(2, 0, 0), (1, 1, 0, 12), 'ct']] 58478.961\n",
            " > Model[[(2, 0, 0), (1, 1, 1, 12), 'ct']] 61229.961\n",
            " > Model[[(2, 0, 0), (2, 0, 0, 12), 'ct']] 44647.565\n",
            " > Model[[(2, 0, 0), (2, 0, 1, 12), 'ct']] 49873.144\n",
            " > Model[[(2, 0, 0), (2, 1, 0, 12), 'ct']] 66587.524\n",
            " > Model[[(2, 0, 1), (0, 0, 0, 12), 'n']] 42500.552\n",
            " > Model[[(2, 0, 1), (0, 0, 1, 12), 'n']] 42922.840\n",
            " > Model[[(2, 0, 1), (0, 1, 0, 12), 'n']] 60190.088\n",
            " > Model[[(2, 0, 0), (2, 1, 1, 12), 'ct']] 58448.339\n",
            " > Model[[(2, 0, 1), (0, 1, 1, 12), 'n']] 69348.957\n",
            " > Model[[(2, 0, 1), (1, 0, 0, 12), 'n']] 45148.130\n",
            " > Model[[(2, 0, 1), (1, 0, 1, 12), 'n']] 41813.499\n",
            " > Model[[(2, 0, 1), (1, 1, 0, 12), 'n']] 58868.858\n",
            " > Model[[(2, 0, 1), (1, 1, 1, 12), 'n']] 62290.474\n",
            " > Model[[(2, 0, 1), (2, 0, 0, 12), 'n']] 47256.172\n",
            " > Model[[(2, 0, 1), (2, 0, 1, 12), 'n']] 52234.418\n",
            " > Model[[(2, 0, 1), (2, 1, 0, 12), 'n']] 67604.264\n",
            " > Model[[(2, 0, 1), (0, 0, 0, 12), 'c']] 42139.602\n",
            " > Model[[(2, 0, 1), (0, 0, 1, 12), 'c']] 43087.099\n",
            " > Model[[(2, 0, 1), (0, 1, 0, 12), 'c']] 59483.466\n",
            " > Model[[(2, 0, 1), (0, 1, 1, 12), 'c']] 60182.843\n",
            " > Model[[(2, 0, 1), (1, 0, 0, 12), 'c']] 44810.449\n",
            " > Model[[(2, 0, 1), (2, 1, 1, 12), 'n']] 67167.881\n",
            " > Model[[(2, 0, 1), (1, 0, 1, 12), 'c']] 41810.351\n",
            " > Model[[(2, 0, 1), (1, 1, 1, 12), 'c']] 62281.681\n",
            " > Model[[(2, 0, 1), (1, 1, 0, 12), 'c']] 64014.576\n",
            " > Model[[(2, 0, 1), (2, 0, 0, 12), 'c']] 44597.245\n",
            " > Model[[(2, 0, 1), (2, 0, 1, 12), 'c']] 51152.066\n",
            " > Model[[(2, 0, 1), (2, 1, 0, 12), 'c']] 64612.466\n",
            " > Model[[(2, 0, 1), (0, 0, 0, 12), 't']] 41977.384\n",
            " > Model[[(2, 0, 1), (0, 0, 1, 12), 't']] 42877.686\n",
            " > Model[[(2, 0, 1), (0, 1, 0, 12), 't']] 57116.123\n",
            " > Model[[(2, 0, 1), (0, 1, 1, 12), 't']] 60144.244\n",
            " > Model[[(2, 0, 1), (1, 0, 0, 12), 't']] 60583.754\n",
            " > Model[[(2, 0, 1), (2, 1, 1, 12), 'c']] 59948.072\n",
            " > Model[[(2, 0, 1), (1, 0, 1, 12), 't']] 41879.806\n",
            " > Model[[(2, 0, 1), (1, 1, 0, 12), 't']] 58950.103\n",
            " > Model[[(2, 0, 1), (1, 1, 1, 12), 't']] 64751.775\n",
            " > Model[[(2, 0, 1), (2, 0, 0, 12), 't']] 53208.673\n",
            " > Model[[(2, 0, 1), (2, 0, 1, 12), 't']] 59884.816\n",
            " > Model[[(2, 0, 1), (2, 1, 0, 12), 't']] 60027.929\n",
            " > Model[[(2, 0, 1), (0, 0, 0, 12), 'ct']] 42031.558\n",
            " > Model[[(2, 0, 1), (0, 0, 1, 12), 'ct']] 42973.343\n",
            " > Model[[(2, 0, 1), (0, 1, 0, 12), 'ct']] 62829.688\n",
            " > Model[[(2, 0, 1), (2, 1, 1, 12), 't']] 56762.038\n",
            " > Model[[(2, 0, 1), (1, 0, 0, 12), 'ct']] 44489.598\n",
            " > Model[[(2, 0, 1), (1, 0, 1, 12), 'ct']] 41821.043\n",
            " > Model[[(2, 0, 1), (0, 1, 1, 12), 'ct']] 67579.197\n",
            " > Model[[(2, 0, 1), (1, 1, 0, 12), 'ct']] 55740.103\n",
            " > Model[[(2, 0, 1), (1, 1, 1, 12), 'ct']] 60475.573\n",
            " > Model[[(2, 0, 1), (2, 0, 0, 12), 'ct']] 47452.910\n",
            " > Model[[(2, 0, 1), (2, 0, 1, 12), 'ct']] 50082.707\n",
            " > Model[[(2, 0, 1), (2, 1, 0, 12), 'ct']] 56119.719\n",
            " > Model[[(2, 0, 2), (0, 0, 0, 12), 'n']] 41950.794\n",
            " > Model[[(2, 0, 1), (2, 1, 1, 12), 'ct']] 95366.659\n",
            " > Model[[(2, 0, 2), (0, 0, 1, 12), 'n']] 42055.215\n",
            " > Model[[(2, 0, 2), (0, 1, 0, 12), 'n']] 59450.829\n",
            " > Model[[(2, 0, 2), (1, 0, 0, 12), 'n']] 44568.773\n",
            " > Model[[(2, 0, 2), (0, 1, 1, 12), 'n']] 60878.912\n",
            " > Model[[(2, 0, 2), (1, 0, 1, 12), 'n']] 42251.609\n",
            " > Model[[(2, 0, 2), (1, 1, 0, 12), 'n']] 59070.296\n",
            " > Model[[(2, 0, 2), (1, 1, 1, 12), 'n']] 60753.692\n",
            " > Model[[(2, 0, 2), (2, 0, 0, 12), 'n']] 46471.718\n",
            " > Model[[(2, 0, 2), (2, 0, 1, 12), 'n']] 50519.958\n",
            " > Model[[(2, 0, 2), (2, 1, 0, 12), 'n']] 67961.998\n",
            " > Model[[(2, 0, 2), (0, 0, 0, 12), 'c']] 43257.718\n",
            " > Model[[(2, 0, 2), (0, 0, 1, 12), 'c']] 43036.974\n",
            " > Model[[(2, 0, 2), (0, 1, 0, 12), 'c']] 58755.373\n",
            " > Model[[(2, 0, 2), (2, 1, 1, 12), 'n']] 58658.377\n",
            " > Model[[(2, 0, 2), (0, 1, 1, 12), 'c']] 60875.477\n",
            " > Model[[(2, 0, 2), (1, 0, 0, 12), 'c']] 44239.909\n",
            " > Model[[(2, 0, 2), (1, 0, 1, 12), 'c']] 41811.840\n",
            " > Model[[(2, 0, 2), (1, 1, 0, 12), 'c']] 58464.716\n",
            " > Model[[(2, 0, 2), (1, 1, 1, 12), 'c']] 60753.888\n",
            " > Model[[(2, 0, 2), (2, 0, 0, 12), 'c']] 42714.980\n",
            " > Model[[(2, 0, 2), (2, 0, 1, 12), 'c']] 49525.693\n",
            " > Model[[(2, 0, 2), (2, 1, 0, 12), 'c']] 65886.397\n",
            " > Model[[(2, 0, 2), (0, 0, 0, 12), 't']] 42607.476\n",
            " > Model[[(2, 0, 2), (0, 0, 1, 12), 't']] 42946.337\n",
            " > Model[[(2, 0, 2), (0, 1, 0, 12), 't']] 58046.973\n",
            " > Model[[(2, 0, 2), (2, 1, 1, 12), 'c']] 58631.658\n",
            " > Model[[(2, 0, 2), (1, 0, 0, 12), 't']] 54943.355\n",
            " > Model[[(2, 0, 2), (0, 1, 1, 12), 't']] 60740.488\n",
            " > Model[[(2, 0, 2), (1, 0, 1, 12), 't']] 58353.810\n",
            " > Model[[(2, 0, 2), (1, 1, 0, 12), 't']] 59416.886\n",
            " > Model[[(2, 0, 2), (1, 1, 1, 12), 't']] 59996.382\n",
            " > Model[[(2, 0, 2), (2, 0, 0, 12), 't']] 59073.842\n",
            " > Model[[(2, 0, 2), (2, 0, 1, 12), 't']] 60195.152\n",
            " > Model[[(2, 0, 2), (2, 1, 0, 12), 't']] 65221.886\n",
            " > Model[[(2, 0, 2), (0, 0, 0, 12), 'ct']] 42877.707\n",
            " > Model[[(2, 0, 2), (0, 0, 1, 12), 'ct']] 43028.185\n",
            " > Model[[(2, 0, 2), (2, 1, 1, 12), 't']] 59696.669\n",
            " > Model[[(2, 0, 2), (0, 1, 0, 12), 'ct']] 69005.828\n",
            " > Model[[(2, 0, 2), (1, 0, 0, 12), 'ct']] 43556.280\n",
            " > Model[[(2, 0, 2), (1, 0, 1, 12), 'ct']] 41813.608\n",
            " > Model[[(2, 0, 2), (0, 1, 1, 12), 'ct']] 67288.500\n",
            " > Model[[(2, 0, 2), (1, 1, 0, 12), 'ct']] 55266.173\n",
            " > Model[[(2, 0, 2), (1, 1, 1, 12), 'ct']] 60797.993\n",
            " > Model[[(2, 0, 2), (2, 0, 0, 12), 'ct']] 43276.234\n",
            " > Model[[(2, 0, 2), (2, 0, 1, 12), 'ct']] 49533.152\n",
            " > Model[[(2, 0, 2), (2, 1, 0, 12), 'ct']] 137391.222\n",
            " > Model[[(2, 1, 0), (0, 0, 0, 12), 'n']] 42020.049\n",
            " > Model[[(2, 0, 2), (2, 1, 1, 12), 'ct']] 160152.333\n",
            " > Model[[(2, 1, 0), (0, 1, 0, 12), 'n']] 49019.847\n",
            " > Model[[(2, 1, 0), (0, 0, 1, 12), 'n']] 42291.609\n",
            " > Model[[(2, 1, 0), (0, 1, 1, 12), 'n']] 49338.324\n",
            " > Model[[(2, 1, 0), (1, 0, 0, 12), 'n']] 42702.543\n",
            " > Model[[(2, 1, 0), (1, 0, 1, 12), 'n']] 41839.406\n",
            " > Model[[(2, 1, 0), (1, 1, 0, 12), 'n']] 48335.341\n",
            " > Model[[(2, 1, 0), (2, 0, 0, 12), 'n']] 42755.392\n",
            " > Model[[(2, 1, 0), (1, 1, 1, 12), 'n']] 49426.235\n",
            " > Model[[(2, 1, 0), (2, 0, 1, 12), 'n']] 42901.500\n",
            " > Model[[(2, 1, 0), (2, 1, 0, 12), 'n']] 48996.637\n",
            " > Model[[(2, 1, 0), (0, 0, 0, 12), 'c']] 41979.311\n",
            " > Model[[(2, 1, 0), (0, 0, 1, 12), 'c']] 42239.197\n",
            " > Model[[(2, 1, 0), (0, 1, 0, 12), 'c']] 48974.063\n",
            " > Model[[(2, 1, 0), (0, 1, 1, 12), 'c']] 49192.959\n",
            " > Model[[(2, 1, 0), (1, 0, 0, 12), 'c']] 42694.251\n",
            " > Model[[(2, 1, 0), (1, 0, 1, 12), 'c']] 41833.857\n",
            " > Model[[(2, 1, 0), (1, 1, 0, 12), 'c']] 48275.297\n",
            " > Model[[(2, 1, 0), (2, 1, 1, 12), 'n']] 48891.498\n",
            " > Model[[(2, 1, 0), (1, 1, 1, 12), 'c']] 49384.510\n",
            " > Model[[(2, 1, 0), (2, 0, 0, 12), 'c']] 42744.383\n",
            " > Model[[(2, 1, 0), (2, 0, 1, 12), 'c']] 44985.012\n",
            " > Model[[(2, 1, 0), (2, 1, 0, 12), 'c']] 48266.394\n",
            " > Model[[(2, 1, 0), (0, 0, 0, 12), 't']] 42019.943\n",
            " > Model[[(2, 1, 0), (0, 0, 1, 12), 't']] 42291.186\n",
            " > Model[[(2, 1, 0), (0, 1, 0, 12), 't']] 49008.864\n",
            " > Model[[(2, 1, 0), (0, 1, 1, 12), 't']] 48945.357\n",
            " > Model[[(2, 1, 0), (1, 0, 0, 12), 't']] 42701.161\n",
            " > Model[[(2, 1, 0), (1, 0, 1, 12), 't']] 41839.435\n",
            " > Model[[(2, 1, 0), (2, 1, 1, 12), 'c']] 48241.415\n",
            " > Model[[(2, 1, 0), (1, 1, 0, 12), 't']] 48226.766\n",
            " > Model[[(2, 1, 0), (1, 1, 1, 12), 't']] 59391.058\n",
            " > Model[[(2, 1, 0), (2, 0, 0, 12), 't']] 42744.638\n",
            " > Model[[(2, 1, 0), (2, 0, 1, 12), 't']] 42227.960\n",
            " > Model[[(2, 1, 0), (2, 1, 0, 12), 't']] 48550.711\n",
            " > Model[[(2, 1, 0), (0, 0, 0, 12), 'ct']] 41877.257\n",
            " > Model[[(2, 1, 0), (0, 0, 1, 12), 'ct']] 42033.944\n",
            " > Model[[(2, 1, 0), (0, 1, 0, 12), 'ct']] 48935.782\n",
            " > Model[[(2, 1, 0), (0, 1, 1, 12), 'ct']] 49148.311\n",
            " > Model[[(2, 1, 0), (1, 0, 0, 12), 'ct']] 42612.217\n",
            " > Model[[(2, 1, 0), (2, 1, 1, 12), 't']] 54499.960\n",
            " > Model[[(2, 1, 0), (1, 0, 1, 12), 'ct']] 41835.207\n",
            " > Model[[(2, 1, 0), (1, 1, 0, 12), 'ct']] 48174.711\n",
            " > Model[[(2, 1, 0), (1, 1, 1, 12), 'ct']] 50299.972\n",
            " > Model[[(2, 1, 0), (2, 0, 0, 12), 'ct']] 42422.680\n",
            " > Model[[(2, 1, 0), (2, 0, 1, 12), 'ct']] 48597.813\n",
            " > Model[[(2, 1, 0), (2, 1, 0, 12), 'ct']] 48286.045\n",
            " > Model[[(2, 1, 1), (0, 0, 0, 12), 'n']] 41908.751\n",
            " > Model[[(2, 1, 1), (0, 0, 1, 12), 'n']] 42008.279\n",
            " > Model[[(2, 1, 1), (0, 1, 0, 12), 'n']] 49420.674\n",
            " > Model[[(2, 1, 0), (2, 1, 1, 12), 'ct']] 51560.530\n",
            " > Model[[(2, 1, 1), (1, 0, 0, 12), 'n']] 42452.973\n",
            " > Model[[(2, 1, 1), (0, 1, 1, 12), 'n']] 49175.235\n",
            " > Model[[(2, 1, 1), (1, 0, 1, 12), 'n']] 42235.728\n",
            " > Model[[(2, 1, 1), (1, 1, 1, 12), 'n']] 49885.378\n",
            " > Model[[(2, 1, 1), (1, 1, 0, 12), 'n']] 48323.703\n",
            " > Model[[(2, 1, 1), (2, 0, 0, 12), 'n']] 42871.989\n",
            " > Model[[(2, 1, 1), (2, 0, 1, 12), 'n']] 41887.192\n",
            " > Model[[(2, 1, 1), (2, 1, 0, 12), 'n']] 50570.426\n",
            " > Model[[(2, 1, 1), (0, 0, 0, 12), 'c']] 41863.866\n",
            " > Model[[(2, 1, 1), (2, 1, 1, 12), 'n']] 53297.514\n",
            " > Model[[(2, 1, 1), (0, 1, 0, 12), 'c']] 48987.542\n",
            " > Model[[(2, 1, 1), (0, 0, 1, 12), 'c']] 41929.140\n",
            " > Model[[(2, 1, 1), (1, 0, 0, 12), 'c']] 42366.628\n",
            " > Model[[(2, 1, 1), (1, 0, 1, 12), 'c']] 41837.503\n",
            " > Model[[(2, 1, 1), (0, 1, 1, 12), 'c']] 49159.505\n",
            " > Model[[(2, 1, 1), (1, 1, 1, 12), 'c']] 49586.565\n",
            " > Model[[(2, 1, 1), (1, 1, 0, 12), 'c']] 48848.096\n",
            " > Model[[(2, 1, 1), (2, 0, 0, 12), 'c']] 42650.466\n",
            " > Model[[(2, 1, 1), (2, 0, 1, 12), 'c']] 46112.019\n",
            " > Model[[(2, 1, 1), (2, 1, 0, 12), 'c']] 48593.454\n",
            " > Model[[(2, 1, 1), (0, 0, 0, 12), 't']] 41908.867\n",
            " > Model[[(2, 1, 1), (0, 0, 1, 12), 't']] 47202.692\n",
            " > Model[[(2, 1, 1), (0, 1, 0, 12), 't']] 49008.840\n",
            " > Model[[(2, 1, 1), (2, 1, 1, 12), 'c']] 53802.055\n",
            " > Model[[(2, 1, 1), (0, 1, 1, 12), 't']] 53218.692\n",
            " > Model[[(2, 1, 1), (1, 0, 0, 12), 't']] 44078.881\n",
            " > Model[[(2, 1, 1), (1, 0, 1, 12), 't']] 41840.681\n",
            " > Model[[(2, 1, 1), (1, 1, 0, 12), 't']] 53742.729\n",
            " > Model[[(2, 1, 1), (1, 1, 1, 12), 't']] 49908.432\n",
            " > Model[[(2, 1, 1), (2, 0, 0, 12), 't']] 42933.783\n",
            " > Model[[(2, 1, 1), (2, 0, 1, 12), 't']] 42676.357\n",
            " > Model[[(2, 1, 1), (2, 1, 0, 12), 't']] 49322.511\n",
            " > Model[[(2, 1, 1), (0, 0, 0, 12), 'ct']] 41847.322\n",
            " > Model[[(2, 1, 1), (2, 1, 1, 12), 't']] 55760.355\n",
            " > Model[[(2, 1, 1), (0, 0, 1, 12), 'ct']] 42190.161\n",
            " > Model[[(2, 1, 1), (0, 1, 0, 12), 'ct']] 48961.225\n",
            " > Model[[(2, 1, 1), (1, 0, 0, 12), 'ct']] 43756.888\n",
            " > Model[[(2, 1, 1), (1, 0, 1, 12), 'ct']] 41839.831\n",
            " > Model[[(2, 1, 1), (0, 1, 1, 12), 'ct']] 49904.444\n",
            " > Model[[(2, 1, 1), (1, 1, 0, 12), 'ct']] 52939.056\n",
            " > Model[[(2, 1, 1), (1, 1, 1, 12), 'ct']] 49469.386\n",
            " > Model[[(2, 1, 1), (2, 0, 0, 12), 'ct']] 43499.149\n",
            " > Model[[(2, 1, 1), (2, 0, 1, 12), 'ct']] 42061.042\n",
            " > Model[[(2, 1, 1), (2, 1, 0, 12), 'ct']] 53847.498\n",
            " > Model[[(2, 1, 2), (0, 0, 0, 12), 'n']] 42955.412\n",
            " > Model[[(2, 1, 1), (2, 1, 1, 12), 'ct']] 52384.000\n",
            " > Model[[(2, 1, 2), (0, 0, 1, 12), 'n']] 42490.434\n",
            " > Model[[(2, 1, 2), (0, 1, 0, 12), 'n']] 71847.567\n",
            " > Model[[(2, 1, 2), (0, 1, 1, 12), 'n']] 54387.516\n",
            " > Model[[(2, 1, 2), (1, 0, 0, 12), 'n']] 42973.932\n",
            " > Model[[(2, 1, 2), (1, 0, 1, 12), 'n']] 52642.863\n",
            " > Model[[(2, 1, 2), (1, 1, 0, 12), 'n']] 59961.844\n",
            " > Model[[(2, 1, 2), (1, 1, 1, 12), 'n']] 49997.238\n",
            " > Model[[(2, 1, 2), (2, 0, 0, 12), 'n']] 45210.208\n",
            " > Model[[(2, 1, 2), (2, 0, 1, 12), 'n']] 43577.855\n",
            " > Model[[(2, 1, 2), (2, 1, 0, 12), 'n']] 56275.459\n",
            " > Model[[(2, 1, 2), (0, 0, 0, 12), 'c']] 41869.935\n",
            " > Model[[(2, 1, 2), (0, 0, 1, 12), 'c']] 42145.388\n",
            " > Model[[(2, 1, 2), (2, 1, 1, 12), 'n']] 54117.534\n",
            " > Model[[(2, 1, 2), (0, 1, 0, 12), 'c']] 50850.879\n",
            " > Model[[(2, 1, 2), (1, 0, 0, 12), 'c']] 42440.346\n",
            " > Model[[(2, 1, 2), (1, 0, 1, 12), 'c']] 43350.138\n",
            " > Model[[(2, 1, 2), (0, 1, 1, 12), 'c']] 56018.562\n",
            " > Model[[(2, 1, 2), (1, 1, 0, 12), 'c']] 49048.271\n",
            " > Model[[(2, 1, 2), (1, 1, 1, 12), 'c']] 52101.152\n",
            " > Model[[(2, 1, 2), (2, 0, 0, 12), 'c']] 69015.883\n",
            " > Model[[(2, 1, 2), (2, 0, 1, 12), 'c']] 42133.622\n",
            " > Model[[(2, 1, 2), (2, 1, 0, 12), 'c']] 49398.427\n",
            " > Model[[(2, 1, 2), (0, 0, 0, 12), 't']] 46464.371\n",
            " > Model[[(2, 1, 2), (0, 0, 1, 12), 't']] 48986.297\n",
            " > Model[[(2, 1, 2), (0, 1, 0, 12), 't']] 58660.002\n",
            " > Model[[(2, 1, 2), (2, 1, 1, 12), 'c']] 51818.858\n",
            " > Model[[(2, 1, 2), (1, 0, 0, 12), 't']] 42974.729\n",
            " > Model[[(2, 1, 2), (0, 1, 1, 12), 't']] 49868.810\n",
            " > Model[[(2, 1, 2), (1, 0, 1, 12), 't']] 43023.354\n",
            " > Model[[(2, 1, 2), (1, 1, 0, 12), 't']] 48399.883\n",
            " > Model[[(2, 1, 2), (1, 1, 1, 12), 't']] 56768.699\n",
            " > Model[[(2, 1, 2), (2, 0, 0, 12), 't']] 44074.898\n",
            " > Model[[(2, 1, 2), (2, 0, 1, 12), 't']] 50010.221\n",
            " > Model[[(2, 1, 2), (2, 1, 0, 12), 't']] 51513.582\n",
            " > Model[[(2, 1, 2), (0, 0, 0, 12), 'ct']] 41804.575\n",
            " > Model[[(2, 1, 2), (2, 1, 1, 12), 't']] 52664.254\n",
            " > Model[[(2, 1, 2), (0, 0, 1, 12), 'ct']] 42815.744\n",
            " > Model[[(2, 1, 2), (0, 1, 0, 12), 'ct']] 51798.750\n",
            " > Model[[(2, 1, 2), (1, 0, 0, 12), 'ct']] 42334.900\n",
            " > Model[[(2, 1, 2), (0, 1, 1, 12), 'ct']] 49319.597\n",
            " > Model[[(2, 1, 2), (1, 0, 1, 12), 'ct']] 42633.287\n",
            " > Model[[(2, 1, 2), (1, 1, 0, 12), 'ct']] 53022.012\n",
            " > Model[[(2, 1, 2), (1, 1, 1, 12), 'ct']] 50967.143\n",
            " > Model[[(2, 1, 2), (2, 0, 0, 12), 'ct']] 44395.625\n",
            " > Model[[(2, 1, 2), (2, 0, 1, 12), 'ct']] 43290.158\n",
            " > Model[[(2, 1, 2), (2, 1, 0, 12), 'ct']] 50623.766\n",
            " > Model[[(2, 1, 2), (2, 1, 1, 12), 'ct']] 50905.014\n"
          ],
          "name": "stdout"
        }
      ]
    },
    {
      "cell_type": "code",
      "metadata": {
        "id": "MVlYRml704BF",
        "colab_type": "code",
        "colab": {
          "base_uri": "https://localhost:8080/",
          "height": 72
        },
        "outputId": "77ab373c-51c4-491a-e761-c272754c523f"
      },
      "source": [
        "scores[:3]"
      ],
      "execution_count": 17,
      "outputs": [
        {
          "output_type": "execute_result",
          "data": {
            "text/plain": [
              "[(\"[(1, 1, 1), (2, 0, 1, 12), 't']\", 41741.79486380565),\n",
              " (\"[(1, 0, 2), (1, 0, 0, 12), 'c']\", 41761.103142922904),\n",
              " (\"[(0, 1, 1), (0, 0, 1, 12), 'ct']\", 41795.4282694077)]"
            ]
          },
          "metadata": {
            "tags": []
          },
          "execution_count": 17
        }
      ]
    },
    {
      "cell_type": "code",
      "metadata": {
        "id": "5oIIpjO9kLLq",
        "colab_type": "code",
        "colab": {
          "base_uri": "https://localhost:8080/",
          "height": 72
        },
        "outputId": "fe719ea5-557d-4b22-8d65-31fad7c270ee"
      },
      "source": [
        "test_scores = test_grid_search_results(df, scores, ntop_scores=3)"
      ],
      "execution_count": 18,
      "outputs": [
        {
          "output_type": "stream",
          "text": [
            "(\"[(1, 1, 1), (2, 0, 1, 12), 't']\", 82329.16474048182)\n",
            "(\"[(1, 0, 2), (1, 0, 0, 12), 'c']\", 69385.37294060958)\n",
            "(\"[(0, 1, 1), (0, 0, 1, 12), 'ct']\", 9.320170853007022e+16)\n"
          ],
          "name": "stdout"
        }
      ]
    },
    {
      "cell_type": "code",
      "metadata": {
        "id": "xPlaymyj7dJY",
        "colab_type": "code",
        "colab": {
          "base_uri": "https://localhost:8080/",
          "height": 72
        },
        "outputId": "043322df-546f-47ae-8266-d3ef890f9525"
      },
      "source": [
        "test_scores"
      ],
      "execution_count": 19,
      "outputs": [
        {
          "output_type": "execute_result",
          "data": {
            "text/plain": [
              "[(\"[(1, 0, 2), (1, 0, 0, 12), 'c']\", 69385.37294060958),\n",
              " (\"[(1, 1, 1), (2, 0, 1, 12), 't']\", 82329.16474048182),\n",
              " (\"[(0, 1, 1), (0, 0, 1, 12), 'ct']\", 9.320170853007022e+16)]"
            ]
          },
          "metadata": {
            "tags": []
          },
          "execution_count": 19
        }
      ]
    },
    {
      "cell_type": "code",
      "metadata": {
        "id": "66-cWYnWBPzc",
        "colab_type": "code",
        "colab": {
          "base_uri": "https://localhost:8080/",
          "height": 604
        },
        "outputId": "bd5d1e05-757e-498f-dde4-cfb070b4adbd"
      },
      "source": [
        "plot_model(df, eval(test_scores[0][0]))"
      ],
      "execution_count": 20,
      "outputs": [
        {
          "output_type": "stream",
          "text": [
            "/usr/local/lib/python3.6/dist-packages/statsmodels/tsa/base/tsa_model.py:165: ValueWarning: No frequency information was provided, so inferred frequency MS will be used.\n",
            "  % freq, ValueWarning)\n"
          ],
          "name": "stderr"
        },
        {
          "output_type": "stream",
          "text": [
            "Error: 36176.89678427995\n"
          ],
          "name": "stdout"
        },
        {
          "output_type": "display_data",
          "data": {
            "image/png": "[encoded data removed]",
            "text/plain": [
              "<Figure size 1584x720 with 1 Axes>"
            ]
          },
          "metadata": {
            "tags": []
          }
        }
      ]
    },
    {
      "cell_type": "markdown",
      "metadata": {
        "id": "1mm1mQP6I3tk",
        "colab_type": "text"
      },
      "source": [
        "___"
      ]
    },
    {
      "cell_type": "markdown",
      "metadata": {
        "id": "xKxy7ujzvCxy",
        "colab_type": "text"
      },
      "source": [
        "## Previsão"
      ]
    },
    {
      "cell_type": "code",
      "metadata": {
        "id": "Lsp8I1dtn40j",
        "colab_type": "code",
        "colab": {
          "base_uri": "https://localhost:8080/",
          "height": 73
        },
        "outputId": "cb0ecf2e-1496-4859-e3c9-42046381de25"
      },
      "source": [
        "cfg= eval(test_scores[0][0])\n",
        "order = cfg[0]\n",
        "s_order = cfg[1]\n",
        "trend = cfg[2]\n",
        "sarimax_pred = SARIMAX(\n",
        "    endog=df, order=order, seasonal_order=s_order, trend=trend,\n",
        "    enforce_stationarity=False, enforce_invertibility=False)\n",
        "\n",
        "model_sarimax_pred = sarimax_pred.fit(disp=False)\n",
        "\n",
        "fcast_sarimax = model_sarimax_pred.get_forecast(5)\n"
      ],
      "execution_count": 21,
      "outputs": [
        {
          "output_type": "stream",
          "text": [
            "/usr/local/lib/python3.6/dist-packages/statsmodels/tsa/base/tsa_model.py:165: ValueWarning: No frequency information was provided, so inferred frequency MS will be used.\n",
            "  % freq, ValueWarning)\n"
          ],
          "name": "stderr"
        }
      ]
    },
    {
      "cell_type": "code",
      "metadata": {
        "id": "rqZ3UU1gqBkG",
        "colab_type": "code",
        "colab": {}
      },
      "source": [
        "df_fcast = pd.concat([model_sarimax_pred.predict(), fcast_sarimax.predicted_mean], axis=0)"
      ],
      "execution_count": 22,
      "outputs": []
    },
    {
      "cell_type": "code",
      "metadata": {
        "id": "favbcK0yqbKV",
        "colab_type": "code",
        "colab": {
          "base_uri": "https://localhost:8080/",
          "height": 206
        },
        "outputId": "980401ab-10da-4eb6-85fd-2102ca0b16f0"
      },
      "source": [
        "df_fcast.name = 'fcast'\n",
        "df_fcast = pd.concat([df_fcast, fcast_sarimax.conf_int()], axis=1)\n",
        "df_fcast.tail()"
      ],
      "execution_count": 23,
      "outputs": [
        {
          "output_type": "execute_result",
          "data": {
            "text/html": [
              "<div>\n",
              "<style scoped>\n",
              "    .dataframe tbody tr th:only-of-type {\n",
              "        vertical-align: middle;\n",
              "    }\n",
              "\n",
              "    .dataframe tbody tr th {\n",
              "        vertical-align: top;\n",
              "    }\n",
              "\n",
              "    .dataframe thead th {\n",
              "        text-align: right;\n",
              "    }\n",
              "</style>\n",
              "<table border=\"1\" class=\"dataframe\">\n",
              "  <thead>\n",
              "    <tr style=\"text-align: right;\">\n",
              "      <th></th>\n",
              "      <th>fcast</th>\n",
              "      <th>lower estoques</th>\n",
              "      <th>upper estoques</th>\n",
              "    </tr>\n",
              "  </thead>\n",
              "  <tbody>\n",
              "    <tr>\n",
              "      <th>2020-08-01</th>\n",
              "      <td>418784.988623</td>\n",
              "      <td>412601.524723</td>\n",
              "      <td>424968.452523</td>\n",
              "    </tr>\n",
              "    <tr>\n",
              "      <th>2020-09-01</th>\n",
              "      <td>419868.408997</td>\n",
              "      <td>410238.942476</td>\n",
              "      <td>429497.875519</td>\n",
              "    </tr>\n",
              "    <tr>\n",
              "      <th>2020-10-01</th>\n",
              "      <td>420992.229955</td>\n",
              "      <td>408697.271857</td>\n",
              "      <td>433287.188053</td>\n",
              "    </tr>\n",
              "    <tr>\n",
              "      <th>2020-11-01</th>\n",
              "      <td>422186.332143</td>\n",
              "      <td>407949.039489</td>\n",
              "      <td>436423.624796</td>\n",
              "    </tr>\n",
              "    <tr>\n",
              "      <th>2020-12-01</th>\n",
              "      <td>423151.985000</td>\n",
              "      <td>407399.334846</td>\n",
              "      <td>438904.635155</td>\n",
              "    </tr>\n",
              "  </tbody>\n",
              "</table>\n",
              "</div>"
            ],
            "text/plain": [
              "                    fcast  lower estoques  upper estoques\n",
              "2020-08-01  418784.988623   412601.524723   424968.452523\n",
              "2020-09-01  419868.408997   410238.942476   429497.875519\n",
              "2020-10-01  420992.229955   408697.271857   433287.188053\n",
              "2020-11-01  422186.332143   407949.039489   436423.624796\n",
              "2020-12-01  423151.985000   407399.334846   438904.635155"
            ]
          },
          "metadata": {
            "tags": []
          },
          "execution_count": 23
        }
      ]
    },
    {
      "cell_type": "code",
      "metadata": {
        "id": "zKn4JeG7rFGz",
        "colab_type": "code",
        "colab": {}
      },
      "source": [
        "previsoes_sarimax = pd.concat(\n",
        "    [df['estoques'], df_fcast],\n",
        "    axis=1)"
      ],
      "execution_count": 24,
      "outputs": []
    },
    {
      "cell_type": "code",
      "metadata": {
        "id": "bGEGC6u2rb_v",
        "colab_type": "code",
        "colab": {
          "base_uri": "https://localhost:8080/",
          "height": 410
        },
        "outputId": "9b9ffb23-60fd-44c2-eed2-58c09a9d325c"
      },
      "source": [
        "fig, ax = plt.subplots(figsize=(16, 6))\n",
        "previsoes_sarimax.estoques.loc['2012-03-01':].plot(ax=ax, style='o', label='real')\n",
        "\n",
        "previsoes_sarimax.fcast.loc['2012-03-01':].plot(ax=ax, style='g--x', label='previsão')\n",
        "\n",
        "ax.fill_between(\n",
        "    previsoes_sarimax.index, \n",
        "    previsoes_sarimax.iloc[:,2], \n",
        "    previsoes_sarimax.iloc[:,3], color='g', alpha=0.1)\n",
        "\n",
        "plt.title('Estimativa do estoque de empregos formais para COMÉRCIO - PERNAMBUCO')\n",
        "legend = ax.legend(loc='lower left')"
      ],
      "execution_count": 25,
      "outputs": [
        {
          "output_type": "display_data",
          "data": {
            "image/png": "[encoded data removed]",
            "text/plain": [
              "<Figure size 1152x432 with 1 Axes>"
            ]
          },
          "metadata": {
            "tags": []
          }
        }
      ]
    },
    {
      "cell_type": "markdown",
      "metadata": {
        "id": "TwOU21Mn6kD7",
        "colab_type": "text"
      },
      "source": [
        "Até o fim do ano o saldo será:"
      ]
    },
    {
      "cell_type": "code",
      "metadata": {
        "id": "lqPZq_8a6ks9",
        "colab_type": "code",
        "colab": {
          "base_uri": "https://localhost:8080/",
          "height": 35
        },
        "outputId": "85a00872-4501-4318-edbf-aa9deed98062"
      },
      "source": [
        "fcast_sarimax.predicted_mean[-1] - df.estoques[-1]"
      ],
      "execution_count": 26,
      "outputs": [
        {
          "output_type": "execute_result",
          "data": {
            "text/plain": [
              "5271.985000296496"
            ]
          },
          "metadata": {
            "tags": []
          },
          "execution_count": 26
        }
      ]
    },
    {
      "cell_type": "code",
      "metadata": {
        "id": "V9UUWpve7hU0",
        "colab_type": "code",
        "colab": {}
      },
      "source": [
        "pred2020df = pd.DataFrame(df_saldo.saldo[-1] + fcast_sarimax.predicted_mean[-1] - df.estoques[-1], \n",
        "                          index=[\"2020\"], columns=['saldo'])\n",
        "pred2020df.index.name = \"Ano\"\n",
        "pred2020df.index = pd.to_datetime(pred2020df.index, format=\"%Y\")\n",
        "\n",
        "# df_saldo.update(pred2020df)\n",
        "# df_saldo.tail()"
      ],
      "execution_count": 27,
      "outputs": []
    },
    {
      "cell_type": "code",
      "metadata": {
        "id": "IKDPI80WCnQz",
        "colab_type": "code",
        "colab": {
          "base_uri": "https://localhost:8080/",
          "height": 363
        },
        "outputId": "42cdced6-fc88-4d09-e82f-9ba4e841bd1f"
      },
      "source": [
        "df_saldo_pred = pd.concat([df_saldo[1:][:-1], pred2020df], axis=0)\n",
        "df_saldo_pred"
      ],
      "execution_count": 28,
      "outputs": [
        {
          "output_type": "execute_result",
          "data": {
            "text/html": [
              "<div>\n",
              "<style scoped>\n",
              "    .dataframe tbody tr th:only-of-type {\n",
              "        vertical-align: middle;\n",
              "    }\n",
              "\n",
              "    .dataframe tbody tr th {\n",
              "        vertical-align: top;\n",
              "    }\n",
              "\n",
              "    .dataframe thead th {\n",
              "        text-align: right;\n",
              "    }\n",
              "</style>\n",
              "<table border=\"1\" class=\"dataframe\">\n",
              "  <thead>\n",
              "    <tr style=\"text-align: right;\">\n",
              "      <th></th>\n",
              "      <th>saldo</th>\n",
              "    </tr>\n",
              "  </thead>\n",
              "  <tbody>\n",
              "    <tr>\n",
              "      <th>2011-01-01</th>\n",
              "      <td>12564.000</td>\n",
              "    </tr>\n",
              "    <tr>\n",
              "      <th>2012-01-01</th>\n",
              "      <td>17338.000</td>\n",
              "    </tr>\n",
              "    <tr>\n",
              "      <th>2013-01-01</th>\n",
              "      <td>13457.000</td>\n",
              "    </tr>\n",
              "    <tr>\n",
              "      <th>2014-01-01</th>\n",
              "      <td>10121.000</td>\n",
              "    </tr>\n",
              "    <tr>\n",
              "      <th>2015-01-01</th>\n",
              "      <td>-9236.000</td>\n",
              "    </tr>\n",
              "    <tr>\n",
              "      <th>2016-01-01</th>\n",
              "      <td>-14214.000</td>\n",
              "    </tr>\n",
              "    <tr>\n",
              "      <th>2017-01-01</th>\n",
              "      <td>-346.000</td>\n",
              "    </tr>\n",
              "    <tr>\n",
              "      <th>2018-01-01</th>\n",
              "      <td>2395.000</td>\n",
              "    </tr>\n",
              "    <tr>\n",
              "      <th>2019-01-01</th>\n",
              "      <td>5297.000</td>\n",
              "    </tr>\n",
              "    <tr>\n",
              "      <th>2020-01-01</th>\n",
              "      <td>-14790.015</td>\n",
              "    </tr>\n",
              "  </tbody>\n",
              "</table>\n",
              "</div>"
            ],
            "text/plain": [
              "                saldo\n",
              "2011-01-01  12564.000\n",
              "2012-01-01  17338.000\n",
              "2013-01-01  13457.000\n",
              "2014-01-01  10121.000\n",
              "2015-01-01  -9236.000\n",
              "2016-01-01 -14214.000\n",
              "2017-01-01   -346.000\n",
              "2018-01-01   2395.000\n",
              "2019-01-01   5297.000\n",
              "2020-01-01 -14790.015"
            ]
          },
          "metadata": {
            "tags": []
          },
          "execution_count": 28
        }
      ]
    },
    {
      "cell_type": "code",
      "metadata": {
        "id": "5oQ4XJrJ_5Xj",
        "colab_type": "code",
        "colab": {
          "base_uri": "https://localhost:8080/",
          "height": 410
        },
        "outputId": "31bc1257-b6f8-45b0-bb65-38717aab2ffb"
      },
      "source": [
        "plt.figure(figsize=(12, 6))\n",
        "plt.bar(df_saldo_pred.index.year, df_saldo_pred.saldo)\n",
        "plt.title('Saldo de vagas - COMÉRCIO')\n",
        "plt.show();"
      ],
      "execution_count": 29,
      "outputs": [
        {
          "output_type": "display_data",
          "data": {
            "image/png": "[encoded data removed]",
            "text/plain": [
              "<Figure size 864x432 with 1 Axes>"
            ]
          },
          "metadata": {
            "tags": []
          }
        }
      ]
    }
  ]
}