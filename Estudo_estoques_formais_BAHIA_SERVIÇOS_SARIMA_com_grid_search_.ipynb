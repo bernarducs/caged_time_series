{
  "nbformat": 4,
  "nbformat_minor": 0,
  "metadata": {
    "colab": {
      "name": "Estudo estoques formais BAHIA - SERVIÇOS- SARIMA com grid search .ipynb",
      "provenance": [],
      "collapsed_sections": [],
      "toc_visible": true,
      "mount_file_id": "1kJg5bmcqNTvN8TY5KbzG2jsH7sp0StHd",
      "authorship_tag": "ABX9TyObQOKU87YHq0fA7cyYrGlr",
      "include_colab_link": true
    },
    "kernelspec": {
      "name": "python3",
      "display_name": "Python 3"
    }
  },
  "cells": [
    {
      "cell_type": "markdown",
      "metadata": {
        "id": "view-in-github",
        "colab_type": "text"
      },
      "source": [
        "<a href=\"https://colab.research.google.com/github/bernarducs/caged_time_series/blob/master/Estudo_estoques_formais_BAHIA_SERVI%C3%87OS_SARIMA_com_grid_search_.ipynb\" target=\"_parent\"><img src=\"https://colab.research.google.com/assets/colab-badge.svg\" alt=\"Open In Colab\"/></a>"
      ]
    },
    {
      "cell_type": "markdown",
      "metadata": {
        "id": "2xmOlNMYsw8u",
        "colab_type": "text"
      },
      "source": [
        "## Objetivo\n",
        "### Abaixo, utilizaremos funções que buscarão os melhores parâmetros para modelagem do método ARIMA com fator sazonal - SARIMA."
      ]
    },
    {
      "cell_type": "markdown",
      "metadata": {
        "id": "24n8i1qyCPaP",
        "colab_type": "text"
      },
      "source": [
        "Based on article: https://machinelearningmastery.com/how-to-grid-search-sarima-model-hyperparameters-for-time-series-forecasting-in-python/"
      ]
    },
    {
      "cell_type": "markdown",
      "metadata": {
        "id": "rG4qQ8BPtTXu",
        "colab_type": "text"
      },
      "source": [
        "## Pacotes"
      ]
    },
    {
      "cell_type": "code",
      "metadata": {
        "id": "Pfthvjm47P7O",
        "colab_type": "code",
        "colab": {}
      },
      "source": [
        "from math import sqrt\n",
        "from itertools import product\n",
        "import pandas as pd"
      ],
      "execution_count": 7,
      "outputs": []
    },
    {
      "cell_type": "code",
      "metadata": {
        "id": "FSpWQbok-kCQ",
        "colab_type": "code",
        "colab": {}
      },
      "source": [
        "# viz\n",
        "import matplotlib.pyplot as plt\n",
        "import seaborn as sns\n",
        "sns.set_style(\"darkgrid\")\n",
        "sns.set_context(\"talk\")"
      ],
      "execution_count": 8,
      "outputs": []
    },
    {
      "cell_type": "code",
      "metadata": {
        "id": "G9feBiuUFNMo",
        "colab_type": "code",
        "colab": {}
      },
      "source": [
        "# multiprocessing\n",
        "from multiprocessing import cpu_count\n",
        "from joblib import Parallel\n",
        "from joblib import delayed\n",
        "from warnings import catch_warnings\n",
        "from warnings import filterwarnings"
      ],
      "execution_count": 9,
      "outputs": []
    },
    {
      "cell_type": "code",
      "metadata": {
        "id": "NsgI-Fff54pZ",
        "colab_type": "code",
        "colab": {}
      },
      "source": [
        "# stats\n",
        "from statsmodels.tsa.statespace.sarimax import SARIMAX\n",
        "from sklearn.metrics import mean_squared_error"
      ],
      "execution_count": 10,
      "outputs": []
    },
    {
      "cell_type": "markdown",
      "metadata": {
        "id": "_z6oSAbntYl6",
        "colab_type": "text"
      },
      "source": [
        "## Datasets"
      ]
    },
    {
      "cell_type": "code",
      "metadata": {
        "id": "RIhuGLGa6wWS",
        "colab_type": "code",
        "colab": {}
      },
      "source": [
        "# df = pd.read_csv(\"https://raw.githubusercontent.com/EraylsonGaldino/dataset_time_series/master/traffic.txt\", names=['col'])\n",
        "# df.index = pd.date_range(start='1/1/2016', freq=\"D\", periods=len(df))"
      ],
      "execution_count": 11,
      "outputs": []
    },
    {
      "cell_type": "markdown",
      "metadata": {
        "id": "otBiszKBDdt1",
        "colab_type": "text"
      },
      "source": [
        "#### Estoques"
      ]
    },
    {
      "cell_type": "code",
      "metadata": {
        "id": "txvZzuuraHQd",
        "colab_type": "code",
        "colab": {
          "base_uri": "https://localhost:8080/",
          "height": 237
        },
        "outputId": "ad51a53d-fb3d-44c8-fd36-49f8307d6630"
      },
      "source": [
        "file_path = \"/content/drive/My Drive/Colab Notebooks/emprego/bases/estoque_ba_servicos.xlsx\"\n",
        "df = pd.read_excel(file_path, index_col='ano_mes')\n",
        "df.columns = ['estoques']\n",
        "df.index = pd.to_datetime(df.index, format=\"%Y%m\")\n",
        "df.tail()"
      ],
      "execution_count": 12,
      "outputs": [
        {
          "output_type": "execute_result",
          "data": {
            "text/html": [
              "<div>\n",
              "<style scoped>\n",
              "    .dataframe tbody tr th:only-of-type {\n",
              "        vertical-align: middle;\n",
              "    }\n",
              "\n",
              "    .dataframe tbody tr th {\n",
              "        vertical-align: top;\n",
              "    }\n",
              "\n",
              "    .dataframe thead th {\n",
              "        text-align: right;\n",
              "    }\n",
              "</style>\n",
              "<table border=\"1\" class=\"dataframe\">\n",
              "  <thead>\n",
              "    <tr style=\"text-align: right;\">\n",
              "      <th></th>\n",
              "      <th>estoques</th>\n",
              "    </tr>\n",
              "    <tr>\n",
              "      <th>ano_mes</th>\n",
              "      <th></th>\n",
              "    </tr>\n",
              "  </thead>\n",
              "  <tbody>\n",
              "    <tr>\n",
              "      <th>2020-03-01</th>\n",
              "      <td>791969</td>\n",
              "    </tr>\n",
              "    <tr>\n",
              "      <th>2020-04-01</th>\n",
              "      <td>776007</td>\n",
              "    </tr>\n",
              "    <tr>\n",
              "      <th>2020-05-01</th>\n",
              "      <td>769498</td>\n",
              "    </tr>\n",
              "    <tr>\n",
              "      <th>2020-06-01</th>\n",
              "      <td>768440</td>\n",
              "    </tr>\n",
              "    <tr>\n",
              "      <th>2020-07-01</th>\n",
              "      <td>768146</td>\n",
              "    </tr>\n",
              "  </tbody>\n",
              "</table>\n",
              "</div>"
            ],
            "text/plain": [
              "            estoques\n",
              "ano_mes             \n",
              "2020-03-01    791969\n",
              "2020-04-01    776007\n",
              "2020-05-01    769498\n",
              "2020-06-01    768440\n",
              "2020-07-01    768146"
            ]
          },
          "metadata": {
            "tags": []
          },
          "execution_count": 12
        }
      ]
    },
    {
      "cell_type": "markdown",
      "metadata": {
        "id": "L08HxaiEDhD3",
        "colab_type": "text"
      },
      "source": [
        "#### Saldo"
      ]
    },
    {
      "cell_type": "code",
      "metadata": {
        "id": "CnnGhP3hDhYb",
        "colab_type": "code",
        "colab": {
          "base_uri": "https://localhost:8080/",
          "height": 237
        },
        "outputId": "fd4a2d8d-e6d1-478e-b971-5541aece70a6"
      },
      "source": [
        "file_path2 = \"/content/drive/My Drive/Colab Notebooks/emprego/bases/saldo_caged_servicos_ba.xlsx\"\n",
        "df_saldo = pd.read_excel(file_path2)\n",
        "df_saldo.columns = ['ano', 'saldo']\n",
        "df_saldo.set_index('ano', inplace=True)\n",
        "df_saldo.index = pd.to_datetime(df_saldo.index, format=\"%Y\")\n",
        "df_saldo.tail()"
      ],
      "execution_count": 13,
      "outputs": [
        {
          "output_type": "execute_result",
          "data": {
            "text/html": [
              "<div>\n",
              "<style scoped>\n",
              "    .dataframe tbody tr th:only-of-type {\n",
              "        vertical-align: middle;\n",
              "    }\n",
              "\n",
              "    .dataframe tbody tr th {\n",
              "        vertical-align: top;\n",
              "    }\n",
              "\n",
              "    .dataframe thead th {\n",
              "        text-align: right;\n",
              "    }\n",
              "</style>\n",
              "<table border=\"1\" class=\"dataframe\">\n",
              "  <thead>\n",
              "    <tr style=\"text-align: right;\">\n",
              "      <th></th>\n",
              "      <th>saldo</th>\n",
              "    </tr>\n",
              "    <tr>\n",
              "      <th>ano</th>\n",
              "      <th></th>\n",
              "    </tr>\n",
              "  </thead>\n",
              "  <tbody>\n",
              "    <tr>\n",
              "      <th>2016-01-01</th>\n",
              "      <td>-30707</td>\n",
              "    </tr>\n",
              "    <tr>\n",
              "      <th>2017-01-01</th>\n",
              "      <td>2723</td>\n",
              "    </tr>\n",
              "    <tr>\n",
              "      <th>2018-01-01</th>\n",
              "      <td>22918</td>\n",
              "    </tr>\n",
              "    <tr>\n",
              "      <th>2019-01-01</th>\n",
              "      <td>10016</td>\n",
              "    </tr>\n",
              "    <tr>\n",
              "      <th>2020-01-01</th>\n",
              "      <td>-27487</td>\n",
              "    </tr>\n",
              "  </tbody>\n",
              "</table>\n",
              "</div>"
            ],
            "text/plain": [
              "            saldo\n",
              "ano              \n",
              "2016-01-01 -30707\n",
              "2017-01-01   2723\n",
              "2018-01-01  22918\n",
              "2019-01-01  10016\n",
              "2020-01-01 -27487"
            ]
          },
          "metadata": {
            "tags": []
          },
          "execution_count": 13
        }
      ]
    },
    {
      "cell_type": "markdown",
      "metadata": {
        "id": "9oLA0W8ftenV",
        "colab_type": "text"
      },
      "source": [
        "## Rotinas\n",
        "\n",
        "Aqui temos funções para o sarima em 1 passo (faz a predição para t+1). A próxima função é raiz quadrada dos erros médios e por fim a função responsável por separação do dataset entre teste e treino."
      ]
    },
    {
      "cell_type": "code",
      "metadata": {
        "id": "nG_TDMvf6JhI",
        "colab_type": "code",
        "colab": {}
      },
      "source": [
        "# one-step sarima forecast\n",
        "def sarima_forecast(history, config):\n",
        "\torder, sorder, trend = config\n",
        "\t# define model\n",
        "\tmodel = SARIMAX(history, order=order, seasonal_order=sorder, trend=trend, \n",
        "                 enforce_stationarity=False, enforce_invertibility=False)\n",
        "\t# fit model\n",
        "\tmodel_fit = model.fit(disp=False)\n",
        "\t# make one step forecast\n",
        "\tyhat = model_fit.predict()\n",
        "\treturn yhat\n",
        " \n",
        "# root mean squared error or rmse\n",
        "def measure_rmse(actual, predicted):\n",
        "\treturn sqrt(mean_squared_error(actual, predicted))\n",
        " \n",
        "# split a univariate dataset into train/test sets\n",
        "def train_test_split(data, percent_test=0.25):\n",
        "  n_test = int(len(data) * percent_test)\n",
        "  return data[:-n_test], data[-n_test:]"
      ],
      "execution_count": 14,
      "outputs": []
    },
    {
      "cell_type": "markdown",
      "metadata": {
        "id": "WPe8kgqauCk-",
        "colab_type": "text"
      },
      "source": [
        "Aqui usamos a funções acima retornando o quadrado dos desvios."
      ]
    },
    {
      "cell_type": "code",
      "metadata": {
        "id": "w4gmgXxd9rL7",
        "colab_type": "code",
        "colab": {}
      },
      "source": [
        "# walk-forward validation for univariate data\n",
        "def walk_forward_validation(data, percent_test, cfg):\n",
        "\n",
        "  # split dataset\n",
        "  train, test = train_test_split(data, percent_test)\n",
        "\n",
        "  # fit model and make forecast for history\n",
        "  yhat = sarima_forecast(train, cfg)\n",
        "\n",
        "  # estimate prediction error\n",
        "  error = measure_rmse(train, yhat)\n",
        "  return error  "
      ],
      "execution_count": 15,
      "outputs": []
    },
    {
      "cell_type": "markdown",
      "metadata": {
        "id": "As6bSAOUuLIG",
        "colab_type": "text"
      },
      "source": [
        "Avalia qual a melhor configuração de parâmetros `cfg` tem a melhor avaliação, ou seja, o menor erro."
      ]
    },
    {
      "cell_type": "code",
      "metadata": {
        "id": "tkYM4hBsMjsD",
        "colab_type": "code",
        "colab": {}
      },
      "source": [
        "def score_model(data, n_test, cfg, debug=False):\n",
        "  result = None\n",
        "  # convert config to a key\n",
        "  key = str(cfg)\n",
        "  # show all warnings and fail on exception if debugging\n",
        "  if debug:\n",
        "    result = walk_forward_validation(data, n_test, cfg)\n",
        "  else:\n",
        "    # one failure during model validation suggests an unstable config\n",
        "    try:\n",
        "      # never show warnings when grid searching, too noisy\n",
        "      with catch_warnings():\n",
        "        filterwarnings(\"ignore\")\n",
        "        result = walk_forward_validation(data, n_test, cfg)\n",
        "    except:\n",
        "      error = None\n",
        "  # check for an interesting result\n",
        "  if result is not None:\n",
        "    print(' > Model[%s] %.3f' % (key, result))\n",
        "  return (key, result)"
      ],
      "execution_count": 16,
      "outputs": []
    },
    {
      "cell_type": "code",
      "metadata": {
        "id": "ZT8jnDItMuXh",
        "colab_type": "code",
        "colab": {}
      },
      "source": [
        "# grid search configs\n",
        "def grid_search(data, cfg_list, n_test, parallel=True):\n",
        "  scores = None\n",
        "  if parallel:\n",
        "    # execute configs in parallel\n",
        "    executor = Parallel(n_jobs=cpu_count(), backend='multiprocessing')\n",
        "    tasks = (delayed(score_model)(data, n_test, cfg) for cfg in cfg_list)\n",
        "    scores = executor(tasks)\n",
        "  else:\n",
        "    scores = [score_model(data, n_test, cfg) for cfg in cfg_list]\n",
        "  # remove empty results\n",
        "  scores = [r for r in scores if r[1] != None]\n",
        "  # sort configs by error, asc\n",
        "  scores.sort(key=lambda tup: tup[1])\n",
        "  return scores"
      ],
      "execution_count": 17,
      "outputs": []
    },
    {
      "cell_type": "code",
      "metadata": {
        "id": "vRFAwENkt4np",
        "colab_type": "code",
        "colab": {}
      },
      "source": [
        "# evaluating grid search results for test data\n",
        "def test_grid_search_results(data, scores, ntop_scores=5):\n",
        "\n",
        "  if ntop_scores > len(scores):\n",
        "    ntop_scores = 5\n",
        "\n",
        "  scores_test = list()\n",
        "  _, test = train_test_split(data, percent_test=0.4)  \n",
        "\n",
        "  for cfg_str, _ in scores[:ntop_scores]:\n",
        "    cfg = eval(cfg_str)\n",
        "    with catch_warnings():\n",
        "      filterwarnings(\"ignore\")\n",
        "      yhat = sarima_forecast(test, cfg)\n",
        "    error = measure_rmse(test, yhat)\n",
        "    result = (cfg_str, error)\n",
        "    print(result)\n",
        "    scores_test.append(result)\n",
        "  \n",
        "  scores_test.sort(key=lambda tup: tup[1])\n",
        "  return scores_test"
      ],
      "execution_count": 18,
      "outputs": []
    },
    {
      "cell_type": "code",
      "metadata": {
        "id": "QyxmozW79v8i",
        "colab_type": "code",
        "colab": {}
      },
      "source": [
        "def plot_model(data, cfg):\n",
        "  order = cfg[0]\n",
        "  s_order = cfg[1]\n",
        "  trend = cfg[2]\n",
        "  sarimax_pred = SARIMAX(\n",
        "      endog=df, order=order, seasonal_order=s_order, trend=trend,\n",
        "      enforce_stationarity=False, enforce_invertibility=False)\n",
        "\n",
        "  model_sarimax_pred = sarimax_pred.fit(disp=False)\n",
        "\n",
        "  previsao_sarimax = model_sarimax_pred.predict()\n",
        "\n",
        "  error = measure_rmse(df, previsao_sarimax)\n",
        "  print('Error:', error)\n",
        "\n",
        "  plt.figure(figsize=(22, 10))\n",
        "  plt.plot(previsao_sarimax[10:], label = 'forecast')\n",
        "  plt.plot(df[10:], label = 'target')\n",
        "  plt.title('Target x Forecast')\n",
        "  plt.legend()\n",
        "  plt.show()"
      ],
      "execution_count": 19,
      "outputs": []
    },
    {
      "cell_type": "code",
      "metadata": {
        "id": "WO8ntgVZPxJX",
        "colab_type": "code",
        "colab": {}
      },
      "source": [
        "def sarima_configs(seasonal=[12]):\n",
        "  models = list()\n",
        "  # define config lists\n",
        "  p_params = [0, 1, 2]\n",
        "  d_params = [0, 1]\n",
        "  q_params = [0, 1, 2]\n",
        "  t_params = ['n','c','t','ct']\n",
        "  P_params = [0, 1, 2]\n",
        "  D_params = [0, 1]\n",
        "  Q_params = [0, 1]\n",
        "  m_params = seasonal\n",
        "  # create config instances\n",
        "  for p, d, q, t, P, D, Q, m in product(p_params, d_params, q_params, t_params, P_params, D_params, Q_params, m_params):\n",
        "    cfg = [(p,d,q), (P,D,Q,m), t]\n",
        "    models.append(cfg)\n",
        "  return models"
      ],
      "execution_count": 20,
      "outputs": []
    },
    {
      "cell_type": "markdown",
      "metadata": {
        "id": "80wqYsTau8DJ",
        "colab_type": "text"
      },
      "source": [
        "## Gerando modelo"
      ]
    },
    {
      "cell_type": "code",
      "metadata": {
        "id": "FPy0vStORq8h",
        "colab_type": "code",
        "colab": {
          "base_uri": "https://localhost:8080/",
          "height": 1000
        },
        "outputId": "38f119c2-2d81-4da3-fb81-c53d1d8ca955"
      },
      "source": [
        "cfg_list = sarima_configs(seasonal=[12])\n",
        "scores = grid_search(df, cfg_list, 0.25)"
      ],
      "execution_count": 21,
      "outputs": [
        {
          "output_type": "stream",
          "text": [
            " > Model[[(0, 0, 0), (0, 0, 0, 12), 'n']] 767717.752\n",
            " > Model[[(0, 0, 0), (0, 1, 0, 12), 'n']] 258783.491\n",
            " > Model[[(0, 0, 0), (0, 0, 1, 12), 'n']] 100733467085.484\n",
            " > Model[[(0, 0, 0), (0, 1, 1, 12), 'n']] 257957.255\n",
            " > Model[[(0, 0, 0), (1, 0, 0, 12), 'n']] 258666.712\n",
            " > Model[[(0, 0, 0), (1, 1, 0, 12), 'n']] 275445.446\n",
            " > Model[[(0, 0, 0), (1, 0, 1, 12), 'n']] 257941.589\n",
            " > Model[[(0, 0, 0), (1, 1, 1, 12), 'n']] 277674.426\n",
            " > Model[[(0, 0, 0), (2, 0, 0, 12), 'n']] 286577.441\n",
            " > Model[[(0, 0, 0), (2, 1, 0, 12), 'n']] 284055.895\n",
            " > Model[[(0, 0, 0), (2, 0, 1, 12), 'n']] 278138.591\n",
            " > Model[[(0, 0, 0), (0, 0, 0, 12), 'c']] 81762.892\n",
            " > Model[[(0, 0, 0), (2, 1, 1, 12), 'n']] 346844.015\n",
            " > Model[[(0, 0, 0), (0, 1, 0, 12), 'c']] 255316.534\n",
            " > Model[[(0, 0, 0), (0, 0, 1, 12), 'c']] 85448.657\n",
            " > Model[[(0, 0, 0), (0, 1, 1, 12), 'c']] 255023.612\n",
            " > Model[[(0, 0, 0), (1, 1, 0, 12), 'c']] 264251.401\n",
            " > Model[[(0, 0, 0), (1, 0, 0, 12), 'c']] 80818.539\n",
            " > Model[[(0, 0, 0), (1, 0, 1, 12), 'c']] 79532.634\n",
            " > Model[[(0, 0, 0), (1, 1, 1, 12), 'c']] 274127.808\n",
            " > Model[[(0, 0, 0), (2, 0, 0, 12), 'c']] 142405.125\n",
            " > Model[[(0, 0, 0), (2, 1, 0, 12), 'c']] 307245.844\n",
            " > Model[[(0, 0, 0), (2, 0, 1, 12), 'c']] 234429.710\n",
            " > Model[[(0, 0, 0), (0, 0, 0, 12), 't']] 371844.349\n",
            " > Model[[(0, 0, 0), (0, 0, 1, 12), 't']] 14810993733.693\n",
            " > Model[[(0, 0, 0), (0, 1, 0, 12), 't']] 258883.325\n",
            " > Model[[(0, 0, 0), (2, 1, 1, 12), 'c']] 391601.370\n",
            " > Model[[(0, 0, 0), (0, 1, 1, 12), 't']] 258168.550\n",
            " > Model[[(0, 0, 0), (1, 0, 0, 12), 't']] 260319.657\n",
            " > Model[[(0, 0, 0), (1, 0, 1, 12), 't']] 286026.909\n",
            " > Model[[(0, 0, 0), (1, 1, 0, 12), 't']] 279075.392\n",
            " > Model[[(0, 0, 0), (2, 0, 0, 12), 't']] 1717648.336\n",
            " > Model[[(0, 0, 0), (1, 1, 1, 12), 't']] 258103.627\n",
            " > Model[[(0, 0, 0), (2, 0, 1, 12), 't']] 305616.738\n",
            " > Model[[(0, 0, 0), (0, 0, 0, 12), 'ct']] 79862.718\n",
            " > Model[[(0, 0, 0), (0, 0, 1, 12), 'ct']] 78400.144\n",
            " > Model[[(0, 0, 0), (0, 1, 0, 12), 'ct']] 238926.951\n",
            " > Model[[(0, 0, 0), (2, 1, 0, 12), 't']] 272507.104\n",
            " > Model[[(0, 0, 0), (0, 1, 1, 12), 'ct']] 239594.500\n",
            " > Model[[(0, 0, 0), (1, 0, 0, 12), 'ct']] 77464.066\n",
            " > Model[[(0, 0, 0), (1, 0, 1, 12), 'ct']] 78124.247\n",
            " > Model[[(0, 0, 0), (2, 1, 1, 12), 't']] 312068.132\n",
            " > Model[[(0, 0, 0), (1, 1, 0, 12), 'ct']] 238918.064\n",
            " > Model[[(0, 0, 0), (2, 0, 0, 12), 'ct']] 88344.325\n",
            " > Model[[(0, 0, 0), (1, 1, 1, 12), 'ct']] 239417.357\n",
            " > Model[[(0, 0, 0), (2, 0, 1, 12), 'ct']] 310684.702\n",
            " > Model[[(0, 0, 1), (0, 0, 0, 12), 'n']] 414968.998\n",
            " > Model[[(0, 0, 1), (0, 0, 1, 12), 'n']] 37150378027.101\n",
            " > Model[[(0, 0, 1), (0, 1, 0, 12), 'n']] 1449997.879\n",
            " > Model[[(0, 0, 1), (0, 1, 1, 12), 'n']] 763558.095\n",
            " > Model[[(0, 0, 0), (2, 1, 0, 12), 'ct']] 240077.712\n",
            " > Model[[(0, 0, 1), (1, 0, 0, 12), 'n']] 221367.947\n",
            " > Model[[(0, 0, 1), (1, 0, 1, 12), 'n']] 65960544.934\n",
            " > Model[[(0, 0, 1), (1, 1, 0, 12), 'n']] 204571.282\n",
            " > Model[[(0, 0, 1), (1, 1, 1, 12), 'n']] 738199.944\n",
            " > Model[[(0, 0, 1), (2, 0, 0, 12), 'n']] 37810930.477\n",
            " > Model[[(0, 0, 0), (2, 1, 1, 12), 'ct']] 280651.676\n",
            " > Model[[(0, 0, 1), (2, 0, 1, 12), 'n']] 38122947.220\n",
            " > Model[[(0, 0, 1), (0, 0, 0, 12), 'c']] 76028.489\n",
            " > Model[[(0, 0, 1), (0, 0, 1, 12), 'c']] 802915.592\n",
            " > Model[[(0, 0, 1), (0, 1, 0, 12), 'c']] 1394363.863\n",
            " > Model[[(0, 0, 1), (2, 1, 0, 12), 'n']] 627933.915\n",
            " > Model[[(0, 0, 1), (0, 1, 1, 12), 'c']] 177539.091\n",
            " > Model[[(0, 0, 1), (1, 0, 0, 12), 'c']] 859301.694\n",
            " > Model[[(0, 0, 1), (1, 0, 1, 12), 'c']] 850958.935\n",
            " > Model[[(0, 0, 1), (1, 1, 0, 12), 'c']] 196883.817\n",
            " > Model[[(0, 0, 1), (2, 1, 1, 12), 'n']] 184069.176\n",
            " > Model[[(0, 0, 1), (1, 1, 1, 12), 'c']] 201675.650\n",
            " > Model[[(0, 0, 1), (2, 0, 0, 12), 'c']] 852489.905\n",
            " > Model[[(0, 0, 1), (2, 1, 0, 12), 'c']] 614756.228\n",
            " > Model[[(0, 0, 1), (2, 0, 1, 12), 'c']] 860681.140\n",
            " > Model[[(0, 0, 1), (0, 0, 0, 12), 't']] 221423.144\n",
            " > Model[[(0, 0, 1), (0, 0, 1, 12), 't']] 2829103809568.265\n",
            " > Model[[(0, 0, 1), (0, 1, 0, 12), 't']] 1414700.970\n",
            " > Model[[(0, 0, 1), (2, 1, 1, 12), 'c']] 614754.337\n",
            " > Model[[(0, 0, 1), (0, 1, 1, 12), 't']] 178555.248\n",
            " > Model[[(0, 0, 1), (1, 0, 0, 12), 't']] 220000.812\n",
            " > Model[[(0, 0, 1), (1, 0, 1, 12), 't']] 27501851.269\n",
            " > Model[[(0, 0, 1), (1, 1, 0, 12), 't']] 207135.780\n",
            " > Model[[(0, 0, 1), (1, 1, 1, 12), 't']] 720683.513\n",
            " > Model[[(0, 0, 1), (2, 0, 0, 12), 't']] 60700096.516\n",
            " > Model[[(0, 0, 1), (2, 0, 1, 12), 't']] 16017997.113\n",
            " > Model[[(0, 0, 1), (2, 1, 0, 12), 't']] 231042.582\n",
            " > Model[[(0, 0, 1), (0, 0, 0, 12), 'ct']] 75195.199\n",
            " > Model[[(0, 0, 1), (2, 1, 1, 12), 't']] 608141.855\n",
            " > Model[[(0, 0, 1), (0, 1, 0, 12), 'ct']] 634125.334\n",
            " > Model[[(0, 0, 1), (0, 0, 1, 12), 'ct']] 575456.909\n",
            " > Model[[(0, 0, 1), (1, 0, 0, 12), 'ct']] 75156.669\n",
            " > Model[[(0, 0, 1), (1, 0, 1, 12), 'ct']] 74825.931\n",
            " > Model[[(0, 0, 1), (0, 1, 1, 12), 'ct']] 340905.009\n",
            " > Model[[(0, 0, 1), (1, 1, 0, 12), 'ct']] 345570.295\n",
            " > Model[[(0, 0, 1), (2, 0, 0, 12), 'ct']] 178750.006\n",
            " > Model[[(0, 0, 1), (1, 1, 1, 12), 'ct']] 333492.638\n",
            " > Model[[(0, 0, 1), (2, 0, 1, 12), 'ct']] 287829.613\n",
            " > Model[[(0, 0, 1), (2, 1, 0, 12), 'ct']] 294306.101\n",
            " > Model[[(0, 0, 2), (0, 0, 0, 12), 'n']] 269096.605\n",
            " > Model[[(0, 0, 2), (0, 0, 1, 12), 'n']] 134759962222271.047\n",
            " > Model[[(0, 0, 2), (0, 1, 0, 12), 'n']] 1162250.914\n",
            " > Model[[(0, 0, 2), (0, 1, 1, 12), 'n']] 1035966.302\n",
            " > Model[[(0, 0, 1), (2, 1, 1, 12), 'ct']] 297080.158\n",
            " > Model[[(0, 0, 2), (1, 0, 0, 12), 'n']] 218557.576\n",
            " > Model[[(0, 0, 2), (1, 0, 1, 12), 'n']] 152947.553\n",
            " > Model[[(0, 0, 2), (1, 1, 0, 12), 'n']] 160622.681\n",
            " > Model[[(0, 0, 2), (1, 1, 1, 12), 'n']] 1172096.662\n",
            " > Model[[(0, 0, 2), (2, 0, 1, 12), 'n']] 174712.072\n",
            " > Model[[(0, 0, 2), (2, 0, 0, 12), 'n']] 201532.296\n",
            " > Model[[(0, 0, 2), (2, 1, 0, 12), 'n']] 253420.779\n",
            " > Model[[(0, 0, 2), (2, 1, 1, 12), 'n']] 336509.912\n",
            " > Model[[(0, 0, 2), (0, 0, 0, 12), 'c']] 100487.631\n",
            " > Model[[(0, 0, 2), (0, 1, 0, 12), 'c']] 1139835.968\n",
            " > Model[[(0, 0, 2), (0, 0, 1, 12), 'c']] 2960120.488\n",
            " > Model[[(0, 0, 2), (1, 0, 0, 12), 'c']] 771541.899\n",
            " > Model[[(0, 0, 2), (0, 1, 1, 12), 'c']] 1012407.594\n",
            " > Model[[(0, 0, 2), (1, 0, 1, 12), 'c']] 769633.223\n",
            " > Model[[(0, 0, 2), (1, 1, 0, 12), 'c']] 159145.177\n",
            " > Model[[(0, 0, 2), (1, 1, 1, 12), 'c']] 1062505.093\n",
            " > Model[[(0, 0, 2), (2, 0, 0, 12), 'c']] 786772.794\n",
            " > Model[[(0, 0, 2), (2, 0, 1, 12), 'c']] 817635.443\n",
            " > Model[[(0, 0, 2), (2, 1, 0, 12), 'c']] 252881.805\n",
            " > Model[[(0, 0, 2), (0, 0, 0, 12), 't']] 166171.027\n",
            " > Model[[(0, 0, 2), (0, 0, 1, 12), 't']] 494642128676.023\n",
            " > Model[[(0, 0, 2), (2, 1, 1, 12), 'c']] 315227.469\n",
            " > Model[[(0, 0, 2), (0, 1, 0, 12), 't']] 1109955.393\n",
            " > Model[[(0, 0, 2), (1, 0, 0, 12), 't']] 31499888.804\n",
            " > Model[[(0, 0, 2), (0, 1, 1, 12), 't']] 1090649.192\n",
            " > Model[[(0, 0, 2), (1, 0, 1, 12), 't']] 174676.569\n",
            " > Model[[(0, 0, 2), (1, 1, 0, 12), 't']] 161079.039\n",
            " > Model[[(0, 0, 2), (2, 0, 0, 12), 't']] 361560.192\n",
            " > Model[[(0, 0, 2), (1, 1, 1, 12), 't']] 162312.853\n",
            " > Model[[(0, 0, 2), (2, 0, 1, 12), 't']] 163888.734\n",
            " > Model[[(0, 0, 2), (2, 1, 0, 12), 't']] 514514.641\n",
            " > Model[[(0, 0, 2), (0, 0, 0, 12), 'ct']] 74122.896\n",
            " > Model[[(0, 0, 2), (0, 0, 1, 12), 'ct']] 2105348.759\n",
            " > Model[[(0, 0, 2), (0, 1, 0, 12), 'ct']] 156757.387\n",
            " > Model[[(0, 0, 2), (2, 1, 1, 12), 't']] 832009.537\n",
            " > Model[[(0, 0, 2), (1, 0, 0, 12), 'ct']] 74602.653\n",
            " > Model[[(0, 0, 2), (1, 0, 1, 12), 'ct']] 74078.807\n",
            " > Model[[(0, 0, 2), (0, 1, 1, 12), 'ct']] 458611.531\n",
            " > Model[[(0, 0, 2), (1, 1, 0, 12), 'ct']] 417078.044\n",
            " > Model[[(0, 0, 2), (2, 0, 0, 12), 'ct']] 152556.295\n",
            " > Model[[(0, 0, 2), (2, 0, 1, 12), 'ct']] 74380.324\n",
            " > Model[[(0, 0, 2), (1, 1, 1, 12), 'ct']] 164690.950\n",
            " > Model[[(0, 0, 2), (2, 1, 1, 12), 'ct']] 321509.611\n",
            " > Model[[(0, 1, 0), (0, 0, 0, 12), 'n']] 72655.055\n",
            " > Model[[(0, 1, 0), (0, 0, 1, 12), 'n']] 72652.983\n",
            " > Model[[(0, 1, 0), (0, 1, 0, 12), 'n']] 85881.999\n",
            " > Model[[(0, 1, 0), (0, 1, 1, 12), 'n']] 86181.120\n",
            " > Model[[(0, 1, 0), (1, 0, 0, 12), 'n']] 72640.907\n",
            " > Model[[(0, 1, 0), (1, 0, 1, 12), 'n']] 72626.816\n",
            " > Model[[(0, 1, 0), (1, 1, 0, 12), 'n']] 84611.860\n",
            " > Model[[(0, 0, 2), (2, 1, 0, 12), 'ct']] 227086.700\n",
            " > Model[[(0, 1, 0), (2, 0, 0, 12), 'n']] 73364.344\n",
            " > Model[[(0, 1, 0), (1, 1, 1, 12), 'n']] 86499.202\n",
            " > Model[[(0, 1, 0), (2, 1, 0, 12), 'n']] 88549.336\n",
            " > Model[[(0, 1, 0), (2, 0, 1, 12), 'n']] 73962.659\n",
            " > Model[[(0, 1, 0), (0, 0, 0, 12), 'c']] 72648.393\n",
            " > Model[[(0, 1, 0), (0, 0, 1, 12), 'c']] 72647.766\n",
            " > Model[[(0, 1, 0), (0, 1, 0, 12), 'c']] 85848.898\n",
            " > Model[[(0, 1, 0), (0, 1, 1, 12), 'c']] 86164.615\n",
            " > Model[[(0, 1, 0), (1, 0, 0, 12), 'c']] 72620.832\n",
            " > Model[[(0, 1, 0), (1, 0, 1, 12), 'c']] 72607.098\n",
            " > Model[[(0, 1, 0), (1, 1, 0, 12), 'c']] 85050.542\n",
            " > Model[[(0, 1, 0), (1, 1, 1, 12), 'c']] 86984.196\n",
            " > Model[[(0, 1, 0), (2, 0, 0, 12), 'c']] 73688.951\n",
            " > Model[[(0, 1, 0), (2, 1, 1, 12), 'n']] 82365.723\n",
            " > Model[[(0, 1, 0), (2, 0, 1, 12), 'c']] 73239.499\n",
            " > Model[[(0, 1, 0), (2, 1, 0, 12), 'c']] 88342.490\n",
            " > Model[[(0, 1, 0), (0, 0, 0, 12), 't']] 72654.973\n",
            " > Model[[(0, 1, 0), (0, 0, 1, 12), 't']] 72653.099\n",
            " > Model[[(0, 1, 0), (0, 1, 0, 12), 't']] 85880.771\n",
            " > Model[[(0, 1, 0), (0, 1, 1, 12), 't']] 86182.109\n",
            " > Model[[(0, 1, 0), (1, 0, 0, 12), 't']] 72639.097\n",
            " > Model[[(0, 1, 0), (1, 0, 1, 12), 't']] 72627.915\n",
            " > Model[[(0, 1, 0), (1, 1, 0, 12), 't']] 85194.094\n",
            " > Model[[(0, 1, 0), (2, 1, 1, 12), 'c']] 83172.921\n",
            " > Model[[(0, 1, 0), (1, 1, 1, 12), 't']] 87889.820\n",
            " > Model[[(0, 1, 0), (2, 0, 0, 12), 't']] 73750.655\n",
            " > Model[[(0, 1, 0), (2, 0, 1, 12), 't']] 74844.231\n",
            " > Model[[(0, 1, 0), (2, 1, 0, 12), 't']] 88488.978\n",
            " > Model[[(0, 1, 0), (0, 0, 0, 12), 'ct']] 72622.374\n",
            " > Model[[(0, 1, 0), (0, 0, 1, 12), 'ct']] 72622.201\n",
            " > Model[[(0, 1, 0), (0, 1, 0, 12), 'ct']] 85767.106\n",
            " > Model[[(0, 1, 0), (0, 1, 1, 12), 'ct']] 86079.499\n",
            " > Model[[(0, 1, 0), (1, 0, 0, 12), 'ct']] 72703.844\n",
            " > Model[[(0, 1, 0), (1, 0, 1, 12), 'ct']] 72821.698\n",
            " > Model[[(0, 1, 0), (2, 1, 1, 12), 't']] 82375.858\n",
            " > Model[[(0, 1, 0), (1, 1, 0, 12), 'ct']] 85036.985\n",
            " > Model[[(0, 1, 0), (2, 0, 0, 12), 'ct']] 73304.542\n",
            " > Model[[(0, 1, 0), (1, 1, 1, 12), 'ct']] 87513.188\n",
            " > Model[[(0, 1, 0), (2, 0, 1, 12), 'ct']] 73755.023\n",
            " > Model[[(0, 1, 0), (2, 1, 0, 12), 'ct']] 88191.274\n",
            " > Model[[(0, 1, 1), (0, 0, 0, 12), 'n']] 72639.834\n",
            " > Model[[(0, 1, 1), (0, 0, 1, 12), 'n']] 72639.486\n",
            " > Model[[(0, 1, 1), (0, 1, 0, 12), 'n']] 86192.531\n",
            " > Model[[(0, 1, 1), (0, 1, 1, 12), 'n']] 86952.960\n",
            " > Model[[(0, 1, 1), (1, 0, 0, 12), 'n']] 72613.557\n",
            " > Model[[(0, 1, 1), (1, 0, 1, 12), 'n']] 72596.477\n",
            " > Model[[(0, 1, 1), (1, 1, 0, 12), 'n']] 84584.777\n",
            " > Model[[(0, 1, 1), (1, 1, 1, 12), 'n']] 87470.542\n",
            " > Model[[(0, 1, 1), (2, 0, 0, 12), 'n']] 73260.339\n",
            " > Model[[(0, 1, 1), (2, 0, 1, 12), 'n']] 73849.550\n",
            " > Model[[(0, 1, 1), (2, 1, 0, 12), 'n']] 92879.165\n",
            " > Model[[(0, 1, 0), (2, 1, 1, 12), 'ct']] 85088.466\n",
            " > Model[[(0, 1, 1), (0, 0, 0, 12), 'c']] 72635.830\n",
            " > Model[[(0, 1, 1), (0, 0, 1, 12), 'c']] 72635.253\n",
            " > Model[[(0, 1, 1), (0, 1, 0, 12), 'c']] 86145.862\n",
            " > Model[[(0, 1, 1), (0, 1, 1, 12), 'c']] 86900.535\n",
            " > Model[[(0, 1, 1), (1, 0, 0, 12), 'c']] 72609.639\n",
            " > Model[[(0, 1, 1), (1, 0, 1, 12), 'c']] 72601.746\n",
            " > Model[[(0, 1, 1), (1, 1, 0, 12), 'c']] 84843.129\n",
            " > Model[[(0, 1, 1), (2, 1, 1, 12), 'n']] 113822.108\n",
            " > Model[[(0, 1, 1), (1, 1, 1, 12), 'c']] 87771.450\n",
            " > Model[[(0, 1, 1), (2, 0, 0, 12), 'c']] 72613.233\n",
            " > Model[[(0, 1, 1), (2, 0, 1, 12), 'c']] 72613.235\n",
            " > Model[[(0, 1, 1), (2, 1, 0, 12), 'c']] 92777.843\n",
            " > Model[[(0, 1, 1), (0, 0, 0, 12), 't']] 72639.786\n",
            " > Model[[(0, 1, 1), (0, 0, 1, 12), 't']] 72639.603\n",
            " > Model[[(0, 1, 1), (0, 1, 0, 12), 't']] 86191.078\n",
            " > Model[[(0, 1, 1), (0, 1, 1, 12), 't']] 86958.302\n",
            " > Model[[(0, 1, 1), (1, 0, 0, 12), 't']] 72613.889\n",
            " > Model[[(0, 1, 1), (1, 0, 1, 12), 't']] 72596.775\n",
            " > Model[[(0, 1, 1), (1, 1, 0, 12), 't']] 85160.891\n",
            " > Model[[(0, 1, 1), (2, 1, 1, 12), 'c']] 113744.321\n",
            " > Model[[(0, 1, 1), (2, 0, 0, 12), 't']] 73689.942\n",
            " > Model[[(0, 1, 1), (1, 1, 1, 12), 't']] 88342.912\n",
            " > Model[[(0, 1, 1), (2, 0, 1, 12), 't']] 74790.908\n",
            " > Model[[(0, 1, 1), (2, 1, 0, 12), 't']] 93242.526\n",
            " > Model[[(0, 1, 1), (0, 0, 0, 12), 'ct']] 72618.538\n",
            " > Model[[(0, 1, 1), (0, 0, 1, 12), 'ct']] 72618.509\n",
            " > Model[[(0, 1, 1), (0, 1, 0, 12), 'ct']] 86007.931\n",
            " > Model[[(0, 1, 1), (0, 1, 1, 12), 'ct']] 86709.287\n",
            " > Model[[(0, 1, 1), (2, 1, 1, 12), 't']] 113819.600\n",
            " > Model[[(0, 1, 1), (1, 0, 0, 12), 'ct']] 72620.784\n",
            " > Model[[(0, 1, 1), (1, 0, 1, 12), 'ct']] 72698.340\n",
            " > Model[[(0, 1, 1), (1, 1, 0, 12), 'ct']] 85060.545\n",
            " > Model[[(0, 1, 1), (2, 0, 0, 12), 'ct']] 73049.342\n",
            " > Model[[(0, 1, 1), (1, 1, 1, 12), 'ct']] 88026.819\n",
            " > Model[[(0, 1, 1), (2, 0, 1, 12), 'ct']] 73387.573\n",
            " > Model[[(0, 1, 1), (2, 1, 0, 12), 'ct']] 92642.350\n",
            " > Model[[(0, 1, 2), (0, 0, 0, 12), 'n']] 72637.715\n",
            " > Model[[(0, 1, 2), (0, 0, 1, 12), 'n']] 72637.636\n",
            " > Model[[(0, 1, 2), (0, 1, 0, 12), 'n']] 86500.465\n",
            " > Model[[(0, 1, 2), (0, 1, 1, 12), 'n']] 86898.801\n",
            " > Model[[(0, 1, 2), (1, 0, 0, 12), 'n']] 72603.246\n",
            " > Model[[(0, 1, 2), (1, 0, 1, 12), 'n']] 72596.922\n",
            " > Model[[(0, 1, 2), (1, 1, 0, 12), 'n']] 84590.388\n",
            " > Model[[(0, 1, 2), (1, 1, 1, 12), 'n']] 91453.500\n",
            " > Model[[(0, 1, 1), (2, 1, 1, 12), 'ct']] 113264.698\n",
            " > Model[[(0, 1, 2), (2, 0, 0, 12), 'n']] 73235.863\n",
            " > Model[[(0, 1, 2), (2, 0, 1, 12), 'n']] 72631.237\n",
            " > Model[[(0, 1, 2), (2, 1, 0, 12), 'n']] 93250.844\n",
            " > Model[[(0, 1, 2), (0, 0, 0, 12), 'c']] 72634.290\n",
            " > Model[[(0, 1, 2), (0, 0, 1, 12), 'c']] 72634.128\n",
            " > Model[[(0, 1, 2), (0, 1, 0, 12), 'c']] 86436.199\n",
            " > Model[[(0, 1, 2), (0, 1, 1, 12), 'c']] 86862.430\n",
            " > Model[[(0, 1, 2), (1, 0, 0, 12), 'c']] 72598.827\n",
            " > Model[[(0, 1, 2), (1, 0, 1, 12), 'c']] 72591.402\n",
            " > Model[[(0, 1, 2), (1, 1, 0, 12), 'c']] 84814.350\n",
            " > Model[[(0, 1, 2), (1, 1, 1, 12), 'c']] 91379.469\n",
            " > Model[[(0, 1, 2), (2, 0, 0, 12), 'c']] 72598.808\n",
            " > Model[[(0, 1, 2), (2, 1, 1, 12), 'n']] 114577.306\n",
            " > Model[[(0, 1, 2), (2, 0, 1, 12), 'c']] 72598.789\n",
            " > Model[[(0, 1, 2), (2, 1, 0, 12), 'c']] 93028.207\n",
            " > Model[[(0, 1, 2), (0, 0, 0, 12), 't']] 72637.680\n",
            " > Model[[(0, 1, 2), (0, 0, 1, 12), 't']] 72637.723\n",
            " > Model[[(0, 1, 2), (0, 1, 0, 12), 't']] 86498.782\n",
            " > Model[[(0, 1, 2), (0, 1, 1, 12), 't']] 86898.323\n",
            " > Model[[(0, 1, 2), (1, 0, 0, 12), 't']] 72604.022\n",
            " > Model[[(0, 1, 2), (1, 0, 1, 12), 't']] 72597.161\n",
            " > Model[[(0, 1, 2), (1, 1, 0, 12), 't']] 85163.327\n",
            " > Model[[(0, 1, 2), (2, 1, 1, 12), 'c']] 113713.614\n",
            " > Model[[(0, 1, 2), (2, 0, 0, 12), 't']] 73695.791\n",
            " > Model[[(0, 1, 2), (1, 1, 1, 12), 't']] 91792.164\n",
            " > Model[[(0, 1, 2), (2, 0, 1, 12), 't']] 74799.579\n",
            " > Model[[(0, 1, 2), (2, 1, 0, 12), 't']] 88873.755\n",
            " > Model[[(0, 1, 2), (0, 0, 0, 12), 'ct']] 72618.492\n",
            " > Model[[(0, 1, 2), (0, 0, 1, 12), 'ct']] 72618.957\n",
            " > Model[[(0, 1, 2), (0, 1, 0, 12), 'ct']] 86204.661\n",
            " > Model[[(0, 1, 2), (0, 1, 1, 12), 'ct']] 86674.038\n",
            " > Model[[(0, 1, 2), (1, 0, 0, 12), 'ct']] 72612.286\n",
            " > Model[[(0, 1, 2), (2, 1, 1, 12), 't']] 114804.601\n",
            " > Model[[(0, 1, 2), (1, 0, 1, 12), 'ct']] 72685.069\n",
            " > Model[[(0, 1, 2), (1, 1, 0, 12), 'ct']] 85074.075\n",
            " > Model[[(0, 1, 2), (2, 0, 0, 12), 'ct']] 73003.629\n",
            " > Model[[(0, 1, 2), (1, 1, 1, 12), 'ct']] 91493.264\n",
            " > Model[[(0, 1, 2), (2, 0, 1, 12), 'ct']] 73436.136\n",
            " > Model[[(0, 1, 2), (2, 1, 0, 12), 'ct']] 92774.573\n",
            " > Model[[(1, 0, 0), (0, 0, 0, 12), 'n']] 72649.408\n",
            " > Model[[(1, 0, 0), (0, 0, 1, 12), 'n']] 72650.089\n",
            " > Model[[(1, 0, 0), (0, 1, 0, 12), 'n']] 106422.341\n",
            " > Model[[(1, 0, 0), (0, 1, 1, 12), 'n']] 106948.156\n",
            " > Model[[(1, 0, 0), (1, 0, 0, 12), 'n']] 72909.088\n",
            " > Model[[(1, 0, 0), (1, 0, 1, 12), 'n']] 72927.220\n",
            " > Model[[(1, 0, 0), (1, 1, 0, 12), 'n']] 106464.322\n",
            " > Model[[(1, 0, 0), (1, 1, 1, 12), 'n']] 109760.196\n",
            " > Model[[(0, 1, 2), (2, 1, 1, 12), 'ct']] 115416.942\n",
            " > Model[[(1, 0, 0), (2, 0, 0, 12), 'n']] 77160.533\n",
            " > Model[[(1, 0, 0), (2, 1, 0, 12), 'n']] 113827.269\n",
            " > Model[[(1, 0, 0), (2, 0, 1, 12), 'n']] 81197.349\n",
            " > Model[[(1, 0, 0), (0, 0, 0, 12), 'c']] 72632.859\n",
            " > Model[[(1, 0, 0), (0, 0, 1, 12), 'c']] 72632.136\n",
            " > Model[[(1, 0, 0), (0, 1, 0, 12), 'c']] 106462.503\n",
            " > Model[[(1, 0, 0), (0, 1, 1, 12), 'c']] 106978.762\n",
            " > Model[[(1, 0, 0), (2, 1, 1, 12), 'n']] 107310.317\n",
            " > Model[[(1, 0, 0), (1, 0, 0, 12), 'c']] 72655.073\n",
            " > Model[[(1, 0, 0), (1, 1, 0, 12), 'c']] 106817.876\n",
            " > Model[[(1, 0, 0), (1, 0, 1, 12), 'c']] 72605.947\n",
            " > Model[[(1, 0, 0), (1, 1, 1, 12), 'c']] 110342.783\n",
            " > Model[[(1, 0, 0), (2, 0, 0, 12), 'c']] 73110.273\n",
            " > Model[[(1, 0, 0), (2, 0, 1, 12), 'c']] 73216.577\n",
            " > Model[[(1, 0, 0), (2, 1, 0, 12), 'c']] 113834.518\n",
            " > Model[[(1, 0, 0), (0, 0, 0, 12), 't']] 72624.337\n",
            " > Model[[(1, 0, 0), (0, 0, 1, 12), 't']] 72624.371\n",
            " > Model[[(1, 0, 0), (0, 1, 0, 12), 't']] 106412.845\n",
            " > Model[[(1, 0, 0), (0, 1, 1, 12), 't']] 106929.780\n",
            " > Model[[(1, 0, 0), (1, 0, 0, 12), 't']] 72748.289\n",
            " > Model[[(1, 0, 0), (2, 1, 1, 12), 'c']] 107986.544\n",
            " > Model[[(1, 0, 0), (1, 0, 1, 12), 't']] 73074.819\n",
            " > Model[[(1, 0, 0), (1, 1, 0, 12), 't']] 108003.563\n",
            " > Model[[(1, 0, 0), (1, 1, 1, 12), 't']] 112826.819\n",
            " > Model[[(1, 0, 0), (2, 0, 0, 12), 't']] 75279.382\n",
            " > Model[[(1, 0, 0), (2, 0, 1, 12), 't']] 102562.156\n",
            " > Model[[(1, 0, 0), (2, 1, 0, 12), 't']] 114636.528\n",
            " > Model[[(1, 0, 0), (0, 0, 0, 12), 'ct']] 72619.796\n",
            " > Model[[(1, 0, 0), (0, 0, 1, 12), 'ct']] 72619.711\n",
            " > Model[[(1, 0, 0), (0, 1, 0, 12), 'ct']] 107155.444\n",
            " > Model[[(1, 0, 0), (0, 1, 1, 12), 'ct']] 107673.787\n",
            " > Model[[(1, 0, 0), (1, 0, 0, 12), 'ct']] 72651.684\n",
            " > Model[[(1, 0, 0), (1, 0, 1, 12), 'ct']] 72734.664\n",
            " > Model[[(1, 0, 0), (2, 1, 1, 12), 't']] 111868.333\n",
            " > Model[[(1, 0, 0), (1, 1, 0, 12), 'ct']] 107687.003\n",
            " > Model[[(1, 0, 0), (1, 1, 1, 12), 'ct']] 112813.164\n",
            " > Model[[(1, 0, 0), (2, 0, 0, 12), 'ct']] 75569.787\n",
            " > Model[[(1, 0, 0), (2, 0, 1, 12), 'ct']] 77405.063\n",
            " > Model[[(1, 0, 0), (2, 1, 0, 12), 'ct']] 114515.277\n",
            " > Model[[(1, 0, 1), (0, 0, 0, 12), 'n']] 72636.398\n",
            " > Model[[(1, 0, 1), (0, 0, 1, 12), 'n']] 72637.947\n",
            " > Model[[(1, 0, 1), (0, 1, 0, 12), 'n']] 106472.332\n",
            " > Model[[(1, 0, 1), (0, 1, 1, 12), 'n']] 108496.396\n",
            " > Model[[(1, 0, 1), (1, 0, 0, 12), 'n']] 72619.444\n",
            " > Model[[(1, 0, 1), (1, 0, 1, 12), 'n']] 72597.379\n",
            " > Model[[(1, 0, 1), (1, 1, 0, 12), 'n']] 106385.185\n",
            " > Model[[(1, 0, 0), (2, 1, 1, 12), 'ct']] 111453.164\n",
            " > Model[[(1, 0, 1), (1, 1, 1, 12), 'n']] 111528.719\n",
            " > Model[[(1, 0, 1), (2, 0, 0, 12), 'n']] 77154.237\n",
            " > Model[[(1, 0, 1), (2, 0, 1, 12), 'n']] 73127.544\n",
            " > Model[[(1, 0, 1), (2, 1, 0, 12), 'n']] 125739.923\n",
            " > Model[[(1, 0, 1), (0, 0, 0, 12), 'c']] 72624.309\n",
            " > Model[[(1, 0, 1), (0, 0, 1, 12), 'c']] 72795.922\n",
            " > Model[[(1, 0, 1), (0, 1, 0, 12), 'c']] 106499.912\n",
            " > Model[[(1, 0, 1), (0, 1, 1, 12), 'c']] 108513.592\n",
            " > Model[[(1, 0, 1), (2, 1, 1, 12), 'n']] 118884.877\n",
            " > Model[[(1, 0, 1), (1, 0, 0, 12), 'c']] 72601.327\n",
            " > Model[[(1, 0, 1), (1, 1, 0, 12), 'c']] 106688.101\n",
            " > Model[[(1, 0, 1), (1, 0, 1, 12), 'c']] 72592.151\n",
            " > Model[[(1, 0, 1), (1, 1, 1, 12), 'c']] 111965.248\n",
            " > Model[[(1, 0, 1), (2, 0, 0, 12), 'c']] 72684.716\n",
            " > Model[[(1, 0, 1), (2, 0, 1, 12), 'c']] 84092.705\n",
            " > Model[[(1, 0, 1), (2, 1, 0, 12), 'c']] 125613.446\n",
            " > Model[[(1, 0, 1), (0, 0, 0, 12), 't']] 72620.195\n",
            " > Model[[(1, 0, 1), (0, 0, 1, 12), 't']] 72620.475\n",
            " > Model[[(1, 0, 1), (0, 1, 0, 12), 't']] 106463.456\n",
            " > Model[[(1, 0, 1), (2, 1, 1, 12), 'c']] 118877.722\n",
            " > Model[[(1, 0, 1), (0, 1, 1, 12), 't']] 108480.351\n",
            " > Model[[(1, 0, 1), (1, 0, 0, 12), 't']] 72616.504\n",
            " > Model[[(1, 0, 1), (1, 0, 1, 12), 't']] 72791.421\n",
            " > Model[[(1, 0, 1), (1, 1, 0, 12), 't']] 107931.311\n",
            " > Model[[(1, 0, 1), (1, 1, 1, 12), 't']] 114152.166\n",
            " > Model[[(1, 0, 1), (2, 0, 0, 12), 't']] 93150.877\n",
            " > Model[[(1, 0, 1), (2, 0, 1, 12), 't']] 102022.993\n",
            " > Model[[(1, 0, 1), (2, 1, 0, 12), 't']] 126075.738\n",
            " > Model[[(1, 0, 1), (0, 0, 0, 12), 'ct']] 72616.064\n",
            " > Model[[(1, 0, 1), (0, 0, 1, 12), 'ct']] 72616.065\n",
            " > Model[[(1, 0, 1), (2, 1, 1, 12), 't']] 120418.785\n",
            " > Model[[(1, 0, 1), (0, 1, 0, 12), 'ct']] 106747.946\n",
            " > Model[[(1, 0, 1), (0, 1, 1, 12), 'ct']] 108729.028\n",
            " > Model[[(1, 0, 1), (1, 0, 0, 12), 'ct']] 72599.417\n",
            " > Model[[(1, 0, 1), (1, 0, 1, 12), 'ct']] 72660.001\n",
            " > Model[[(1, 0, 1), (1, 1, 0, 12), 'ct']] 107993.973\n",
            " > Model[[(1, 0, 1), (1, 1, 1, 12), 'ct']] 114134.374\n",
            " > Model[[(1, 0, 1), (2, 0, 0, 12), 'ct']] 75064.181\n",
            " > Model[[(1, 0, 1), (2, 0, 1, 12), 'ct']] 74937.351\n",
            " > Model[[(1, 0, 1), (2, 1, 0, 12), 'ct']] 125930.958\n",
            " > Model[[(1, 0, 2), (0, 0, 0, 12), 'n']] 72634.713\n",
            " > Model[[(1, 0, 2), (0, 0, 1, 12), 'n']] 72723.639\n",
            " > Model[[(1, 0, 2), (0, 1, 0, 12), 'n']] 107260.261\n",
            " > Model[[(1, 0, 2), (0, 1, 1, 12), 'n']] 108715.701\n",
            " > Model[[(1, 0, 2), (1, 0, 0, 12), 'n']] 72606.114\n",
            " > Model[[(1, 0, 1), (2, 1, 1, 12), 'ct']] 156127.602\n",
            " > Model[[(1, 0, 2), (1, 1, 0, 12), 'n']] 106413.259\n",
            " > Model[[(1, 0, 2), (1, 0, 1, 12), 'n']] 72785.006\n",
            " > Model[[(1, 0, 2), (1, 1, 1, 12), 'n']] 119798.608\n",
            " > Model[[(1, 0, 2), (2, 0, 0, 12), 'n']] 77237.515\n",
            " > Model[[(1, 0, 2), (2, 0, 1, 12), 'n']] 72810.373\n",
            " > Model[[(1, 0, 2), (2, 1, 0, 12), 'n']] 126933.790\n",
            " > Model[[(1, 0, 2), (0, 0, 0, 12), 'c']] 72623.283\n",
            " > Model[[(1, 0, 2), (0, 0, 1, 12), 'c']] 72624.525\n",
            " > Model[[(1, 0, 2), (0, 1, 0, 12), 'c']] 107249.786\n",
            " > Model[[(1, 0, 2), (0, 1, 1, 12), 'c']] 108680.756\n",
            " > Model[[(1, 0, 2), (2, 1, 1, 12), 'n']] 119206.773\n",
            " > Model[[(1, 0, 2), (1, 0, 0, 12), 'c']] 72587.281\n",
            " > Model[[(1, 0, 2), (1, 0, 1, 12), 'c']] 72667.635\n",
            " > Model[[(1, 0, 2), (1, 1, 1, 12), 'c']] 119881.244\n",
            " > Model[[(1, 0, 2), (1, 1, 0, 12), 'c']] 106805.816\n",
            " > Model[[(1, 0, 2), (2, 0, 0, 12), 'c']] 72657.796\n",
            " > Model[[(1, 0, 2), (2, 0, 1, 12), 'c']] 82438.989\n",
            " > Model[[(1, 0, 2), (2, 1, 0, 12), 'c']] 126557.861\n",
            " > Model[[(1, 0, 2), (0, 0, 0, 12), 't']] 72619.997\n",
            " > Model[[(1, 0, 2), (0, 0, 1, 12), 't']] 76192.480\n",
            " > Model[[(1, 0, 2), (0, 1, 0, 12), 't']] 107234.166\n",
            " > Model[[(1, 0, 2), (2, 1, 1, 12), 'c']] 119128.703\n",
            " > Model[[(1, 0, 2), (0, 1, 1, 12), 't']] 108658.650\n",
            " > Model[[(1, 0, 2), (1, 0, 0, 12), 't']] 72604.285\n",
            " > Model[[(1, 0, 2), (1, 0, 1, 12), 't']] 72612.903\n",
            " > Model[[(1, 0, 2), (1, 1, 0, 12), 't']] 107979.756\n",
            " > Model[[(1, 0, 2), (1, 1, 1, 12), 't']] 119932.377\n",
            " > Model[[(1, 0, 2), (2, 0, 0, 12), 't']] 93380.751\n",
            " > Model[[(1, 0, 2), (2, 0, 1, 12), 't']] 102338.122\n",
            " > Model[[(1, 0, 2), (2, 1, 1, 12), 't']] 119168.335\n",
            " > Model[[(1, 0, 2), (0, 0, 0, 12), 'ct']] 72616.533\n",
            " > Model[[(1, 0, 2), (2, 1, 0, 12), 't']] 126663.772\n",
            " > Model[[(1, 0, 2), (0, 1, 0, 12), 'ct']] 107323.071\n",
            " > Model[[(1, 0, 2), (0, 0, 1, 12), 'ct']] 72625.783\n",
            " > Model[[(1, 0, 2), (0, 1, 1, 12), 'ct']] 108753.748\n",
            " > Model[[(1, 0, 2), (1, 0, 0, 12), 'ct']] 72585.709\n",
            " > Model[[(1, 0, 2), (1, 0, 1, 12), 'ct']] 72585.659\n",
            " > Model[[(1, 0, 2), (1, 1, 0, 12), 'ct']] 108017.622\n",
            " > Model[[(1, 0, 2), (1, 1, 1, 12), 'ct']] 119898.946\n",
            " > Model[[(1, 0, 2), (2, 0, 0, 12), 'ct']] 72632.394\n",
            " > Model[[(1, 0, 2), (2, 0, 1, 12), 'ct']] 72929.939\n",
            " > Model[[(1, 0, 2), (2, 1, 0, 12), 'ct']] 126079.793\n",
            " > Model[[(1, 1, 0), (0, 0, 0, 12), 'n']] 73667.069\n",
            " > Model[[(1, 1, 0), (0, 0, 1, 12), 'n']] 73356.387\n",
            " > Model[[(1, 1, 0), (0, 1, 0, 12), 'n']] 86693.308\n",
            " > Model[[(1, 1, 0), (0, 1, 1, 12), 'n']] 87248.500\n",
            " > Model[[(1, 1, 0), (1, 0, 0, 12), 'n']] 73286.511\n",
            " > Model[[(1, 1, 0), (1, 0, 1, 12), 'n']] 73285.469\n",
            " > Model[[(1, 1, 0), (1, 1, 0, 12), 'n']] 88088.106\n",
            " > Model[[(1, 1, 0), (1, 1, 1, 12), 'n']] 93218.996\n",
            " > Model[[(1, 1, 0), (2, 0, 0, 12), 'n']] 74937.732\n",
            " > Model[[(1, 0, 2), (2, 1, 1, 12), 'ct']] 126501.286\n",
            " > Model[[(1, 1, 0), (2, 0, 1, 12), 'n']] 79666.796\n",
            " > Model[[(1, 1, 0), (2, 1, 0, 12), 'n']] 95480.934\n",
            " > Model[[(1, 1, 0), (0, 0, 0, 12), 'c']] 73518.267\n",
            " > Model[[(1, 1, 0), (0, 0, 1, 12), 'c']] 73307.764\n",
            " > Model[[(1, 1, 0), (0, 1, 0, 12), 'c']] 86611.027\n",
            " > Model[[(1, 1, 0), (2, 1, 1, 12), 'n']] 92275.104\n",
            " > Model[[(1, 1, 0), (1, 0, 0, 12), 'c']] 73256.702\n",
            " > Model[[(1, 1, 0), (0, 1, 1, 12), 'c']] 87149.370\n",
            " > Model[[(1, 1, 0), (1, 0, 1, 12), 'c']] 73261.649\n",
            " > Model[[(1, 1, 0), (1, 1, 0, 12), 'c']] 87837.322\n",
            " > Model[[(1, 1, 0), (2, 0, 0, 12), 'c']] 74758.908\n",
            " > Model[[(1, 1, 0), (1, 1, 1, 12), 'c']] 92765.649\n",
            " > Model[[(1, 1, 0), (2, 0, 1, 12), 'c']] 79404.965\n",
            " > Model[[(1, 1, 0), (2, 1, 0, 12), 'c']] 94829.458\n",
            " > Model[[(1, 1, 0), (0, 0, 0, 12), 't']] 73664.508\n",
            " > Model[[(1, 1, 0), (0, 0, 1, 12), 't']] 73345.168\n",
            " > Model[[(1, 1, 0), (0, 1, 0, 12), 't']] 86691.114\n",
            " > Model[[(1, 1, 0), (0, 1, 1, 12), 't']] 87242.839\n",
            " > Model[[(1, 1, 0), (1, 0, 0, 12), 't']] 73273.361\n",
            " > Model[[(1, 1, 0), (1, 0, 1, 12), 't']] 73273.610\n",
            " > Model[[(1, 1, 0), (1, 1, 0, 12), 't']] 87739.246\n",
            " > Model[[(1, 1, 0), (2, 1, 1, 12), 'c']] 91881.848\n",
            " > Model[[(1, 1, 0), (1, 1, 1, 12), 't']] 92786.974\n",
            " > Model[[(1, 1, 0), (2, 0, 0, 12), 't']] 74949.712\n",
            " > Model[[(1, 1, 0), (2, 0, 1, 12), 't']] 79520.672\n",
            " > Model[[(1, 1, 0), (2, 1, 0, 12), 't']] 95148.805\n",
            " > Model[[(1, 1, 0), (0, 0, 0, 12), 'ct']] 72924.571\n",
            " > Model[[(1, 1, 0), (0, 0, 1, 12), 'ct']] 72903.562\n",
            " > Model[[(1, 1, 0), (0, 1, 0, 12), 'ct']] 86382.371\n",
            " > Model[[(1, 1, 0), (0, 1, 1, 12), 'ct']] 86915.956\n",
            " > Model[[(1, 1, 0), (1, 0, 0, 12), 'ct']] 72972.180\n",
            " > Model[[(1, 1, 0), (2, 1, 1, 12), 't']] 92253.514\n",
            " > Model[[(1, 1, 0), (1, 0, 1, 12), 'ct']] 73047.960\n",
            " > Model[[(1, 1, 0), (1, 1, 0, 12), 'ct']] 87287.099\n",
            " > Model[[(1, 1, 0), (1, 1, 1, 12), 'ct']] 92192.954\n",
            " > Model[[(1, 1, 0), (2, 0, 0, 12), 'ct']] 74012.430\n",
            " > Model[[(1, 1, 0), (2, 0, 1, 12), 'ct']] 76500.927\n",
            " > Model[[(1, 1, 0), (2, 1, 0, 12), 'ct']] 94371.913\n",
            " > Model[[(1, 1, 1), (0, 0, 0, 12), 'n']] 74514.617\n",
            " > Model[[(1, 1, 1), (0, 0, 1, 12), 'n']] 85203.741\n",
            " > Model[[(1, 1, 1), (0, 1, 0, 12), 'n']] 86806.476\n",
            " > Model[[(1, 1, 1), (0, 1, 1, 12), 'n']] 88428.685\n",
            " > Model[[(1, 1, 1), (1, 0, 0, 12), 'n']] 83795.335\n",
            " > Model[[(1, 1, 1), (1, 0, 1, 12), 'n']] 85276.833\n",
            " > Model[[(1, 1, 0), (2, 1, 1, 12), 'ct']] 99772.369\n",
            " > Model[[(1, 1, 1), (1, 1, 0, 12), 'n']] 88091.486\n",
            " > Model[[(1, 1, 1), (2, 0, 0, 12), 'n']] 85938.989\n",
            " > Model[[(1, 1, 1), (1, 1, 1, 12), 'n']] 93128.468\n",
            " > Model[[(1, 1, 1), (2, 0, 1, 12), 'n']] 84260.469\n",
            " > Model[[(1, 1, 1), (2, 1, 1, 12), 'n']] 100523.367\n",
            " > Model[[(1, 1, 1), (0, 0, 0, 12), 'c']] 74265.544\n",
            " > Model[[(1, 1, 1), (0, 0, 1, 12), 'c']] 77064.221\n",
            " > Model[[(1, 1, 1), (2, 1, 0, 12), 'n']] 96669.843\n",
            " > Model[[(1, 1, 1), (0, 1, 0, 12), 'c']] 86699.426\n",
            " > Model[[(1, 1, 1), (1, 0, 0, 12), 'c']] 76376.524\n",
            " > Model[[(1, 1, 1), (0, 1, 1, 12), 'c']] 87652.395\n",
            " > Model[[(1, 1, 1), (1, 0, 1, 12), 'c']] 77062.303\n",
            " > Model[[(1, 1, 1), (1, 1, 0, 12), 'c']] 87557.155\n",
            " > Model[[(1, 1, 1), (1, 1, 1, 12), 'c']] 92697.665\n",
            " > Model[[(1, 1, 1), (2, 0, 0, 12), 'c']] 74763.806\n",
            " > Model[[(1, 1, 1), (2, 0, 1, 12), 'c']] 79496.692\n",
            " > Model[[(1, 1, 1), (2, 1, 0, 12), 'c']] 95236.099\n",
            " > Model[[(1, 1, 1), (0, 0, 0, 12), 't']] 74511.730\n",
            " > Model[[(1, 1, 1), (0, 0, 1, 12), 't']] 85202.422\n",
            " > Model[[(1, 1, 1), (0, 1, 0, 12), 't']] 86803.450\n",
            " > Model[[(1, 1, 1), (0, 1, 1, 12), 't']] 88427.091\n",
            " > Model[[(1, 1, 1), (1, 0, 0, 12), 't']] 83743.090\n",
            " > Model[[(1, 1, 1), (2, 1, 1, 12), 'c']] 99813.316\n",
            " > Model[[(1, 1, 1), (1, 0, 1, 12), 't']] 85312.387\n",
            " > Model[[(1, 1, 1), (1, 1, 0, 12), 't']] 87891.330\n",
            " > Model[[(1, 1, 1), (1, 1, 1, 12), 't']] 92756.529\n",
            " > Model[[(1, 1, 1), (2, 0, 0, 12), 't']] 85899.116\n",
            " > Model[[(1, 1, 1), (2, 0, 1, 12), 't']] 83814.644\n",
            " > Model[[(1, 1, 1), (2, 1, 0, 12), 't']] 96597.534\n",
            " > Model[[(1, 1, 1), (0, 0, 0, 12), 'ct']] 73073.545\n",
            " > Model[[(1, 1, 1), (0, 0, 1, 12), 'ct']] 73017.602\n",
            " > Model[[(1, 1, 1), (0, 1, 0, 12), 'ct']] 86402.146\n",
            " > Model[[(1, 1, 1), (0, 1, 1, 12), 'ct']] 87187.924\n",
            " > Model[[(1, 1, 1), (1, 0, 0, 12), 'ct']] 72888.713\n",
            " > Model[[(1, 1, 1), (2, 1, 1, 12), 't']] 100635.622\n",
            " > Model[[(1, 1, 1), (1, 0, 1, 12), 'ct']] 73382.419\n",
            " > Model[[(1, 1, 1), (1, 1, 0, 12), 'ct']] 87410.390\n",
            " > Model[[(1, 1, 1), (2, 0, 0, 12), 'ct']] 73965.958\n",
            " > Model[[(1, 1, 1), (1, 1, 1, 12), 'ct']] 92115.473\n",
            " > Model[[(1, 1, 1), (2, 0, 1, 12), 'ct']] 76781.319\n",
            " > Model[[(1, 1, 1), (2, 1, 0, 12), 'ct']] 98032.570\n",
            " > Model[[(1, 1, 2), (0, 0, 0, 12), 'n']] 77393.198\n",
            " > Model[[(1, 1, 2), (0, 0, 1, 12), 'n']] 85404.667\n",
            " > Model[[(1, 1, 2), (0, 1, 0, 12), 'n']] 87626.155\n",
            " > Model[[(1, 1, 2), (0, 1, 1, 12), 'n']] 89567.145\n",
            " > Model[[(1, 1, 2), (1, 0, 0, 12), 'n']] 83877.615\n",
            " > Model[[(1, 1, 1), (2, 1, 1, 12), 'ct']] 97540.832\n",
            " > Model[[(1, 1, 2), (1, 0, 1, 12), 'n']] 85425.625\n",
            " > Model[[(1, 1, 2), (1, 1, 0, 12), 'n']] 88119.550\n",
            " > Model[[(1, 1, 2), (1, 1, 1, 12), 'n']] 93864.991\n",
            " > Model[[(1, 1, 2), (2, 0, 0, 12), 'n']] 90499.675\n",
            " > Model[[(1, 1, 2), (2, 0, 1, 12), 'n']] 108028.199\n",
            " > Model[[(1, 1, 2), (2, 1, 0, 12), 'n']] 96847.833\n",
            " > Model[[(1, 1, 2), (0, 0, 0, 12), 'c']] 77027.825\n",
            " > Model[[(1, 1, 2), (0, 0, 1, 12), 'c']] 78776.483\n",
            " > Model[[(1, 1, 2), (0, 1, 0, 12), 'c']] 87301.189\n",
            " > Model[[(1, 1, 2), (2, 1, 1, 12), 'n']] 100846.421\n",
            " > Model[[(1, 1, 2), (1, 0, 0, 12), 'c']] 78238.360\n",
            " > Model[[(1, 1, 2), (0, 1, 1, 12), 'c']] 87509.983\n",
            " > Model[[(1, 1, 2), (1, 0, 1, 12), 'c']] 78769.062\n",
            " > Model[[(1, 1, 2), (1, 1, 0, 12), 'c']] 87896.762\n",
            " > Model[[(1, 1, 2), (1, 1, 1, 12), 'c']] 93271.956\n",
            " > Model[[(1, 1, 2), (2, 0, 0, 12), 'c']] 74867.875\n",
            " > Model[[(1, 1, 2), (2, 0, 1, 12), 'c']] 79591.461\n",
            " > Model[[(1, 1, 2), (2, 1, 0, 12), 'c']] 96342.044\n",
            " > Model[[(1, 1, 2), (0, 0, 0, 12), 't']] 77372.511\n",
            " > Model[[(1, 1, 2), (0, 0, 1, 12), 't']] 85416.473\n",
            " > Model[[(1, 1, 2), (0, 1, 0, 12), 't']] 87625.096\n",
            " > Model[[(1, 1, 2), (0, 1, 1, 12), 't']] 89765.942\n",
            " > Model[[(1, 1, 2), (1, 0, 0, 12), 't']] 83812.956\n",
            " > Model[[(1, 1, 2), (1, 0, 1, 12), 't']] 85451.871\n",
            " > Model[[(1, 1, 2), (1, 1, 0, 12), 't']] 87917.769\n",
            " > Model[[(1, 1, 2), (2, 1, 1, 12), 'c']] 122773.779\n",
            " > Model[[(1, 1, 2), (1, 1, 1, 12), 't']] 93482.665\n",
            " > Model[[(1, 1, 2), (2, 0, 0, 12), 't']] 96172.897\n",
            " > Model[[(1, 1, 2), (2, 0, 1, 12), 't']] 96494.998\n",
            " > Model[[(1, 1, 2), (2, 1, 0, 12), 't']] 96706.163\n",
            " > Model[[(1, 1, 2), (0, 0, 0, 12), 'ct']] 73624.333\n",
            " > Model[[(1, 1, 2), (0, 0, 1, 12), 'ct']] 73010.606\n",
            " > Model[[(1, 1, 2), (0, 1, 0, 12), 'ct']] 86647.330\n",
            " > Model[[(1, 1, 2), (2, 1, 1, 12), 't']] 100862.905\n",
            " > Model[[(1, 1, 2), (1, 0, 0, 12), 'ct']] 72954.555\n",
            " > Model[[(1, 1, 2), (1, 0, 1, 12), 'ct']] 73239.910\n",
            " > Model[[(1, 1, 2), (0, 1, 1, 12), 'ct']] 102931.659\n",
            " > Model[[(1, 1, 2), (1, 1, 0, 12), 'ct']] 87414.285\n",
            " > Model[[(1, 1, 2), (2, 0, 0, 12), 'ct']] 73674.420\n",
            " > Model[[(1, 1, 2), (1, 1, 1, 12), 'ct']] 92828.544\n",
            " > Model[[(1, 1, 2), (2, 0, 1, 12), 'ct']] 76584.932\n",
            " > Model[[(1, 1, 2), (2, 1, 0, 12), 'ct']] 97883.783\n",
            " > Model[[(2, 0, 0), (0, 0, 0, 12), 'n']] 76266.554\n",
            " > Model[[(2, 0, 0), (0, 0, 1, 12), 'n']] 75633.873\n",
            " > Model[[(2, 0, 0), (0, 1, 0, 12), 'n']] 104975.194\n",
            " > Model[[(2, 0, 0), (0, 1, 1, 12), 'n']] 106149.620\n",
            " > Model[[(2, 0, 0), (1, 0, 0, 12), 'n']] 75288.731\n",
            " > Model[[(1, 1, 2), (2, 1, 1, 12), 'ct']] 97405.564\n",
            " > Model[[(2, 0, 0), (1, 1, 0, 12), 'n']] 111677.219\n",
            " > Model[[(2, 0, 0), (1, 0, 1, 12), 'n']] 75439.908\n",
            " > Model[[(2, 0, 0), (2, 0, 0, 12), 'n']] 82344.178\n",
            " > Model[[(2, 0, 0), (1, 1, 1, 12), 'n']] 120814.682\n",
            " > Model[[(2, 0, 0), (2, 0, 1, 12), 'n']] 100927.113\n",
            " > Model[[(2, 0, 0), (2, 1, 0, 12), 'n']] 124187.884\n",
            " > Model[[(2, 0, 0), (0, 0, 0, 12), 'c']] 75178.608\n",
            " > Model[[(2, 0, 0), (0, 0, 1, 12), 'c']] 75713.054\n",
            " > Model[[(2, 0, 0), (0, 1, 0, 12), 'c']] 105007.341\n",
            " > Model[[(2, 0, 0), (0, 1, 1, 12), 'c']] 106218.073\n",
            " > Model[[(2, 0, 0), (1, 0, 0, 12), 'c']] 75323.914\n",
            " > Model[[(2, 0, 0), (1, 0, 1, 12), 'c']] 75487.142\n",
            " > Model[[(2, 0, 0), (2, 1, 1, 12), 'n']] 121030.033\n",
            " > Model[[(2, 0, 0), (1, 1, 0, 12), 'c']] 111579.372\n",
            " > Model[[(2, 0, 0), (1, 1, 1, 12), 'c']] 120582.208\n",
            " > Model[[(2, 0, 0), (2, 0, 0, 12), 'c']] 73207.094\n",
            " > Model[[(2, 0, 0), (2, 1, 0, 12), 'c']] 123839.158\n",
            " > Model[[(2, 0, 0), (2, 0, 1, 12), 'c']] 73626.954\n",
            " > Model[[(2, 0, 0), (0, 0, 0, 12), 't']] 73896.054\n",
            " > Model[[(2, 0, 0), (0, 0, 1, 12), 't']] 73712.790\n",
            " > Model[[(2, 0, 0), (0, 1, 0, 12), 't']] 104961.728\n",
            " > Model[[(2, 0, 0), (0, 1, 1, 12), 't']] 106154.436\n",
            " > Model[[(2, 0, 0), (1, 0, 0, 12), 't']] 103916.356\n",
            " > Model[[(2, 0, 0), (2, 1, 1, 12), 'c']] 120791.193\n",
            " > Model[[(2, 0, 0), (1, 0, 1, 12), 't']] 74568.546\n",
            " > Model[[(2, 0, 0), (1, 1, 0, 12), 't']] 111561.822\n",
            " > Model[[(2, 0, 0), (2, 0, 0, 12), 't']] 100130.221\n",
            " > Model[[(2, 0, 0), (1, 1, 1, 12), 't']] 120129.062\n",
            " > Model[[(2, 0, 0), (2, 0, 1, 12), 't']] 117064.284\n",
            " > Model[[(2, 0, 0), (2, 1, 0, 12), 't']] 123273.010\n",
            " > Model[[(2, 0, 0), (0, 0, 0, 12), 'ct']] 73797.560\n",
            " > Model[[(2, 0, 0), (0, 0, 1, 12), 'ct']] 74090.406\n",
            " > Model[[(2, 0, 0), (0, 1, 0, 12), 'ct']] 105117.426\n",
            " > Model[[(2, 0, 0), (0, 1, 1, 12), 'ct']] 106362.911\n",
            " > Model[[(2, 0, 0), (1, 0, 0, 12), 'ct']] 74283.962\n",
            " > Model[[(2, 0, 0), (2, 1, 1, 12), 't']] 119658.476\n",
            " > Model[[(2, 0, 0), (1, 0, 1, 12), 'ct']] 74128.302\n",
            " > Model[[(2, 0, 0), (1, 1, 0, 12), 'ct']] 111422.917\n",
            " > Model[[(2, 0, 0), (1, 1, 1, 12), 'ct']] 120116.476\n",
            " > Model[[(2, 0, 0), (2, 0, 0, 12), 'ct']] 80263.793\n",
            " > Model[[(2, 0, 0), (2, 0, 1, 12), 'ct']] 79958.245\n",
            " > Model[[(2, 0, 0), (2, 1, 0, 12), 'ct']] 123175.855\n",
            " > Model[[(2, 0, 1), (0, 0, 0, 12), 'n']] 76390.960\n",
            " > Model[[(2, 0, 1), (0, 0, 1, 12), 'n']] 89962.313\n",
            " > Model[[(2, 0, 1), (0, 1, 0, 12), 'n']] 118333.064\n",
            " > Model[[(2, 0, 1), (0, 1, 1, 12), 'n']] 106077.636\n",
            " > Model[[(2, 0, 1), (1, 0, 0, 12), 'n']] 112402.621\n",
            " > Model[[(2, 0, 0), (2, 1, 1, 12), 'ct']] 119455.328\n",
            " > Model[[(2, 0, 1), (1, 0, 1, 12), 'n']] 105378.917\n",
            " > Model[[(2, 0, 1), (1, 1, 0, 12), 'n']] 111726.423\n",
            " > Model[[(2, 0, 1), (1, 1, 1, 12), 'n']] 121747.106\n",
            " > Model[[(2, 0, 1), (2, 0, 0, 12), 'n']] 82050.428\n",
            " > Model[[(2, 0, 1), (2, 0, 1, 12), 'n']] 86812.476\n",
            " > Model[[(2, 0, 1), (2, 1, 1, 12), 'n']] 123783.101\n",
            " > Model[[(2, 0, 1), (2, 1, 0, 12), 'n']] 132666.203\n",
            " > Model[[(2, 0, 1), (0, 0, 0, 12), 'c']] 75115.675\n",
            " > Model[[(2, 0, 1), (0, 1, 0, 12), 'c']] 111962.197\n",
            " > Model[[(2, 0, 1), (0, 0, 1, 12), 'c']] 75175.134\n",
            " > Model[[(2, 0, 1), (1, 0, 0, 12), 'c']] 80179.836\n",
            " > Model[[(2, 0, 1), (0, 1, 1, 12), 'c']] 106158.835\n",
            " > Model[[(2, 0, 1), (1, 1, 0, 12), 'c']] 102770.892\n",
            " > Model[[(2, 0, 1), (1, 0, 1, 12), 'c']] 74193.437\n",
            " > Model[[(2, 0, 1), (1, 1, 1, 12), 'c']] 121554.130\n",
            " > Model[[(2, 0, 1), (2, 0, 0, 12), 'c']] 74023.446\n",
            " > Model[[(2, 0, 1), (2, 0, 1, 12), 'c']] 73223.285\n",
            " > Model[[(2, 0, 1), (2, 1, 0, 12), 'c']] 131072.806\n",
            " > Model[[(2, 0, 1), (0, 0, 0, 12), 't']] 73906.419\n",
            " > Model[[(2, 0, 1), (2, 1, 1, 12), 'c']] 130065.496\n",
            " > Model[[(2, 0, 1), (0, 1, 0, 12), 't']] 101137.841\n",
            " > Model[[(2, 0, 1), (0, 0, 1, 12), 't']] 72808.915\n",
            " > Model[[(2, 0, 1), (0, 1, 1, 12), 't']] 106140.819\n",
            " > Model[[(2, 0, 1), (1, 0, 0, 12), 't']] 73053.789\n",
            " > Model[[(2, 0, 1), (1, 0, 1, 12), 't']] 73356.914\n",
            " > Model[[(2, 0, 1), (1, 1, 1, 12), 't']] 121437.948\n",
            " > Model[[(2, 0, 1), (1, 1, 0, 12), 't']] 110517.849\n",
            " > Model[[(2, 0, 1), (2, 0, 0, 12), 't']] 99751.478\n",
            " > Model[[(2, 0, 1), (2, 0, 1, 12), 't']] 116731.713\n",
            " > Model[[(2, 0, 1), (2, 1, 1, 12), 't']] 123806.481\n",
            " > Model[[(2, 0, 1), (0, 0, 0, 12), 'ct']] 73663.152\n",
            " > Model[[(2, 0, 1), (2, 1, 0, 12), 't']] 131219.874\n",
            " > Model[[(2, 0, 1), (0, 1, 0, 12), 'ct']] 104793.569\n",
            " > Model[[(2, 0, 1), (0, 0, 1, 12), 'ct']] 72702.516\n",
            " > Model[[(2, 0, 1), (1, 0, 0, 12), 'ct']] 74524.608\n",
            " > Model[[(2, 0, 1), (0, 1, 1, 12), 'ct']] 105860.188\n",
            " > Model[[(2, 0, 1), (1, 0, 1, 12), 'ct']] 73339.643\n",
            " > Model[[(2, 0, 1), (1, 1, 1, 12), 'ct']] 121150.160\n",
            " > Model[[(2, 0, 1), (1, 1, 0, 12), 'ct']] 103305.054\n",
            " > Model[[(2, 0, 1), (2, 0, 0, 12), 'ct']] 80079.655\n",
            " > Model[[(2, 0, 1), (2, 0, 1, 12), 'ct']] 76154.687\n",
            " > Model[[(2, 0, 1), (2, 1, 0, 12), 'ct']] 131767.272\n",
            " > Model[[(2, 0, 2), (0, 0, 0, 12), 'n']] 79911.293\n",
            " > Model[[(2, 0, 1), (2, 1, 1, 12), 'ct']] 125779.687\n",
            " > Model[[(2, 0, 2), (0, 1, 0, 12), 'n']] 115268.772\n",
            " > Model[[(2, 0, 2), (0, 0, 1, 12), 'n']] 73187.064\n",
            " > Model[[(2, 0, 2), (1, 0, 0, 12), 'n']] 125995.888\n",
            " > Model[[(2, 0, 2), (0, 1, 1, 12), 'n']] 104230.450\n",
            " > Model[[(2, 0, 2), (1, 0, 1, 12), 'n']] 102695.997\n",
            " > Model[[(2, 0, 2), (1, 1, 0, 12), 'n']] 106705.507\n",
            " > Model[[(2, 0, 2), (2, 0, 0, 12), 'n']] 80968.577\n",
            " > Model[[(2, 0, 2), (1, 1, 1, 12), 'n']] 131994.296\n",
            " > Model[[(2, 0, 2), (2, 0, 1, 12), 'n']] 101899.261\n",
            " > Model[[(2, 0, 2), (2, 1, 0, 12), 'n']] 132767.693\n",
            " > Model[[(2, 0, 2), (0, 0, 0, 12), 'c']] 77945.323\n",
            " > Model[[(2, 0, 2), (0, 0, 1, 12), 'c']] 83745.672\n",
            " > Model[[(2, 0, 2), (2, 1, 1, 12), 'n']] 126961.949\n",
            " > Model[[(2, 0, 2), (0, 1, 0, 12), 'c']] 112032.315\n",
            " > Model[[(2, 0, 2), (1, 0, 0, 12), 'c']] 86283.129\n",
            " > Model[[(2, 0, 2), (0, 1, 1, 12), 'c']] 104258.535\n",
            " > Model[[(2, 0, 2), (1, 1, 0, 12), 'c']] 105244.927\n",
            " > Model[[(2, 0, 2), (1, 0, 1, 12), 'c']] 81562.015\n",
            " > Model[[(2, 0, 2), (2, 0, 0, 12), 'c']] 76259.337\n",
            " > Model[[(2, 0, 2), (1, 1, 1, 12), 'c']] 133369.766\n",
            " > Model[[(2, 0, 2), (2, 0, 1, 12), 'c']] 90696.455\n",
            " > Model[[(2, 0, 2), (2, 1, 0, 12), 'c']] 128693.535\n",
            " > Model[[(2, 0, 2), (0, 0, 0, 12), 't']] 75076.531\n",
            " > Model[[(2, 0, 2), (2, 1, 1, 12), 'c']] 124862.895\n",
            " > Model[[(2, 0, 2), (0, 0, 1, 12), 't']] 94968.948\n",
            " > Model[[(2, 0, 2), (0, 1, 0, 12), 't']] 108995.437\n",
            " > Model[[(2, 0, 2), (1, 0, 0, 12), 't']] 101961.541\n",
            " > Model[[(2, 0, 2), (0, 1, 1, 12), 't']] 104262.065\n",
            " > Model[[(2, 0, 2), (1, 0, 1, 12), 't']] 105254.469\n",
            " > Model[[(2, 0, 2), (1, 1, 0, 12), 't']] 105235.038\n",
            " > Model[[(2, 0, 2), (1, 1, 1, 12), 't']] 120180.717\n",
            " > Model[[(2, 0, 2), (2, 0, 0, 12), 't']] 99097.829\n",
            " > Model[[(2, 0, 2), (2, 0, 1, 12), 't']] 116289.203\n",
            " > Model[[(2, 0, 2), (2, 1, 0, 12), 't']] 131064.045\n",
            " > Model[[(2, 0, 2), (0, 0, 0, 12), 'ct']] 74581.654\n",
            " > Model[[(2, 0, 2), (0, 0, 1, 12), 'ct']] 72762.391\n",
            " > Model[[(2, 0, 2), (2, 1, 1, 12), 't']] 126225.903\n",
            " > Model[[(2, 0, 2), (0, 1, 0, 12), 'ct']] 104198.667\n",
            " > Model[[(2, 0, 2), (1, 0, 0, 12), 'ct']] 75171.714\n",
            " > Model[[(2, 0, 2), (0, 1, 1, 12), 'ct']] 103935.971\n",
            " > Model[[(2, 0, 2), (1, 0, 1, 12), 'ct']] 75103.144\n",
            " > Model[[(2, 0, 2), (1, 1, 0, 12), 'ct']] 111649.388\n",
            " > Model[[(2, 0, 2), (1, 1, 1, 12), 'ct']] 120228.984\n",
            " > Model[[(2, 0, 2), (2, 0, 0, 12), 'ct']] 75058.506\n",
            " > Model[[(2, 0, 2), (2, 0, 1, 12), 'ct']] 107288.570\n",
            " > Model[[(2, 0, 2), (2, 1, 0, 12), 'ct']] 121540.548\n",
            " > Model[[(2, 1, 0), (0, 0, 0, 12), 'n']] 73545.956\n",
            " > Model[[(2, 1, 0), (0, 0, 1, 12), 'n']] 73336.080\n",
            " > Model[[(2, 1, 0), (0, 1, 0, 12), 'n']] 86678.077\n",
            " > Model[[(2, 1, 0), (0, 1, 1, 12), 'n']] 87224.429\n",
            " > Model[[(2, 1, 0), (1, 0, 0, 12), 'n']] 73305.550\n",
            " > Model[[(2, 1, 0), (1, 0, 1, 12), 'n']] 73306.372\n",
            " > Model[[(2, 1, 0), (1, 1, 0, 12), 'n']] 87544.170\n",
            " > Model[[(2, 1, 0), (1, 1, 1, 12), 'n']] 92465.103\n",
            " > Model[[(2, 1, 0), (2, 0, 0, 12), 'n']] 74732.140\n",
            " > Model[[(2, 0, 2), (2, 1, 1, 12), 'ct']] 113421.295\n",
            " > Model[[(2, 1, 0), (2, 0, 1, 12), 'n']] 79692.253\n",
            " > Model[[(2, 1, 0), (2, 1, 0, 12), 'n']] 95240.958\n",
            " > Model[[(2, 1, 0), (0, 0, 0, 12), 'c']] 73434.329\n",
            " > Model[[(2, 1, 0), (0, 0, 1, 12), 'c']] 73295.020\n",
            " > Model[[(2, 1, 0), (0, 1, 0, 12), 'c']] 86601.196\n",
            " > Model[[(2, 1, 0), (2, 1, 1, 12), 'n']] 99912.108\n",
            " > Model[[(2, 1, 0), (1, 0, 0, 12), 'c']] 73287.317\n",
            " > Model[[(2, 1, 0), (1, 0, 1, 12), 'c']] 73296.924\n",
            " > Model[[(2, 1, 0), (0, 1, 1, 12), 'c']] 87162.172\n",
            " > Model[[(2, 1, 0), (1, 1, 0, 12), 'c']] 87513.018\n",
            " > Model[[(2, 1, 0), (2, 0, 0, 12), 'c']] 74635.913\n",
            " > Model[[(2, 1, 0), (1, 1, 1, 12), 'c']] 92138.257\n",
            " > Model[[(2, 1, 0), (2, 0, 1, 12), 'c']] 79738.080\n",
            " > Model[[(2, 1, 0), (2, 1, 0, 12), 'c']] 94737.472\n",
            " > Model[[(2, 1, 0), (0, 0, 0, 12), 't']] 73543.616\n",
            " > Model[[(2, 1, 0), (0, 0, 1, 12), 't']] 73324.498\n",
            " > Model[[(2, 1, 0), (0, 1, 0, 12), 't']] 86676.307\n",
            " > Model[[(2, 1, 0), (2, 1, 1, 12), 'c']] 100209.250\n",
            " > Model[[(2, 1, 0), (1, 0, 0, 12), 't']] 73292.026\n",
            " > Model[[(2, 1, 0), (1, 0, 1, 12), 't']] 73292.846\n",
            " > Model[[(2, 1, 0), (0, 1, 1, 12), 't']] 87221.761\n",
            " > Model[[(2, 1, 0), (1, 1, 0, 12), 't']] 87430.293\n",
            " > Model[[(2, 1, 0), (1, 1, 1, 12), 't']] 92188.946\n",
            " > Model[[(2, 1, 0), (2, 0, 0, 12), 't']] 74742.081\n",
            " > Model[[(2, 1, 0), (2, 0, 1, 12), 't']] 79457.936\n",
            " > Model[[(2, 1, 0), (2, 1, 0, 12), 't']] 94973.560\n",
            " > Model[[(2, 1, 0), (0, 0, 0, 12), 'ct']] 72919.761\n",
            " > Model[[(2, 1, 0), (0, 0, 1, 12), 'ct']] 72904.255\n",
            " > Model[[(2, 1, 0), (0, 1, 0, 12), 'ct']] 86371.847\n",
            " > Model[[(2, 1, 0), (0, 1, 1, 12), 'ct']] 86977.557\n",
            " > Model[[(2, 1, 0), (2, 1, 1, 12), 't']] 100122.361\n",
            " > Model[[(2, 1, 0), (1, 0, 0, 12), 'ct']] 72980.355\n",
            " > Model[[(2, 1, 0), (1, 0, 1, 12), 'ct']] 73060.299\n",
            " > Model[[(2, 1, 0), (1, 1, 0, 12), 'ct']] 87197.932\n",
            " > Model[[(2, 1, 0), (2, 0, 0, 12), 'ct']] 73968.195\n",
            " > Model[[(2, 1, 0), (1, 1, 1, 12), 'ct']] 91697.199\n",
            " > Model[[(2, 1, 0), (2, 0, 1, 12), 'ct']] 76814.871\n",
            " > Model[[(2, 1, 0), (2, 1, 0, 12), 'ct']] 94402.374\n",
            " > Model[[(2, 1, 1), (0, 0, 0, 12), 'n']] 73402.305\n",
            " > Model[[(2, 1, 1), (0, 0, 1, 12), 'n']] 132855.858\n",
            " > Model[[(2, 1, 1), (0, 1, 0, 12), 'n']] 148988.436\n",
            " > Model[[(2, 1, 1), (0, 1, 1, 12), 'n']] 105099.631\n",
            " > Model[[(2, 1, 1), (1, 0, 0, 12), 'n']] 84218.149\n",
            " > Model[[(2, 1, 1), (1, 0, 1, 12), 'n']] 131708.791\n",
            " > Model[[(2, 1, 0), (2, 1, 1, 12), 'ct']] 100002.705\n",
            " > Model[[(2, 1, 1), (1, 1, 0, 12), 'n']] 103401.338\n",
            " > Model[[(2, 1, 1), (2, 0, 0, 12), 'n']] 109150.913\n",
            " > Model[[(2, 1, 1), (1, 1, 1, 12), 'n']] 106267.623\n",
            " > Model[[(2, 1, 1), (2, 0, 1, 12), 'n']] 113144.572\n",
            " > Model[[(2, 1, 1), (2, 1, 0, 12), 'n']] 99584.231\n",
            " > Model[[(2, 1, 1), (0, 0, 0, 12), 'c']] 73340.061\n",
            " > Model[[(2, 1, 1), (0, 0, 1, 12), 'c']] 135424.561\n",
            " > Model[[(2, 1, 1), (0, 1, 0, 12), 'c']] 86539.135\n",
            " > Model[[(2, 1, 1), (2, 1, 1, 12), 'n']] 101713.840\n",
            " > Model[[(2, 1, 1), (0, 1, 1, 12), 'c']] 115695.478\n",
            " > Model[[(2, 1, 1), (1, 0, 1, 12), 'c']] 135435.342\n",
            " > Model[[(2, 1, 1), (1, 0, 0, 12), 'c']] 115833.062\n",
            " > Model[[(2, 1, 1), (1, 1, 0, 12), 'c']] 115869.111\n",
            " > Model[[(2, 1, 1), (1, 1, 1, 12), 'c']] 119268.393\n",
            " > Model[[(2, 1, 1), (2, 0, 1, 12), 'c']] 137680.657\n",
            " > Model[[(2, 1, 1), (2, 0, 0, 12), 'c']] 105402.018\n",
            " > Model[[(2, 1, 1), (2, 1, 0, 12), 'c']] 96031.296\n",
            " > Model[[(2, 1, 1), (0, 0, 0, 12), 't']] 73400.067\n",
            " > Model[[(2, 1, 1), (0, 0, 1, 12), 't']] 132406.524\n",
            " > Model[[(2, 1, 1), (2, 1, 1, 12), 'c']] 114576.667\n",
            " > Model[[(2, 1, 1), (0, 1, 0, 12), 't']] 150291.287\n",
            " > Model[[(2, 1, 1), (1, 0, 0, 12), 't']] 131078.256\n",
            " > Model[[(2, 1, 1), (1, 0, 1, 12), 't']] 131734.535\n",
            " > Model[[(2, 1, 1), (0, 1, 1, 12), 't']] 106066.475\n",
            " > Model[[(2, 1, 1), (1, 1, 0, 12), 't']] 104764.352\n",
            " > Model[[(2, 1, 1), (1, 1, 1, 12), 't']] 108521.270\n",
            " > Model[[(2, 1, 1), (2, 0, 0, 12), 't']] 105202.632\n",
            " > Model[[(2, 1, 1), (2, 0, 1, 12), 't']] 107581.778\n",
            " > Model[[(2, 1, 1), (2, 1, 0, 12), 't']] 102274.329\n",
            " > Model[[(2, 1, 1), (0, 0, 0, 12), 'ct']] 72794.765\n",
            " > Model[[(2, 1, 1), (0, 0, 1, 12), 'ct']] 72849.565\n",
            " > Model[[(2, 1, 1), (2, 1, 1, 12), 't']] 105294.030\n",
            " > Model[[(2, 1, 1), (0, 1, 0, 12), 'ct']] 86331.076\n",
            " > Model[[(2, 1, 1), (1, 0, 0, 12), 'ct']] 72944.979\n",
            " > Model[[(2, 1, 1), (1, 0, 1, 12), 'ct']] 73079.296\n",
            " > Model[[(2, 1, 1), (0, 1, 1, 12), 'ct']] 101318.013\n",
            " > Model[[(2, 1, 1), (1, 1, 0, 12), 'ct']] 87049.269\n",
            " > Model[[(2, 1, 1), (1, 1, 1, 12), 'ct']] 91712.029\n",
            " > Model[[(2, 1, 1), (2, 0, 0, 12), 'ct']] 76086.772\n",
            " > Model[[(2, 1, 1), (2, 0, 1, 12), 'ct']] 79479.628\n",
            " > Model[[(2, 1, 1), (2, 1, 0, 12), 'ct']] 98118.577\n",
            " > Model[[(2, 1, 2), (0, 0, 0, 12), 'n']] 73065.813\n",
            " > Model[[(2, 1, 2), (0, 0, 1, 12), 'n']] 76859.491\n",
            " > Model[[(2, 1, 2), (0, 1, 0, 12), 'n']] 140034.894\n",
            " > Model[[(2, 1, 1), (2, 1, 1, 12), 'ct']] 93249.124\n",
            " > Model[[(2, 1, 2), (1, 0, 0, 12), 'n']] 75572.768\n",
            " > Model[[(2, 1, 2), (1, 0, 1, 12), 'n']] 77114.372\n",
            " > Model[[(2, 1, 2), (0, 1, 1, 12), 'n']] 101670.560\n",
            " > Model[[(2, 1, 2), (1, 1, 0, 12), 'n']] 100159.123\n",
            " > Model[[(2, 1, 2), (1, 1, 1, 12), 'n']] 98724.603\n",
            " > Model[[(2, 1, 2), (2, 0, 0, 12), 'n']] 92683.241\n",
            " > Model[[(2, 1, 2), (2, 0, 1, 12), 'n']] 87829.456\n",
            " > Model[[(2, 1, 2), (2, 1, 0, 12), 'n']] 100944.847\n",
            " > Model[[(2, 1, 2), (0, 0, 0, 12), 'c']] 73033.409\n",
            " > Model[[(2, 1, 2), (0, 0, 1, 12), 'c']] 76093.576\n",
            " > Model[[(2, 1, 2), (2, 1, 1, 12), 'n']] 112904.031\n",
            " > Model[[(2, 1, 2), (0, 1, 0, 12), 'c']] 140028.927\n",
            " > Model[[(2, 1, 2), (1, 0, 0, 12), 'c']] 75306.823\n",
            " > Model[[(2, 1, 2), (1, 0, 1, 12), 'c']] 78095.371\n",
            " > Model[[(2, 1, 2), (0, 1, 1, 12), 'c']] 101653.032\n",
            " > Model[[(2, 1, 2), (1, 1, 0, 12), 'c']] 92267.338\n",
            " > Model[[(2, 1, 2), (2, 0, 0, 12), 'c']] 92748.063\n",
            " > Model[[(2, 1, 2), (1, 1, 1, 12), 'c']] 93203.951\n",
            " > Model[[(2, 1, 2), (2, 0, 1, 12), 'c']] 90214.589\n",
            " > Model[[(2, 1, 2), (2, 1, 0, 12), 'c']] 100814.937\n",
            " > Model[[(2, 1, 2), (0, 0, 0, 12), 't']] 73066.024\n",
            " > Model[[(2, 1, 2), (0, 0, 1, 12), 't']] 76870.474\n",
            " > Model[[(2, 1, 2), (0, 1, 0, 12), 't']] 139890.162\n",
            " > Model[[(2, 1, 2), (0, 1, 1, 12), 't']] 101711.901\n",
            " > Model[[(2, 1, 2), (1, 0, 0, 12), 't']] 75581.811\n",
            " > Model[[(2, 1, 2), (2, 1, 1, 12), 'c']] 113265.449\n",
            " > Model[[(2, 1, 2), (1, 0, 1, 12), 't']] 77156.684\n",
            " > Model[[(2, 1, 2), (1, 1, 0, 12), 't']] 100236.876\n",
            " > Model[[(2, 1, 2), (1, 1, 1, 12), 't']] 94367.651\n",
            " > Model[[(2, 1, 2), (2, 0, 0, 12), 't']] 92751.991\n",
            " > Model[[(2, 1, 2), (2, 0, 1, 12), 't']] 87317.472\n",
            " > Model[[(2, 1, 2), (2, 1, 0, 12), 't']] 101294.784\n",
            " > Model[[(2, 1, 2), (0, 0, 0, 12), 'ct']] 74424.602\n",
            " > Model[[(2, 1, 2), (0, 0, 1, 12), 'ct']] 75570.343\n",
            " > Model[[(2, 1, 2), (2, 1, 1, 12), 't']] 114562.331\n",
            " > Model[[(2, 1, 2), (0, 1, 0, 12), 'ct']] 139101.942\n",
            " > Model[[(2, 1, 2), (1, 0, 0, 12), 'ct']] 74892.686\n",
            " > Model[[(2, 1, 2), (1, 0, 1, 12), 'ct']] 76495.533\n",
            " > Model[[(2, 1, 2), (0, 1, 1, 12), 'ct']] 101787.915\n",
            " > Model[[(2, 1, 2), (1, 1, 0, 12), 'ct']] 100518.262\n",
            " > Model[[(2, 1, 2), (1, 1, 1, 12), 'ct']] 103559.541\n",
            " > Model[[(2, 1, 2), (2, 0, 0, 12), 'ct']] 92419.494\n",
            " > Model[[(2, 1, 2), (2, 0, 1, 12), 'ct']] 79267.482\n",
            " > Model[[(2, 1, 2), (2, 1, 0, 12), 'ct']] 102068.015\n",
            " > Model[[(2, 1, 2), (2, 1, 1, 12), 'ct']] 118057.735\n"
          ],
          "name": "stdout"
        }
      ]
    },
    {
      "cell_type": "code",
      "metadata": {
        "id": "MVlYRml704BF",
        "colab_type": "code",
        "colab": {
          "base_uri": "https://localhost:8080/",
          "height": 72
        },
        "outputId": "86857184-218e-430a-99a7-35fc9d0cb14b"
      },
      "source": [
        "scores[:3]"
      ],
      "execution_count": 22,
      "outputs": [
        {
          "output_type": "execute_result",
          "data": {
            "text/plain": [
              "[(\"[(1, 0, 2), (1, 0, 1, 12), 'ct']\", 72585.6586982647),\n",
              " (\"[(1, 0, 2), (1, 0, 0, 12), 'ct']\", 72585.70891291206),\n",
              " (\"[(1, 0, 2), (1, 0, 0, 12), 'c']\", 72587.28098845722)]"
            ]
          },
          "metadata": {
            "tags": []
          },
          "execution_count": 22
        }
      ]
    },
    {
      "cell_type": "code",
      "metadata": {
        "id": "5oIIpjO9kLLq",
        "colab_type": "code",
        "colab": {
          "base_uri": "https://localhost:8080/",
          "height": 72
        },
        "outputId": "fd318933-7a83-4cb8-a253-a1690840f3d3"
      },
      "source": [
        "test_scores = test_grid_search_results(df, scores, ntop_scores=3)"
      ],
      "execution_count": 23,
      "outputs": [
        {
          "output_type": "stream",
          "text": [
            "(\"[(1, 0, 2), (1, 0, 1, 12), 'ct']\", 3.960021620726898e+16)\n",
            "(\"[(1, 0, 2), (1, 0, 0, 12), 'ct']\", 114821.27681513193)\n",
            "(\"[(1, 0, 2), (1, 0, 0, 12), 'c']\", 114768.96402666475)\n"
          ],
          "name": "stdout"
        }
      ]
    },
    {
      "cell_type": "code",
      "metadata": {
        "id": "xPlaymyj7dJY",
        "colab_type": "code",
        "colab": {
          "base_uri": "https://localhost:8080/",
          "height": 72
        },
        "outputId": "0510f3af-bc6b-4d22-c937-f01e91db1e04"
      },
      "source": [
        "test_scores"
      ],
      "execution_count": 24,
      "outputs": [
        {
          "output_type": "execute_result",
          "data": {
            "text/plain": [
              "[(\"[(1, 0, 2), (1, 0, 0, 12), 'c']\", 114768.96402666475),\n",
              " (\"[(1, 0, 2), (1, 0, 0, 12), 'ct']\", 114821.27681513193),\n",
              " (\"[(1, 0, 2), (1, 0, 1, 12), 'ct']\", 3.960021620726898e+16)]"
            ]
          },
          "metadata": {
            "tags": []
          },
          "execution_count": 24
        }
      ]
    },
    {
      "cell_type": "code",
      "metadata": {
        "id": "66-cWYnWBPzc",
        "colab_type": "code",
        "colab": {
          "base_uri": "https://localhost:8080/",
          "height": 604
        },
        "outputId": "fd6c37e7-77e3-46e2-c554-faa3166a13e9"
      },
      "source": [
        "plot_model(df, eval(test_scores[0][0]))"
      ],
      "execution_count": 25,
      "outputs": [
        {
          "output_type": "stream",
          "text": [
            "/usr/local/lib/python3.6/dist-packages/statsmodels/tsa/base/tsa_model.py:165: ValueWarning: No frequency information was provided, so inferred frequency MS will be used.\n",
            "  % freq, ValueWarning)\n"
          ],
          "name": "stderr"
        },
        {
          "output_type": "stream",
          "text": [
            "Error: 62895.08809058176\n"
          ],
          "name": "stdout"
        },
        {
          "output_type": "display_data",
          "data": {
            "image/png": "[encoded data removed]",
            "text/plain": [
              "<Figure size 1584x720 with 1 Axes>"
            ]
          },
          "metadata": {
            "tags": []
          }
        }
      ]
    },
    {
      "cell_type": "markdown",
      "metadata": {
        "id": "1mm1mQP6I3tk",
        "colab_type": "text"
      },
      "source": [
        "___"
      ]
    },
    {
      "cell_type": "markdown",
      "metadata": {
        "id": "xKxy7ujzvCxy",
        "colab_type": "text"
      },
      "source": [
        "## Previsão"
      ]
    },
    {
      "cell_type": "code",
      "metadata": {
        "id": "Lsp8I1dtn40j",
        "colab_type": "code",
        "colab": {
          "base_uri": "https://localhost:8080/",
          "height": 73
        },
        "outputId": "eadcba55-0177-4279-b341-8162380b3f95"
      },
      "source": [
        "cfg= eval(test_scores[0][0])\n",
        "order = cfg[0]\n",
        "s_order = cfg[1]\n",
        "trend = cfg[2]\n",
        "sarimax_pred = SARIMAX(\n",
        "    endog=df, order=order, seasonal_order=s_order, trend=trend,\n",
        "    enforce_stationarity=False, enforce_invertibility=False)\n",
        "\n",
        "model_sarimax_pred = sarimax_pred.fit(disp=False)\n",
        "\n",
        "fcast_sarimax = model_sarimax_pred.get_forecast(5)\n"
      ],
      "execution_count": 26,
      "outputs": [
        {
          "output_type": "stream",
          "text": [
            "/usr/local/lib/python3.6/dist-packages/statsmodels/tsa/base/tsa_model.py:165: ValueWarning: No frequency information was provided, so inferred frequency MS will be used.\n",
            "  % freq, ValueWarning)\n"
          ],
          "name": "stderr"
        }
      ]
    },
    {
      "cell_type": "code",
      "metadata": {
        "id": "rqZ3UU1gqBkG",
        "colab_type": "code",
        "colab": {}
      },
      "source": [
        "df_fcast = pd.concat([model_sarimax_pred.predict(), fcast_sarimax.predicted_mean], axis=0)"
      ],
      "execution_count": 27,
      "outputs": []
    },
    {
      "cell_type": "code",
      "metadata": {
        "id": "favbcK0yqbKV",
        "colab_type": "code",
        "colab": {
          "base_uri": "https://localhost:8080/",
          "height": 206
        },
        "outputId": "160e5ba1-60d2-4527-9553-1916f8978f35"
      },
      "source": [
        "df_fcast.name = 'fcast'\n",
        "df_fcast = pd.concat([df_fcast, fcast_sarimax.conf_int()], axis=1)\n",
        "df_fcast.tail()"
      ],
      "execution_count": 28,
      "outputs": [
        {
          "output_type": "execute_result",
          "data": {
            "text/html": [
              "<div>\n",
              "<style scoped>\n",
              "    .dataframe tbody tr th:only-of-type {\n",
              "        vertical-align: middle;\n",
              "    }\n",
              "\n",
              "    .dataframe tbody tr th {\n",
              "        vertical-align: top;\n",
              "    }\n",
              "\n",
              "    .dataframe thead th {\n",
              "        text-align: right;\n",
              "    }\n",
              "</style>\n",
              "<table border=\"1\" class=\"dataframe\">\n",
              "  <thead>\n",
              "    <tr style=\"text-align: right;\">\n",
              "      <th></th>\n",
              "      <th>fcast</th>\n",
              "      <th>lower estoques</th>\n",
              "      <th>upper estoques</th>\n",
              "    </tr>\n",
              "  </thead>\n",
              "  <tbody>\n",
              "    <tr>\n",
              "      <th>2020-08-01</th>\n",
              "      <td>768710.971205</td>\n",
              "      <td>760151.516381</td>\n",
              "      <td>777270.426030</td>\n",
              "    </tr>\n",
              "    <tr>\n",
              "      <th>2020-09-01</th>\n",
              "      <td>769451.806832</td>\n",
              "      <td>755597.909771</td>\n",
              "      <td>783305.703894</td>\n",
              "    </tr>\n",
              "    <tr>\n",
              "      <th>2020-10-01</th>\n",
              "      <td>770192.207534</td>\n",
              "      <td>752300.639363</td>\n",
              "      <td>788083.775705</td>\n",
              "    </tr>\n",
              "    <tr>\n",
              "      <th>2020-11-01</th>\n",
              "      <td>770973.329525</td>\n",
              "      <td>750062.931103</td>\n",
              "      <td>791883.727947</td>\n",
              "    </tr>\n",
              "    <tr>\n",
              "      <th>2020-12-01</th>\n",
              "      <td>771658.829140</td>\n",
              "      <td>748328.779822</td>\n",
              "      <td>794988.878458</td>\n",
              "    </tr>\n",
              "  </tbody>\n",
              "</table>\n",
              "</div>"
            ],
            "text/plain": [
              "                    fcast  lower estoques  upper estoques\n",
              "2020-08-01  768710.971205   760151.516381   777270.426030\n",
              "2020-09-01  769451.806832   755597.909771   783305.703894\n",
              "2020-10-01  770192.207534   752300.639363   788083.775705\n",
              "2020-11-01  770973.329525   750062.931103   791883.727947\n",
              "2020-12-01  771658.829140   748328.779822   794988.878458"
            ]
          },
          "metadata": {
            "tags": []
          },
          "execution_count": 28
        }
      ]
    },
    {
      "cell_type": "code",
      "metadata": {
        "id": "zKn4JeG7rFGz",
        "colab_type": "code",
        "colab": {}
      },
      "source": [
        "previsoes_sarimax = pd.concat(\n",
        "    [df['estoques'], df_fcast],\n",
        "    axis=1)"
      ],
      "execution_count": 29,
      "outputs": []
    },
    {
      "cell_type": "code",
      "metadata": {
        "id": "bGEGC6u2rb_v",
        "colab_type": "code",
        "colab": {
          "base_uri": "https://localhost:8080/",
          "height": 410
        },
        "outputId": "a7a88476-ef9c-4fcf-c62d-ec06378aad9d"
      },
      "source": [
        "fig, ax = plt.subplots(figsize=(16, 6))\n",
        "previsoes_sarimax.estoques.loc['2012-03-01':].plot(ax=ax, style='o', label='real')\n",
        "\n",
        "previsoes_sarimax.fcast.loc['2012-03-01':].plot(ax=ax, style='g--x', label='previsão')\n",
        "\n",
        "ax.fill_between(\n",
        "    previsoes_sarimax.index, \n",
        "    previsoes_sarimax.iloc[:,2], \n",
        "    previsoes_sarimax.iloc[:,3], color='g', alpha=0.1)\n",
        "\n",
        "plt.title('Estimativa do estoque de empregos formais para COMÉRCIO - PERNAMBUCO')\n",
        "legend = ax.legend(loc='lower left')"
      ],
      "execution_count": 30,
      "outputs": [
        {
          "output_type": "display_data",
          "data": {
            "image/png": "[encoded data removed]",
            "text/plain": [
              "<Figure size 1152x432 with 1 Axes>"
            ]
          },
          "metadata": {
            "tags": []
          }
        }
      ]
    },
    {
      "cell_type": "markdown",
      "metadata": {
        "id": "TwOU21Mn6kD7",
        "colab_type": "text"
      },
      "source": [
        "Até o fim do ano o saldo será:"
      ]
    },
    {
      "cell_type": "code",
      "metadata": {
        "id": "lqPZq_8a6ks9",
        "colab_type": "code",
        "colab": {
          "base_uri": "https://localhost:8080/",
          "height": 35
        },
        "outputId": "2d1c7c30-3f15-4b92-b8a3-82546adc57a5"
      },
      "source": [
        "fcast_sarimax.predicted_mean[-1] - df.estoques[-1]"
      ],
      "execution_count": 31,
      "outputs": [
        {
          "output_type": "execute_result",
          "data": {
            "text/plain": [
              "3512.8291400322923"
            ]
          },
          "metadata": {
            "tags": []
          },
          "execution_count": 31
        }
      ]
    },
    {
      "cell_type": "code",
      "metadata": {
        "id": "V9UUWpve7hU0",
        "colab_type": "code",
        "colab": {}
      },
      "source": [
        "pred2020df = pd.DataFrame(df_saldo.saldo[-1] + fcast_sarimax.predicted_mean[-1] - df.estoques[-1], \n",
        "                          index=[\"2020\"], columns=['saldo'])\n",
        "pred2020df.index.name = \"Ano\"\n",
        "pred2020df.index = pd.to_datetime(pred2020df.index, format=\"%Y\")\n",
        "\n",
        "# df_saldo.update(pred2020df)\n",
        "# df_saldo.tail()"
      ],
      "execution_count": 32,
      "outputs": []
    },
    {
      "cell_type": "code",
      "metadata": {
        "id": "IKDPI80WCnQz",
        "colab_type": "code",
        "colab": {
          "base_uri": "https://localhost:8080/",
          "height": 363
        },
        "outputId": "20a73857-4d3a-467a-dfd6-c61fae7435e7"
      },
      "source": [
        "df_saldo_pred = pd.concat([df_saldo[1:][:-1], pred2020df], axis=0)\n",
        "df_saldo_pred"
      ],
      "execution_count": 33,
      "outputs": [
        {
          "output_type": "execute_result",
          "data": {
            "text/html": [
              "<div>\n",
              "<style scoped>\n",
              "    .dataframe tbody tr th:only-of-type {\n",
              "        vertical-align: middle;\n",
              "    }\n",
              "\n",
              "    .dataframe tbody tr th {\n",
              "        vertical-align: top;\n",
              "    }\n",
              "\n",
              "    .dataframe thead th {\n",
              "        text-align: right;\n",
              "    }\n",
              "</style>\n",
              "<table border=\"1\" class=\"dataframe\">\n",
              "  <thead>\n",
              "    <tr style=\"text-align: right;\">\n",
              "      <th></th>\n",
              "      <th>saldo</th>\n",
              "    </tr>\n",
              "  </thead>\n",
              "  <tbody>\n",
              "    <tr>\n",
              "      <th>2011-01-01</th>\n",
              "      <td>30130.00000</td>\n",
              "    </tr>\n",
              "    <tr>\n",
              "      <th>2012-01-01</th>\n",
              "      <td>24953.00000</td>\n",
              "    </tr>\n",
              "    <tr>\n",
              "      <th>2013-01-01</th>\n",
              "      <td>21847.00000</td>\n",
              "    </tr>\n",
              "    <tr>\n",
              "      <th>2014-01-01</th>\n",
              "      <td>23119.00000</td>\n",
              "    </tr>\n",
              "    <tr>\n",
              "      <th>2015-01-01</th>\n",
              "      <td>-19848.00000</td>\n",
              "    </tr>\n",
              "    <tr>\n",
              "      <th>2016-01-01</th>\n",
              "      <td>-30707.00000</td>\n",
              "    </tr>\n",
              "    <tr>\n",
              "      <th>2017-01-01</th>\n",
              "      <td>2723.00000</td>\n",
              "    </tr>\n",
              "    <tr>\n",
              "      <th>2018-01-01</th>\n",
              "      <td>22918.00000</td>\n",
              "    </tr>\n",
              "    <tr>\n",
              "      <th>2019-01-01</th>\n",
              "      <td>10016.00000</td>\n",
              "    </tr>\n",
              "    <tr>\n",
              "      <th>2020-01-01</th>\n",
              "      <td>-23974.17086</td>\n",
              "    </tr>\n",
              "  </tbody>\n",
              "</table>\n",
              "</div>"
            ],
            "text/plain": [
              "                  saldo\n",
              "2011-01-01  30130.00000\n",
              "2012-01-01  24953.00000\n",
              "2013-01-01  21847.00000\n",
              "2014-01-01  23119.00000\n",
              "2015-01-01 -19848.00000\n",
              "2016-01-01 -30707.00000\n",
              "2017-01-01   2723.00000\n",
              "2018-01-01  22918.00000\n",
              "2019-01-01  10016.00000\n",
              "2020-01-01 -23974.17086"
            ]
          },
          "metadata": {
            "tags": []
          },
          "execution_count": 33
        }
      ]
    },
    {
      "cell_type": "code",
      "metadata": {
        "id": "5oQ4XJrJ_5Xj",
        "colab_type": "code",
        "colab": {
          "base_uri": "https://localhost:8080/",
          "height": 410
        },
        "outputId": "d5988d60-bbaf-4e0b-c2c0-9b9016bf54d2"
      },
      "source": [
        "plt.figure(figsize=(12, 6))\n",
        "plt.bar(df_saldo_pred.index.year, df_saldo_pred.saldo)\n",
        "plt.title('Saldo de vagas - COMÉRCIO')\n",
        "plt.show();"
      ],
      "execution_count": 34,
      "outputs": [
        {
          "output_type": "display_data",
          "data": {
            "image/png": "[encoded data removed]",
            "text/plain": [
              "<Figure size 864x432 with 1 Axes>"
            ]
          },
          "metadata": {
            "tags": []
          }
        }
      ]
    }
  ]
}