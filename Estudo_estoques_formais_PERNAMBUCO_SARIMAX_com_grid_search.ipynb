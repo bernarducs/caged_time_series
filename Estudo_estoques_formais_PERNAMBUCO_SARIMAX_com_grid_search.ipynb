{
  "nbformat": 4,
  "nbformat_minor": 0,
  "metadata": {
    "colab": {
      "name": "Estudo estoques formais PERNAMBUCO - SARIMAX com grid search.ipynb",
      "provenance": [],
      "collapsed_sections": [],
      "toc_visible": true,
      "mount_file_id": "1PykZeqbAD4asEMPUE_jBKz2-vV1uOS7G",
      "authorship_tag": "ABX9TyON0pjM94kx0Q9qf337uIyu",
      "include_colab_link": true
    },
    "kernelspec": {
      "name": "python3",
      "display_name": "Python 3"
    }
  },
  "cells": [
    {
      "cell_type": "markdown",
      "metadata": {
        "id": "view-in-github",
        "colab_type": "text"
      },
      "source": [
        "<a href=\"https://colab.research.google.com/github/bernarducs/caged_time_series/blob/master/Estudo_estoques_formais_PERNAMBUCO_SARIMAX_com_grid_search.ipynb\" target=\"_parent\"><img src=\"https://colab.research.google.com/assets/colab-badge.svg\" alt=\"Open In Colab\"/></a>"
      ]
    },
    {
      "cell_type": "markdown",
      "metadata": {
        "id": "2xmOlNMYsw8u"
      },
      "source": [
        "## Objetivo\n",
        "### Abaixo, utilizaremos funções que buscarão os melhores parâmetros para modelagem do método ARIMAX com fator sazonal, usando como variável exógena o Ibc."
      ]
    },
    {
      "cell_type": "markdown",
      "metadata": {
        "id": "24n8i1qyCPaP"
      },
      "source": [
        "Based on article: https://machinelearningmastery.com/how-to-grid-search-sarima-model-hyperparameters-for-time-series-forecasting-in-python/"
      ]
    },
    {
      "cell_type": "markdown",
      "metadata": {
        "id": "rG4qQ8BPtTXu"
      },
      "source": [
        "## Pacotes"
      ]
    },
    {
      "cell_type": "code",
      "metadata": {
        "id": "Pfthvjm47P7O"
      },
      "source": [
        "from math import sqrt\n",
        "from itertools import product\n",
        "import pandas as pd"
      ],
      "execution_count": 1,
      "outputs": []
    },
    {
      "cell_type": "code",
      "metadata": {
        "id": "FSpWQbok-kCQ"
      },
      "source": [
        "# viz\n",
        "import matplotlib.pyplot as plt\n",
        "import seaborn as sns\n",
        "sns.set_style(\"darkgrid\")\n",
        "sns.set_context(\"talk\")"
      ],
      "execution_count": 2,
      "outputs": []
    },
    {
      "cell_type": "code",
      "metadata": {
        "id": "G9feBiuUFNMo"
      },
      "source": [
        "# multiprocessing\n",
        "from multiprocessing import cpu_count\n",
        "from joblib import Parallel\n",
        "from joblib import delayed\n",
        "from warnings import catch_warnings\n",
        "from warnings import filterwarnings"
      ],
      "execution_count": 3,
      "outputs": []
    },
    {
      "cell_type": "code",
      "metadata": {
        "id": "NsgI-Fff54pZ",
        "outputId": "fa1f85d2-19d1-4f9c-9a93-437c4fb447c1",
        "colab": {
          "base_uri": "https://localhost:8080/"
        }
      },
      "source": [
        "# stats\n",
        "from statsmodels.tsa.statespace.sarimax import SARIMAX\n",
        "from sklearn.metrics import mean_squared_error"
      ],
      "execution_count": 4,
      "outputs": [
        {
          "output_type": "stream",
          "text": [
            "/usr/local/lib/python3.6/dist-packages/statsmodels/tools/_testing.py:19: FutureWarning: pandas.util.testing is deprecated. Use the functions in the public API at pandas.testing instead.\n",
            "  import pandas.util.testing as tm\n"
          ],
          "name": "stderr"
        }
      ]
    },
    {
      "cell_type": "markdown",
      "metadata": {
        "id": "_z6oSAbntYl6"
      },
      "source": [
        "## Datasets"
      ]
    },
    {
      "cell_type": "markdown",
      "metadata": {
        "id": "otBiszKBDdt1"
      },
      "source": [
        "#### Estoques"
      ]
    },
    {
      "cell_type": "code",
      "metadata": {
        "id": "txvZzuuraHQd",
        "outputId": "e5ed35f0-109c-4457-ac39-f5c689920811",
        "colab": {
          "base_uri": "https://localhost:8080/",
          "height": 237
        }
      },
      "source": [
        "file_path = \"/content/drive/My Drive/Colab Notebooks/emprego/bases/estoques/estoque_pe.csv\"\n",
        "df = pd.read_csv(file_path, index_col='ano_mes', sep=';')\n",
        "df.index = pd.to_datetime(df.index, format=\"%Y%m\")\n",
        "df.tail()"
      ],
      "execution_count": 5,
      "outputs": [
        {
          "output_type": "execute_result",
          "data": {
            "text/html": [
              "<div>\n",
              "<style scoped>\n",
              "    .dataframe tbody tr th:only-of-type {\n",
              "        vertical-align: middle;\n",
              "    }\n",
              "\n",
              "    .dataframe tbody tr th {\n",
              "        vertical-align: top;\n",
              "    }\n",
              "\n",
              "    .dataframe thead th {\n",
              "        text-align: right;\n",
              "    }\n",
              "</style>\n",
              "<table border=\"1\" class=\"dataframe\">\n",
              "  <thead>\n",
              "    <tr style=\"text-align: right;\">\n",
              "      <th></th>\n",
              "      <th>estoques</th>\n",
              "    </tr>\n",
              "    <tr>\n",
              "      <th>ano_mes</th>\n",
              "      <th></th>\n",
              "    </tr>\n",
              "  </thead>\n",
              "  <tbody>\n",
              "    <tr>\n",
              "      <th>2020-05-01</th>\n",
              "      <td>1167301</td>\n",
              "    </tr>\n",
              "    <tr>\n",
              "      <th>2020-06-01</th>\n",
              "      <td>1163587</td>\n",
              "    </tr>\n",
              "    <tr>\n",
              "      <th>2020-07-01</th>\n",
              "      <td>1169034</td>\n",
              "    </tr>\n",
              "    <tr>\n",
              "      <th>2020-08-01</th>\n",
              "      <td>1181355</td>\n",
              "    </tr>\n",
              "    <tr>\n",
              "      <th>2020-09-01</th>\n",
              "      <td>1203156</td>\n",
              "    </tr>\n",
              "  </tbody>\n",
              "</table>\n",
              "</div>"
            ],
            "text/plain": [
              "            estoques\n",
              "ano_mes             \n",
              "2020-05-01   1167301\n",
              "2020-06-01   1163587\n",
              "2020-07-01   1169034\n",
              "2020-08-01   1181355\n",
              "2020-09-01   1203156"
            ]
          },
          "metadata": {
            "tags": []
          },
          "execution_count": 5
        }
      ]
    },
    {
      "cell_type": "markdown",
      "metadata": {
        "id": "2_VzRNqF76u7"
      },
      "source": [
        "#### Ibc"
      ]
    },
    {
      "cell_type": "code",
      "metadata": {
        "id": "tm_mdcvL577e",
        "outputId": "60f546a7-765d-4b85-b51f-7382a7fccd84",
        "colab": {
          "base_uri": "https://localhost:8080/"
        }
      },
      "source": [
        "file_ibcpe = '/content/drive/My Drive/Colab Notebooks/emprego/bases/IBCR-PE.csv'\n",
        "df_ibc = pd.read_csv(file_ibcpe, sep=';', dtype={'data': 'str', 'indice':'float', 'indice_ajus':'float'})\n",
        "df_ibc['data'] = pd.to_datetime(df_ibc.data, format=\"%Y-%m-%d\")\n",
        "df_ibc.set_index('data', inplace=True)\n",
        "exog = pd.concat(\n",
        "    [df_ibc.indice_ajus.loc['2010-12-01':],\n",
        "    df_ibc.indice_ajus.shift(periods=1, freq=\"infer\").tail(1)])\n",
        "exog.tail()"
      ],
      "execution_count": 6,
      "outputs": [
        {
          "output_type": "execute_result",
          "data": {
            "text/plain": [
              "data\n",
              "2020-05-01    134.86\n",
              "2020-06-01    139.25\n",
              "2020-07-01    145.77\n",
              "2020-08-01    146.05\n",
              "2020-09-01    146.05\n",
              "Name: indice_ajus, dtype: float64"
            ]
          },
          "metadata": {
            "tags": []
          },
          "execution_count": 6
        }
      ]
    },
    {
      "cell_type": "markdown",
      "metadata": {
        "id": "L08HxaiEDhD3"
      },
      "source": [
        "#### Saldo"
      ]
    },
    {
      "cell_type": "code",
      "metadata": {
        "id": "CnnGhP3hDhYb",
        "outputId": "8150bcaf-9b1f-4474-9600-3914be3cb625",
        "colab": {
          "base_uri": "https://localhost:8080/",
          "height": 237
        }
      },
      "source": [
        "file_path2 = \"/content/drive/My Drive/Colab Notebooks/emprego/bases/saldos/saldo_pe.csv\"\n",
        "df_saldo = pd.read_csv(file_path2, sep=';')\n",
        "df_saldo.set_index('ano', inplace=True)\n",
        "df_saldo.index = pd.to_datetime(df_saldo.index, format=\"%Y\")\n",
        "df_saldo.tail()"
      ],
      "execution_count": 7,
      "outputs": [
        {
          "output_type": "execute_result",
          "data": {
            "text/html": [
              "<div>\n",
              "<style scoped>\n",
              "    .dataframe tbody tr th:only-of-type {\n",
              "        vertical-align: middle;\n",
              "    }\n",
              "\n",
              "    .dataframe tbody tr th {\n",
              "        vertical-align: top;\n",
              "    }\n",
              "\n",
              "    .dataframe thead th {\n",
              "        text-align: right;\n",
              "    }\n",
              "</style>\n",
              "<table border=\"1\" class=\"dataframe\">\n",
              "  <thead>\n",
              "    <tr style=\"text-align: right;\">\n",
              "      <th></th>\n",
              "      <th>saldo</th>\n",
              "    </tr>\n",
              "    <tr>\n",
              "      <th>ano</th>\n",
              "      <th></th>\n",
              "    </tr>\n",
              "  </thead>\n",
              "  <tbody>\n",
              "    <tr>\n",
              "      <th>2016-01-01</th>\n",
              "      <td>-47617</td>\n",
              "    </tr>\n",
              "    <tr>\n",
              "      <th>2017-01-01</th>\n",
              "      <td>-6498</td>\n",
              "    </tr>\n",
              "    <tr>\n",
              "      <th>2018-01-01</th>\n",
              "      <td>4091</td>\n",
              "    </tr>\n",
              "    <tr>\n",
              "      <th>2019-01-01</th>\n",
              "      <td>9696</td>\n",
              "    </tr>\n",
              "    <tr>\n",
              "      <th>2020-01-01</th>\n",
              "      <td>-28963</td>\n",
              "    </tr>\n",
              "  </tbody>\n",
              "</table>\n",
              "</div>"
            ],
            "text/plain": [
              "            saldo\n",
              "ano              \n",
              "2016-01-01 -47617\n",
              "2017-01-01  -6498\n",
              "2018-01-01   4091\n",
              "2019-01-01   9696\n",
              "2020-01-01 -28963"
            ]
          },
          "metadata": {
            "tags": []
          },
          "execution_count": 7
        }
      ]
    },
    {
      "cell_type": "markdown",
      "metadata": {
        "id": "9oLA0W8ftenV"
      },
      "source": [
        "## Rotinas\n",
        "\n",
        "Aqui temos funções para o sarima em 1 passo (faz a predição para t+1). A próxima função é raiz quadrada dos erros médios e por fim a função responsável por separação do dataset entre teste e treino."
      ]
    },
    {
      "cell_type": "code",
      "metadata": {
        "id": "nG_TDMvf6JhI"
      },
      "source": [
        "# one-step sarima forecast\n",
        "def sarimax_forecast(history, config, exog=None):\n",
        "\torder, sorder, trend = config\n",
        "\t# define model\n",
        "\tmodel = SARIMAX(history, exog=exog, order=order, seasonal_order=sorder, trend=trend, \n",
        "                 enforce_stationarity=False, enforce_invertibility=False)\n",
        "\t# fit model\n",
        "\tmodel_fit = model.fit(disp=False)\n",
        "\t# make one step forecast\n",
        "\tyhat = model_fit.predict()\n",
        "\treturn yhat\n",
        " \n",
        "# root mean squared error or rmse\n",
        "def measure_rmse(actual, predicted):\n",
        "\treturn sqrt(mean_squared_error(actual, predicted))\n",
        " \n",
        "# split a univariate dataset into train/test sets\n",
        "def train_test_split(data, percent_test=0.25):\n",
        "  n_test = int(len(data) * percent_test)\n",
        "  return data[:-n_test], data[-n_test:]"
      ],
      "execution_count": 8,
      "outputs": []
    },
    {
      "cell_type": "markdown",
      "metadata": {
        "id": "WPe8kgqauCk-"
      },
      "source": [
        "Aqui usamos a funções acima retornando o quadrado dos desvios."
      ]
    },
    {
      "cell_type": "code",
      "metadata": {
        "id": "w4gmgXxd9rL7"
      },
      "source": [
        "# walk-forward validation for univariate data\n",
        "def walk_forward_validation(data, percent_test, cfg, exog=None):\n",
        "  # split dataset\n",
        "  train, _ = train_test_split(data, percent_test)\n",
        "\n",
        "  if exog is not None:\n",
        "    exog, _ = train_test_split(exog, percent_test)\n",
        "\n",
        "  # fit model and make forecast for history\n",
        "  yhat = sarimax_forecast(train, cfg, exog)\n",
        "\n",
        "  # estimate prediction error\n",
        "  error = measure_rmse(train, yhat)\n",
        "  return error  "
      ],
      "execution_count": 9,
      "outputs": []
    },
    {
      "cell_type": "markdown",
      "metadata": {
        "id": "As6bSAOUuLIG"
      },
      "source": [
        "Avalia qual a melhor configuração de parâmetros `cfg` tem a melhor avaliação, ou seja, o menor erro."
      ]
    },
    {
      "cell_type": "code",
      "metadata": {
        "id": "tkYM4hBsMjsD"
      },
      "source": [
        "def score_model(data, n_test, cfg, exog=None, debug=False):\n",
        "  result = None\n",
        "  # convert config to a key\n",
        "  key = str(cfg)\n",
        "  # show all warnings and fail on exception if debugging\n",
        "  if debug:\n",
        "    result = walk_forward_validation(data, n_test, cfg, exog)\n",
        "  else:\n",
        "    # one failure during model validation suggests an unstable config\n",
        "    try:\n",
        "      # never show warnings when grid searching, too noisy\n",
        "      with catch_warnings():\n",
        "        filterwarnings(\"ignore\")\n",
        "        result = walk_forward_validation(data, n_test, cfg, exog)\n",
        "    except:\n",
        "      error = None\n",
        "      print(\"Exception\")\n",
        "  # check for an interesting result\n",
        "  if result is not None:\n",
        "    print(' > Model{}: {:.2f}'.format(key, result))\n",
        "  return (key, result)"
      ],
      "execution_count": 10,
      "outputs": []
    },
    {
      "cell_type": "code",
      "metadata": {
        "id": "ZT8jnDItMuXh"
      },
      "source": [
        "# grid search configs\n",
        "def grid_search(data, n_test, cfg_list, exog=None, parallel=True):\n",
        "  scores = None\n",
        "  if parallel:\n",
        "    # execute configs in parallel\n",
        "    executor = Parallel(n_jobs=cpu_count(), backend='multiprocessing')\n",
        "    tasks = (delayed(score_model)(data, n_test, cfg, exog) for cfg in cfg_list)\n",
        "    scores = executor(tasks)\n",
        "  else:\n",
        "    scores = [score_model(data, n_test, cfg, exog) for cfg in cfg_list]\n",
        "  # remove empty results\n",
        "  scores = [r for r in scores if r[1] != None]\n",
        "  # sort configs by error, asc\n",
        "  scores.sort(key=lambda tup: tup[1])\n",
        "  return scores"
      ],
      "execution_count": 11,
      "outputs": []
    },
    {
      "cell_type": "code",
      "metadata": {
        "id": "vRFAwENkt4np"
      },
      "source": [
        "# evaluating grid search results for test data\n",
        "def grid_search_test_results(data, scores, exog=None, ntop_scores=5):\n",
        "\n",
        "  if ntop_scores > len(scores):\n",
        "    ntop_scores = 5\n",
        "\n",
        "  scores_test = list()\n",
        "  _, test = train_test_split(data, percent_test=0.45)\n",
        "  \n",
        "  if exog is None:\n",
        "    ex_test = None\n",
        "  else:\n",
        "    _, ex_test = train_test_split(exog, percent_test=0.45)  \n",
        "\n",
        "  for cfg_str, _ in scores[:ntop_scores]:\n",
        "    cfg = eval(cfg_str)\n",
        "    with catch_warnings():\n",
        "      filterwarnings(\"ignore\")\n",
        "      yhat = sarimax_forecast(test, cfg, ex_test)\n",
        "    error = measure_rmse(test, yhat)\n",
        "    result = (cfg_str, error)\n",
        "    print(result)\n",
        "    scores_test.append(result)\n",
        "  \n",
        "  scores_test.sort(key=lambda tup: tup[1])\n",
        "  return scores_test"
      ],
      "execution_count": 39,
      "outputs": []
    },
    {
      "cell_type": "code",
      "metadata": {
        "id": "QyxmozW79v8i"
      },
      "source": [
        "def plot_model(data, cfg, exog=None):\n",
        "  order = cfg[0]\n",
        "  s_order = cfg[1]\n",
        "  trend = cfg[2]\n",
        "  sarimax_pred = SARIMAX(\n",
        "      endog=df, exog=exog, order=order, seasonal_order=s_order, trend=trend,\n",
        "      enforce_stationarity=False, enforce_invertibility=False)\n",
        "\n",
        "  model_sarimax_pred = sarimax_pred.fit(disp=False)\n",
        "\n",
        "  previsao_sarimax = model_sarimax_pred.predict()\n",
        "\n",
        "  error = measure_rmse(df, previsao_sarimax)\n",
        "  print('Error:', error)\n",
        "\n",
        "  plt.figure(figsize=(22, 10))\n",
        "  plt.plot(previsao_sarimax[10:], label = 'forecast')\n",
        "  plt.plot(df[10:], label = 'target')\n",
        "  plt.title('Target x Forecast')\n",
        "  plt.legend()\n",
        "  plt.show()"
      ],
      "execution_count": 13,
      "outputs": []
    },
    {
      "cell_type": "code",
      "metadata": {
        "id": "WO8ntgVZPxJX"
      },
      "source": [
        "def sarima_configs(seasonal=[12]):\n",
        "  models = list()\n",
        "  # define config lists\n",
        "  p_params = [0, 1, 2]\n",
        "  d_params = [0, 1]\n",
        "  q_params = [0, 1, 2]\n",
        "  t_params = ['n','c','t','ct']\n",
        "  P_params = [0, 1, 2]\n",
        "  D_params = [0, 1]\n",
        "  Q_params = [0, 1]\n",
        "  m_params = seasonal\n",
        "  # create config instances\n",
        "  for p, d, q, t, P, D, Q, m in product(p_params, d_params, q_params, t_params, P_params, D_params, Q_params, m_params):\n",
        "    cfg = [(p,d,q), (P,D,Q,m), t]\n",
        "    models.append(cfg)\n",
        "  return models"
      ],
      "execution_count": 14,
      "outputs": []
    },
    {
      "cell_type": "markdown",
      "metadata": {
        "id": "80wqYsTau8DJ"
      },
      "source": [
        "## Gerando modelo"
      ]
    },
    {
      "cell_type": "code",
      "metadata": {
        "id": "FPy0vStORq8h",
        "outputId": "03950ce3-a4de-42b4-b641-fee3475391b2",
        "colab": {
          "base_uri": "https://localhost:8080/"
        }
      },
      "source": [
        "cfg_list = sarima_configs(seasonal=[12])\n",
        "scores = grid_search(df, 0.25, cfg_list)"
      ],
      "execution_count": 33,
      "outputs": [
        {
          "output_type": "stream",
          "text": [
            " > Model[(0, 0, 0), (0, 0, 0, 12), 'n']: 1273182.59\n",
            " > Model[(0, 0, 0), (0, 1, 0, 12), 'n']: 439778.47\n",
            " > Model[(0, 0, 0), (0, 0, 1, 12), 'n']: 811292.13\n",
            " > Model[(0, 0, 0), (1, 0, 0, 12), 'n']: 439773.83\n",
            " > Model[(0, 0, 0), (0, 1, 1, 12), 'n']: 438749.40\n",
            " > Model[(0, 0, 0), (1, 1, 0, 12), 'n']: 470891.93\n",
            " > Model[(0, 0, 0), (1, 0, 1, 12), 'n']: 438527.61\n",
            " > Model[(0, 0, 0), (2, 0, 0, 12), 'n']: 477855.13\n",
            " > Model[(0, 0, 0), (1, 1, 1, 12), 'n']: 478114.48\n",
            " > Model[(0, 0, 0), (2, 1, 0, 12), 'n']: 548243.19\n",
            " > Model[(0, 0, 0), (2, 0, 1, 12), 'n']: 442219.15\n",
            " > Model[(0, 0, 0), (0, 0, 0, 12), 'c']: 137505.57\n",
            " > Model[(0, 0, 0), (0, 0, 1, 12), 'c']: 134061.10\n",
            " > Model[(0, 0, 0), (0, 1, 0, 12), 'c']: 438538.01\n",
            " > Model[(0, 0, 0), (0, 1, 1, 12), 'c']: 437717.38\n",
            " > Model[(0, 0, 0), (1, 0, 0, 12), 'c']: 136867.90\n",
            " > Model[(0, 0, 0), (1, 0, 1, 12), 'c']: 133463.85\n",
            " > Model[(0, 0, 0), (2, 1, 1, 12), 'n']: 646357.79\n",
            " > Model[(0, 0, 0), (1, 1, 0, 12), 'c']: 469059.74\n",
            " > Model[(0, 0, 0), (2, 0, 0, 12), 'c']: 377236.99\n",
            " > Model[(0, 0, 0), (1, 1, 1, 12), 'c']: 481197.33\n",
            " > Model[(0, 0, 0), (2, 0, 1, 12), 'c']: 495842.51\n",
            " > Model[(0, 0, 0), (2, 1, 0, 12), 'c']: 564636.89\n",
            " > Model[(0, 0, 0), (0, 0, 0, 12), 't']: 646219.89\n",
            " > Model[(0, 0, 0), (0, 0, 1, 12), 't']: 494926.37\n",
            " > Model[(0, 0, 0), (0, 1, 0, 12), 't']: 440124.52\n",
            " > Model[(0, 0, 0), (0, 1, 1, 12), 't']: 439204.89\n",
            " > Model[(0, 0, 0), (1, 0, 0, 12), 't']: 442051.91\n",
            " > Model[(0, 0, 0), (1, 0, 1, 12), 't']: 493299.07\n",
            " > Model[(0, 0, 0), (2, 1, 1, 12), 'c']: 661359.59\n",
            " > Model[(0, 0, 0), (1, 1, 0, 12), 't']: 463677.30\n",
            " > Model[(0, 0, 0), (2, 0, 0, 12), 't']: 2857862.43\n",
            " > Model[(0, 0, 0), (1, 1, 1, 12), 't']: 439207.62\n",
            " > Model[(0, 0, 0), (2, 0, 1, 12), 't']: 527826.13\n",
            " > Model[(0, 0, 0), (0, 0, 0, 12), 'ct']: 137450.67\n",
            " > Model[(0, 0, 0), (0, 0, 1, 12), 'ct']: 134151.39\n",
            " > Model[(0, 0, 0), (0, 1, 0, 12), 'ct']: 413554.27\n",
            " > Model[(0, 0, 0), (2, 1, 0, 12), 't']: 488675.46\n",
            " > Model[(0, 0, 0), (0, 1, 1, 12), 'ct']: 413455.35\n",
            " > Model[(0, 0, 0), (1, 0, 0, 12), 'ct']: 133097.89\n",
            " > Model[(0, 0, 0), (1, 0, 1, 12), 'ct']: 133518.48\n",
            " > Model[(0, 0, 0), (1, 1, 0, 12), 'ct']: 413488.47\n",
            " > Model[(0, 0, 0), (2, 1, 1, 12), 't']: 552789.49\n",
            " > Model[(0, 0, 0), (2, 0, 0, 12), 'ct']: 149010.95\n",
            " > Model[(0, 0, 0), (1, 1, 1, 12), 'ct']: 413469.34\n",
            " > Model[(0, 0, 0), (2, 0, 1, 12), 'ct']: 486342.97\n",
            " > Model[(0, 0, 1), (0, 0, 0, 12), 'n']: 690147.98\n",
            " > Model[(0, 0, 1), (0, 0, 1, 12), 'n']: 475343.48\n",
            " > Model[(0, 0, 1), (0, 1, 0, 12), 'n']: 4351637.47\n",
            " > Model[(0, 0, 0), (2, 1, 0, 12), 'ct']: 471330.55\n",
            " > Model[(0, 0, 1), (0, 1, 1, 12), 'n']: 2242397.57\n",
            " > Model[(0, 0, 1), (1, 0, 0, 12), 'n']: 380302.18\n",
            " > Model[(0, 0, 1), (1, 0, 1, 12), 'n']: 325121.00\n",
            " > Model[(0, 0, 1), (1, 1, 0, 12), 'n']: 2192690.30\n",
            " > Model[(0, 0, 0), (2, 1, 1, 12), 'ct']: 505123.31\n",
            " > Model[(0, 0, 1), (2, 0, 0, 12), 'n']: 394819.71\n",
            " > Model[(0, 0, 1), (1, 1, 1, 12), 'n']: 2149742.32\n",
            " > Model[(0, 0, 1), (2, 0, 1, 12), 'n']: 329703.09\n",
            " > Model[(0, 0, 1), (0, 0, 0, 12), 'c']: 128684.46\n",
            " > Model[(0, 0, 1), (0, 0, 1, 12), 'c']: 127839.70\n",
            " > Model[(0, 0, 1), (0, 1, 0, 12), 'c']: 4348826.24\n",
            " > Model[(0, 0, 1), (0, 1, 1, 12), 'c']: 2240564.80\n",
            " > Model[(0, 0, 1), (1, 0, 0, 12), 'c']: 128629.39\n",
            " > Model[(0, 0, 1), (2, 1, 0, 12), 'n']: 351606.13\n",
            " > Model[(0, 0, 1), (1, 0, 1, 12), 'c']: 127795.19\n",
            " > Model[(0, 0, 1), (1, 1, 0, 12), 'c']: 359319.21\n",
            " > Model[(0, 0, 1), (1, 1, 1, 12), 'c']: 2147942.59\n",
            " > Model[(0, 0, 1), (2, 0, 0, 12), 'c']: 351993.47\n",
            " > Model[(0, 0, 1), (2, 1, 1, 12), 'n']: 1838533.27\n",
            " > Model[(0, 0, 1), (2, 0, 1, 12), 'c']: 488692.79\n",
            " > Model[(0, 0, 1), (2, 1, 0, 12), 'c']: 352618.87\n",
            " > Model[(0, 0, 1), (0, 0, 0, 12), 't']: 383113.17\n",
            " > Model[(0, 0, 1), (0, 0, 1, 12), 't']: 92123050.36\n",
            " > Model[(0, 0, 1), (0, 1, 0, 12), 't']: 322263.79\n",
            " > Model[(0, 0, 1), (0, 1, 1, 12), 't']: 2056448.41\n",
            " > Model[(0, 0, 1), (1, 0, 0, 12), 't']: 113312601.21\n",
            " > Model[(0, 0, 1), (1, 0, 1, 12), 't']: 92123921.29\n",
            " > Model[(0, 0, 1), (1, 1, 0, 12), 't']: 345959.51\n",
            " > Model[(0, 0, 1), (2, 1, 1, 12), 'c']: 1838705.01\n",
            " > Model[(0, 0, 1), (1, 1, 1, 12), 't']: 316758.84\n",
            " > Model[(0, 0, 1), (2, 0, 0, 12), 't']: 2136792.22\n",
            " > Model[(0, 0, 1), (2, 0, 1, 12), 't']: 50223717.33\n",
            " > Model[(0, 0, 1), (2, 1, 0, 12), 't']: 331250.14\n",
            " > Model[(0, 0, 1), (0, 0, 0, 12), 'ct']: 128829.20\n",
            " > Model[(0, 0, 1), (2, 1, 1, 12), 't']: 503904.96\n",
            " > Model[(0, 0, 1), (0, 0, 1, 12), 'ct']: 128167.44\n",
            " > Model[(0, 0, 1), (0, 1, 0, 12), 'ct']: 2368836.18\n",
            " > Model[(0, 0, 1), (1, 0, 0, 12), 'ct']: 128737.01\n",
            " > Model[(0, 0, 1), (0, 1, 1, 12), 'ct']: 1219969.22\n",
            " > Model[(0, 0, 1), (1, 0, 1, 12), 'ct']: 128093.71\n",
            " > Model[(0, 0, 1), (1, 1, 0, 12), 'ct']: 1220777.84\n",
            " > Model[(0, 0, 1), (1, 1, 1, 12), 'ct']: 1239177.14\n",
            " > Model[(0, 0, 1), (2, 0, 0, 12), 'ct']: 305587.64\n",
            " > Model[(0, 0, 1), (2, 0, 1, 12), 'ct']: 449401.80\n",
            " > Model[(0, 0, 1), (2, 1, 0, 12), 'ct']: 997613.77\n",
            " > Model[(0, 0, 2), (0, 0, 0, 12), 'n']: 449529.06\n",
            " > Model[(0, 0, 2), (0, 0, 1, 12), 'n']: 179414420.94\n",
            " > Model[(0, 0, 2), (0, 1, 0, 12), 'n']: 12552382.51\n",
            " > Model[(0, 0, 2), (0, 1, 1, 12), 'n']: 4386403.68\n",
            " > Model[(0, 0, 1), (2, 1, 1, 12), 'ct']: 287939.70\n",
            " > Model[(0, 0, 2), (1, 0, 0, 12), 'n']: 258281218.36\n",
            " > Model[(0, 0, 2), (1, 1, 0, 12), 'n']: 4503843.20\n",
            " > Model[(0, 0, 2), (1, 0, 1, 12), 'n']: 178841178.88\n",
            " > Model[(0, 0, 2), (2, 0, 0, 12), 'n']: 285037073.67\n",
            " > Model[(0, 0, 2), (1, 1, 1, 12), 'n']: 4242312.84\n",
            " > Model[(0, 0, 2), (2, 0, 1, 12), 'n']: 268934432.90\n",
            " > Model[(0, 0, 2), (2, 1, 0, 12), 'n']: 3297192.87\n",
            " > Model[(0, 0, 2), (0, 0, 0, 12), 'c']: 126516.79\n",
            " > Model[(0, 0, 2), (0, 0, 1, 12), 'c']: 126392.12\n",
            " > Model[(0, 0, 2), (0, 1, 0, 12), 'c']: 10497690.93\n",
            " > Model[(0, 0, 2), (0, 1, 1, 12), 'c']: 4376957.83\n",
            " > Model[(0, 0, 2), (1, 0, 0, 12), 'c']: 126674.19\n",
            " > Model[(0, 0, 2), (2, 1, 1, 12), 'n']: 4233614.57\n",
            " > Model[(0, 0, 2), (1, 0, 1, 12), 'c']: 126385.37\n",
            " > Model[(0, 0, 2), (1, 1, 0, 12), 'c']: 4490513.13\n",
            " > Model[(0, 0, 2), (2, 0, 0, 12), 'c']: 360650.76\n",
            " > Model[(0, 0, 2), (1, 1, 1, 12), 'c']: 4233264.75\n",
            " > Model[(0, 0, 2), (2, 0, 1, 12), 'c']: 127593.71\n",
            " > Model[(0, 0, 2), (2, 1, 0, 12), 'c']: 266021.31\n",
            " > Model[(0, 0, 2), (0, 0, 0, 12), 't']: 285869.63\n",
            " > Model[(0, 0, 2), (0, 0, 1, 12), 't']: 78743106.46\n",
            " > Model[(0, 0, 2), (0, 1, 0, 12), 't']: 18040161.51\n",
            " > Model[(0, 0, 2), (0, 1, 1, 12), 't']: 3904923.36\n",
            " > Model[(0, 0, 2), (2, 1, 1, 12), 'c']: 4472829.76\n",
            " > Model[(0, 0, 2), (1, 0, 0, 12), 't']: 107146537.88\n",
            " > Model[(0, 0, 2), (1, 1, 0, 12), 't']: 3940196.72\n",
            " > Model[(0, 0, 2), (1, 0, 1, 12), 't']: 78630799.07\n",
            " > Model[(0, 0, 2), (1, 1, 1, 12), 't']: 3669312.19\n",
            " > Model[(0, 0, 2), (2, 0, 0, 12), 't']: 184126199.25\n",
            " > Model[(0, 0, 2), (2, 0, 1, 12), 't']: 159661689.15\n",
            " > Model[(0, 0, 2), (2, 1, 0, 12), 't']: 2572587.96\n",
            " > Model[(0, 0, 2), (0, 0, 0, 12), 'ct']: 126970.42\n",
            " > Model[(0, 0, 2), (0, 0, 1, 12), 'ct']: 126902.95\n",
            " > Model[(0, 0, 2), (0, 1, 0, 12), 'ct']: 5399582.50\n",
            " > Model[(0, 0, 2), (0, 1, 1, 12), 'ct']: 2368458.05\n",
            " > Model[(0, 0, 2), (1, 0, 0, 12), 'ct']: 127199.75\n",
            " > Model[(0, 0, 2), (1, 0, 1, 12), 'ct']: 126839.56\n",
            " > Model[(0, 0, 2), (1, 1, 0, 12), 'ct']: 2564500.77\n",
            " > Model[(0, 0, 2), (2, 1, 1, 12), 't']: 1412396.16\n",
            " > Model[(0, 0, 2), (1, 1, 1, 12), 'ct']: 2405575.20\n",
            " > Model[(0, 0, 2), (2, 0, 0, 12), 'ct']: 259001.94\n",
            " > Model[(0, 0, 2), (2, 0, 1, 12), 'ct']: 126971.58\n",
            " > Model[(0, 0, 2), (2, 1, 0, 12), 'ct']: 1377546.33\n",
            " > Model[(0, 1, 0), (0, 0, 0, 12), 'n']: 124294.94\n",
            " > Model[(0, 1, 0), (0, 0, 1, 12), 'n']: 124139.53\n",
            " > Model[(0, 1, 0), (0, 1, 0, 12), 'n']: 148719.49\n",
            " > Model[(0, 1, 0), (0, 1, 1, 12), 'n']: 148934.54\n",
            " > Model[(0, 1, 0), (1, 0, 0, 12), 'n']: 130516.07\n",
            " > Model[(0, 1, 0), (1, 0, 1, 12), 'n']: 130534.85\n",
            " > Model[(0, 1, 0), (1, 1, 0, 12), 'n']: 145212.74\n",
            " > Model[(0, 1, 0), (1, 1, 1, 12), 'n']: 145987.83\n",
            " > Model[(0, 1, 0), (2, 0, 0, 12), 'n']: 129918.71\n",
            " > Model[(0, 1, 0), (2, 0, 1, 12), 'n']: 132907.55\n",
            " > Model[(0, 1, 0), (2, 1, 0, 12), 'n']: 147137.10\n",
            " > Model[(0, 0, 2), (2, 1, 1, 12), 'ct']: 1558814.64\n",
            " > Model[(0, 1, 0), (0, 0, 0, 12), 'c']: 124294.25\n",
            " > Model[(0, 1, 0), (0, 0, 1, 12), 'c']: 124138.00\n",
            " > Model[(0, 1, 0), (0, 1, 0, 12), 'c']: 148663.45\n",
            " > Model[(0, 1, 0), (0, 1, 1, 12), 'c']: 148925.77\n",
            " > Model[(0, 1, 0), (2, 1, 1, 12), 'n']: 147672.51\n",
            " > Model[(0, 1, 0), (1, 0, 0, 12), 'c']: 130525.62\n",
            " > Model[(0, 1, 0), (1, 0, 1, 12), 'c']: 130510.50\n",
            " > Model[(0, 1, 0), (1, 1, 0, 12), 'c']: 144820.62\n",
            " > Model[(0, 1, 0), (2, 0, 0, 12), 'c']: 130154.32\n",
            " > Model[(0, 1, 0), (1, 1, 1, 12), 'c']: 145595.98\n",
            " > Model[(0, 1, 0), (2, 0, 1, 12), 'c']: 125941.34\n",
            " > Model[(0, 1, 0), (2, 1, 0, 12), 'c']: 148197.38\n",
            " > Model[(0, 1, 0), (0, 0, 0, 12), 't']: 124288.00\n",
            " > Model[(0, 1, 0), (0, 0, 1, 12), 't']: 124138.38\n",
            " > Model[(0, 1, 0), (0, 1, 0, 12), 't']: 148717.62\n",
            " > Model[(0, 1, 0), (2, 1, 1, 12), 'c']: 147712.17\n",
            " > Model[(0, 1, 0), (0, 1, 1, 12), 't']: 148937.40\n",
            " > Model[(0, 1, 0), (1, 0, 0, 12), 't']: 130370.53\n",
            " > Model[(0, 1, 0), (1, 1, 0, 12), 't']: 145092.56\n",
            " > Model[(0, 1, 0), (1, 0, 1, 12), 't']: 130400.83\n",
            " > Model[(0, 1, 0), (1, 1, 1, 12), 't']: 145886.83\n",
            " > Model[(0, 1, 0), (2, 0, 0, 12), 't']: 129467.55\n",
            " > Model[(0, 1, 0), (2, 0, 1, 12), 't']: 132097.03\n",
            " > Model[(0, 1, 0), (2, 1, 0, 12), 't']: 148083.75\n",
            " > Model[(0, 1, 0), (0, 0, 0, 12), 'ct']: 124248.44\n",
            " > Model[(0, 1, 0), (0, 0, 1, 12), 'ct']: 124116.41\n",
            " > Model[(0, 1, 0), (0, 1, 0, 12), 'ct']: 148519.37\n",
            " > Model[(0, 1, 0), (0, 1, 1, 12), 'ct']: 148810.42\n",
            " > Model[(0, 1, 0), (1, 0, 0, 12), 'ct']: 128979.28\n",
            " > Model[(0, 1, 0), (1, 0, 1, 12), 'ct']: 128643.18\n",
            " > Model[(0, 1, 0), (1, 1, 0, 12), 'ct']: 144613.48\n",
            " > Model[(0, 1, 0), (2, 1, 1, 12), 't']: 148450.40\n",
            " > Model[(0, 1, 0), (2, 0, 0, 12), 'ct']: 129550.44\n",
            " > Model[(0, 1, 0), (1, 1, 1, 12), 'ct']: 145751.28\n",
            " > Model[(0, 1, 0), (2, 0, 1, 12), 'ct']: 125112.49\n",
            " > Model[(0, 1, 0), (2, 1, 0, 12), 'ct']: 147412.63\n",
            " > Model[(0, 1, 1), (0, 0, 0, 12), 'n']: 124198.45\n",
            " > Model[(0, 1, 1), (0, 0, 1, 12), 'n']: 124098.72\n",
            " > Model[(0, 1, 1), (0, 1, 0, 12), 'n']: 149414.05\n",
            " > Model[(0, 1, 1), (0, 1, 1, 12), 'n']: 149722.10\n",
            " > Model[(0, 1, 1), (1, 0, 0, 12), 'n']: 130642.78\n",
            " > Model[(0, 1, 1), (1, 0, 1, 12), 'n']: 130372.85\n",
            " > Model[(0, 1, 1), (1, 1, 0, 12), 'n']: 146736.48\n",
            " > Model[(0, 1, 1), (1, 1, 1, 12), 'n']: 145876.86\n",
            " > Model[(0, 1, 1), (2, 0, 0, 12), 'n']: 129366.54\n",
            " > Model[(0, 1, 1), (2, 0, 1, 12), 'n']: 130622.87\n",
            " > Model[(0, 1, 0), (2, 1, 1, 12), 'ct']: 147740.84\n",
            " > Model[(0, 1, 1), (2, 1, 0, 12), 'n']: 147653.25\n",
            " > Model[(0, 1, 1), (0, 0, 0, 12), 'c']: 124198.23\n",
            " > Model[(0, 1, 1), (0, 0, 1, 12), 'c']: 124097.62\n",
            " > Model[(0, 1, 1), (0, 1, 0, 12), 'c']: 149307.27\n",
            " > Model[(0, 1, 1), (2, 1, 1, 12), 'n']: 147946.97\n",
            " > Model[(0, 1, 1), (1, 0, 0, 12), 'c']: 130617.47\n",
            " > Model[(0, 1, 1), (0, 1, 1, 12), 'c']: 149658.88\n",
            " > Model[(0, 1, 1), (1, 0, 1, 12), 'c']: 130343.77\n",
            " > Model[(0, 1, 1), (1, 1, 0, 12), 'c']: 146233.68\n",
            " > Model[(0, 1, 1), (1, 1, 1, 12), 'c']: 145656.43\n",
            " > Model[(0, 1, 1), (2, 0, 0, 12), 'c']: 129443.27\n",
            " > Model[(0, 1, 1), (2, 0, 1, 12), 'c']: 125217.55\n",
            " > Model[(0, 1, 1), (2, 1, 0, 12), 'c']: 148121.20\n",
            " > Model[(0, 1, 1), (0, 0, 0, 12), 't']: 124195.23\n",
            " > Model[(0, 1, 1), (0, 0, 1, 12), 't']: 124098.47\n",
            " > Model[(0, 1, 1), (0, 1, 0, 12), 't']: 149410.86\n",
            " > Model[(0, 1, 1), (0, 1, 1, 12), 't']: 149722.57\n",
            " > Model[(0, 1, 1), (2, 1, 1, 12), 'c']: 148279.55\n",
            " > Model[(0, 1, 1), (1, 0, 0, 12), 't']: 130371.87\n",
            " > Model[(0, 1, 1), (1, 0, 1, 12), 't']: 130261.58\n",
            " > Model[(0, 1, 1), (1, 1, 0, 12), 't']: 146701.64\n",
            " > Model[(0, 1, 1), (2, 0, 0, 12), 't']: 129168.21\n",
            " > Model[(0, 1, 1), (1, 1, 1, 12), 't']: 145825.90\n",
            " > Model[(0, 1, 1), (2, 0, 1, 12), 't']: 130811.78\n",
            " > Model[(0, 1, 1), (2, 1, 0, 12), 't']: 149161.86\n",
            " > Model[(0, 1, 1), (0, 0, 0, 12), 'ct']: 124177.44\n",
            " > Model[(0, 1, 1), (0, 0, 1, 12), 'ct']: 124085.32\n",
            " > Model[(0, 1, 1), (0, 1, 0, 12), 'ct']: 148959.22\n",
            " > Model[(0, 1, 1), (0, 1, 1, 12), 'ct']: 149292.97\n",
            " > Model[(0, 1, 1), (1, 0, 0, 12), 'ct']: 128997.28\n",
            " > Model[(0, 1, 1), (1, 0, 1, 12), 'ct']: 129071.90\n",
            " > Model[(0, 1, 1), (1, 1, 0, 12), 'ct']: 145490.53\n",
            " > Model[(0, 1, 1), (2, 1, 1, 12), 't']: 149314.78\n",
            " > Model[(0, 1, 1), (2, 0, 0, 12), 'ct']: 128656.29\n",
            " > Model[(0, 1, 1), (1, 1, 1, 12), 'ct']: 145489.68\n",
            " > Model[(0, 1, 1), (2, 0, 1, 12), 'ct']: 124749.62\n",
            " > Model[(0, 1, 1), (2, 1, 0, 12), 'ct']: 148740.91\n",
            " > Model[(0, 1, 2), (0, 0, 0, 12), 'n']: 124183.69\n",
            " > Model[(0, 1, 2), (0, 0, 1, 12), 'n']: 124082.83\n",
            " > Model[(0, 1, 2), (0, 1, 0, 12), 'n']: 150196.38\n",
            " > Model[(0, 1, 2), (0, 1, 1, 12), 'n']: 151776.31\n",
            " > Model[(0, 1, 2), (1, 0, 0, 12), 'n']: 130628.05\n",
            " > Model[(0, 1, 1), (2, 1, 1, 12), 'ct']: 148846.40\n",
            " > Model[(0, 1, 2), (1, 0, 1, 12), 'n']: 130642.57\n",
            " > Model[(0, 1, 2), (1, 1, 0, 12), 'n']: 150142.90\n",
            " > Model[(0, 1, 2), (2, 0, 0, 12), 'n']: 130411.71\n",
            " > Model[(0, 1, 2), (1, 1, 1, 12), 'n']: 146905.00\n",
            " > Model[(0, 1, 2), (2, 0, 1, 12), 'n']: 132237.62\n",
            " > Model[(0, 1, 2), (2, 1, 0, 12), 'n']: 147514.27\n",
            " > Model[(0, 1, 2), (0, 0, 0, 12), 'c']: 124183.58\n",
            " > Model[(0, 1, 2), (0, 0, 1, 12), 'c']: 124082.60\n",
            " > Model[(0, 1, 2), (0, 1, 0, 12), 'c']: 150074.58\n",
            " > Model[(0, 1, 2), (0, 1, 1, 12), 'c']: 151661.08\n",
            " > Model[(0, 1, 2), (2, 1, 1, 12), 'n']: 152323.95\n",
            " > Model[(0, 1, 2), (1, 0, 0, 12), 'c']: 130619.98\n",
            " > Model[(0, 1, 2), (1, 0, 1, 12), 'c']: 130638.59\n",
            " > Model[(0, 1, 2), (1, 1, 0, 12), 'c']: 150110.47\n",
            " > Model[(0, 1, 2), (1, 1, 1, 12), 'c']: 146686.29\n",
            " > Model[(0, 1, 2), (2, 0, 0, 12), 'c']: 130435.90\n",
            " > Model[(0, 1, 2), (2, 0, 1, 12), 'c']: 132003.89\n",
            " > Model[(0, 1, 2), (2, 1, 0, 12), 'c']: 148027.66\n",
            " > Model[(0, 1, 2), (0, 0, 0, 12), 't']: 124181.31\n",
            " > Model[(0, 1, 2), (0, 0, 1, 12), 't']: 124082.25\n",
            " > Model[(0, 1, 2), (0, 1, 0, 12), 't']: 150205.53\n",
            " > Model[(0, 1, 2), (0, 1, 1, 12), 't']: 151773.20\n",
            " > Model[(0, 1, 2), (1, 0, 0, 12), 't']: 130387.51\n",
            " > Model[(0, 1, 2), (2, 1, 1, 12), 'c']: 148168.65\n",
            " > Model[(0, 1, 2), (1, 0, 1, 12), 't']: 130553.77\n",
            " > Model[(0, 1, 2), (1, 1, 0, 12), 't']: 150154.38\n",
            " > Model[(0, 1, 2), (2, 0, 0, 12), 't']: 130196.04\n",
            " > Model[(0, 1, 2), (1, 1, 1, 12), 't']: 146854.28\n",
            " > Model[(0, 1, 2), (2, 0, 1, 12), 't']: 131357.75\n",
            " > Model[(0, 1, 2), (2, 1, 0, 12), 't']: 149132.32\n",
            " > Model[(0, 1, 2), (0, 0, 0, 12), 'ct']: 124168.72\n",
            " > Model[(0, 1, 2), (2, 1, 1, 12), 't']: 152186.46\n",
            " > Model[(0, 1, 2), (0, 0, 1, 12), 'ct']: 124074.88\n",
            " > Model[(0, 1, 2), (0, 1, 0, 12), 'ct']: 149609.03\n",
            " > Model[(0, 1, 2), (1, 0, 0, 12), 'ct']: 129214.69\n",
            " > Model[(0, 1, 2), (1, 0, 1, 12), 'ct']: 129761.01\n",
            " > Model[(0, 1, 2), (0, 1, 1, 12), 'ct']: 151063.51\n",
            " > Model[(0, 1, 2), (1, 1, 0, 12), 'ct']: 149036.42\n",
            " > Model[(0, 1, 2), (1, 1, 1, 12), 'ct']: 146297.57\n",
            " > Model[(0, 1, 2), (2, 0, 0, 12), 'ct']: 130071.92\n",
            " > Model[(0, 1, 2), (2, 0, 1, 12), 'ct']: 125140.05\n",
            " > Model[(0, 1, 2), (2, 1, 0, 12), 'ct']: 147401.96\n",
            " > Model[(1, 0, 0), (0, 0, 0, 12), 'n']: 124294.48\n",
            " > Model[(1, 0, 0), (0, 0, 1, 12), 'n']: 300066.24\n",
            " > Model[(1, 0, 0), (0, 1, 0, 12), 'n']: 183988.99\n",
            " > Model[(1, 0, 0), (0, 1, 1, 12), 'n']: 184401.05\n",
            " > Model[(1, 0, 0), (1, 0, 0, 12), 'n']: 148752.79\n",
            " > Model[(1, 0, 0), (1, 0, 1, 12), 'n']: 148702.89\n",
            " > Model[(1, 0, 0), (1, 1, 0, 12), 'n']: 177914.84\n",
            " > Model[(1, 0, 0), (1, 1, 1, 12), 'n']: 179166.79\n",
            " > Model[(1, 0, 0), (2, 0, 0, 12), 'n']: 143745.85\n",
            " > Model[(1, 0, 0), (2, 0, 1, 12), 'n']: 148144.14\n",
            " > Model[(0, 1, 2), (2, 1, 1, 12), 'ct']: 148823.14\n",
            " > Model[(1, 0, 0), (2, 1, 0, 12), 'n']: 183767.18\n",
            " > Model[(1, 0, 0), (0, 0, 0, 12), 'c']: 124284.66\n",
            " > Model[(1, 0, 0), (0, 0, 1, 12), 'c']: 309223.55\n",
            " > Model[(1, 0, 0), (0, 1, 0, 12), 'c']: 184017.57\n",
            " > Model[(1, 0, 0), (0, 1, 1, 12), 'c']: 184321.38\n",
            " > Model[(1, 0, 0), (1, 0, 0, 12), 'c']: 141624.46\n",
            " > Model[(1, 0, 0), (2, 1, 1, 12), 'n']: 183246.95\n",
            " > Model[(1, 0, 0), (1, 1, 0, 12), 'c']: 177552.41\n",
            " > Model[(1, 0, 0), (1, 0, 1, 12), 'c']: 141596.18\n",
            " > Model[(1, 0, 0), (1, 1, 1, 12), 'c']: 178613.02\n",
            " > Model[(1, 0, 0), (2, 0, 0, 12), 'c']: 141861.04\n",
            " > Model[(1, 0, 0), (2, 0, 1, 12), 'c']: 178180.18\n",
            " > Model[(1, 0, 0), (2, 1, 0, 12), 'c']: 184323.81\n",
            " > Model[(1, 0, 0), (0, 0, 0, 12), 't']: 124252.56\n",
            " > Model[(1, 0, 0), (0, 0, 1, 12), 't']: 298303.66\n",
            " > Model[(1, 0, 0), (0, 1, 0, 12), 't']: 183886.34\n",
            " > Model[(1, 0, 0), (0, 1, 1, 12), 't']: 184254.13\n",
            " > Model[(1, 0, 0), (1, 0, 0, 12), 't']: 149821.84\n",
            " > Model[(1, 0, 0), (2, 1, 1, 12), 'c']: 183662.82\n",
            " > Model[(1, 0, 0), (1, 0, 1, 12), 't']: 140795.87\n",
            " > Model[(1, 0, 0), (1, 1, 0, 12), 't']: 177304.01\n",
            " > Model[(1, 0, 0), (1, 1, 1, 12), 't']: 178689.58\n",
            " > Model[(1, 0, 0), (2, 0, 1, 12), 't']: 156211.04\n",
            " > Model[(1, 0, 0), (2, 0, 0, 12), 't']: 144695.56\n",
            " > Model[(1, 0, 0), (2, 1, 0, 12), 't']: 187523.16\n",
            " > Model[(1, 0, 0), (0, 0, 0, 12), 'ct']: 124238.10\n",
            " > Model[(1, 0, 0), (0, 0, 1, 12), 'ct']: 309977.25\n",
            " > Model[(1, 0, 0), (0, 1, 0, 12), 'ct']: 185519.56\n",
            " > Model[(1, 0, 0), (0, 1, 1, 12), 'ct']: 185410.57\n",
            " > Model[(1, 0, 0), (1, 0, 0, 12), 'ct']: 143812.95\n",
            " > Model[(1, 0, 0), (2, 1, 1, 12), 't']: 186714.43\n",
            " > Model[(1, 0, 0), (1, 1, 0, 12), 'ct']: 178118.99\n",
            " > Model[(1, 0, 0), (1, 0, 1, 12), 'ct']: 143715.33\n",
            " > Model[(1, 0, 0), (2, 0, 0, 12), 'ct']: 140550.51\n",
            " > Model[(1, 0, 0), (1, 1, 1, 12), 'ct']: 179233.41\n",
            " > Model[(1, 0, 0), (2, 0, 1, 12), 'ct']: 142297.65\n",
            " > Model[(1, 0, 0), (2, 1, 0, 12), 'ct']: 186063.67\n",
            " > Model[(1, 0, 1), (0, 0, 0, 12), 'n']: 124198.34\n",
            " > Model[(1, 0, 1), (0, 0, 1, 12), 'n']: 124105.00\n",
            " > Model[(1, 0, 1), (0, 1, 0, 12), 'n']: 183976.56\n",
            " > Model[(1, 0, 1), (0, 1, 1, 12), 'n']: 186271.78\n",
            " > Model[(1, 0, 0), (2, 1, 1, 12), 'ct']: 185338.37\n",
            " > Model[(1, 0, 1), (1, 0, 0, 12), 'n']: 149355.12\n",
            " > Model[(1, 0, 1), (1, 0, 1, 12), 'n']: 148513.48\n",
            " > Model[(1, 0, 1), (1, 1, 0, 12), 'n']: 182079.76\n",
            " > Model[(1, 0, 1), (1, 1, 1, 12), 'n']: 180744.27\n",
            " > Model[(1, 0, 1), (2, 0, 0, 12), 'n']: 145101.24\n",
            " > Model[(1, 0, 1), (2, 0, 1, 12), 'n']: 149961.54\n",
            " > Model[(1, 0, 1), (2, 1, 0, 12), 'n']: 185921.32\n",
            " > Model[(1, 0, 1), (0, 0, 0, 12), 'c']: 124190.70\n",
            " > Model[(1, 0, 1), (0, 0, 1, 12), 'c']: 124429.31\n",
            " > Model[(1, 0, 1), (0, 1, 0, 12), 'c']: 184000.14\n",
            " > Model[(1, 0, 1), (0, 1, 1, 12), 'c']: 186114.36\n",
            " > Model[(1, 0, 1), (2, 1, 1, 12), 'n']: 186608.63\n",
            " > Model[(1, 0, 1), (1, 0, 0, 12), 'c']: 142088.81\n",
            " > Model[(1, 0, 1), (1, 0, 1, 12), 'c']: 142399.73\n",
            " > Model[(1, 0, 1), (1, 1, 0, 12), 'c']: 180398.40\n",
            " > Model[(1, 0, 1), (1, 1, 1, 12), 'c']: 180316.93\n",
            " > Model[(1, 0, 1), (2, 0, 0, 12), 'c']: 141830.99\n",
            " > Model[(1, 0, 1), (2, 0, 1, 12), 'c']: 179619.20\n",
            " > Model[(1, 0, 1), (2, 1, 0, 12), 'c']: 186850.00\n",
            " > Model[(1, 0, 1), (0, 0, 0, 12), 't']: 124180.14\n",
            " > Model[(1, 0, 1), (0, 0, 1, 12), 't']: 276345.27\n",
            " > Model[(1, 0, 1), (0, 1, 0, 12), 't']: 183881.13\n",
            " > Model[(1, 0, 1), (2, 1, 1, 12), 'c']: 187259.28\n",
            " > Model[(1, 0, 1), (0, 1, 1, 12), 't']: 186104.25\n",
            " > Model[(1, 0, 1), (1, 0, 0, 12), 't']: 142331.78\n",
            " > Model[(1, 0, 1), (1, 0, 1, 12), 't']: 141653.65\n",
            " > Model[(1, 0, 1), (1, 1, 0, 12), 't']: 181305.38\n",
            " > Model[(1, 0, 1), (1, 1, 1, 12), 't']: 180132.19\n",
            " > Model[(1, 0, 1), (2, 0, 0, 12), 't']: 171393.58\n",
            " > Model[(1, 0, 1), (2, 0, 1, 12), 't']: 150947.94\n",
            " > Model[(1, 0, 1), (2, 1, 0, 12), 't']: 191676.71\n",
            " > Model[(1, 0, 1), (0, 0, 0, 12), 'ct']: 124169.57\n",
            " > Model[(1, 0, 1), (0, 0, 1, 12), 'ct']: 382161.76\n",
            " > Model[(1, 0, 1), (0, 1, 0, 12), 'ct']: 185026.81\n",
            " > Model[(1, 0, 1), (2, 1, 1, 12), 't']: 191941.22\n",
            " > Model[(1, 0, 1), (0, 1, 1, 12), 'ct']: 186594.34\n",
            " > Model[(1, 0, 1), (1, 0, 0, 12), 'ct']: 142627.78\n",
            " > Model[(1, 0, 1), (1, 0, 1, 12), 'ct']: 142966.29\n",
            " > Model[(1, 0, 1), (1, 1, 0, 12), 'ct']: 179531.99\n",
            " > Model[(1, 0, 1), (1, 1, 1, 12), 'ct']: 180540.29\n",
            " > Model[(1, 0, 1), (2, 0, 0, 12), 'ct']: 141235.84\n",
            " > Model[(1, 0, 1), (2, 0, 1, 12), 'ct']: 131360.59\n",
            " > Model[(1, 0, 1), (2, 1, 0, 12), 'ct']: 189856.85\n",
            " > Model[(1, 0, 2), (0, 0, 0, 12), 'n']: 124183.57\n",
            " > Model[(1, 0, 2), (0, 0, 1, 12), 'n']: 124086.79\n",
            " > Model[(1, 0, 1), (2, 1, 1, 12), 'ct']: 189972.02\n",
            " > Model[(1, 0, 2), (0, 1, 0, 12), 'n']: 184096.83\n",
            " > Model[(1, 0, 2), (1, 0, 0, 12), 'n']: 149328.06\n",
            " > Model[(1, 0, 2), (1, 0, 1, 12), 'n']: 148474.34\n",
            " > Model[(1, 0, 2), (0, 1, 1, 12), 'n']: 189919.74\n",
            " > Model[(1, 0, 2), (1, 1, 0, 12), 'n']: 196163.00\n",
            " > Model[(1, 0, 2), (1, 1, 1, 12), 'n']: 187460.20\n",
            " > Model[(1, 0, 2), (2, 0, 0, 12), 'n']: 151622.79\n",
            " > Model[(1, 0, 2), (2, 0, 1, 12), 'n']: 157185.97\n",
            " > Model[(1, 0, 2), (2, 1, 0, 12), 'n']: 187867.66\n",
            " > Model[(1, 0, 2), (0, 0, 0, 12), 'c']: 124175.58\n",
            " > Model[(1, 0, 2), (2, 1, 1, 12), 'n']: 186839.83\n",
            " > Model[(1, 0, 2), (0, 0, 1, 12), 'c']: 124364.53\n",
            " > Model[(1, 0, 2), (0, 1, 0, 12), 'c']: 184126.63\n",
            " > Model[(1, 0, 2), (1, 0, 0, 12), 'c']: 140907.34\n",
            " > Model[(1, 0, 2), (0, 1, 1, 12), 'c']: 189370.27\n",
            " > Model[(1, 0, 2), (1, 0, 1, 12), 'c']: 142997.28\n",
            " > Model[(1, 0, 2), (1, 1, 0, 12), 'c']: 195824.43\n",
            " > Model[(1, 0, 2), (1, 1, 1, 12), 'c']: 183109.12\n",
            " > Model[(1, 0, 2), (2, 0, 0, 12), 'c']: 148998.36\n",
            " > Model[(1, 0, 2), (2, 0, 1, 12), 'c']: 188523.70\n",
            " > Model[(1, 0, 2), (2, 1, 0, 12), 'c']: 187199.40\n",
            " > Model[(1, 0, 2), (0, 0, 0, 12), 't']: 124170.33\n",
            " > Model[(1, 0, 2), (0, 0, 1, 12), 't']: 124180.81\n",
            " > Model[(1, 0, 2), (0, 1, 0, 12), 't']: 183990.54\n",
            " > Model[(1, 0, 2), (2, 1, 1, 12), 'c']: 187678.01\n",
            " > Model[(1, 0, 2), (0, 1, 1, 12), 't']: 189518.64\n",
            " > Model[(1, 0, 2), (1, 0, 0, 12), 't']: 143121.31\n",
            " > Model[(1, 0, 2), (1, 0, 1, 12), 't']: 143854.90\n",
            " > Model[(1, 0, 2), (1, 1, 0, 12), 't']: 195811.63\n",
            " > Model[(1, 0, 2), (1, 1, 1, 12), 't']: 184430.86\n",
            " > Model[(1, 0, 2), (2, 0, 0, 12), 't']: 185087.39\n",
            " > Model[(1, 0, 2), (2, 0, 1, 12), 't']: 182525.43\n",
            " > Model[(1, 0, 2), (2, 1, 0, 12), 't']: 187287.12\n",
            " > Model[(1, 0, 2), (0, 0, 0, 12), 'ct']: 124160.33\n",
            " > Model[(1, 0, 2), (2, 1, 1, 12), 't']: 192828.24\n",
            " > Model[(1, 0, 2), (0, 0, 1, 12), 'ct']: 681034.56\n",
            " > Model[(1, 0, 2), (0, 1, 0, 12), 'ct']: 184687.22\n",
            " > Model[(1, 0, 2), (1, 0, 0, 12), 'ct']: 139345.84\n",
            " > Model[(1, 0, 2), (0, 1, 1, 12), 'ct']: 189209.42\n",
            " > Model[(1, 0, 2), (1, 0, 1, 12), 'ct']: 141446.78\n",
            " > Model[(1, 0, 2), (1, 1, 0, 12), 'ct']: 195865.69\n",
            " > Model[(1, 0, 2), (1, 1, 1, 12), 'ct']: 181509.72\n",
            " > Model[(1, 0, 2), (2, 0, 0, 12), 'ct']: 147140.99\n",
            " > Model[(1, 0, 2), (2, 0, 1, 12), 'ct']: 160626.65\n",
            " > Model[(1, 0, 2), (2, 1, 0, 12), 'ct']: 190852.17\n",
            " > Model[(1, 1, 0), (0, 0, 0, 12), 'n']: 128320.40\n",
            " > Model[(1, 1, 0), (0, 0, 1, 12), 'n']: 124153.17\n",
            " > Model[(1, 1, 0), (0, 1, 0, 12), 'n']: 150771.54\n",
            " > Model[(1, 1, 0), (0, 1, 1, 12), 'n']: 150796.29\n",
            " > Model[(1, 1, 0), (1, 0, 0, 12), 'n']: 131692.66\n",
            " > Model[(1, 1, 0), (1, 0, 1, 12), 'n']: 131668.68\n",
            " > Model[(1, 1, 0), (1, 1, 0, 12), 'n']: 147118.66\n",
            " > Model[(1, 1, 0), (1, 1, 1, 12), 'n']: 147092.82\n",
            " > Model[(1, 1, 0), (2, 0, 0, 12), 'n']: 130788.84\n",
            " > Model[(1, 0, 2), (2, 1, 1, 12), 'ct']: 191248.84\n",
            " > Model[(1, 1, 0), (2, 1, 0, 12), 'n']: 148710.68\n",
            " > Model[(1, 1, 0), (2, 0, 1, 12), 'n']: 128435.25\n",
            " > Model[(1, 1, 0), (0, 0, 0, 12), 'c']: 128312.19\n",
            " > Model[(1, 1, 0), (0, 0, 1, 12), 'c']: 124151.87\n",
            " > Model[(1, 1, 0), (0, 1, 0, 12), 'c']: 150530.18\n",
            " > Model[(1, 1, 0), (0, 1, 1, 12), 'c']: 150558.53\n",
            " > Model[(1, 1, 0), (1, 0, 0, 12), 'c']: 131727.83\n",
            " > Model[(1, 1, 0), (2, 1, 1, 12), 'n']: 152998.77\n",
            " > Model[(1, 1, 0), (1, 0, 1, 12), 'c']: 131693.85\n",
            " > Model[(1, 1, 0), (1, 1, 0, 12), 'c']: 146718.53\n",
            " > Model[(1, 1, 0), (2, 0, 0, 12), 'c']: 130935.63\n",
            " > Model[(1, 1, 0), (1, 1, 1, 12), 'c']: 146746.56\n",
            " > Model[(1, 1, 0), (2, 1, 0, 12), 'c']: 148567.47\n",
            " > Model[(1, 1, 0), (2, 0, 1, 12), 'c']: 128415.26\n",
            " > Model[(1, 1, 0), (0, 0, 0, 12), 't']: 128199.17\n",
            " > Model[(1, 1, 0), (0, 0, 1, 12), 't']: 124152.05\n",
            " > Model[(1, 1, 0), (0, 1, 0, 12), 't']: 150766.65\n",
            " > Model[(1, 1, 0), (2, 1, 1, 12), 'c']: 152125.77\n",
            " > Model[(1, 1, 0), (0, 1, 1, 12), 't']: 150793.00\n",
            " > Model[(1, 1, 0), (1, 0, 0, 12), 't']: 131534.84\n",
            " > Model[(1, 1, 0), (1, 0, 1, 12), 't']: 131456.70\n",
            " > Model[(1, 1, 0), (1, 1, 0, 12), 't']: 147063.48\n",
            " > Model[(1, 1, 0), (1, 1, 1, 12), 't']: 147049.01\n",
            " > Model[(1, 1, 0), (2, 0, 0, 12), 't']: 130524.88\n",
            " > Model[(1, 1, 0), (2, 1, 0, 12), 't']: 148827.25\n",
            " > Model[(1, 1, 0), (2, 0, 1, 12), 't']: 128374.83\n",
            " > Model[(1, 1, 0), (0, 0, 0, 12), 'ct']: 127518.59\n",
            " > Model[(1, 1, 0), (0, 0, 1, 12), 'ct']: 124129.02\n",
            " > Model[(1, 1, 0), (0, 1, 0, 12), 'ct']: 149663.69\n",
            " > Model[(1, 1, 0), (0, 1, 1, 12), 'ct']: 149908.04\n",
            " > Model[(1, 1, 0), (1, 0, 0, 12), 'ct']: 130973.23\n",
            " > Model[(1, 1, 0), (1, 0, 1, 12), 'ct']: 130844.36\n",
            " > Model[(1, 1, 0), (2, 1, 1, 12), 't']: 152160.47\n",
            " > Model[(1, 1, 0), (1, 1, 0, 12), 'ct']: 146038.41\n",
            " > Model[(1, 1, 0), (1, 1, 1, 12), 'ct']: 146150.82\n",
            " > Model[(1, 1, 0), (2, 0, 0, 12), 'ct']: 130840.31\n",
            " > Model[(1, 1, 0), (2, 0, 1, 12), 'ct']: 128033.29\n",
            " > Model[(1, 1, 0), (2, 1, 0, 12), 'ct']: 148176.71\n",
            " > Model[(1, 1, 1), (0, 0, 0, 12), 'n']: 128751.98\n",
            " > Model[(1, 1, 1), (0, 0, 1, 12), 'n']: 124136.27\n",
            " > Model[(1, 1, 1), (0, 1, 0, 12), 'n']: 151571.71\n",
            " > Model[(1, 1, 1), (0, 1, 1, 12), 'n']: 155305.55\n",
            " > Model[(1, 1, 1), (1, 0, 0, 12), 'n']: 132479.07\n",
            " > Model[(1, 1, 1), (1, 0, 1, 12), 'n']: 134292.09\n",
            " > Model[(1, 1, 1), (1, 1, 0, 12), 'n']: 151734.58\n",
            " > Model[(1, 1, 0), (2, 1, 1, 12), 'ct']: 150748.24\n",
            " > Model[(1, 1, 1), (1, 1, 1, 12), 'n']: 149280.46\n",
            " > Model[(1, 1, 1), (2, 0, 0, 12), 'n']: 137183.88\n",
            " > Model[(1, 1, 1), (2, 0, 1, 12), 'n']: 139180.16\n",
            " > Model[(1, 1, 1), (2, 1, 0, 12), 'n']: 178034.20\n",
            " > Model[(1, 1, 1), (0, 0, 0, 12), 'c']: 128721.32\n",
            " > Model[(1, 1, 1), (0, 0, 1, 12), 'c']: 124135.22\n",
            " > Model[(1, 1, 1), (0, 1, 0, 12), 'c']: 151268.13\n",
            " > Model[(1, 1, 1), (0, 1, 1, 12), 'c']: 152837.59\n",
            " > Model[(1, 1, 1), (2, 1, 1, 12), 'n']: 178836.26\n",
            " > Model[(1, 1, 1), (1, 0, 0, 12), 'c']: 132562.35\n",
            " > Model[(1, 1, 1), (1, 0, 1, 12), 'c']: 134375.31\n",
            " > Model[(1, 1, 1), (1, 1, 0, 12), 'c']: 146879.34\n",
            " > Model[(1, 1, 1), (1, 1, 1, 12), 'c']: 148386.14\n",
            " > Model[(1, 1, 1), (2, 0, 0, 12), 'c']: 136714.93\n",
            " > Model[(1, 1, 1), (2, 0, 1, 12), 'c']: 135930.81\n",
            " > Model[(1, 1, 1), (2, 1, 0, 12), 'c']: 158364.31\n",
            " > Model[(1, 1, 1), (0, 0, 0, 12), 't']: 128589.59\n",
            " > Model[(1, 1, 1), (0, 0, 1, 12), 't']: 124135.78\n",
            " > Model[(1, 1, 1), (0, 1, 0, 12), 't']: 151566.99\n",
            " > Model[(1, 1, 1), (0, 1, 1, 12), 't']: 155447.88\n",
            " > Model[(1, 1, 1), (2, 1, 1, 12), 'c']: 159141.69\n",
            " > Model[(1, 1, 1), (1, 0, 0, 12), 't']: 132327.22\n",
            " > Model[(1, 1, 1), (1, 0, 1, 12), 't']: 133682.23\n",
            " > Model[(1, 1, 1), (1, 1, 0, 12), 't']: 152088.92\n",
            " > Model[(1, 1, 1), (1, 1, 1, 12), 't']: 149238.39\n",
            " > Model[(1, 1, 1), (2, 0, 0, 12), 't']: 136580.27\n",
            " > Model[(1, 1, 1), (2, 0, 1, 12), 't']: 135861.03\n",
            " > Model[(1, 1, 1), (2, 1, 0, 12), 't']: 189450.51\n",
            " > Model[(1, 1, 1), (0, 0, 0, 12), 'ct']: 127532.25\n",
            " > Model[(1, 1, 1), (0, 0, 1, 12), 'ct']: 124120.64\n",
            " > Model[(1, 1, 1), (0, 1, 0, 12), 'ct']: 150251.09\n",
            " > Model[(1, 1, 1), (0, 1, 1, 12), 'ct']: 151244.18\n",
            " > Model[(1, 1, 1), (2, 1, 1, 12), 't']: 189971.02\n",
            " > Model[(1, 1, 1), (1, 0, 0, 12), 'ct']: 132194.99\n",
            " > Model[(1, 1, 1), (1, 0, 1, 12), 'ct']: 130077.78\n",
            " > Model[(1, 1, 1), (1, 1, 0, 12), 'ct']: 146176.26\n",
            " > Model[(1, 1, 1), (2, 0, 0, 12), 'ct']: 132635.11\n",
            " > Model[(1, 1, 1), (1, 1, 1, 12), 'ct']: 147324.72\n",
            " > Model[(1, 1, 1), (2, 0, 1, 12), 'ct']: 131859.99\n",
            " > Model[(1, 1, 1), (2, 1, 0, 12), 'ct']: 148266.77\n",
            " > Model[(1, 1, 2), (0, 0, 0, 12), 'n']: 130290.70\n",
            " > Model[(1, 1, 2), (0, 0, 1, 12), 'n']: 124121.21\n",
            " > Model[(1, 1, 2), (0, 1, 0, 12), 'n']: 152731.16\n",
            " > Model[(1, 1, 2), (0, 1, 1, 12), 'n']: 151764.25\n",
            " > Model[(1, 1, 2), (1, 0, 0, 12), 'n']: 132789.02\n",
            " > Model[(1, 1, 2), (1, 0, 1, 12), 'n']: 134922.60\n",
            " > Model[(1, 1, 2), (1, 1, 0, 12), 'n']: 151133.50\n",
            " > Model[(1, 1, 1), (2, 1, 1, 12), 'ct']: 150961.39\n",
            " > Model[(1, 1, 2), (2, 0, 0, 12), 'n']: 131078.28\n",
            " > Model[(1, 1, 2), (1, 1, 1, 12), 'n']: 150019.90\n",
            " > Model[(1, 1, 2), (2, 0, 1, 12), 'n']: 131279.34\n",
            " > Model[(1, 1, 2), (2, 1, 1, 12), 'n']: 153201.26\n",
            " > Model[(1, 1, 2), (0, 0, 0, 12), 'c']: 130239.12\n",
            " > Model[(1, 1, 2), (0, 0, 1, 12), 'c']: 124121.05\n",
            " > Model[(1, 1, 2), (0, 1, 0, 12), 'c']: 152200.82\n",
            " > Model[(1, 1, 2), (0, 1, 1, 12), 'c']: 151658.29\n",
            " > Model[(1, 1, 2), (1, 0, 0, 12), 'c']: 132797.57\n",
            " > Model[(1, 1, 2), (2, 1, 0, 12), 'n']: 173178.63\n",
            " > Model[(1, 1, 2), (1, 0, 1, 12), 'c']: 134888.37\n",
            " > Model[(1, 1, 2), (1, 1, 0, 12), 'c']: 147251.95\n",
            " > Model[(1, 1, 2), (1, 1, 1, 12), 'c']: 146769.40\n",
            " > Model[(1, 1, 2), (2, 0, 0, 12), 'c']: 131087.33\n",
            " > Model[(1, 1, 2), (2, 0, 1, 12), 'c']: 131253.82\n",
            " > Model[(1, 1, 2), (2, 1, 1, 12), 'c']: 152354.14\n",
            " > Model[(1, 1, 2), (0, 0, 0, 12), 't']: 127625.67\n",
            " > Model[(1, 1, 2), (2, 1, 0, 12), 'c']: 154755.73\n",
            " > Model[(1, 1, 2), (0, 0, 1, 12), 't']: 124120.95\n",
            " > Model[(1, 1, 2), (0, 1, 0, 12), 't']: 152723.12\n",
            " > Model[(1, 1, 2), (1, 0, 0, 12), 't']: 132607.01\n",
            " > Model[(1, 1, 2), (0, 1, 1, 12), 't']: 151774.53\n",
            " > Model[(1, 1, 2), (1, 0, 1, 12), 't']: 134629.90\n",
            " > Model[(1, 1, 2), (1, 1, 0, 12), 't']: 151216.72\n",
            " > Model[(1, 1, 2), (1, 1, 1, 12), 't']: 146900.53\n",
            " > Model[(1, 1, 2), (2, 0, 0, 12), 't']: 130942.48\n",
            " > Model[(1, 1, 2), (2, 0, 1, 12), 't']: 130821.63\n",
            " > Model[(1, 1, 2), (2, 1, 0, 12), 't']: 184875.87\n",
            " > Model[(1, 1, 2), (0, 0, 0, 12), 'ct']: 127467.02\n",
            " > Model[(1, 1, 2), (0, 0, 1, 12), 'ct']: 124112.28\n",
            " > Model[(1, 1, 2), (0, 1, 0, 12), 'ct']: 150712.49\n",
            " > Model[(1, 1, 2), (2, 1, 1, 12), 't']: 152305.81\n",
            " > Model[(1, 1, 2), (1, 0, 0, 12), 'ct']: 131621.47\n",
            " > Model[(1, 1, 2), (0, 1, 1, 12), 'ct']: 151085.59\n",
            " > Model[(1, 1, 2), (1, 0, 1, 12), 'ct']: 130012.31\n",
            " > Model[(1, 1, 2), (1, 1, 0, 12), 'ct']: 150746.55\n",
            " > Model[(1, 1, 2), (1, 1, 1, 12), 'ct']: 147281.10\n",
            " > Model[(1, 1, 2), (2, 0, 0, 12), 'ct']: 130755.11\n",
            " > Model[(1, 1, 2), (2, 0, 1, 12), 'ct']: 129446.05\n",
            " > Model[(1, 1, 2), (2, 1, 0, 12), 'ct']: 165277.79\n",
            " > Model[(2, 0, 0), (0, 0, 0, 12), 'n']: 139715.88\n",
            " > Model[(2, 0, 0), (0, 0, 1, 12), 'n']: 136854.48\n",
            " > Model[(2, 0, 0), (0, 1, 0, 12), 'n']: 182145.44\n",
            " > Model[(1, 1, 2), (2, 1, 1, 12), 'ct']: 150455.85\n",
            " > Model[(2, 0, 0), (1, 0, 0, 12), 'n']: 152189.58\n",
            " > Model[(2, 0, 0), (0, 1, 1, 12), 'n']: 182669.14\n",
            " > Model[(2, 0, 0), (1, 0, 1, 12), 'n']: 152168.34\n",
            " > Model[(2, 0, 0), (1, 1, 0, 12), 'n']: 178728.54\n",
            " > Model[(2, 0, 0), (2, 0, 0, 12), 'n']: 147488.41\n",
            " > Model[(2, 0, 0), (1, 1, 1, 12), 'n']: 178754.41\n",
            " > Model[(2, 0, 0), (2, 1, 0, 12), 'n']: 185181.62\n",
            " > Model[(2, 0, 0), (2, 0, 1, 12), 'n']: 147584.71\n",
            " > Model[(2, 0, 0), (0, 0, 0, 12), 'c']: 140196.89\n",
            " > Model[(2, 0, 0), (0, 0, 1, 12), 'c']: 138454.40\n",
            " > Model[(2, 0, 0), (0, 1, 0, 12), 'c']: 182074.54\n",
            " > Model[(2, 0, 0), (0, 1, 1, 12), 'c']: 182392.96\n",
            " > Model[(2, 0, 0), (2, 1, 1, 12), 'n']: 191907.42\n",
            " > Model[(2, 0, 0), (1, 0, 0, 12), 'c']: 145555.63\n",
            " > Model[(2, 0, 0), (1, 1, 0, 12), 'c']: 178339.92\n",
            " > Model[(2, 0, 0), (1, 0, 1, 12), 'c']: 145412.45\n",
            " > Model[(2, 0, 0), (1, 1, 1, 12), 'c']: 178410.18\n",
            " > Model[(2, 0, 0), (2, 0, 0, 12), 'c']: 150554.69\n",
            " > Model[(2, 0, 0), (2, 0, 1, 12), 'c']: 179287.23\n",
            " > Model[(2, 0, 0), (2, 1, 0, 12), 'c']: 185149.87\n",
            " > Model[(2, 0, 0), (0, 0, 0, 12), 't']: 136901.24\n",
            " > Model[(2, 0, 0), (0, 0, 1, 12), 't']: 134666.58\n",
            " > Model[(2, 0, 0), (0, 1, 0, 12), 't']: 181972.11\n",
            " > Model[(2, 0, 0), (0, 1, 1, 12), 't']: 182280.14\n",
            " > Model[(2, 0, 0), (1, 0, 0, 12), 't']: 179941.93\n",
            " > Model[(2, 0, 0), (2, 1, 1, 12), 'c']: 190744.79\n",
            " > Model[(2, 0, 0), (1, 0, 1, 12), 't']: 148237.53\n",
            " > Model[(2, 0, 0), (1, 1, 0, 12), 't']: 178320.47\n",
            " > Model[(2, 0, 0), (1, 1, 1, 12), 't']: 178461.80\n",
            " > Model[(2, 0, 0), (2, 0, 0, 12), 't']: 161061.31\n",
            " > Model[(2, 0, 0), (2, 0, 1, 12), 't']: 161057.64\n",
            " > Model[(2, 0, 0), (2, 1, 0, 12), 't']: 187609.91\n",
            " > Model[(2, 0, 0), (0, 0, 0, 12), 'ct']: 136959.19\n",
            " > Model[(2, 0, 0), (0, 0, 1, 12), 'ct']: 136095.87\n",
            " > Model[(2, 0, 0), (0, 1, 0, 12), 'ct']: 183026.23\n",
            " > Model[(2, 0, 0), (2, 1, 1, 12), 't']: 190021.08\n",
            " > Model[(2, 0, 0), (0, 1, 1, 12), 'ct']: 183510.79\n",
            " > Model[(2, 0, 0), (1, 0, 0, 12), 'ct']: 146588.28\n",
            " > Model[(2, 0, 0), (1, 0, 1, 12), 'ct']: 146588.40\n",
            " > Model[(2, 0, 0), (1, 1, 0, 12), 'ct']: 178364.78\n",
            " > Model[(2, 0, 0), (1, 1, 1, 12), 'ct']: 178487.74\n",
            " > Model[(2, 0, 0), (2, 0, 0, 12), 'ct']: 149269.46\n",
            " > Model[(2, 0, 0), (2, 0, 1, 12), 'ct']: 163834.21\n",
            " > Model[(2, 0, 0), (2, 1, 0, 12), 'ct']: 186842.80\n",
            " > Model[(2, 0, 1), (0, 0, 0, 12), 'n']: 140271.21\n",
            " > Model[(2, 0, 1), (0, 0, 1, 12), 'n']: 124141.13\n",
            " > Model[(2, 0, 1), (0, 1, 0, 12), 'n']: 208602.06\n",
            " > Model[(2, 0, 0), (2, 1, 1, 12), 'ct']: 190199.47\n",
            " > Model[(2, 0, 1), (0, 1, 1, 12), 'n']: 182271.80\n",
            " > Model[(2, 0, 1), (1, 0, 0, 12), 'n']: 153341.71\n",
            " > Model[(2, 0, 1), (1, 0, 1, 12), 'n']: 153314.37\n",
            " > Model[(2, 0, 1), (1, 1, 0, 12), 'n']: 182111.47\n",
            " > Model[(2, 0, 1), (2, 0, 0, 12), 'n']: 168790.15\n",
            " > Model[(2, 0, 1), (1, 1, 1, 12), 'n']: 232352.31\n",
            " > Model[(2, 0, 1), (2, 0, 1, 12), 'n']: 166535.99\n",
            " > Model[(2, 0, 1), (2, 1, 0, 12), 'n']: 235849.39\n",
            " > Model[(2, 0, 1), (0, 0, 0, 12), 'c']: 140390.85\n",
            " > Model[(2, 0, 1), (0, 0, 1, 12), 'c']: 124113.96\n",
            " > Model[(2, 0, 1), (0, 1, 0, 12), 'c']: 181724.85\n",
            " > Model[(2, 0, 1), (2, 1, 1, 12), 'n']: 237241.08\n",
            " > Model[(2, 0, 1), (0, 1, 1, 12), 'c']: 231569.88\n",
            " > Model[(2, 0, 1), (1, 0, 0, 12), 'c']: 145706.80\n",
            " > Model[(2, 0, 1), (1, 0, 1, 12), 'c']: 145605.54\n",
            " > Model[(2, 0, 1), (1, 1, 0, 12), 'c']: 178510.58\n",
            " > Model[(2, 0, 1), (1, 1, 1, 12), 'c']: 218330.80\n",
            " > Model[(2, 0, 1), (2, 0, 0, 12), 'c']: 154826.77\n",
            " > Model[(2, 0, 1), (2, 0, 1, 12), 'c']: 165246.73\n",
            " > Model[(2, 0, 1), (2, 1, 0, 12), 'c']: 178350.65\n",
            " > Model[(2, 0, 1), (0, 0, 0, 12), 't']: 137254.59\n",
            " > Model[(2, 0, 1), (0, 0, 1, 12), 't']: 124127.56\n",
            " > Model[(2, 0, 1), (0, 1, 0, 12), 't']: 181770.41\n",
            " > Model[(2, 0, 1), (0, 1, 1, 12), 't']: 182566.23\n",
            " > Model[(2, 0, 1), (1, 0, 0, 12), 't']: 180338.60\n",
            " > Model[(2, 0, 1), (1, 0, 1, 12), 't']: 150290.75\n",
            " > Model[(2, 0, 1), (2, 1, 1, 12), 'c']: 191435.31\n",
            " > Model[(2, 0, 1), (1, 1, 0, 12), 't']: 181818.31\n",
            " > Model[(2, 0, 1), (1, 1, 1, 12), 't']: 222515.44\n",
            " > Model[(2, 0, 1), (2, 0, 0, 12), 't']: 160916.62\n",
            " > Model[(2, 0, 1), (2, 0, 1, 12), 't']: 195809.63\n",
            " > Model[(2, 0, 1), (2, 1, 0, 12), 't']: 241259.40\n",
            " > Model[(2, 0, 1), (0, 0, 0, 12), 'ct']: 136756.59\n",
            " > Model[(2, 0, 1), (0, 0, 1, 12), 'ct']: 124101.25\n",
            " > Model[(2, 0, 1), (0, 1, 0, 12), 'ct']: 186872.39\n",
            " > Model[(2, 0, 1), (2, 1, 1, 12), 't']: 200261.85\n",
            " > Model[(2, 0, 1), (0, 1, 1, 12), 'ct']: 254634.16\n",
            " > Model[(2, 0, 1), (1, 0, 0, 12), 'ct']: 147179.53\n",
            " > Model[(2, 0, 1), (1, 0, 1, 12), 'ct']: 147171.87\n",
            " > Model[(2, 0, 1), (1, 1, 1, 12), 'ct']: 234144.47\n",
            " > Model[(2, 0, 1), (1, 1, 0, 12), 'ct']: 197141.34\n",
            " > Model[(2, 0, 1), (2, 0, 0, 12), 'ct']: 156219.14\n",
            " > Model[(2, 0, 1), (2, 0, 1, 12), 'ct']: 165292.30\n",
            " > Model[(2, 0, 1), (2, 1, 0, 12), 'ct']: 219875.70\n",
            " > Model[(2, 0, 2), (0, 0, 0, 12), 'n']: 140984.23\n",
            " > Model[(2, 0, 1), (2, 1, 1, 12), 'ct']: 211211.68\n",
            " > Model[(2, 0, 2), (0, 1, 0, 12), 'n']: 180481.72\n",
            " > Model[(2, 0, 2), (0, 0, 1, 12), 'n']: 124126.48\n",
            " > Model[(2, 0, 2), (1, 0, 0, 12), 'n']: 153765.86\n",
            " > Model[(2, 0, 2), (0, 1, 1, 12), 'n']: 187098.62\n",
            " > Model[(2, 0, 2), (1, 0, 1, 12), 'n']: 158956.49\n",
            " > Model[(2, 0, 2), (1, 1, 0, 12), 'n']: 191148.71\n",
            " > Model[(2, 0, 2), (1, 1, 1, 12), 'n']: 176740.47\n",
            " > Model[(2, 0, 2), (2, 0, 0, 12), 'n']: 150144.54\n",
            " > Model[(2, 0, 2), (2, 0, 1, 12), 'n']: 159369.94\n",
            " > Model[(2, 0, 2), (2, 1, 0, 12), 'n']: 186436.44\n",
            " > Model[(2, 0, 2), (0, 0, 0, 12), 'c']: 144756.86\n",
            " > Model[(2, 0, 2), (0, 0, 1, 12), 'c']: 124105.52\n",
            " > Model[(2, 0, 2), (0, 1, 0, 12), 'c']: 180352.94\n",
            " > Model[(2, 0, 2), (2, 1, 1, 12), 'n']: 192966.33\n",
            " > Model[(2, 0, 2), (1, 0, 0, 12), 'c']: 182412.03\n",
            " > Model[(2, 0, 2), (1, 0, 1, 12), 'c']: 153251.45\n",
            " > Model[(2, 0, 2), (0, 1, 1, 12), 'c']: 342628.82\n",
            " > Model[(2, 0, 2), (1, 1, 0, 12), 'c']: 190923.48\n",
            " > Model[(2, 0, 2), (1, 1, 1, 12), 'c']: 176432.96\n",
            " > Model[(2, 0, 2), (2, 0, 0, 12), 'c']: 145918.70\n",
            " > Model[(2, 0, 2), (2, 0, 1, 12), 'c']: 170656.08\n",
            " > Model[(2, 0, 2), (2, 1, 0, 12), 'c']: 205121.63\n",
            " > Model[(2, 0, 2), (2, 1, 1, 12), 'c']: 191865.60\n",
            " > Model[(2, 0, 2), (0, 0, 0, 12), 't']: 137619.92\n",
            " > Model[(2, 0, 2), (0, 1, 0, 12), 't']: 180238.80\n",
            " > Model[(2, 0, 2), (0, 0, 1, 12), 't']: 788378.55\n",
            " > Model[(2, 0, 2), (0, 1, 1, 12), 't']: 186411.20\n",
            " > Model[(2, 0, 2), (1, 0, 0, 12), 't']: 178383.40\n",
            " > Model[(2, 0, 2), (1, 0, 1, 12), 't']: 211737.05\n",
            " > Model[(2, 0, 2), (1, 1, 0, 12), 't']: 191319.26\n",
            " > Model[(2, 0, 2), (1, 1, 1, 12), 't']: 176334.72\n",
            " > Model[(2, 0, 2), (2, 0, 0, 12), 't']: 185117.69\n",
            " > Model[(2, 0, 2), (2, 0, 1, 12), 't']: 183694.37\n",
            " > Model[(2, 0, 2), (2, 1, 0, 12), 't']: 205071.06\n",
            " > Model[(2, 0, 2), (0, 0, 0, 12), 'ct']: 139986.41\n",
            " > Model[(2, 0, 2), (2, 1, 1, 12), 't']: 191941.62\n",
            " > Model[(2, 0, 2), (0, 1, 0, 12), 'ct']: 180885.13\n",
            " > Model[(2, 0, 2), (0, 0, 1, 12), 'ct']: 124182.52\n",
            " > Model[(2, 0, 2), (1, 0, 0, 12), 'ct']: 146706.30\n",
            " > Model[(2, 0, 2), (0, 1, 1, 12), 'ct']: 187056.83\n",
            " > Model[(2, 0, 2), (1, 0, 1, 12), 'ct']: 152698.84\n",
            " > Model[(2, 0, 2), (1, 1, 0, 12), 'ct']: 191107.56\n",
            " > Model[(2, 0, 2), (1, 1, 1, 12), 'ct']: 176496.01\n",
            " > Model[(2, 0, 2), (2, 0, 0, 12), 'ct']: 145498.44\n",
            " > Model[(2, 0, 2), (2, 0, 1, 12), 'ct']: 166983.07\n",
            " > Model[(2, 0, 2), (2, 1, 0, 12), 'ct']: 189490.02\n",
            " > Model[(2, 1, 0), (0, 0, 0, 12), 'n']: 127920.26\n",
            " > Model[(2, 1, 0), (0, 0, 1, 12), 'n']: 124151.85\n",
            " > Model[(2, 1, 0), (0, 1, 0, 12), 'n']: 151617.65\n",
            " > Model[(2, 1, 0), (0, 1, 1, 12), 'n']: 150988.38\n",
            " > Model[(2, 1, 0), (1, 0, 0, 12), 'n']: 132329.71\n",
            " > Model[(2, 1, 0), (1, 0, 1, 12), 'n']: 132297.75\n",
            " > Model[(2, 1, 0), (1, 1, 0, 12), 'n']: 147606.08\n",
            " > Model[(2, 1, 0), (1, 1, 1, 12), 'n']: 147517.48\n",
            " > Model[(2, 1, 0), (2, 0, 0, 12), 'n']: 131081.71\n",
            " > Model[(2, 0, 2), (2, 1, 1, 12), 'ct']: 185940.55\n",
            " > Model[(2, 1, 0), (2, 1, 0, 12), 'n']: 149935.29\n",
            " > Model[(2, 1, 0), (2, 0, 1, 12), 'n']: 128841.08\n",
            " > Model[(2, 1, 0), (0, 0, 0, 12), 'c']: 127917.22\n",
            " > Model[(2, 1, 0), (0, 0, 1, 12), 'c']: 124150.94\n",
            " > Model[(2, 1, 0), (0, 1, 0, 12), 'c']: 151388.80\n",
            " > Model[(2, 1, 0), (0, 1, 1, 12), 'c']: 150787.67\n",
            " > Model[(2, 1, 0), (1, 0, 0, 12), 'c']: 132275.93\n",
            " > Model[(2, 1, 0), (2, 1, 1, 12), 'n']: 152654.00\n",
            " > Model[(2, 1, 0), (1, 0, 1, 12), 'c']: 132334.62\n",
            " > Model[(2, 1, 0), (1, 1, 0, 12), 'c']: 147310.45\n",
            " > Model[(2, 1, 0), (2, 0, 0, 12), 'c']: 131177.98\n",
            " > Model[(2, 1, 0), (1, 1, 1, 12), 'c']: 147255.88\n",
            " > Model[(2, 1, 0), (2, 1, 0, 12), 'c']: 149570.99\n",
            " > Model[(2, 1, 0), (2, 0, 1, 12), 'c']: 128839.55\n",
            " > Model[(2, 1, 0), (0, 0, 0, 12), 't']: 127828.02\n",
            " > Model[(2, 1, 0), (0, 0, 1, 12), 't']: 124150.48\n",
            " > Model[(2, 1, 0), (0, 1, 0, 12), 't']: 151614.00\n",
            " > Model[(2, 1, 0), (0, 1, 1, 12), 't']: 150993.66\n",
            " > Model[(2, 1, 0), (1, 0, 0, 12), 't']: 132211.55\n",
            " > Model[(2, 1, 0), (2, 1, 1, 12), 'c']: 151947.79\n",
            " > Model[(2, 1, 0), (1, 0, 1, 12), 't']: 132178.14\n",
            " > Model[(2, 1, 0), (1, 1, 0, 12), 't']: 147569.69\n",
            " > Model[(2, 1, 0), (1, 1, 1, 12), 't']: 147488.63\n",
            " > Model[(2, 1, 0), (2, 0, 0, 12), 't']: 130901.40\n",
            " > Model[(2, 1, 0), (2, 0, 1, 12), 't']: 128793.93\n",
            " > Model[(2, 1, 0), (2, 1, 0, 12), 't']: 149628.64\n",
            " > Model[(2, 1, 0), (0, 0, 0, 12), 'ct']: 127349.64\n",
            " > Model[(2, 1, 0), (0, 0, 1, 12), 'ct']: 124129.62\n",
            " > Model[(2, 1, 0), (0, 1, 0, 12), 'ct']: 150606.53\n",
            " > Model[(2, 1, 0), (0, 1, 1, 12), 'ct']: 149852.02\n",
            " > Model[(2, 1, 0), (1, 0, 0, 12), 'ct']: 131874.73\n",
            " > Model[(2, 1, 0), (1, 0, 1, 12), 'ct']: 131768.03\n",
            " > Model[(2, 1, 0), (1, 1, 0, 12), 'ct']: 146679.64\n",
            " > Model[(2, 1, 0), (2, 1, 1, 12), 't']: 152061.39\n",
            " > Model[(2, 1, 0), (1, 1, 1, 12), 'ct']: 146675.59\n",
            " > Model[(2, 1, 0), (2, 0, 0, 12), 'ct']: 131250.50\n",
            " > Model[(2, 1, 0), (2, 0, 1, 12), 'ct']: 128598.12\n",
            " > Model[(2, 1, 0), (2, 1, 0, 12), 'ct']: 148892.26\n",
            " > Model[(2, 1, 1), (0, 0, 0, 12), 'n']: 126158.82\n",
            " > Model[(2, 1, 1), (0, 0, 1, 12), 'n']: 124137.80\n",
            " > Model[(2, 1, 1), (0, 1, 0, 12), 'n']: 151665.05\n",
            " > Model[(2, 1, 1), (0, 1, 1, 12), 'n']: 151590.97\n",
            " > Model[(2, 1, 1), (1, 0, 0, 12), 'n']: 132631.08\n",
            " > Model[(2, 1, 1), (1, 0, 1, 12), 'n']: 132585.39\n",
            " > Model[(2, 1, 1), (1, 1, 0, 12), 'n']: 147609.51\n",
            " > Model[(2, 1, 0), (2, 1, 1, 12), 'ct']: 150920.43\n",
            " > Model[(2, 1, 1), (1, 1, 1, 12), 'n']: 147520.58\n",
            " > Model[(2, 1, 1), (2, 0, 0, 12), 'n']: 130998.53\n",
            " > Model[(2, 1, 1), (2, 1, 0, 12), 'n']: 150016.05\n",
            " > Model[(2, 1, 1), (2, 0, 1, 12), 'n']: 127987.69\n",
            " > Model[(2, 1, 1), (0, 0, 0, 12), 'c']: 126125.49\n",
            " > Model[(2, 1, 1), (0, 0, 1, 12), 'c']: 124136.96\n",
            " > Model[(2, 1, 1), (0, 1, 0, 12), 'c']: 151422.24\n",
            " > Model[(2, 1, 1), (0, 1, 1, 12), 'c']: 151438.23\n",
            " > Model[(2, 1, 1), (1, 0, 0, 12), 'c']: 132718.99\n",
            " > Model[(2, 1, 1), (2, 1, 1, 12), 'n']: 152713.43\n",
            " > Model[(2, 1, 1), (1, 0, 1, 12), 'c']: 132665.70\n",
            " > Model[(2, 1, 1), (1, 1, 0, 12), 'c']: 147327.74\n",
            " > Model[(2, 1, 1), (2, 0, 0, 12), 'c']: 131039.94\n",
            " > Model[(2, 1, 1), (1, 1, 1, 12), 'c']: 147272.58\n",
            " > Model[(2, 1, 1), (2, 1, 0, 12), 'c']: 149618.86\n",
            " > Model[(2, 1, 1), (2, 0, 1, 12), 'c']: 127881.10\n",
            " > Model[(2, 1, 1), (0, 0, 0, 12), 't']: 126058.07\n",
            " > Model[(2, 1, 1), (0, 0, 1, 12), 't']: 124137.17\n",
            " > Model[(2, 1, 1), (0, 1, 0, 12), 't']: 151661.30\n",
            " > Model[(2, 1, 1), (2, 1, 1, 12), 'c']: 151986.62\n",
            " > Model[(2, 1, 1), (0, 1, 1, 12), 't']: 151589.03\n",
            " > Model[(2, 1, 1), (1, 0, 0, 12), 't']: 132500.28\n",
            " > Model[(2, 1, 1), (1, 0, 1, 12), 't']: 132459.27\n",
            " > Model[(2, 1, 1), (1, 1, 0, 12), 't']: 147572.70\n",
            " > Model[(2, 1, 1), (1, 1, 1, 12), 't']: 147541.76\n",
            " > Model[(2, 1, 1), (2, 0, 0, 12), 't']: 130781.95\n",
            " > Model[(2, 1, 1), (2, 0, 1, 12), 't']: 127928.18\n",
            " > Model[(2, 1, 1), (2, 1, 0, 12), 't']: 149674.48\n",
            " > Model[(2, 1, 1), (0, 0, 0, 12), 'ct']: 125278.54\n",
            " > Model[(2, 1, 1), (0, 0, 1, 12), 'ct']: 127185.69\n",
            " > Model[(2, 1, 1), (0, 1, 0, 12), 'ct']: 150561.58\n",
            " > Model[(2, 1, 1), (0, 1, 1, 12), 'ct']: 150802.00\n",
            " > Model[(2, 1, 1), (1, 0, 0, 12), 'ct']: 132322.02\n",
            " > Model[(2, 1, 1), (2, 1, 1, 12), 't']: 152108.06\n",
            " > Model[(2, 1, 1), (1, 0, 1, 12), 'ct']: 132189.74\n",
            " > Model[(2, 1, 1), (1, 1, 0, 12), 'ct']: 146683.17\n",
            " > Model[(2, 1, 1), (1, 1, 1, 12), 'ct']: 146681.33\n",
            " > Model[(2, 1, 1), (2, 0, 0, 12), 'ct']: 131857.34\n",
            " > Model[(2, 1, 1), (2, 0, 1, 12), 'ct']: 127281.82\n",
            " > Model[(2, 1, 1), (2, 1, 1, 12), 'ct']: 150861.20\n",
            " > Model[(2, 1, 2), (0, 0, 0, 12), 'n']: 143410.10\n",
            " > Model[(2, 1, 1), (2, 1, 0, 12), 'ct']: 172319.75\n",
            " > Model[(2, 1, 2), (0, 1, 0, 12), 'n']: 151627.13\n",
            " > Model[(2, 1, 2), (0, 0, 1, 12), 'n']: 124124.33\n",
            " > Model[(2, 1, 2), (1, 0, 0, 12), 'n']: 132882.47\n",
            " > Model[(2, 1, 2), (0, 1, 1, 12), 'n']: 151907.30\n",
            " > Model[(2, 1, 2), (1, 0, 1, 12), 'n']: 131516.69\n",
            " > Model[(2, 1, 2), (1, 1, 0, 12), 'n']: 147613.66\n",
            " > Model[(2, 1, 2), (1, 1, 1, 12), 'n']: 147732.53\n",
            " > Model[(2, 1, 2), (2, 0, 0, 12), 'n']: 148862.31\n",
            " > Model[(2, 1, 2), (2, 0, 1, 12), 'n']: 127129.59\n",
            " > Model[(2, 1, 2), (2, 1, 0, 12), 'n']: 149991.55\n",
            " > Model[(2, 1, 2), (0, 0, 0, 12), 'c']: 143452.21\n",
            " > Model[(2, 1, 2), (0, 0, 1, 12), 'c']: 124124.06\n",
            " > Model[(2, 1, 2), (0, 1, 0, 12), 'c']: 151426.33\n",
            " > Model[(2, 1, 2), (2, 1, 1, 12), 'n']: 152609.16\n",
            " > Model[(2, 1, 2), (1, 0, 0, 12), 'c']: 132901.45\n",
            " > Model[(2, 1, 2), (0, 1, 1, 12), 'c']: 151659.27\n",
            " > Model[(2, 1, 2), (1, 0, 1, 12), 'c']: 131504.11\n",
            " > Model[(2, 1, 2), (1, 1, 0, 12), 'c']: 147318.50\n",
            " > Model[(2, 1, 2), (1, 1, 1, 12), 'c']: 147236.84\n",
            " > Model[(2, 1, 2), (2, 0, 0, 12), 'c']: 148658.37\n",
            " > Model[(2, 1, 2), (2, 1, 0, 12), 'c']: 149607.42\n",
            " > Model[(2, 1, 2), (2, 0, 1, 12), 'c']: 151419.02\n",
            " > Model[(2, 1, 2), (0, 0, 0, 12), 't']: 143554.38\n",
            " > Model[(2, 1, 2), (0, 0, 1, 12), 't']: 124124.05\n",
            " > Model[(2, 1, 2), (0, 1, 0, 12), 't']: 151623.04\n",
            " > Model[(2, 1, 2), (2, 1, 1, 12), 'c']: 151882.34\n",
            " > Model[(2, 1, 2), (1, 0, 0, 12), 't']: 132766.52\n",
            " > Model[(2, 1, 2), (0, 1, 1, 12), 't']: 151916.54\n",
            " > Model[(2, 1, 2), (1, 0, 1, 12), 't']: 131401.82\n",
            " > Model[(2, 1, 2), (1, 1, 0, 12), 't']: 147577.21\n",
            " > Model[(2, 1, 2), (1, 1, 1, 12), 't']: 147679.84\n",
            " > Model[(2, 1, 2), (2, 0, 0, 12), 't']: 148462.23\n",
            " > Model[(2, 1, 2), (2, 0, 1, 12), 't']: 151397.76\n",
            " > Model[(2, 1, 2), (2, 1, 0, 12), 't']: 149772.27\n",
            " > Model[(2, 1, 2), (0, 0, 0, 12), 'ct']: 129580.36\n",
            " > Model[(2, 1, 2), (0, 0, 1, 12), 'ct']: 124115.24\n",
            " > Model[(2, 1, 2), (0, 1, 0, 12), 'ct']: 150470.83\n",
            " > Model[(2, 1, 2), (2, 1, 1, 12), 't']: 152194.07\n",
            " > Model[(2, 1, 2), (0, 1, 1, 12), 'ct']: 151187.52\n",
            " > Model[(2, 1, 2), (1, 0, 0, 12), 'ct']: 147629.96\n",
            " > Model[(2, 1, 2), (1, 0, 1, 12), 'ct']: 130642.56\n",
            " > Model[(2, 1, 2), (1, 1, 0, 12), 'ct']: 146541.20\n",
            " > Model[(2, 1, 2), (1, 1, 1, 12), 'ct']: 146561.20\n",
            " > Model[(2, 1, 2), (2, 0, 0, 12), 'ct']: 147415.12\n",
            " > Model[(2, 1, 2), (2, 0, 1, 12), 'ct']: 137203.38\n",
            " > Model[(2, 1, 2), (2, 1, 0, 12), 'ct']: 148744.37\n",
            " > Model[(2, 1, 2), (2, 1, 1, 12), 'ct']: 150679.61\n"
          ],
          "name": "stdout"
        }
      ]
    },
    {
      "cell_type": "code",
      "metadata": {
        "id": "MVlYRml704BF",
        "outputId": "b591181d-3da2-45df-bb68-012a93ca82e9",
        "colab": {
          "base_uri": "https://localhost:8080/"
        }
      },
      "source": [
        "scores[:5]"
      ],
      "execution_count": 109,
      "outputs": [
        {
          "output_type": "execute_result",
          "data": {
            "text/plain": [
              "[(\"[(0, 1, 2), (0, 0, 1, 12), 'ct']\", 124074.87851565355),\n",
              " (\"[(0, 1, 2), (0, 0, 1, 12), 't']\", 124082.24544102851),\n",
              " (\"[(0, 1, 2), (0, 0, 1, 12), 'c']\", 124082.60467521336),\n",
              " (\"[(0, 1, 2), (0, 0, 1, 12), 'n']\", 124082.83097067631),\n",
              " (\"[(0, 1, 1), (0, 0, 1, 12), 'ct']\", 124085.31624625249)]"
            ]
          },
          "metadata": {
            "tags": []
          },
          "execution_count": 109
        }
      ]
    },
    {
      "cell_type": "code",
      "metadata": {
        "id": "5oIIpjO9kLLq",
        "outputId": "f749957c-40f9-42a8-90f8-20c05012b90b",
        "colab": {
          "base_uri": "https://localhost:8080/"
        }
      },
      "source": [
        "test_scores = grid_search_test_results(df, scores, exog, ntop_scores=3)"
      ],
      "execution_count": 110,
      "outputs": [
        {
          "output_type": "stream",
          "text": [
            "(\"[(0, 1, 2), (0, 0, 1, 12), 'ct']\", 133996.68568967967)\n",
            "(\"[(0, 1, 2), (0, 0, 1, 12), 't']\", 133997.76486645255)\n",
            "(\"[(0, 1, 2), (0, 0, 1, 12), 'c']\", 133997.39382966617)\n"
          ],
          "name": "stdout"
        }
      ]
    },
    {
      "cell_type": "code",
      "metadata": {
        "id": "xPlaymyj7dJY",
        "outputId": "bee7a581-0541-4ed0-b727-89744be6754e",
        "colab": {
          "base_uri": "https://localhost:8080/"
        }
      },
      "source": [
        "test_scores"
      ],
      "execution_count": 111,
      "outputs": [
        {
          "output_type": "execute_result",
          "data": {
            "text/plain": [
              "[(\"[(0, 1, 2), (0, 0, 1, 12), 'ct']\", 133996.68568967967),\n",
              " (\"[(0, 1, 2), (0, 0, 1, 12), 'c']\", 133997.39382966617),\n",
              " (\"[(0, 1, 2), (0, 0, 1, 12), 't']\", 133997.76486645255)]"
            ]
          },
          "metadata": {
            "tags": []
          },
          "execution_count": 111
        }
      ]
    },
    {
      "cell_type": "code",
      "metadata": {
        "id": "66-cWYnWBPzc",
        "outputId": "d7888520-22f2-4ba5-9515-f4e3fe87ad4c",
        "colab": {
          "base_uri": "https://localhost:8080/",
          "height": 621
        }
      },
      "source": [
        "plot_model(df, eval(test_scores[0][0]))"
      ],
      "execution_count": 112,
      "outputs": [
        {
          "output_type": "stream",
          "text": [
            "/usr/local/lib/python3.6/dist-packages/statsmodels/tsa/base/tsa_model.py:165: ValueWarning: No frequency information was provided, so inferred frequency MS will be used.\n",
            "  % freq, ValueWarning)\n"
          ],
          "name": "stderr"
        },
        {
          "output_type": "stream",
          "text": [
            "Error: 107861.09526471571\n"
          ],
          "name": "stdout"
        },
        {
          "output_type": "display_data",
          "data": {
            "image/png": "[encoded data removed]",
            "text/plain": [
              "<Figure size 1584x720 with 1 Axes>"
            ]
          },
          "metadata": {
            "tags": []
          }
        }
      ]
    },
    {
      "cell_type": "markdown",
      "metadata": {
        "id": "1mm1mQP6I3tk"
      },
      "source": [
        "___"
      ]
    },
    {
      "cell_type": "markdown",
      "metadata": {
        "id": "xKxy7ujzvCxy"
      },
      "source": [
        "## Previsão"
      ]
    },
    {
      "cell_type": "code",
      "metadata": {
        "id": "Lsp8I1dtn40j",
        "outputId": "ff44479f-20d0-45a6-e5e2-842bd95eb5f0",
        "colab": {
          "base_uri": "https://localhost:8080/"
        }
      },
      "source": [
        "cfg = eval(test_scores[0][0])\n",
        "# cfg = [(0, 1, 2), (0, 0, 1, 12), 'n']\n",
        "order = cfg[0]\n",
        "s_order = cfg[1]\n",
        "trend = cfg[2]\n",
        "sarimax_pred = SARIMAX(\n",
        "    endog=df, exog=exog, order=order, seasonal_order=s_order, trend=trend,\n",
        "    enforce_stationarity=False, enforce_invertibility=False)\n",
        "\n",
        "model_sarimax_pred = sarimax_pred.fit(disp=False)\n",
        "\n",
        "fcast_sarimax = model_sarimax_pred.get_forecast(3, exog=df_ibc.indice_ajus[-3:].values.reshape(-1, 1))\n"
      ],
      "execution_count": 126,
      "outputs": [
        {
          "output_type": "stream",
          "text": [
            "/usr/local/lib/python3.6/dist-packages/statsmodels/tsa/base/tsa_model.py:165: ValueWarning: No frequency information was provided, so inferred frequency MS will be used.\n",
            "  % freq, ValueWarning)\n"
          ],
          "name": "stderr"
        }
      ]
    },
    {
      "cell_type": "code",
      "metadata": {
        "id": "rqZ3UU1gqBkG"
      },
      "source": [
        "df_fcast = pd.concat([model_sarimax_pred.predict(), fcast_sarimax.predicted_mean], axis=0)"
      ],
      "execution_count": 127,
      "outputs": []
    },
    {
      "cell_type": "code",
      "metadata": {
        "id": "favbcK0yqbKV",
        "outputId": "d9ef9c19-b6b2-44b3-a5ed-bbd4c9d9d4ce",
        "colab": {
          "base_uri": "https://localhost:8080/",
          "height": 206
        }
      },
      "source": [
        "df_fcast.name = 'fcast'\n",
        "df_fcast = pd.concat([df_fcast, fcast_sarimax.conf_int()], axis=1)\n",
        "df_fcast.tail()"
      ],
      "execution_count": 128,
      "outputs": [
        {
          "output_type": "execute_result",
          "data": {
            "text/html": [
              "<div>\n",
              "<style scoped>\n",
              "    .dataframe tbody tr th:only-of-type {\n",
              "        vertical-align: middle;\n",
              "    }\n",
              "\n",
              "    .dataframe tbody tr th {\n",
              "        vertical-align: top;\n",
              "    }\n",
              "\n",
              "    .dataframe thead th {\n",
              "        text-align: right;\n",
              "    }\n",
              "</style>\n",
              "<table border=\"1\" class=\"dataframe\">\n",
              "  <thead>\n",
              "    <tr style=\"text-align: right;\">\n",
              "      <th></th>\n",
              "      <th>fcast</th>\n",
              "      <th>lower estoques</th>\n",
              "      <th>upper estoques</th>\n",
              "    </tr>\n",
              "  </thead>\n",
              "  <tbody>\n",
              "    <tr>\n",
              "      <th>2020-08-01</th>\n",
              "      <td>1.167464e+06</td>\n",
              "      <td>NaN</td>\n",
              "      <td>NaN</td>\n",
              "    </tr>\n",
              "    <tr>\n",
              "      <th>2020-09-01</th>\n",
              "      <td>1.187472e+06</td>\n",
              "      <td>NaN</td>\n",
              "      <td>NaN</td>\n",
              "    </tr>\n",
              "    <tr>\n",
              "      <th>2020-10-01</th>\n",
              "      <td>1.199228e+06</td>\n",
              "      <td>1.179737e+06</td>\n",
              "      <td>1.218719e+06</td>\n",
              "    </tr>\n",
              "    <tr>\n",
              "      <th>2020-11-01</th>\n",
              "      <td>1.212548e+06</td>\n",
              "      <td>1.180924e+06</td>\n",
              "      <td>1.244171e+06</td>\n",
              "    </tr>\n",
              "    <tr>\n",
              "      <th>2020-12-01</th>\n",
              "      <td>1.213461e+06</td>\n",
              "      <td>1.170686e+06</td>\n",
              "      <td>1.256236e+06</td>\n",
              "    </tr>\n",
              "  </tbody>\n",
              "</table>\n",
              "</div>"
            ],
            "text/plain": [
              "                   fcast  lower estoques  upper estoques\n",
              "2020-08-01  1.167464e+06             NaN             NaN\n",
              "2020-09-01  1.187472e+06             NaN             NaN\n",
              "2020-10-01  1.199228e+06    1.179737e+06    1.218719e+06\n",
              "2020-11-01  1.212548e+06    1.180924e+06    1.244171e+06\n",
              "2020-12-01  1.213461e+06    1.170686e+06    1.256236e+06"
            ]
          },
          "metadata": {
            "tags": []
          },
          "execution_count": 128
        }
      ]
    },
    {
      "cell_type": "code",
      "metadata": {
        "id": "zKn4JeG7rFGz"
      },
      "source": [
        "previsoes_sarimax = pd.concat(\n",
        "    [df['estoques'], df_fcast],\n",
        "    axis=1)"
      ],
      "execution_count": 129,
      "outputs": []
    },
    {
      "cell_type": "code",
      "metadata": {
        "id": "bGEGC6u2rb_v",
        "outputId": "f897dbc7-8b07-418d-b160-db2c05fe3d19",
        "colab": {
          "base_uri": "https://localhost:8080/",
          "height": 428
        }
      },
      "source": [
        "fig, ax = plt.subplots(figsize=(16, 6))\n",
        "previsoes_sarimax.estoques.loc['2018-03-01':].plot(ax=ax, style='o', label='real')\n",
        "\n",
        "previsoes_sarimax.fcast.loc['2018-03-01':].plot(ax=ax, style='g--x', label='previsão')\n",
        "\n",
        "ax.fill_between(\n",
        "    previsoes_sarimax.index, \n",
        "    previsoes_sarimax.iloc[:,2], \n",
        "    previsoes_sarimax.iloc[:,3], color='g', alpha=0.1)\n",
        "\n",
        "plt.title('Estimativa do estoque de empregos formais para PERNAMBUCO')\n",
        "legend = ax.legend(loc='lower left')"
      ],
      "execution_count": 130,
      "outputs": [
        {
          "output_type": "display_data",
          "data": {
            "image/png": "[encoded data removed]",
            "text/plain": [
              "<Figure size 1152x432 with 1 Axes>"
            ]
          },
          "metadata": {
            "tags": []
          }
        }
      ]
    },
    {
      "cell_type": "markdown",
      "metadata": {
        "id": "TwOU21Mn6kD7"
      },
      "source": [
        "Até o fim do ano o saldo será:"
      ]
    },
    {
      "cell_type": "code",
      "metadata": {
        "id": "lqPZq_8a6ks9",
        "outputId": "48ca032e-2b53-45bc-9961-df59d7221286",
        "colab": {
          "base_uri": "https://localhost:8080/"
        }
      },
      "source": [
        "fcast_sarimax.predicted_mean[-1] - df.estoques[-1]"
      ],
      "execution_count": 131,
      "outputs": [
        {
          "output_type": "execute_result",
          "data": {
            "text/plain": [
              "10304.932933238335"
            ]
          },
          "metadata": {
            "tags": []
          },
          "execution_count": 131
        }
      ]
    },
    {
      "cell_type": "code",
      "metadata": {
        "id": "V9UUWpve7hU0"
      },
      "source": [
        "pred2020df = pd.DataFrame(df_saldo.saldo[-1] + fcast_sarimax.predicted_mean[-1] - df.estoques[-1], \n",
        "                          index=[\"2020\"], columns=['saldo'])\n",
        "pred2020df.index.name = \"Ano\"\n",
        "pred2020df.index = pd.to_datetime(pred2020df.index, format=\"%Y\")"
      ],
      "execution_count": 132,
      "outputs": []
    },
    {
      "cell_type": "code",
      "metadata": {
        "id": "IKDPI80WCnQz"
      },
      "source": [
        "df_saldo_pred = pd.concat([df_saldo[1:][:-1], pred2020df], axis=0)\n",
        "df_saldo_pred['saldo'] = df_saldo_pred.saldo.astype('int')\n",
        "df_saldo_pred.index.name = 'data'"
      ],
      "execution_count": 133,
      "outputs": []
    },
    {
      "cell_type": "code",
      "metadata": {
        "id": "5oQ4XJrJ_5Xj",
        "outputId": "2d893814-9ade-48ca-c429-c9c7ab3a2dd1",
        "colab": {
          "base_uri": "https://localhost:8080/",
          "height": 408
        }
      },
      "source": [
        "plt.figure(figsize=(12, 6))\n",
        "plt.bar(df_saldo_pred.index.year, df_saldo_pred.saldo, color='g')\n",
        "plt.title('Saldo de vagas - Pernambuco')\n",
        "plt.show();"
      ],
      "execution_count": 134,
      "outputs": [
        {
          "output_type": "display_data",
          "data": {
            "image/png": "[encoded data removed]",
            "text/plain": [
              "<Figure size 864x432 with 1 Axes>"
            ]
          },
          "metadata": {
            "tags": []
          }
        }
      ]
    },
    {
      "cell_type": "code",
      "metadata": {
        "id": "h41s1NQWeqK7"
      },
      "source": [
        "df_saldo_pred.to_csv(\"/content/drive/My Drive/Colab Notebooks/emprego/bases/saldo_pe_pred.csv\")"
      ],
      "execution_count": 139,
      "outputs": []
    },
    {
      "cell_type": "code",
      "metadata": {
        "id": "r5MS_qcHDN31",
        "outputId": "50c17829-34b2-45eb-a19a-36bc4fcb6d17",
        "colab": {
          "base_uri": "https://localhost:8080/",
          "height": 363
        }
      },
      "source": [
        "df_saldo_pred.groupby(df_saldo_pred.index.year).sum()"
      ],
      "execution_count": 136,
      "outputs": [
        {
          "output_type": "execute_result",
          "data": {
            "text/html": [
              "<div>\n",
              "<style scoped>\n",
              "    .dataframe tbody tr th:only-of-type {\n",
              "        vertical-align: middle;\n",
              "    }\n",
              "\n",
              "    .dataframe tbody tr th {\n",
              "        vertical-align: top;\n",
              "    }\n",
              "\n",
              "    .dataframe thead th {\n",
              "        text-align: right;\n",
              "    }\n",
              "</style>\n",
              "<table border=\"1\" class=\"dataframe\">\n",
              "  <thead>\n",
              "    <tr style=\"text-align: right;\">\n",
              "      <th></th>\n",
              "      <th>saldo</th>\n",
              "    </tr>\n",
              "    <tr>\n",
              "      <th>data</th>\n",
              "      <th></th>\n",
              "    </tr>\n",
              "  </thead>\n",
              "  <tbody>\n",
              "    <tr>\n",
              "      <th>2012</th>\n",
              "      <td>52256</td>\n",
              "    </tr>\n",
              "    <tr>\n",
              "      <th>2013</th>\n",
              "      <td>35068</td>\n",
              "    </tr>\n",
              "    <tr>\n",
              "      <th>2014</th>\n",
              "      <td>-9566</td>\n",
              "    </tr>\n",
              "    <tr>\n",
              "      <th>2015</th>\n",
              "      <td>-87207</td>\n",
              "    </tr>\n",
              "    <tr>\n",
              "      <th>2016</th>\n",
              "      <td>-47617</td>\n",
              "    </tr>\n",
              "    <tr>\n",
              "      <th>2017</th>\n",
              "      <td>-6498</td>\n",
              "    </tr>\n",
              "    <tr>\n",
              "      <th>2018</th>\n",
              "      <td>4091</td>\n",
              "    </tr>\n",
              "    <tr>\n",
              "      <th>2019</th>\n",
              "      <td>9696</td>\n",
              "    </tr>\n",
              "    <tr>\n",
              "      <th>2020</th>\n",
              "      <td>-18658</td>\n",
              "    </tr>\n",
              "  </tbody>\n",
              "</table>\n",
              "</div>"
            ],
            "text/plain": [
              "      saldo\n",
              "data       \n",
              "2012  52256\n",
              "2013  35068\n",
              "2014  -9566\n",
              "2015 -87207\n",
              "2016 -47617\n",
              "2017  -6498\n",
              "2018   4091\n",
              "2019   9696\n",
              "2020 -18658"
            ]
          },
          "metadata": {
            "tags": []
          },
          "execution_count": 136
        }
      ]
    },
    {
      "cell_type": "markdown",
      "metadata": {
        "id": "uvT8_07hNchy"
      },
      "source": [
        "### Otimista"
      ]
    },
    {
      "cell_type": "code",
      "metadata": {
        "id": "s-4X1iUGNW_g",
        "outputId": "bf701d0f-a651-41b6-b777-afa21f23af91",
        "colab": {
          "base_uri": "https://localhost:8080/",
          "height": 408
        }
      },
      "source": [
        "pred2020df_otimista = pd.DataFrame(df_saldo.saldo[-1] + df_fcast.iloc[-1:, 2][0] - df.estoques[-1], \n",
        "                          index=[\"2020\"], columns=['saldo'])\n",
        "pred2020df_otimista.index.name = \"Ano\"\n",
        "pred2020df_otimista.index = pd.to_datetime(pred2020df_otimista.index, format=\"%Y\")\n",
        "\n",
        "df_saldo_pred_otimista = pd.concat([df_saldo[1:][:-1], pred2020df_otimista], axis=0)\n",
        "df_saldo_pred_otimista['saldo'] = df_saldo_pred_otimista.saldo.astype('int')\n",
        "df_saldo_pred_otimista.index.name = 'data'\n",
        "\n",
        "plt.figure(figsize=(12, 6))\n",
        "plt.bar(df_saldo_pred_otimista.index.year, df_saldo_pred_otimista.saldo, color='g')\n",
        "plt.title('Saldo de vagas - Pernambuco (cenário otimista')\n",
        "plt.show();"
      ],
      "execution_count": 137,
      "outputs": [
        {
          "output_type": "display_data",
          "data": {
            "image/png": "[encoded data removed]",
            "text/plain": [
              "<Figure size 864x432 with 1 Axes>"
            ]
          },
          "metadata": {
            "tags": []
          }
        }
      ]
    },
    {
      "cell_type": "markdown",
      "metadata": {
        "id": "rkljPHkGNDkO"
      },
      "source": [
        "### Pessimista"
      ]
    },
    {
      "cell_type": "code",
      "metadata": {
        "id": "0OHP7NSDLiYB",
        "outputId": "c64b435f-eb81-4217-b0ac-c5d7ebf5f64b",
        "colab": {
          "base_uri": "https://localhost:8080/",
          "height": 408
        }
      },
      "source": [
        "pred2020df_pess = pd.DataFrame(df_saldo.saldo[-1] + df_fcast.iloc[-1:, 1][0] - df.estoques[-1], \n",
        "                          index=[\"2020\"], columns=['saldo'])\n",
        "pred2020df_pess.index.name = \"Ano\"\n",
        "pred2020df_pess.index = pd.to_datetime(pred2020df_pess.index, format=\"%Y\")\n",
        "\n",
        "df_saldo_pred_pess = pd.concat([df_saldo[1:][:-1], pred2020df_pess], axis=0)\n",
        "df_saldo_pred_pess['saldo'] = df_saldo_pred_pess.saldo.astype('int')\n",
        "df_saldo_pred_pess.index.name = 'data'\n",
        "\n",
        "plt.figure(figsize=(12, 6))\n",
        "plt.bar(df_saldo_pred_pess.index.year, df_saldo_pred_pess.saldo, color='g')\n",
        "plt.title('Saldo de vagas - Pernambuco (cenário pessimista')\n",
        "plt.show();"
      ],
      "execution_count": 138,
      "outputs": [
        {
          "output_type": "display_data",
          "data": {
            "image/png": "[encoded data removed]",
            "text/plain": [
              "<Figure size 864x432 with 1 Axes>"
            ]
          },
          "metadata": {
            "tags": []
          }
        }
      ]
    }
  ]
}