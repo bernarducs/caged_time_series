{
  "nbformat": 4,
  "nbformat_minor": 0,
  "metadata": {
    "colab": {
      "name": "Estudo estoques formais PERNAMBUCO - SARIMAX com grid search.ipynb",
      "provenance": [],
      "collapsed_sections": [],
      "toc_visible": true,
      "mount_file_id": "1PykZeqbAD4asEMPUE_jBKz2-vV1uOS7G",
      "authorship_tag": "ABX9TyNCT0jvSwv6NT2Gsi6ZJoJ7",
      "include_colab_link": true
    },
    "kernelspec": {
      "name": "python3",
      "display_name": "Python 3"
    }
  },
  "cells": [
    {
      "cell_type": "markdown",
      "metadata": {
        "id": "view-in-github",
        "colab_type": "text"
      },
      "source": [
        "<a href=\"https://colab.research.google.com/github/bernarducs/caged_time_series/blob/master/Estudo_estoques_formais_PERNAMBUCO_SARIMAX_com_grid_search.ipynb\" target=\"_parent\"><img src=\"https://colab.research.google.com/assets/colab-badge.svg\" alt=\"Open In Colab\"/></a>"
      ]
    },
    {
      "cell_type": "markdown",
      "metadata": {
        "id": "2xmOlNMYsw8u",
        "colab_type": "text"
      },
      "source": [
        "## Objetivo\n",
        "### Abaixo, utilizaremos funções que buscarão os melhores parâmetros para modelagem do método ARIMAX com fator sazonal, usando como variável exógena o Ibc."
      ]
    },
    {
      "cell_type": "markdown",
      "metadata": {
        "id": "24n8i1qyCPaP",
        "colab_type": "text"
      },
      "source": [
        "Based on article: https://machinelearningmastery.com/how-to-grid-search-sarima-model-hyperparameters-for-time-series-forecasting-in-python/"
      ]
    },
    {
      "cell_type": "markdown",
      "metadata": {
        "id": "rG4qQ8BPtTXu",
        "colab_type": "text"
      },
      "source": [
        "## Pacotes"
      ]
    },
    {
      "cell_type": "code",
      "metadata": {
        "id": "Pfthvjm47P7O",
        "colab_type": "code",
        "colab": {}
      },
      "source": [
        "from math import sqrt\n",
        "from itertools import product\n",
        "import pandas as pd"
      ],
      "execution_count": null,
      "outputs": []
    },
    {
      "cell_type": "code",
      "metadata": {
        "id": "FSpWQbok-kCQ",
        "colab_type": "code",
        "colab": {}
      },
      "source": [
        "# viz\n",
        "import matplotlib.pyplot as plt\n",
        "import seaborn as sns\n",
        "sns.set_style(\"darkgrid\")\n",
        "sns.set_context(\"talk\")"
      ],
      "execution_count": null,
      "outputs": []
    },
    {
      "cell_type": "code",
      "metadata": {
        "id": "G9feBiuUFNMo",
        "colab_type": "code",
        "colab": {}
      },
      "source": [
        "# multiprocessing\n",
        "from multiprocessing import cpu_count\n",
        "from joblib import Parallel\n",
        "from joblib import delayed\n",
        "from warnings import catch_warnings\n",
        "from warnings import filterwarnings"
      ],
      "execution_count": null,
      "outputs": []
    },
    {
      "cell_type": "code",
      "metadata": {
        "id": "NsgI-Fff54pZ",
        "colab_type": "code",
        "colab": {}
      },
      "source": [
        "# stats\n",
        "from statsmodels.tsa.statespace.sarimax import SARIMAX\n",
        "from sklearn.metrics import mean_squared_error"
      ],
      "execution_count": null,
      "outputs": []
    },
    {
      "cell_type": "markdown",
      "metadata": {
        "id": "_z6oSAbntYl6",
        "colab_type": "text"
      },
      "source": [
        "## Datasets"
      ]
    },
    {
      "cell_type": "markdown",
      "metadata": {
        "id": "otBiszKBDdt1",
        "colab_type": "text"
      },
      "source": [
        "#### Estoques"
      ]
    },
    {
      "cell_type": "code",
      "metadata": {
        "id": "txvZzuuraHQd",
        "colab_type": "code",
        "colab": {
          "base_uri": "https://localhost:8080/",
          "height": 237
        },
        "outputId": "50772ae8-5814-42be-94d8-e953b2a5cfca"
      },
      "source": [
        "file_path = \"/content/drive/My Drive/Colab Notebooks/emprego/bases/estoque_pe.xlsx\"\n",
        "df = pd.read_excel(file_path, index_col='ano_mes')\n",
        "df.columns = ['estoques']\n",
        "df.index = pd.to_datetime(df.index, format=\"%Y%m\")\n",
        "df.head()"
      ],
      "execution_count": null,
      "outputs": [
        {
          "output_type": "execute_result",
          "data": {
            "text/html": [
              "<div>\n",
              "<style scoped>\n",
              "    .dataframe tbody tr th:only-of-type {\n",
              "        vertical-align: middle;\n",
              "    }\n",
              "\n",
              "    .dataframe tbody tr th {\n",
              "        vertical-align: top;\n",
              "    }\n",
              "\n",
              "    .dataframe thead th {\n",
              "        text-align: right;\n",
              "    }\n",
              "</style>\n",
              "<table border=\"1\" class=\"dataframe\">\n",
              "  <thead>\n",
              "    <tr style=\"text-align: right;\">\n",
              "      <th></th>\n",
              "      <th>estoques</th>\n",
              "    </tr>\n",
              "    <tr>\n",
              "      <th>ano_mes</th>\n",
              "      <th></th>\n",
              "    </tr>\n",
              "  </thead>\n",
              "  <tbody>\n",
              "    <tr>\n",
              "      <th>2010-12-01</th>\n",
              "      <td>1168196</td>\n",
              "    </tr>\n",
              "    <tr>\n",
              "      <th>2011-01-01</th>\n",
              "      <td>1162322</td>\n",
              "    </tr>\n",
              "    <tr>\n",
              "      <th>2011-02-01</th>\n",
              "      <td>1164519</td>\n",
              "    </tr>\n",
              "    <tr>\n",
              "      <th>2011-03-01</th>\n",
              "      <td>1157459</td>\n",
              "    </tr>\n",
              "    <tr>\n",
              "      <th>2011-04-01</th>\n",
              "      <td>1155681</td>\n",
              "    </tr>\n",
              "  </tbody>\n",
              "</table>\n",
              "</div>"
            ],
            "text/plain": [
              "            estoques\n",
              "ano_mes             \n",
              "2010-12-01   1168196\n",
              "2011-01-01   1162322\n",
              "2011-02-01   1164519\n",
              "2011-03-01   1157459\n",
              "2011-04-01   1155681"
            ]
          },
          "metadata": {
            "tags": []
          },
          "execution_count": 278
        }
      ]
    },
    {
      "cell_type": "markdown",
      "metadata": {
        "id": "2_VzRNqF76u7",
        "colab_type": "text"
      },
      "source": [
        "#### Ibc"
      ]
    },
    {
      "cell_type": "code",
      "metadata": {
        "id": "tm_mdcvL577e",
        "colab_type": "code",
        "colab": {
          "base_uri": "https://localhost:8080/",
          "height": 237
        },
        "outputId": "4bb86c9e-042e-4c2f-d800-a6e56cce680d"
      },
      "source": [
        "file_ibcpe = '/content/drive/My Drive/Colab Notebooks/emprego/bases/IBCR-PE.csv'\n",
        "df_ibc = pd.read_csv(file_ibcpe, sep=';', dtype={'data': 'str', 'indice':'float', 'indice_ajus':'float'}, decimal=',')\n",
        "df_ibc['data'] = pd.to_datetime(df_ibc.data, format=\"%m/%Y\")\n",
        "df_ibc.set_index('data', inplace=True)\n",
        "exog = df_ibc.loc['2010-12-01':]\n",
        "exog.head()"
      ],
      "execution_count": null,
      "outputs": [
        {
          "output_type": "execute_result",
          "data": {
            "text/html": [
              "<div>\n",
              "<style scoped>\n",
              "    .dataframe tbody tr th:only-of-type {\n",
              "        vertical-align: middle;\n",
              "    }\n",
              "\n",
              "    .dataframe tbody tr th {\n",
              "        vertical-align: top;\n",
              "    }\n",
              "\n",
              "    .dataframe thead th {\n",
              "        text-align: right;\n",
              "    }\n",
              "</style>\n",
              "<table border=\"1\" class=\"dataframe\">\n",
              "  <thead>\n",
              "    <tr style=\"text-align: right;\">\n",
              "      <th></th>\n",
              "      <th>indice</th>\n",
              "      <th>indice_ajus</th>\n",
              "    </tr>\n",
              "    <tr>\n",
              "      <th>data</th>\n",
              "      <th></th>\n",
              "      <th></th>\n",
              "    </tr>\n",
              "  </thead>\n",
              "  <tbody>\n",
              "    <tr>\n",
              "      <th>2010-12-01</th>\n",
              "      <td>156.09</td>\n",
              "      <td>140.27</td>\n",
              "    </tr>\n",
              "    <tr>\n",
              "      <th>2011-01-01</th>\n",
              "      <td>136.36</td>\n",
              "      <td>138.96</td>\n",
              "    </tr>\n",
              "    <tr>\n",
              "      <th>2011-02-01</th>\n",
              "      <td>134.19</td>\n",
              "      <td>140.69</td>\n",
              "    </tr>\n",
              "    <tr>\n",
              "      <th>2011-03-01</th>\n",
              "      <td>136.76</td>\n",
              "      <td>141.05</td>\n",
              "    </tr>\n",
              "    <tr>\n",
              "      <th>2011-04-01</th>\n",
              "      <td>134.15</td>\n",
              "      <td>141.02</td>\n",
              "    </tr>\n",
              "  </tbody>\n",
              "</table>\n",
              "</div>"
            ],
            "text/plain": [
              "            indice  indice_ajus\n",
              "data                           \n",
              "2010-12-01  156.09       140.27\n",
              "2011-01-01  136.36       138.96\n",
              "2011-02-01  134.19       140.69\n",
              "2011-03-01  136.76       141.05\n",
              "2011-04-01  134.15       141.02"
            ]
          },
          "metadata": {
            "tags": []
          },
          "execution_count": 279
        }
      ]
    },
    {
      "cell_type": "markdown",
      "metadata": {
        "id": "L08HxaiEDhD3",
        "colab_type": "text"
      },
      "source": [
        "#### Saldo"
      ]
    },
    {
      "cell_type": "code",
      "metadata": {
        "id": "CnnGhP3hDhYb",
        "colab_type": "code",
        "colab": {
          "base_uri": "https://localhost:8080/",
          "height": 237
        },
        "outputId": "41723c53-5f17-4d42-a239-0e12f92908ed"
      },
      "source": [
        "file_path2 = \"/content/drive/My Drive/Colab Notebooks/emprego/bases/saldo_caged_pe.xlsx\"\n",
        "df_saldo = pd.read_excel(file_path2)\n",
        "df_saldo.columns = ['ano', 'saldo']\n",
        "df_saldo.set_index('ano', inplace=True)\n",
        "df_saldo.index = pd.to_datetime(df_saldo.index, format=\"%Y\")\n",
        "df_saldo.tail()"
      ],
      "execution_count": null,
      "outputs": [
        {
          "output_type": "execute_result",
          "data": {
            "text/html": [
              "<div>\n",
              "<style scoped>\n",
              "    .dataframe tbody tr th:only-of-type {\n",
              "        vertical-align: middle;\n",
              "    }\n",
              "\n",
              "    .dataframe tbody tr th {\n",
              "        vertical-align: top;\n",
              "    }\n",
              "\n",
              "    .dataframe thead th {\n",
              "        text-align: right;\n",
              "    }\n",
              "</style>\n",
              "<table border=\"1\" class=\"dataframe\">\n",
              "  <thead>\n",
              "    <tr style=\"text-align: right;\">\n",
              "      <th></th>\n",
              "      <th>saldo</th>\n",
              "    </tr>\n",
              "    <tr>\n",
              "      <th>ano</th>\n",
              "      <th></th>\n",
              "    </tr>\n",
              "  </thead>\n",
              "  <tbody>\n",
              "    <tr>\n",
              "      <th>2016-01-01</th>\n",
              "      <td>-47617</td>\n",
              "    </tr>\n",
              "    <tr>\n",
              "      <th>2017-01-01</th>\n",
              "      <td>-6498</td>\n",
              "    </tr>\n",
              "    <tr>\n",
              "      <th>2018-01-01</th>\n",
              "      <td>4091</td>\n",
              "    </tr>\n",
              "    <tr>\n",
              "      <th>2019-01-01</th>\n",
              "      <td>9696</td>\n",
              "    </tr>\n",
              "    <tr>\n",
              "      <th>2020-01-01</th>\n",
              "      <td>-63101</td>\n",
              "    </tr>\n",
              "  </tbody>\n",
              "</table>\n",
              "</div>"
            ],
            "text/plain": [
              "            saldo\n",
              "ano              \n",
              "2016-01-01 -47617\n",
              "2017-01-01  -6498\n",
              "2018-01-01   4091\n",
              "2019-01-01   9696\n",
              "2020-01-01 -63101"
            ]
          },
          "metadata": {
            "tags": []
          },
          "execution_count": 280
        }
      ]
    },
    {
      "cell_type": "markdown",
      "metadata": {
        "id": "9oLA0W8ftenV",
        "colab_type": "text"
      },
      "source": [
        "## Rotinas\n",
        "\n",
        "Aqui temos funções para o sarima em 1 passo (faz a predição para t+1). A próxima função é raiz quadrada dos erros médios e por fim a função responsável por separação do dataset entre teste e treino."
      ]
    },
    {
      "cell_type": "code",
      "metadata": {
        "id": "nG_TDMvf6JhI",
        "colab_type": "code",
        "colab": {}
      },
      "source": [
        "# one-step sarima forecast\n",
        "def sarimax_forecast(history, config, exog=None):\n",
        "\torder, sorder, trend = config\n",
        "\t# define model\n",
        "\tmodel = SARIMAX(history, exog=exog, order=order, seasonal_order=sorder, trend=trend, \n",
        "                 enforce_stationarity=False, enforce_invertibility=False)\n",
        "\t# fit model\n",
        "\tmodel_fit = model.fit(disp=False)\n",
        "\t# make one step forecast\n",
        "\tyhat = model_fit.predict()\n",
        "\treturn yhat\n",
        " \n",
        "# root mean squared error or rmse\n",
        "def measure_rmse(actual, predicted):\n",
        "\treturn sqrt(mean_squared_error(actual, predicted))\n",
        " \n",
        "# split a univariate dataset into train/test sets\n",
        "def train_test_split(data, percent_test=0.25):\n",
        "  n_test = int(len(data) * percent_test)\n",
        "  return data[:-n_test], data[-n_test:]"
      ],
      "execution_count": null,
      "outputs": []
    },
    {
      "cell_type": "markdown",
      "metadata": {
        "id": "WPe8kgqauCk-",
        "colab_type": "text"
      },
      "source": [
        "Aqui usamos a funções acima retornando o quadrado dos desvios."
      ]
    },
    {
      "cell_type": "code",
      "metadata": {
        "id": "w4gmgXxd9rL7",
        "colab_type": "code",
        "colab": {}
      },
      "source": [
        "# walk-forward validation for univariate data\n",
        "def walk_forward_validation(data, percent_test, cfg, exog=None):\n",
        "\n",
        "  # split dataset\n",
        "  train, _ = train_test_split(data, percent_test)\n",
        "\n",
        "  if exog:\n",
        "    exog, _ = train_test_split(exog, percent_test)\n",
        "\n",
        "  # fit model and make forecast for history\n",
        "  yhat = sarimax_forecast(train, cfg, ex_train)\n",
        "\n",
        "  # estimate prediction error\n",
        "  error = measure_rmse(train, yhat)\n",
        "  return error  "
      ],
      "execution_count": null,
      "outputs": []
    },
    {
      "cell_type": "markdown",
      "metadata": {
        "id": "As6bSAOUuLIG",
        "colab_type": "text"
      },
      "source": [
        "Avalia qual a melhor configuração de parâmetros `cfg` tem a melhor avaliação, ou seja, o menor erro."
      ]
    },
    {
      "cell_type": "code",
      "metadata": {
        "id": "tkYM4hBsMjsD",
        "colab_type": "code",
        "colab": {}
      },
      "source": [
        "def score_model(data, n_test, cfg, exog=None, debug=False):\n",
        "  result = None\n",
        "  # convert config to a key\n",
        "  key = str(cfg)\n",
        "  # show all warnings and fail on exception if debugging\n",
        "  if debug:\n",
        "    result = walk_forward_validation(data, n_test, cfg, exog)\n",
        "  else:\n",
        "    # one failure during model validation suggests an unstable config\n",
        "    try:\n",
        "      # never show warnings when grid searching, too noisy\n",
        "      with catch_warnings():\n",
        "        filterwarnings(\"ignore\")\n",
        "        result = walk_forward_validation(data, n_test, cfg, exog)\n",
        "    except:\n",
        "      error = None\n",
        "  # check for an interesting result\n",
        "  if result is not None:\n",
        "    print(' > Model{}: {:.2f}'.format(key, result))\n",
        "  return (key, result)"
      ],
      "execution_count": null,
      "outputs": []
    },
    {
      "cell_type": "code",
      "metadata": {
        "id": "ZT8jnDItMuXh",
        "colab_type": "code",
        "colab": {}
      },
      "source": [
        "# grid search configs\n",
        "def grid_search(data, n_test, cfg_list, exog=None, parallel=True):\n",
        "  scores = None\n",
        "  if parallel:\n",
        "    # execute configs in parallel\n",
        "    executor = Parallel(n_jobs=cpu_count(), backend='multiprocessing')\n",
        "    tasks = (delayed(score_model)(data, n_test, cfg, exog) for cfg in cfg_list)\n",
        "    scores = executor(tasks)\n",
        "  else:\n",
        "    scores = [score_model(data, n_test, cfg, exog) for cfg in cfg_list]\n",
        "  # remove empty results\n",
        "  scores = [r for r in scores if r[1] != None]\n",
        "  # sort configs by error, asc\n",
        "  scores.sort(key=lambda tup: tup[1])\n",
        "  return scores"
      ],
      "execution_count": null,
      "outputs": []
    },
    {
      "cell_type": "code",
      "metadata": {
        "id": "vRFAwENkt4np",
        "colab_type": "code",
        "colab": {}
      },
      "source": [
        "# evaluating grid search results for test data\n",
        "def grid_search_test_results(data, scores, exog=None, ntop_scores=5):\n",
        "\n",
        "  if ntop_scores > len(scores):\n",
        "    ntop_scores = 5\n",
        "\n",
        "  scores_test = list()\n",
        "  _, test = train_test_split(data, percent_test=0.4)\n",
        "  _, ex_test = train_test_split(exog, percent_test=0.4)  \n",
        "\n",
        "  for cfg_str, _ in scores[:ntop_scores]:\n",
        "    cfg = eval(cfg_str)\n",
        "    with catch_warnings():\n",
        "      filterwarnings(\"ignore\")\n",
        "      yhat = sarimax_forecast(test, cfg, ex_test)\n",
        "    error = measure_rmse(test, yhat)\n",
        "    result = (cfg_str, error)\n",
        "    print(result)\n",
        "    scores_test.append(result)\n",
        "  \n",
        "  scores_test.sort(key=lambda tup: tup[1])\n",
        "  return scores_test"
      ],
      "execution_count": null,
      "outputs": []
    },
    {
      "cell_type": "code",
      "metadata": {
        "id": "QyxmozW79v8i",
        "colab_type": "code",
        "colab": {}
      },
      "source": [
        "def plot_model(data, cfg, exog=None):\n",
        "  order = cfg[0]\n",
        "  s_order = cfg[1]\n",
        "  trend = cfg[2]\n",
        "  sarimax_pred = SARIMAX(\n",
        "      endog=df, exog=exog, order=order, seasonal_order=s_order, trend=trend,\n",
        "      enforce_stationarity=False, enforce_invertibility=False)\n",
        "\n",
        "  model_sarimax_pred = sarimax_pred.fit(disp=False)\n",
        "\n",
        "  previsao_sarimax = model_sarimax_pred.predict()\n",
        "\n",
        "  error = measure_rmse(df, previsao_sarimax)\n",
        "  print('Error:', error)\n",
        "\n",
        "  plt.figure(figsize=(22, 10))\n",
        "  plt.plot(previsao_sarimax[10:], label = 'forecast')\n",
        "  plt.plot(df[10:], label = 'target')\n",
        "  plt.title('Target x Forecast')\n",
        "  plt.legend()\n",
        "  plt.show()"
      ],
      "execution_count": null,
      "outputs": []
    },
    {
      "cell_type": "code",
      "metadata": {
        "id": "WO8ntgVZPxJX",
        "colab_type": "code",
        "colab": {}
      },
      "source": [
        "def sarima_configs(seasonal=[12]):\n",
        "  models = list()\n",
        "  # define config lists\n",
        "  p_params = [0, 1, 2]\n",
        "  d_params = [0, 1]\n",
        "  q_params = [0, 1, 2]\n",
        "  t_params = ['n','c','t','ct']\n",
        "  P_params = [0, 1, 2]\n",
        "  D_params = [0, 1]\n",
        "  Q_params = [0, 1]\n",
        "  m_params = seasonal\n",
        "  # create config instances\n",
        "  for p, d, q, t, P, D, Q, m in product(p_params, d_params, q_params, t_params, P_params, D_params, Q_params, m_params):\n",
        "    cfg = [(p,d,q), (P,D,Q,m), t]\n",
        "    models.append(cfg)\n",
        "  return models"
      ],
      "execution_count": null,
      "outputs": []
    },
    {
      "cell_type": "markdown",
      "metadata": {
        "id": "80wqYsTau8DJ",
        "colab_type": "text"
      },
      "source": [
        "## Gerando modelo"
      ]
    },
    {
      "cell_type": "code",
      "metadata": {
        "id": "FPy0vStORq8h",
        "colab_type": "code",
        "colab": {
          "base_uri": "https://localhost:8080/",
          "height": 1000
        },
        "outputId": "ba6983a1-fca8-42d2-e127-707b7a1dbf0a"
      },
      "source": [
        "cfg_list = sarima_configs(seasonal=[12])\n",
        "scores = grid_search(df, 0.25, cfg_list)"
      ],
      "execution_count": null,
      "outputs": [
        {
          "output_type": "stream",
          "text": [
            " > Model[(0, 0, 0), (0, 0, 0, 12), 'n']: 35916.18\n",
            " > Model[(0, 0, 0), (0, 1, 0, 12), 'n']: 37643.80\n",
            " > Model[(0, 0, 0), (0, 0, 1, 12), 'n']: 34685.28\n",
            " > Model[(0, 0, 0), (1, 0, 0, 12), 'n']: 35033.00\n",
            " > Model[(0, 0, 0), (1, 0, 1, 12), 'n']: 34592.32\n",
            " > Model[(0, 0, 0), (0, 1, 1, 12), 'n']: 78465.02\n",
            " > Model[(0, 0, 0), (1, 1, 0, 12), 'n']: 190942.83\n",
            " > Model[(0, 0, 0), (2, 0, 0, 12), 'n']: 32240.61\n",
            " > Model[(0, 0, 0), (1, 1, 1, 12), 'n']: 33821.51\n",
            " > Model[(0, 0, 0), (2, 0, 1, 12), 'n']: 29843.21\n",
            " > Model[(0, 0, 0), (0, 0, 0, 12), 'c']: 35930.38\n",
            " > Model[(0, 0, 0), (0, 0, 1, 12), 'c']: 34686.16\n",
            " > Model[(0, 0, 0), (0, 1, 0, 12), 'c']: 36632.37\n",
            " > Model[(0, 0, 0), (2, 1, 0, 12), 'n']: 233673.81\n",
            " > Model[(0, 0, 0), (0, 1, 1, 12), 'c']: 66883.37\n",
            " > Model[(0, 0, 0), (1, 0, 0, 12), 'c']: 35037.44\n",
            " > Model[(0, 0, 0), (1, 0, 1, 12), 'c']: 34593.41\n",
            " > Model[(0, 0, 0), (1, 1, 0, 12), 'c']: 179232.29\n",
            " > Model[(0, 0, 0), (1, 1, 1, 12), 'c']: 194573.46\n",
            " > Model[(0, 0, 0), (2, 1, 1, 12), 'n']: 396600.51\n",
            " > Model[(0, 0, 0), (2, 0, 0, 12), 'c']: 32247.86\n",
            " > Model[(0, 0, 0), (2, 0, 1, 12), 'c']: 29851.02\n",
            " > Model[(0, 0, 0), (0, 0, 0, 12), 't']: 31651.30\n",
            " > Model[(0, 0, 0), (0, 0, 1, 12), 't']: 32933.91\n",
            " > Model[(0, 0, 0), (0, 1, 0, 12), 't']: 37799.67\n",
            " > Model[(0, 0, 0), (2, 1, 0, 12), 'c']: 248266.64\n",
            " > Model[(0, 0, 0), (0, 1, 1, 12), 't']: 123947.57\n",
            " > Model[(0, 0, 0), (1, 0, 0, 12), 't']: 45664.88\n",
            " > Model[(0, 0, 0), (1, 0, 1, 12), 't']: 32996.44\n",
            " > Model[(0, 0, 0), (1, 1, 0, 12), 't']: 212310.18\n",
            " > Model[(0, 0, 0), (2, 1, 1, 12), 'c']: 408418.80\n",
            " > Model[(0, 0, 0), (2, 0, 0, 12), 't']: 29939.59\n",
            " > Model[(0, 0, 0), (2, 0, 1, 12), 't']: 27472.09\n",
            " > Model[(0, 0, 0), (1, 1, 1, 12), 't']: 79957.37\n",
            " > Model[(0, 0, 0), (2, 1, 0, 12), 't']: 182158.60\n",
            " > Model[(0, 0, 0), (0, 0, 0, 12), 'ct']: 32210.76\n",
            " > Model[(0, 0, 0), (0, 0, 1, 12), 'ct']: 37474.82\n",
            " > Model[(0, 0, 0), (0, 1, 0, 12), 'ct']: 109972.18\n",
            " > Model[(0, 0, 0), (2, 1, 1, 12), 't']: 45818.09\n",
            " > Model[(0, 0, 0), (1, 0, 0, 12), 'ct']: 49225.84\n",
            " > Model[(0, 0, 0), (0, 1, 1, 12), 'ct']: 23818.64\n",
            " > Model[(0, 0, 0), (1, 0, 1, 12), 'ct']: 39478.38\n",
            " > Model[(0, 0, 0), (1, 1, 0, 12), 'ct']: 158272.69\n",
            " > Model[(0, 0, 0), (2, 0, 0, 12), 'ct']: 30110.65\n",
            " > Model[(0, 0, 0), (1, 1, 1, 12), 'ct']: 134665.06\n",
            " > Model[(0, 0, 0), (2, 0, 1, 12), 'ct']: 41819.15\n",
            " > Model[(0, 0, 0), (2, 1, 0, 12), 'ct']: 140045.02\n",
            " > Model[(0, 0, 1), (0, 0, 0, 12), 'n']: 25336.03\n",
            " > Model[(0, 0, 1), (0, 0, 1, 12), 'n']: 24945.12\n",
            " > Model[(0, 0, 1), (0, 1, 0, 12), 'n']: 24708.00\n",
            " > Model[(0, 0, 1), (0, 1, 1, 12), 'n']: 23511.58\n",
            " > Model[(0, 0, 1), (1, 0, 0, 12), 'n']: 24448.66\n",
            " > Model[(0, 0, 0), (2, 1, 1, 12), 'ct']: 22330.91\n",
            " > Model[(0, 0, 1), (1, 0, 1, 12), 'n']: 24261.97\n",
            " > Model[(0, 0, 1), (1, 1, 0, 12), 'n']: 23876.51\n",
            " > Model[(0, 0, 1), (2, 0, 0, 12), 'n']: 22793.75\n",
            " > Model[(0, 0, 1), (1, 1, 1, 12), 'n']: 23147.24\n",
            " > Model[(0, 0, 1), (2, 0, 1, 12), 'n']: 23534.76\n",
            " > Model[(0, 0, 1), (2, 1, 1, 12), 'n']: 23701.13\n",
            " > Model[(0, 0, 1), (0, 0, 0, 12), 'c']: 25306.95\n",
            " > Model[(0, 0, 1), (0, 0, 1, 12), 'c']: 24864.39\n",
            " > Model[(0, 0, 1), (0, 1, 0, 12), 'c']: 24256.35\n",
            " > Model[(0, 0, 1), (0, 1, 1, 12), 'c']: 23167.66\n",
            " > Model[(0, 0, 1), (1, 0, 0, 12), 'c']: 24158.29\n",
            " > Model[(0, 0, 1), (2, 1, 0, 12), 'n']: 179808.16\n",
            " > Model[(0, 0, 1), (1, 0, 1, 12), 'c']: 24074.97\n",
            " > Model[(0, 0, 1), (1, 1, 0, 12), 'c']: 23672.55\n",
            " > Model[(0, 0, 1), (2, 0, 0, 12), 'c']: 22793.62\n",
            " > Model[(0, 0, 1), (1, 1, 1, 12), 'c']: 22884.51\n",
            " > Model[(0, 0, 1), (2, 0, 1, 12), 'c']: 22931.74\n",
            " > Model[(0, 0, 1), (2, 1, 0, 12), 'c']: 23398.74\n",
            " > Model[(0, 0, 1), (0, 0, 0, 12), 't']: 21999.57\n",
            " > Model[(0, 0, 1), (0, 0, 1, 12), 't']: 23636.27\n",
            " > Model[(0, 0, 1), (0, 1, 0, 12), 't']: 60616.65\n",
            " > Model[(0, 0, 1), (0, 1, 1, 12), 't']: 23388.15\n",
            " > Model[(0, 0, 1), (1, 0, 0, 12), 't']: 29517.63\n",
            " > Model[(0, 0, 1), (1, 0, 1, 12), 't']: 31856.20\n",
            " > Model[(0, 0, 1), (1, 1, 0, 12), 't']: 214221.97\n",
            " > Model[(0, 0, 1), (2, 1, 1, 12), 'c']: 18944.18\n",
            " > Model[(0, 0, 1), (1, 1, 1, 12), 't']: 22769.27\n",
            " > Model[(0, 0, 1), (2, 0, 0, 12), 't']: 21183.19\n",
            " > Model[(0, 0, 1), (2, 1, 0, 12), 't']: 23216.68\n",
            " > Model[(0, 0, 1), (2, 0, 1, 12), 't']: 23163.75\n",
            " > Model[(0, 0, 1), (0, 0, 0, 12), 'ct']: 23438.63\n",
            " > Model[(0, 0, 1), (0, 0, 1, 12), 'ct']: 27046.00\n",
            " > Model[(0, 0, 1), (0, 1, 0, 12), 'ct']: 17624.82\n",
            " > Model[(0, 0, 1), (0, 1, 1, 12), 'ct']: 18846.04\n",
            " > Model[(0, 0, 1), (1, 0, 0, 12), 'ct']: 31613.56\n",
            " > Model[(0, 0, 1), (1, 0, 1, 12), 'ct']: 22148.27\n",
            " > Model[(0, 0, 1), (2, 1, 1, 12), 't']: 42482.55\n",
            " > Model[(0, 0, 1), (1, 1, 0, 12), 'ct']: 139013.40\n",
            " > Model[(0, 0, 1), (2, 0, 0, 12), 'ct']: 21682.91\n",
            " > Model[(0, 0, 1), (1, 1, 1, 12), 'ct']: 34788.56\n",
            " > Model[(0, 0, 1), (2, 0, 1, 12), 'ct']: 21136.88\n",
            " > Model[(0, 0, 1), (2, 1, 0, 12), 'ct']: 49860.99\n",
            " > Model[(0, 0, 2), (0, 0, 0, 12), 'n']: 21974.86\n",
            " > Model[(0, 0, 2), (0, 0, 1, 12), 'n']: 21978.19\n",
            " > Model[(0, 0, 2), (0, 1, 0, 12), 'n']: 21001.47\n",
            " > Model[(0, 0, 2), (0, 1, 1, 12), 'n']: 20783.93\n",
            " > Model[(0, 0, 2), (1, 0, 0, 12), 'n']: 21591.46\n",
            " > Model[(0, 0, 2), (1, 0, 1, 12), 'n']: 21449.64\n",
            " > Model[(0, 0, 2), (1, 1, 0, 12), 'n']: 20854.18\n",
            " > Model[(0, 0, 1), (2, 1, 1, 12), 'ct']: 21187.18\n",
            " > Model[(0, 0, 2), (2, 0, 0, 12), 'n']: 20035.30\n",
            " > Model[(0, 0, 2), (2, 0, 1, 12), 'n']: 20671.17\n",
            " > Model[(0, 0, 2), (1, 1, 1, 12), 'n']: 19535.02\n",
            " > Model[(0, 0, 2), (2, 1, 0, 12), 'n']: 20851.07\n",
            " > Model[(0, 0, 2), (0, 0, 0, 12), 'c']: 21911.71\n",
            " > Model[(0, 0, 2), (0, 0, 1, 12), 'c']: 21797.61\n",
            " > Model[(0, 0, 2), (0, 1, 0, 12), 'c']: 20663.05\n",
            " > Model[(0, 0, 2), (0, 1, 1, 12), 'c']: 20501.45\n",
            " > Model[(0, 0, 2), (1, 0, 0, 12), 'c']: 20470.25\n",
            " > Model[(0, 0, 2), (1, 0, 1, 12), 'c']: 20435.91\n",
            " > Model[(0, 0, 2), (2, 1, 1, 12), 'n']: 21022.64\n",
            " > Model[(0, 0, 2), (1, 1, 0, 12), 'c']: 20595.08\n",
            " > Model[(0, 0, 2), (2, 0, 0, 12), 'c']: 20095.32\n",
            " > Model[(0, 0, 2), (1, 1, 1, 12), 'c']: 19357.88\n",
            " > Model[(0, 0, 2), (2, 0, 1, 12), 'c']: 20120.08\n",
            " > Model[(0, 0, 2), (2, 1, 0, 12), 'c']: 20538.37\n",
            " > Model[(0, 0, 2), (0, 0, 0, 12), 't']: 19267.79\n",
            " > Model[(0, 0, 2), (0, 0, 1, 12), 't']: 20368.55\n",
            " > Model[(0, 0, 2), (0, 1, 0, 12), 't']: 20982.72\n",
            " > Model[(0, 0, 2), (0, 1, 1, 12), 't']: 20664.46\n",
            " > Model[(0, 0, 2), (2, 1, 1, 12), 'c']: 20704.74\n",
            " > Model[(0, 0, 2), (1, 0, 0, 12), 't']: 19708.45\n",
            " > Model[(0, 0, 2), (1, 0, 1, 12), 't']: 19772.09\n",
            " > Model[(0, 0, 2), (1, 1, 0, 12), 't']: 20676.48\n",
            " > Model[(0, 0, 2), (2, 0, 0, 12), 't']: 18644.21\n",
            " > Model[(0, 0, 2), (1, 1, 1, 12), 't']: 57329.53\n",
            " > Model[(0, 0, 2), (2, 0, 1, 12), 't']: 18769.96\n",
            " > Model[(0, 0, 2), (2, 1, 0, 12), 't']: 20618.89\n",
            " > Model[(0, 0, 2), (0, 0, 0, 12), 'ct']: 20790.19\n",
            " > Model[(0, 0, 2), (0, 0, 1, 12), 'ct']: 19160.88\n",
            " > Model[(0, 0, 2), (2, 1, 1, 12), 't']: 20536.27\n",
            " > Model[(0, 0, 2), (0, 1, 0, 12), 'ct']: 103109.35\n",
            " > Model[(0, 0, 2), (1, 0, 0, 12), 'ct']: 26680.66\n",
            " > Model[(0, 0, 2), (0, 1, 1, 12), 'ct']: 17749.31\n",
            " > Model[(0, 0, 2), (1, 0, 1, 12), 'ct']: 19158.23\n",
            " > Model[(0, 0, 2), (1, 1, 0, 12), 'ct']: 17328.32\n",
            " > Model[(0, 0, 2), (2, 0, 0, 12), 'ct']: 18631.39\n",
            " > Model[(0, 0, 2), (1, 1, 1, 12), 'ct']: 18450.61\n",
            " > Model[(0, 0, 2), (2, 0, 1, 12), 'ct']: 18931.48\n",
            " > Model[(0, 0, 2), (2, 1, 0, 12), 'ct']: 17910.50\n",
            " > Model[(0, 1, 0), (0, 0, 0, 12), 'n']: 110081.61\n",
            " > Model[(0, 1, 0), (0, 0, 1, 12), 'n']: 111195.18\n",
            " > Model[(0, 1, 0), (0, 1, 0, 12), 'n']: 130275.18\n",
            " > Model[(0, 1, 0), (0, 1, 1, 12), 'n']: 129393.73\n",
            " > Model[(0, 1, 0), (1, 0, 0, 12), 'n']: 116750.97\n",
            " > Model[(0, 1, 0), (1, 0, 1, 12), 'n']: 116412.07\n",
            " > Model[(0, 1, 0), (1, 1, 0, 12), 'n']: 125944.80\n",
            " > Model[(0, 1, 0), (1, 1, 1, 12), 'n']: 126298.43\n",
            " > Model[(0, 1, 0), (2, 0, 0, 12), 'n']: 116168.70\n",
            " > Model[(0, 1, 0), (2, 0, 1, 12), 'n']: 112171.03\n",
            " > Model[(0, 1, 0), (2, 1, 0, 12), 'n']: 127107.38\n",
            " > Model[(0, 1, 0), (2, 1, 1, 12), 'n']: 127879.43\n",
            " > Model[(0, 1, 0), (0, 0, 0, 12), 'c']: 110428.28\n",
            " > Model[(0, 1, 0), (0, 0, 1, 12), 'c']: 111191.92\n",
            " > Model[(0, 1, 0), (0, 1, 0, 12), 'c']: 129138.54\n",
            " > Model[(0, 0, 2), (2, 1, 1, 12), 'ct']: 15552.07\n",
            " > Model[(0, 1, 0), (0, 1, 1, 12), 'c']: 129387.43\n",
            " > Model[(0, 1, 0), (1, 0, 0, 12), 'c']: 117008.30\n",
            " > Model[(0, 1, 0), (1, 0, 1, 12), 'c']: 116338.35\n",
            " > Model[(0, 1, 0), (1, 1, 0, 12), 'c']: 125629.56\n",
            " > Model[(0, 1, 0), (1, 1, 1, 12), 'c']: 126043.70\n",
            " > Model[(0, 1, 0), (2, 0, 0, 12), 'c']: 114548.90\n",
            " > Model[(0, 1, 0), (2, 0, 1, 12), 'c']: 112112.29\n",
            " > Model[(0, 1, 0), (2, 1, 1, 12), 'c']: 127834.79\n",
            " > Model[(0, 1, 0), (0, 0, 0, 12), 't']: 110620.06\n",
            " > Model[(0, 1, 0), (0, 0, 1, 12), 't']: 111194.87\n",
            " > Model[(0, 1, 0), (0, 1, 0, 12), 't']: 129194.47\n",
            " > Model[(0, 1, 0), (2, 1, 0, 12), 'c']: 117639.14\n",
            " > Model[(0, 1, 0), (1, 0, 0, 12), 't']: 117100.59\n",
            " > Model[(0, 1, 0), (0, 1, 1, 12), 't']: 129388.59\n",
            " > Model[(0, 1, 0), (1, 0, 1, 12), 't']: 116227.76\n",
            " > Model[(0, 1, 0), (1, 1, 0, 12), 't']: 125800.34\n",
            " > Model[(0, 1, 0), (2, 0, 0, 12), 't']: 115808.76\n",
            " > Model[(0, 1, 0), (1, 1, 1, 12), 't']: 126195.77\n",
            " > Model[(0, 1, 0), (2, 1, 0, 12), 't']: 128048.82\n",
            " > Model[(0, 1, 0), (2, 0, 1, 12), 't']: 112154.16\n",
            " > Model[(0, 1, 0), (0, 0, 0, 12), 'ct']: 111291.98\n",
            " > Model[(0, 1, 0), (0, 0, 1, 12), 'ct']: 111171.09\n",
            " > Model[(0, 1, 0), (0, 1, 0, 12), 'ct']: 129017.35\n",
            " > Model[(0, 1, 0), (0, 1, 1, 12), 'ct']: 129260.79\n",
            " > Model[(0, 1, 0), (1, 0, 0, 12), 'ct']: 115245.11\n",
            " > Model[(0, 1, 0), (1, 0, 1, 12), 'ct']: 114631.91\n",
            " > Model[(0, 1, 0), (2, 1, 1, 12), 't']: 128534.29\n",
            " > Model[(0, 1, 0), (1, 1, 0, 12), 'ct']: 123461.27\n",
            " > Model[(0, 1, 0), (2, 0, 0, 12), 'ct']: 115720.97\n",
            " > Model[(0, 1, 0), (1, 1, 1, 12), 'ct']: 126213.70\n",
            " > Model[(0, 1, 0), (2, 0, 1, 12), 'ct']: 111658.37\n",
            " > Model[(0, 1, 0), (2, 1, 0, 12), 'ct']: 127448.31\n",
            " > Model[(0, 1, 1), (0, 0, 0, 12), 'n']: 118027.47\n",
            " > Model[(0, 1, 1), (0, 0, 1, 12), 'n']: 111182.89\n",
            " > Model[(0, 1, 1), (0, 1, 0, 12), 'n']: 129608.39\n",
            " > Model[(0, 1, 1), (0, 1, 1, 12), 'n']: 129846.97\n",
            " > Model[(0, 1, 1), (1, 0, 0, 12), 'n']: 116676.05\n",
            " > Model[(0, 1, 1), (1, 0, 1, 12), 'n']: 116625.64\n",
            " > Model[(0, 1, 1), (1, 1, 0, 12), 'n']: 126657.04\n",
            " > Model[(0, 1, 1), (1, 1, 1, 12), 'n']: 126428.59\n",
            " > Model[(0, 1, 0), (2, 1, 1, 12), 'ct']: 127933.87\n",
            " > Model[(0, 1, 1), (2, 0, 0, 12), 'n']: 115936.26\n",
            " > Model[(0, 1, 1), (2, 0, 1, 12), 'n']: 112167.73\n",
            " > Model[(0, 1, 1), (2, 1, 0, 12), 'n']: 127133.76\n",
            " > Model[(0, 1, 1), (0, 0, 0, 12), 'c']: 117975.10\n",
            " > Model[(0, 1, 1), (0, 0, 1, 12), 'c']: 111180.27\n",
            " > Model[(0, 1, 1), (0, 1, 0, 12), 'c']: 129509.38\n",
            " > Model[(0, 1, 1), (0, 1, 1, 12), 'c']: 129801.33\n",
            " > Model[(0, 1, 1), (1, 0, 0, 12), 'c']: 116647.23\n",
            " > Model[(0, 1, 1), (2, 1, 1, 12), 'n']: 127721.66\n",
            " > Model[(0, 1, 1), (1, 0, 1, 12), 'c']: 116605.29\n",
            " > Model[(0, 1, 1), (1, 1, 0, 12), 'c']: 126242.01\n",
            " > Model[(0, 1, 1), (2, 0, 0, 12), 'c']: 116052.12\n",
            " > Model[(0, 1, 1), (1, 1, 1, 12), 'c']: 126241.23\n",
            " > Model[(0, 1, 1), (2, 1, 0, 12), 'c']: 127470.55\n",
            " > Model[(0, 1, 1), (2, 0, 1, 12), 'c']: 112143.95\n",
            " > Model[(0, 1, 1), (0, 0, 0, 12), 't']: 125578.34\n",
            " > Model[(0, 1, 1), (0, 0, 1, 12), 't']: 111182.88\n",
            " > Model[(0, 1, 1), (0, 1, 0, 12), 't']: 129622.93\n",
            " > Model[(0, 1, 1), (2, 1, 1, 12), 'c']: 127890.84\n",
            " > Model[(0, 1, 1), (1, 0, 0, 12), 't']: 116472.69\n",
            " > Model[(0, 1, 1), (0, 1, 1, 12), 't']: 129843.84\n",
            " > Model[(0, 1, 1), (1, 0, 1, 12), 't']: 116466.34\n",
            " > Model[(0, 1, 1), (1, 1, 0, 12), 't']: 126577.70\n",
            " > Model[(0, 1, 1), (2, 0, 0, 12), 't']: 115800.14\n",
            " > Model[(0, 1, 1), (1, 1, 1, 12), 't']: 126366.95\n",
            " > Model[(0, 1, 1), (2, 0, 1, 12), 't']: 112175.69\n",
            " > Model[(0, 1, 1), (2, 1, 0, 12), 't']: 128437.69\n",
            " > Model[(0, 1, 1), (0, 0, 0, 12), 'ct']: 117751.51\n",
            " > Model[(0, 1, 1), (0, 0, 1, 12), 'ct']: 111230.82\n",
            " > Model[(0, 1, 1), (0, 1, 0, 12), 'ct']: 129209.14\n",
            " > Model[(0, 1, 1), (0, 1, 1, 12), 'ct']: 129488.89\n",
            " > Model[(0, 1, 1), (1, 0, 0, 12), 'ct']: 115246.06\n",
            " > Model[(0, 1, 1), (2, 1, 1, 12), 't']: 128752.54\n",
            " > Model[(0, 1, 1), (1, 0, 1, 12), 'ct']: 115596.13\n",
            " > Model[(0, 1, 1), (1, 1, 0, 12), 'ct']: 125935.49\n",
            " > Model[(0, 1, 1), (1, 1, 1, 12), 'ct']: 126214.78\n",
            " > Model[(0, 1, 1), (2, 0, 0, 12), 'ct']: 115468.21\n",
            " > Model[(0, 1, 1), (2, 0, 1, 12), 'ct']: 111894.61\n",
            " > Model[(0, 1, 1), (2, 1, 0, 12), 'ct']: 128017.63\n",
            " > Model[(0, 1, 2), (0, 0, 0, 12), 'n']: 118201.28\n",
            " > Model[(0, 1, 2), (0, 0, 1, 12), 'n']: 111169.37\n",
            " > Model[(0, 1, 2), (0, 1, 0, 12), 'n']: 130147.98\n",
            " > Model[(0, 1, 2), (0, 1, 1, 12), 'n']: 130497.28\n",
            " > Model[(0, 1, 2), (1, 0, 0, 12), 'n']: 116676.96\n",
            " > Model[(0, 1, 2), (1, 0, 1, 12), 'n']: 116845.50\n",
            " > Model[(0, 1, 2), (1, 1, 0, 12), 'n']: 126882.73\n",
            " > Model[(0, 1, 2), (1, 1, 1, 12), 'n']: 126721.20\n",
            " > Model[(0, 1, 1), (2, 1, 1, 12), 'ct']: 128336.43\n",
            " > Model[(0, 1, 2), (2, 0, 0, 12), 'n']: 116944.41\n",
            " > Model[(0, 1, 2), (2, 0, 1, 12), 'n']: 117681.36\n",
            " > Model[(0, 1, 2), (2, 1, 0, 12), 'n']: 127110.15\n",
            " > Model[(0, 1, 2), (0, 0, 0, 12), 'c']: 118174.69\n",
            " > Model[(0, 1, 2), (0, 0, 1, 12), 'c']: 111168.18\n",
            " > Model[(0, 1, 2), (0, 1, 0, 12), 'c']: 130014.52\n",
            " > Model[(0, 1, 2), (0, 1, 1, 12), 'c']: 130438.12\n",
            " > Model[(0, 1, 2), (1, 0, 0, 12), 'c']: 116658.69\n",
            " > Model[(0, 1, 2), (1, 0, 1, 12), 'c']: 116837.77\n",
            " > Model[(0, 1, 2), (2, 1, 1, 12), 'n']: 120188.64\n",
            " > Model[(0, 1, 2), (1, 1, 0, 12), 'c']: 126392.75\n",
            " > Model[(0, 1, 2), (2, 0, 0, 12), 'c']: 116998.57\n",
            " > Model[(0, 1, 2), (1, 1, 1, 12), 'c']: 126548.53\n",
            " > Model[(0, 1, 2), (2, 0, 1, 12), 'c']: 117377.10\n",
            " > Model[(0, 1, 2), (2, 1, 0, 12), 'c']: 127461.43\n",
            " > Model[(0, 1, 2), (0, 0, 0, 12), 't']: 111298.24\n",
            " > Model[(0, 1, 2), (0, 0, 1, 12), 't']: 111169.53\n",
            " > Model[(0, 1, 2), (0, 1, 0, 12), 't']: 130166.68\n",
            " > Model[(0, 1, 2), (0, 1, 1, 12), 't']: 130513.90\n",
            " > Model[(0, 1, 2), (2, 1, 1, 12), 'c']: 127880.20\n",
            " > Model[(0, 1, 2), (1, 0, 0, 12), 't']: 116589.53\n",
            " > Model[(0, 1, 2), (1, 0, 1, 12), 't']: 116723.67\n",
            " > Model[(0, 1, 2), (1, 1, 0, 12), 't']: 126828.23\n",
            " > Model[(0, 1, 2), (1, 1, 1, 12), 't']: 126707.26\n",
            " > Model[(0, 1, 2), (2, 0, 0, 12), 't']: 116896.85\n",
            " > Model[(0, 1, 2), (2, 0, 1, 12), 't']: 117528.45\n",
            " > Model[(0, 1, 2), (2, 1, 0, 12), 't']: 128496.66\n",
            " > Model[(0, 1, 2), (0, 0, 0, 12), 'ct']: 118094.67\n",
            " > Model[(0, 1, 2), (0, 0, 1, 12), 'ct']: 111289.06\n",
            " > Model[(0, 1, 2), (0, 1, 0, 12), 'ct']: 129535.82\n",
            " > Model[(0, 1, 2), (2, 1, 1, 12), 't']: 120194.93\n",
            " > Model[(0, 1, 2), (1, 0, 0, 12), 'ct']: 115500.49\n",
            " > Model[(0, 1, 2), (0, 1, 1, 12), 'ct']: 130019.38\n",
            " > Model[(0, 1, 2), (1, 0, 1, 12), 'ct']: 116196.58\n",
            " > Model[(0, 1, 2), (1, 1, 0, 12), 'ct']: 125923.65\n",
            " > Model[(0, 1, 2), (1, 1, 1, 12), 'ct']: 126373.02\n",
            " > Model[(0, 1, 2), (2, 0, 0, 12), 'ct']: 116661.78\n",
            " > Model[(0, 1, 2), (2, 0, 1, 12), 'ct']: 112006.17\n",
            " > Model[(0, 1, 2), (2, 1, 0, 12), 'ct']: 126446.44\n",
            " > Model[(1, 0, 0), (0, 0, 0, 12), 'n']: 17866.72\n",
            " > Model[(1, 0, 0), (0, 0, 1, 12), 'n']: 16618.81\n",
            " > Model[(1, 0, 0), (0, 1, 0, 12), 'n']: 134327.71\n",
            " > Model[(1, 0, 0), (0, 1, 1, 12), 'n']: 14934.71\n",
            " > Model[(1, 0, 0), (1, 0, 0, 12), 'n']: 16592.62\n",
            " > Model[(1, 0, 0), (1, 0, 1, 12), 'n']: 16587.93\n",
            " > Model[(1, 0, 0), (1, 1, 0, 12), 'n']: 14941.98\n",
            " > Model[(1, 0, 0), (1, 1, 1, 12), 'n']: 14833.24\n",
            " > Model[(1, 0, 0), (2, 0, 0, 12), 'n']: 16596.61\n",
            " > Model[(1, 0, 0), (2, 0, 1, 12), 'n']: 17731.29\n",
            " > Model[(1, 0, 0), (2, 1, 0, 12), 'n']: 14716.05\n",
            " > Model[(0, 1, 2), (2, 1, 1, 12), 'ct']: 128421.21\n",
            " > Model[(1, 0, 0), (0, 0, 0, 12), 'c']: 25730.90\n",
            " > Model[(1, 0, 0), (0, 0, 1, 12), 'c']: 16639.66\n",
            " > Model[(1, 0, 0), (0, 1, 0, 12), 'c']: 134411.03\n",
            " > Model[(1, 0, 0), (2, 1, 1, 12), 'n']: 14807.96\n",
            " > Model[(1, 0, 0), (0, 1, 1, 12), 'c']: 14941.47\n",
            " > Model[(1, 0, 0), (1, 0, 0, 12), 'c']: 123027.26\n",
            " > Model[(1, 0, 0), (1, 0, 1, 12), 'c']: 16537.19\n",
            " > Model[(1, 0, 0), (1, 1, 0, 12), 'c']: 14953.86\n",
            " > Model[(1, 0, 0), (1, 1, 1, 12), 'c']: 14843.70\n",
            " > Model[(1, 0, 0), (2, 0, 1, 12), 'c']: 17679.02\n",
            " > Model[(1, 0, 0), (2, 0, 0, 12), 'c']: 112587.17\n",
            " > Model[(1, 0, 0), (2, 1, 0, 12), 'c']: 14732.32\n",
            " > Model[(1, 0, 0), (0, 0, 0, 12), 't']: 26316.25\n",
            " > Model[(1, 0, 0), (0, 0, 1, 12), 't']: 16616.12\n",
            " > Model[(1, 0, 0), (0, 1, 0, 12), 't']: 15537.99\n",
            " > Model[(1, 0, 0), (2, 1, 1, 12), 'c']: 14829.39\n",
            " > Model[(1, 0, 0), (0, 1, 1, 12), 't']: 14940.70\n",
            " > Model[(1, 0, 0), (1, 0, 0, 12), 't']: 120057.05\n",
            " > Model[(1, 0, 0), (1, 0, 1, 12), 't']: 27582.34\n",
            " > Model[(1, 0, 0), (1, 1, 0, 12), 't']: 130526.07\n",
            " > Model[(1, 0, 0), (1, 1, 1, 12), 't']: 14838.00\n",
            " > Model[(1, 0, 0), (2, 0, 0, 12), 't']: 35717.68\n",
            " > Model[(1, 0, 0), (2, 0, 1, 12), 't']: 16183.47\n",
            " > Model[(1, 0, 0), (2, 1, 0, 12), 't']: 14750.99\n",
            " > Model[(1, 0, 0), (0, 0, 0, 12), 'ct']: 25613.59\n",
            " > Model[(1, 0, 0), (0, 0, 1, 12), 'ct']: 16605.53\n",
            " > Model[(1, 0, 0), (0, 1, 0, 12), 'ct']: 14814.63\n",
            " > Model[(1, 0, 0), (0, 1, 1, 12), 'ct']: 14253.12\n",
            " > Model[(1, 0, 0), (2, 1, 1, 12), 't']: 14835.55\n",
            " > Model[(1, 0, 0), (1, 0, 0, 12), 'ct']: 119665.30\n",
            " > Model[(1, 0, 0), (1, 0, 1, 12), 'ct']: 52393.85\n",
            " > Model[(1, 0, 0), (1, 1, 0, 12), 'ct']: 124004.81\n",
            " > Model[(1, 0, 0), (1, 1, 1, 12), 'ct']: 14026.86\n",
            " > Model[(1, 0, 0), (2, 0, 0, 12), 'ct']: 16433.23\n",
            " > Model[(1, 0, 0), (2, 0, 1, 12), 'ct']: 16180.32\n",
            " > Model[(1, 0, 0), (2, 1, 0, 12), 'ct']: 14231.14\n",
            " > Model[(1, 0, 1), (0, 0, 0, 12), 'n']: 17333.64\n",
            " > Model[(1, 0, 1), (0, 0, 1, 12), 'n']: 16288.50\n",
            " > Model[(1, 0, 1), (0, 1, 0, 12), 'n']: 15151.51\n",
            " > Model[(1, 0, 1), (0, 1, 1, 12), 'n']: 14677.48\n",
            " > Model[(1, 0, 1), (1, 0, 0, 12), 'n']: 16480.50\n",
            " > Model[(1, 0, 1), (1, 0, 1, 12), 'n']: 12794.51\n",
            " > Model[(1, 0, 1), (1, 1, 0, 12), 'n']: 14738.03\n",
            " > Model[(1, 0, 1), (1, 1, 1, 12), 'n']: 14646.09\n",
            " > Model[(1, 0, 1), (2, 0, 0, 12), 'n']: 16457.37\n",
            " > Model[(1, 0, 0), (2, 1, 1, 12), 'ct']: 14097.10\n",
            " > Model[(1, 0, 1), (2, 1, 0, 12), 'n']: 14521.12\n",
            " > Model[(1, 0, 1), (2, 0, 1, 12), 'n']: 112323.39\n",
            " > Model[(1, 0, 1), (2, 1, 1, 12), 'n']: 14658.61\n",
            " > Model[(1, 0, 1), (0, 0, 0, 12), 'c']: 17290.33\n",
            " > Model[(1, 0, 1), (0, 1, 0, 12), 'c']: 15176.45\n",
            " > Model[(1, 0, 1), (0, 0, 1, 12), 'c']: 16287.52\n",
            " > Model[(1, 0, 1), (1, 0, 0, 12), 'c']: 16441.93\n",
            " > Model[(1, 0, 1), (0, 1, 1, 12), 'c']: 14697.41\n",
            " > Model[(1, 0, 1), (1, 0, 1, 12), 'c']: 16970.02\n",
            " > Model[(1, 0, 1), (1, 1, 0, 12), 'c']: 14757.87\n",
            " > Model[(1, 0, 1), (1, 1, 1, 12), 'c']: 14668.86\n",
            " > Model[(1, 0, 1), (2, 0, 0, 12), 'c']: 16422.09\n",
            " > Model[(1, 0, 1), (2, 0, 1, 12), 'c']: 17788.44\n",
            " > Model[(1, 0, 1), (2, 1, 0, 12), 'c']: 14562.69\n",
            " > Model[(1, 0, 1), (0, 0, 0, 12), 't']: 17325.52\n",
            " > Model[(1, 0, 1), (0, 0, 1, 12), 't']: 16286.22\n",
            " > Model[(1, 0, 1), (0, 1, 0, 12), 't']: 15237.65\n",
            " > Model[(1, 0, 1), (2, 1, 1, 12), 'c']: 14694.97\n",
            " > Model[(1, 0, 1), (1, 0, 0, 12), 't']: 16478.95\n",
            " > Model[(1, 0, 1), (0, 1, 1, 12), 't']: 14660.67\n",
            " > Model[(1, 0, 1), (1, 0, 1, 12), 't']: 17092.33\n",
            " > Model[(1, 0, 1), (1, 1, 1, 12), 't']: 14635.13\n",
            " > Model[(1, 0, 1), (1, 1, 0, 12), 't']: 128875.81\n",
            " > Model[(1, 0, 1), (2, 0, 1, 12), 't']: 17895.01\n",
            " > Model[(1, 0, 1), (2, 0, 0, 12), 't']: 121567.00\n",
            " > Model[(1, 0, 1), (2, 1, 0, 12), 't']: 14600.25\n",
            " > Model[(1, 0, 1), (0, 0, 0, 12), 'ct']: 28819.52\n",
            " > Model[(1, 0, 1), (0, 0, 1, 12), 'ct']: 16295.33\n",
            " > Model[(1, 0, 1), (2, 1, 1, 12), 't']: 14661.89\n",
            " > Model[(1, 0, 1), (0, 1, 0, 12), 'ct']: 130468.64\n",
            " > Model[(1, 0, 1), (1, 0, 0, 12), 'ct']: 113412.24\n",
            " > Model[(1, 0, 1), (0, 1, 1, 12), 'ct']: 14179.52\n",
            " > Model[(1, 0, 1), (1, 0, 1, 12), 'ct']: 17085.87\n",
            " > Model[(1, 0, 1), (1, 1, 0, 12), 'ct']: 14321.52\n",
            " > Model[(1, 0, 1), (1, 1, 1, 12), 'ct']: 14004.53\n",
            " > Model[(1, 0, 1), (2, 0, 0, 12), 'ct']: 20744.81\n",
            " > Model[(1, 0, 1), (2, 0, 1, 12), 'ct']: 17636.05\n",
            " > Model[(1, 0, 1), (2, 1, 0, 12), 'ct']: 142251.00\n",
            " > Model[(1, 0, 2), (0, 0, 0, 12), 'n']: 17297.90\n",
            " > Model[(1, 0, 2), (0, 0, 1, 12), 'n']: 16212.44\n",
            " > Model[(1, 0, 2), (0, 1, 0, 12), 'n']: 15014.36\n",
            " > Model[(1, 0, 2), (0, 1, 1, 12), 'n']: 14596.01\n",
            " > Model[(1, 0, 2), (1, 0, 0, 12), 'n']: 16428.05\n",
            " > Model[(1, 0, 1), (2, 1, 1, 12), 'ct']: 14493.09\n",
            " > Model[(1, 0, 2), (1, 0, 1, 12), 'n']: 17113.00\n",
            " > Model[(1, 0, 2), (1, 1, 0, 12), 'n']: 14666.66\n",
            " > Model[(1, 0, 2), (1, 1, 1, 12), 'n']: 14572.51\n",
            " > Model[(1, 0, 2), (2, 0, 0, 12), 'n']: 16473.96\n",
            " > Model[(1, 0, 2), (2, 0, 1, 12), 'n']: 17815.06\n",
            " > Model[(1, 0, 2), (2, 1, 0, 12), 'n']: 14419.91\n",
            " > Model[(1, 0, 2), (0, 0, 0, 12), 'c']: 34995.39\n",
            " > Model[(1, 0, 2), (2, 1, 1, 12), 'n']: 14663.69\n",
            " > Model[(1, 0, 2), (0, 0, 1, 12), 'c']: 54153.55\n",
            " > Model[(1, 0, 2), (0, 1, 0, 12), 'c']: 138601.99\n",
            " > Model[(1, 0, 2), (0, 1, 1, 12), 'c']: 14624.76\n",
            " > Model[(1, 0, 2), (1, 0, 0, 12), 'c']: 124447.68\n",
            " > Model[(1, 0, 2), (1, 0, 1, 12), 'c']: 126048.91\n",
            " > Model[(1, 0, 2), (1, 1, 0, 12), 'c']: 14732.35\n",
            " > Model[(1, 0, 2), (1, 1, 1, 12), 'c']: 14614.92\n",
            " > Model[(1, 0, 2), (2, 0, 0, 12), 'c']: 111116.94\n",
            " > Model[(1, 0, 2), (2, 0, 1, 12), 'c']: 54878.34\n",
            " > Model[(1, 0, 2), (2, 1, 0, 12), 'c']: 14513.27\n",
            " > Model[(1, 0, 2), (0, 0, 0, 12), 't']: 17290.74\n",
            " > Model[(1, 0, 2), (0, 0, 1, 12), 't']: 16211.32\n",
            " > Model[(1, 0, 2), (0, 1, 0, 12), 't']: 138325.33\n",
            " > Model[(1, 0, 2), (2, 1, 1, 12), 'c']: 14803.57\n",
            " > Model[(1, 0, 2), (1, 0, 0, 12), 't']: 68434.64\n",
            " > Model[(1, 0, 2), (0, 1, 1, 12), 't']: 14505.23\n",
            " > Model[(1, 0, 2), (1, 0, 1, 12), 't']: 13150.80\n",
            " > Model[(1, 0, 2), (1, 1, 0, 12), 't']: 14653.14\n",
            " > Model[(1, 0, 2), (1, 1, 1, 12), 't']: 14510.05\n",
            " > Model[(1, 0, 2), (2, 0, 0, 12), 't']: 54861.17\n",
            " > Model[(1, 0, 2), (2, 0, 1, 12), 't']: 16129.35\n",
            " > Model[(1, 0, 2), (2, 1, 0, 12), 't']: 14556.64\n",
            " > Model[(1, 0, 2), (0, 0, 0, 12), 'ct']: 17296.39\n",
            " > Model[(1, 0, 2), (2, 1, 1, 12), 't']: 14662.65\n",
            " > Model[(1, 0, 2), (0, 0, 1, 12), 'ct']: 26358.69\n",
            " > Model[(1, 0, 2), (0, 1, 0, 12), 'ct']: 14712.29\n",
            " > Model[(1, 0, 2), (1, 0, 0, 12), 'ct']: 66550.99\n",
            " > Model[(1, 0, 2), (0, 1, 1, 12), 'ct']: 14140.72\n",
            " > Model[(1, 0, 2), (1, 0, 1, 12), 'ct']: 17005.43\n",
            " > Model[(1, 0, 2), (1, 1, 0, 12), 'ct']: 127452.32\n",
            " > Model[(1, 0, 2), (1, 1, 1, 12), 'ct']: 14226.86\n",
            " > Model[(1, 0, 2), (2, 0, 0, 12), 'ct']: 36468.00\n",
            " > Model[(1, 0, 2), (2, 0, 1, 12), 'ct']: 17370.20\n",
            " > Model[(1, 0, 2), (2, 1, 0, 12), 'ct']: 14030.94\n",
            " > Model[(1, 1, 0), (0, 0, 0, 12), 'n']: 123187.43\n",
            " > Model[(1, 1, 0), (0, 0, 1, 12), 'n']: 111231.89\n",
            " > Model[(1, 1, 0), (0, 1, 0, 12), 'n']: 130149.50\n",
            " > Model[(1, 1, 0), (0, 1, 1, 12), 'n']: 130197.74\n",
            " > Model[(1, 1, 0), (1, 0, 0, 12), 'n']: 125754.40\n",
            " > Model[(1, 1, 0), (1, 0, 1, 12), 'n']: 117035.47\n",
            " > Model[(1, 1, 0), (1, 1, 0, 12), 'n']: 126881.64\n",
            " > Model[(1, 1, 0), (1, 1, 1, 12), 'n']: 126803.41\n",
            " > Model[(1, 1, 0), (2, 0, 0, 12), 'n']: 129817.85\n",
            " > Model[(1, 0, 2), (2, 1, 1, 12), 'ct']: 14564.13\n",
            " > Model[(1, 1, 0), (2, 1, 0, 12), 'n']: 127558.28\n",
            " > Model[(1, 1, 0), (2, 0, 1, 12), 'n']: 113949.53\n",
            " > Model[(1, 1, 0), (0, 0, 0, 12), 'c']: 123129.78\n",
            " > Model[(1, 1, 0), (0, 0, 1, 12), 'c']: 111229.77\n",
            " > Model[(1, 1, 0), (0, 1, 0, 12), 'c']: 129973.27\n",
            " > Model[(1, 1, 0), (0, 1, 1, 12), 'c']: 130043.75\n",
            " > Model[(1, 1, 0), (1, 0, 0, 12), 'c']: 134646.77\n",
            " > Model[(1, 1, 0), (2, 1, 1, 12), 'n']: 131238.14\n",
            " > Model[(1, 1, 0), (1, 0, 1, 12), 'c']: 117030.49\n",
            " > Model[(1, 1, 0), (1, 1, 0, 12), 'c']: 126506.55\n",
            " > Model[(1, 1, 0), (1, 1, 1, 12), 'c']: 126527.61\n",
            " > Model[(1, 1, 0), (2, 0, 0, 12), 'c']: 130269.60\n",
            " > Model[(1, 1, 0), (2, 0, 1, 12), 'c']: 113961.75\n",
            " > Model[(1, 1, 0), (2, 1, 0, 12), 'c']: 127540.86\n",
            " > Model[(1, 1, 0), (0, 0, 0, 12), 't']: 123113.68\n",
            " > Model[(1, 1, 0), (0, 0, 1, 12), 't']: 111231.21\n",
            " > Model[(1, 1, 0), (0, 1, 0, 12), 't']: 136557.23\n",
            " > Model[(1, 1, 0), (0, 1, 1, 12), 't']: 130198.97\n",
            " > Model[(1, 1, 0), (2, 1, 1, 12), 'c']: 130601.25\n",
            " > Model[(1, 1, 0), (1, 0, 1, 12), 't']: 116838.14\n",
            " > Model[(1, 1, 0), (1, 0, 0, 12), 't']: 125587.93\n",
            " > Model[(1, 1, 0), (1, 1, 0, 12), 't']: 126816.21\n",
            " > Model[(1, 1, 0), (1, 1, 1, 12), 't']: 126760.48\n",
            " > Model[(1, 1, 0), (2, 0, 0, 12), 't']: 116718.55\n",
            " > Model[(1, 1, 0), (2, 0, 1, 12), 't']: 113921.61\n",
            " > Model[(1, 1, 0), (2, 1, 0, 12), 't']: 127983.73\n",
            " > Model[(1, 1, 0), (0, 0, 0, 12), 'ct']: 135768.24\n",
            " > Model[(1, 1, 0), (0, 0, 1, 12), 'ct']: 111207.98\n",
            " > Model[(1, 1, 0), (0, 1, 0, 12), 'ct']: 136391.01\n",
            " > Model[(1, 1, 0), (0, 1, 1, 12), 'ct']: 129645.00\n",
            " > Model[(1, 1, 0), (1, 0, 0, 12), 'ct']: 130180.28\n",
            " > Model[(1, 1, 0), (2, 1, 1, 12), 't']: 130495.50\n",
            " > Model[(1, 1, 0), (1, 0, 1, 12), 'ct']: 130144.27\n",
            " > Model[(1, 1, 0), (1, 1, 0, 12), 'ct']: 126129.96\n",
            " > Model[(1, 1, 0), (2, 0, 0, 12), 'ct']: 116908.27\n",
            " > Model[(1, 1, 0), (1, 1, 1, 12), 'ct']: 126303.64\n",
            " > Model[(1, 1, 0), (2, 0, 1, 12), 'ct']: 113589.07\n",
            " > Model[(1, 1, 0), (2, 1, 0, 12), 'ct']: 127601.64\n",
            " > Model[(1, 1, 1), (0, 0, 0, 12), 'n']: 123786.73\n",
            " > Model[(1, 1, 1), (0, 0, 1, 12), 'n']: 111247.76\n",
            " > Model[(1, 1, 1), (0, 1, 0, 12), 'n']: 147032.91\n",
            " > Model[(1, 1, 1), (0, 1, 1, 12), 'n']: 136106.72\n",
            " > Model[(1, 1, 1), (1, 0, 0, 12), 'n']: 117940.74\n",
            " > Model[(1, 1, 1), (1, 0, 1, 12), 'n']: 119830.20\n",
            " > Model[(1, 1, 0), (2, 1, 1, 12), 'ct']: 129474.38\n",
            " > Model[(1, 1, 1), (1, 1, 0, 12), 'n']: 148370.02\n",
            " > Model[(1, 1, 1), (2, 0, 0, 12), 'n']: 127804.38\n",
            " > Model[(1, 1, 1), (1, 1, 1, 12), 'n']: 130646.11\n",
            " > Model[(1, 1, 1), (2, 0, 1, 12), 'n']: 129163.61\n",
            " > Model[(1, 1, 1), (2, 1, 0, 12), 'n']: 155446.51\n",
            " > Model[(1, 1, 1), (0, 0, 0, 12), 'c']: 112861.49\n",
            " > Model[(1, 1, 1), (0, 0, 1, 12), 'c']: 111246.17\n",
            " > Model[(1, 1, 1), (2, 1, 1, 12), 'n']: 156801.20\n",
            " > Model[(1, 1, 1), (0, 1, 0, 12), 'c']: 138141.17\n",
            " > Model[(1, 1, 1), (1, 0, 0, 12), 'c']: 118041.81\n",
            " > Model[(1, 1, 1), (0, 1, 1, 12), 'c']: 133258.17\n",
            " > Model[(1, 1, 1), (1, 0, 1, 12), 'c']: 119892.21\n",
            " > Model[(1, 1, 1), (1, 1, 0, 12), 'c']: 126742.02\n",
            " > Model[(1, 1, 1), (1, 1, 1, 12), 'c']: 129103.95\n",
            " > Model[(1, 1, 1), (2, 0, 0, 12), 'c']: 125088.02\n",
            " > Model[(1, 1, 1), (2, 0, 1, 12), 'c']: 125793.44\n",
            " > Model[(1, 1, 1), (2, 1, 0, 12), 'c']: 140855.81\n",
            " > Model[(1, 1, 1), (0, 0, 0, 12), 't']: 123747.29\n",
            " > Model[(1, 1, 1), (0, 0, 1, 12), 't']: 111247.13\n",
            " > Model[(1, 1, 1), (2, 1, 1, 12), 'c']: 141811.72\n",
            " > Model[(1, 1, 1), (0, 1, 0, 12), 't']: 150243.14\n",
            " > Model[(1, 1, 1), (1, 0, 0, 12), 't']: 117853.30\n",
            " > Model[(1, 1, 1), (1, 0, 1, 12), 't']: 119716.43\n",
            " > Model[(1, 1, 1), (0, 1, 1, 12), 't']: 136930.79\n",
            " > Model[(1, 1, 1), (1, 1, 0, 12), 't']: 133416.44\n",
            " > Model[(1, 1, 1), (1, 1, 1, 12), 't']: 131095.28\n",
            " > Model[(1, 1, 1), (2, 0, 0, 12), 't']: 127828.81\n",
            " > Model[(1, 1, 1), (2, 0, 1, 12), 't']: 126793.02\n",
            " > Model[(1, 1, 1), (2, 1, 0, 12), 't']: 164645.93\n",
            " > Model[(1, 1, 1), (0, 0, 0, 12), 'ct']: 121647.28\n",
            " > Model[(1, 1, 1), (2, 1, 1, 12), 't']: 164717.00\n",
            " > Model[(1, 1, 1), (0, 0, 1, 12), 'ct']: 111344.37\n",
            " > Model[(1, 1, 1), (0, 1, 0, 12), 'ct']: 129848.29\n",
            " > Model[(1, 1, 1), (1, 0, 0, 12), 'ct']: 128888.21\n",
            " > Model[(1, 1, 1), (0, 1, 1, 12), 'ct']: 131179.38\n",
            " > Model[(1, 1, 1), (1, 0, 1, 12), 'ct']: 130451.26\n",
            " > Model[(1, 1, 1), (1, 1, 0, 12), 'ct']: 126242.38\n",
            " > Model[(1, 1, 1), (1, 1, 1, 12), 'ct']: 127877.71\n",
            " > Model[(1, 1, 1), (2, 0, 0, 12), 'ct']: 137805.36\n",
            " > Model[(1, 1, 1), (2, 0, 1, 12), 'ct']: 111757.31\n",
            " > Model[(1, 1, 1), (2, 1, 0, 12), 'ct']: 140420.74\n",
            " > Model[(1, 1, 2), (0, 0, 0, 12), 'n']: 116615.02\n",
            " > Model[(1, 1, 2), (0, 0, 1, 12), 'n']: 111231.95\n",
            " > Model[(1, 1, 1), (2, 1, 1, 12), 'ct']: 129591.83\n",
            " > Model[(1, 1, 2), (0, 1, 0, 12), 'n']: 132171.80\n",
            " > Model[(1, 1, 2), (1, 0, 0, 12), 'n']: 118787.90\n",
            " > Model[(1, 1, 2), (1, 0, 1, 12), 'n']: 120307.85\n",
            " > Model[(1, 1, 2), (0, 1, 1, 12), 'n']: 136005.09\n",
            " > Model[(1, 1, 2), (1, 1, 0, 12), 'n']: 133128.78\n",
            " > Model[(1, 1, 2), (1, 1, 1, 12), 'n']: 130651.60\n",
            " > Model[(1, 1, 2), (2, 0, 0, 12), 'n']: 117901.10\n",
            " > Model[(1, 1, 2), (2, 0, 1, 12), 'n']: 124099.55\n",
            " > Model[(1, 1, 2), (2, 1, 1, 12), 'n']: 150603.51\n",
            " > Model[(1, 1, 2), (0, 0, 0, 12), 'c']: 116530.56\n",
            " > Model[(1, 1, 2), (2, 1, 0, 12), 'n']: 164052.60\n",
            " > Model[(1, 1, 2), (0, 0, 1, 12), 'c']: 111231.34\n",
            " > Model[(1, 1, 2), (0, 1, 0, 12), 'c']: 131786.31\n",
            " > Model[(1, 1, 2), (1, 0, 0, 12), 'c']: 118622.91\n",
            " > Model[(1, 1, 2), (0, 1, 1, 12), 'c']: 132770.32\n",
            " > Model[(1, 1, 2), (1, 0, 1, 12), 'c']: 120268.50\n",
            " > Model[(1, 1, 2), (1, 1, 0, 12), 'c']: 128698.66\n",
            " > Model[(1, 1, 2), (1, 1, 1, 12), 'c']: 129388.76\n",
            " > Model[(1, 1, 2), (2, 0, 0, 12), 'c']: 117934.95\n",
            " > Model[(1, 1, 2), (2, 0, 1, 12), 'c']: 118682.03\n",
            " > Model[(1, 1, 2), (2, 1, 0, 12), 'c']: 137105.02\n",
            " > Model[(1, 1, 2), (0, 0, 0, 12), 't']: 116520.46\n",
            " > Model[(1, 1, 2), (0, 0, 1, 12), 't']: 111231.90\n",
            " > Model[(1, 1, 2), (2, 1, 1, 12), 'c']: 137424.99\n",
            " > Model[(1, 1, 2), (0, 1, 0, 12), 't']: 132207.83\n",
            " > Model[(1, 1, 2), (1, 0, 0, 12), 't']: 118654.48\n",
            " > Model[(1, 1, 2), (1, 0, 1, 12), 't']: 116758.93\n",
            " > Model[(1, 1, 2), (0, 1, 1, 12), 't']: 136975.69\n",
            " > Model[(1, 1, 2), (1, 1, 1, 12), 't']: 130888.53\n",
            " > Model[(1, 1, 2), (1, 1, 0, 12), 't']: 159736.90\n",
            " > Model[(1, 1, 2), (2, 0, 0, 12), 't']: 131214.29\n",
            " > Model[(1, 1, 2), (2, 0, 1, 12), 't']: 118198.07\n",
            " > Model[(1, 1, 2), (2, 1, 1, 12), 't']: 130178.18\n",
            " > Model[(1, 1, 2), (0, 0, 0, 12), 'ct']: 121372.18\n",
            " > Model[(1, 1, 2), (2, 1, 0, 12), 't']: 163658.76\n",
            " > Model[(1, 1, 2), (0, 0, 1, 12), 'ct']: 111223.21\n",
            " > Model[(1, 1, 2), (0, 1, 0, 12), 'ct']: 130642.19\n",
            " > Model[(1, 1, 2), (1, 0, 0, 12), 'ct']: 133509.56\n",
            " > Model[(1, 1, 2), (0, 1, 1, 12), 'ct']: 131079.37\n",
            " > Model[(1, 1, 2), (1, 0, 1, 12), 'ct']: 116822.79\n",
            " > Model[(1, 1, 2), (1, 1, 0, 12), 'ct']: 126985.28\n",
            " > Model[(1, 1, 2), (1, 1, 1, 12), 'ct']: 127975.36\n",
            " > Model[(1, 1, 2), (2, 0, 0, 12), 'ct']: 117765.87\n",
            " > Model[(1, 1, 2), (2, 0, 1, 12), 'ct']: 117623.11\n",
            " > Model[(1, 1, 2), (2, 1, 0, 12), 'ct']: 171359.79\n",
            " > Model[(2, 0, 0), (0, 0, 0, 12), 'n']: 17194.35\n",
            " > Model[(2, 0, 0), (0, 0, 1, 12), 'n']: 16306.17\n",
            " > Model[(2, 0, 0), (0, 1, 0, 12), 'n']: 15250.96\n",
            " > Model[(1, 1, 2), (2, 1, 1, 12), 'ct']: 134688.63\n",
            " > Model[(2, 0, 0), (1, 0, 0, 12), 'n']: 16248.70\n",
            " > Model[(2, 0, 0), (1, 0, 1, 12), 'n']: 16560.72\n",
            " > Model[(2, 0, 0), (0, 1, 1, 12), 'n']: 14830.42\n",
            " > Model[(2, 0, 0), (1, 1, 0, 12), 'n']: 14875.57\n",
            " > Model[(2, 0, 0), (1, 1, 1, 12), 'n']: 14735.20\n",
            " > Model[(2, 0, 0), (2, 0, 0, 12), 'n']: 16302.98\n",
            " > Model[(2, 0, 0), (2, 0, 1, 12), 'n']: 17493.10\n",
            " > Model[(2, 0, 0), (2, 1, 1, 12), 'n']: 14814.01\n",
            " > Model[(2, 0, 0), (0, 0, 0, 12), 'c']: 17169.67\n",
            " > Model[(2, 0, 0), (0, 0, 1, 12), 'c']: 16320.34\n",
            " > Model[(2, 0, 0), (0, 1, 0, 12), 'c']: 15269.33\n",
            " > Model[(2, 0, 0), (0, 1, 1, 12), 'c']: 14836.53\n",
            " > Model[(2, 0, 0), (2, 1, 0, 12), 'n']: 136698.25\n",
            " > Model[(2, 0, 0), (1, 0, 0, 12), 'c']: 123838.81\n",
            " > Model[(2, 0, 0), (1, 0, 1, 12), 'c']: 13148.43\n",
            " > Model[(2, 0, 0), (1, 1, 0, 12), 'c']: 14890.77\n",
            " > Model[(2, 0, 0), (1, 1, 1, 12), 'c']: 14749.52\n",
            " > Model[(2, 0, 0), (2, 0, 0, 12), 'c']: 16286.72\n",
            " > Model[(2, 0, 0), (2, 0, 1, 12), 'c']: 17476.25\n",
            " > Model[(2, 0, 0), (2, 1, 1, 12), 'c']: 14858.79\n",
            " > Model[(2, 0, 0), (0, 0, 0, 12), 't']: 17178.04\n",
            " > Model[(2, 0, 0), (0, 0, 1, 12), 't']: 16304.45\n",
            " > Model[(2, 0, 0), (0, 1, 0, 12), 't']: 137011.86\n",
            " > Model[(2, 0, 0), (2, 1, 0, 12), 'c']: 138463.90\n",
            " > Model[(2, 0, 0), (0, 1, 1, 12), 't']: 14810.05\n",
            " > Model[(2, 0, 0), (1, 0, 0, 12), 't']: 124593.17\n",
            " > Model[(2, 0, 0), (1, 1, 0, 12), 't']: 14864.40\n",
            " > Model[(2, 0, 0), (1, 0, 1, 12), 't']: 13339.66\n",
            " > Model[(2, 0, 0), (1, 1, 1, 12), 't']: 14722.82\n",
            " > Model[(2, 0, 0), (2, 0, 0, 12), 't']: 94577.14\n",
            " > Model[(2, 0, 0), (2, 0, 1, 12), 't']: 17426.21\n",
            " > Model[(2, 0, 0), (2, 1, 0, 12), 't']: 14849.96\n",
            " > Model[(2, 0, 0), (0, 0, 0, 12), 'ct']: 17169.67\n",
            " > Model[(2, 0, 0), (0, 0, 1, 12), 'ct']: 26258.45\n",
            " > Model[(2, 0, 0), (0, 1, 0, 12), 'ct']: 129575.08\n",
            " > Model[(2, 0, 0), (0, 1, 1, 12), 'ct']: 14230.28\n",
            " > Model[(2, 0, 0), (2, 1, 1, 12), 't']: 14863.07\n",
            " > Model[(2, 0, 0), (1, 0, 0, 12), 'ct']: 16025.53\n",
            " > Model[(2, 0, 0), (1, 0, 1, 12), 'ct']: 16441.55\n",
            " > Model[(2, 0, 0), (1, 1, 0, 12), 'ct']: 122820.95\n",
            " > Model[(2, 0, 0), (1, 1, 1, 12), 'ct']: 14151.91\n",
            " > Model[(2, 0, 0), (2, 0, 0, 12), 'ct']: 110929.81\n",
            " > Model[(2, 0, 0), (2, 0, 1, 12), 'ct']: 13540.52\n",
            " > Model[(2, 0, 0), (2, 1, 0, 12), 'ct']: 14450.51\n",
            " > Model[(2, 0, 1), (0, 0, 0, 12), 'n']: 15223.37\n",
            " > Model[(2, 0, 1), (0, 0, 1, 12), 'n']: 16699.78\n",
            " > Model[(2, 0, 1), (0, 1, 0, 12), 'n']: 15179.12\n",
            " > Model[(2, 0, 1), (0, 1, 1, 12), 'n']: 14536.02\n",
            " > Model[(2, 0, 1), (1, 0, 0, 12), 'n']: 16879.14\n",
            " > Model[(2, 0, 1), (1, 0, 1, 12), 'n']: 17225.87\n",
            " > Model[(2, 0, 0), (2, 1, 1, 12), 'ct']: 14368.03\n",
            " > Model[(2, 0, 1), (1, 1, 0, 12), 'n']: 14608.42\n",
            " > Model[(2, 0, 1), (1, 1, 1, 12), 'n']: 15285.44\n",
            " > Model[(2, 0, 1), (2, 0, 0, 12), 'n']: 131892.11\n",
            " > Model[(2, 0, 1), (2, 0, 1, 12), 'n']: 44580.68\n",
            " > Model[(2, 0, 1), (2, 1, 0, 12), 'n']: 51039.88\n",
            " > Model[(2, 0, 1), (0, 0, 0, 12), 'c']: 17567.04\n",
            " > Model[(2, 0, 1), (0, 0, 1, 12), 'c']: 16614.26\n",
            " > Model[(2, 0, 1), (0, 1, 0, 12), 'c']: 15009.08\n",
            " > Model[(2, 0, 1), (2, 1, 1, 12), 'n']: 15381.60\n",
            " > Model[(2, 0, 1), (1, 0, 0, 12), 'c']: 136218.57\n",
            " > Model[(2, 0, 1), (1, 0, 1, 12), 'c']: 16586.94\n",
            " > Model[(2, 0, 1), (0, 1, 1, 12), 'c']: 14558.22\n",
            " > Model[(2, 0, 1), (1, 1, 0, 12), 'c']: 14574.88\n",
            " > Model[(2, 0, 1), (1, 1, 1, 12), 'c']: 14635.73\n",
            " > Model[(2, 0, 1), (2, 0, 0, 12), 'c']: 93654.52\n",
            " > Model[(2, 0, 1), (2, 0, 1, 12), 'c']: 16199.32\n",
            " > Model[(2, 0, 1), (2, 1, 0, 12), 'c']: 14313.39\n",
            " > Model[(2, 0, 1), (0, 0, 0, 12), 't']: 17529.05\n",
            " > Model[(2, 0, 1), (0, 0, 1, 12), 't']: 16663.09\n",
            " > Model[(2, 0, 1), (0, 1, 0, 12), 't']: 14643.57\n",
            " > Model[(2, 0, 1), (2, 1, 1, 12), 'c']: 14742.96\n",
            " > Model[(2, 0, 1), (1, 0, 0, 12), 't']: 16500.11\n",
            " > Model[(2, 0, 1), (0, 1, 1, 12), 't']: 14376.14\n",
            " > Model[(2, 0, 1), (1, 0, 1, 12), 't']: 17098.64\n",
            " > Model[(2, 0, 1), (1, 1, 0, 12), 't']: 14391.00\n",
            " > Model[(2, 0, 1), (1, 1, 1, 12), 't']: 14397.24\n",
            " > Model[(2, 0, 1), (2, 0, 0, 12), 't']: 17201.61\n",
            " > Model[(2, 0, 1), (2, 0, 1, 12), 't']: 17980.00\n",
            " > Model[(2, 0, 1), (2, 1, 0, 12), 't']: 16014.16\n",
            " > Model[(2, 0, 1), (0, 0, 0, 12), 'ct']: 17487.55\n",
            " > Model[(2, 0, 1), (0, 0, 1, 12), 'ct']: 22815.08\n",
            " > Model[(2, 0, 1), (0, 1, 0, 12), 'ct']: 16314.22\n",
            " > Model[(2, 0, 1), (0, 1, 1, 12), 'ct']: 18908.25\n",
            " > Model[(2, 0, 1), (2, 1, 1, 12), 't']: 16755.67\n",
            " > Model[(2, 0, 1), (1, 0, 1, 12), 'ct']: 22809.37\n",
            " > Model[(2, 0, 1), (1, 0, 0, 12), 'ct']: 20889.19\n",
            " > Model[(2, 0, 1), (1, 1, 0, 12), 'ct']: 22890.06\n",
            " > Model[(2, 0, 1), (1, 1, 1, 12), 'ct']: 26840.74\n",
            " > Model[(2, 0, 1), (2, 0, 0, 12), 'ct']: 26052.46\n",
            " > Model[(2, 0, 1), (2, 0, 1, 12), 'ct']: 24708.69\n",
            " > Model[(2, 0, 1), (2, 1, 0, 12), 'ct']: 27788.65\n",
            " > Model[(2, 0, 2), (0, 0, 0, 12), 'n']: 18558.38\n",
            " > Model[(2, 0, 2), (0, 0, 1, 12), 'n']: 16518.23\n",
            " > Model[(2, 0, 2), (0, 1, 0, 12), 'n']: 15264.99\n",
            " > Model[(2, 0, 2), (0, 1, 1, 12), 'n']: 15375.70\n",
            " > Model[(2, 0, 1), (2, 1, 1, 12), 'ct']: 25374.47\n",
            " > Model[(2, 0, 2), (1, 0, 0, 12), 'n']: 17249.06\n",
            " > Model[(2, 0, 2), (1, 0, 1, 12), 'n']: 16639.65\n",
            " > Model[(2, 0, 2), (1, 1, 0, 12), 'n']: 14928.16\n",
            " > Model[(2, 0, 2), (1, 1, 1, 12), 'n']: 15383.74\n",
            " > Model[(2, 0, 2), (2, 0, 0, 12), 'n']: 17121.38\n",
            " > Model[(2, 0, 2), (2, 0, 1, 12), 'n']: 17331.83\n",
            " > Model[(2, 0, 2), (2, 1, 0, 12), 'n']: 14817.18\n",
            " > Model[(2, 0, 2), (0, 0, 0, 12), 'c']: 17223.74\n",
            " > Model[(2, 0, 2), (0, 0, 1, 12), 'c']: 14755.87\n",
            " > Model[(2, 0, 2), (0, 1, 0, 12), 'c']: 15277.80\n",
            " > Model[(2, 0, 2), (2, 1, 1, 12), 'n']: 15110.60\n",
            " > Model[(2, 0, 2), (0, 1, 1, 12), 'c']: 15275.01\n",
            " > Model[(2, 0, 2), (1, 0, 0, 12), 'c']: 117401.51\n",
            " > Model[(2, 0, 2), (1, 1, 0, 12), 'c']: 14917.12\n",
            " > Model[(2, 0, 2), (1, 0, 1, 12), 'c']: 14595.40\n",
            " > Model[(2, 0, 2), (1, 1, 1, 12), 'c']: 15358.79\n",
            " > Model[(2, 0, 2), (2, 0, 0, 12), 'c']: 17366.08\n",
            " > Model[(2, 0, 2), (2, 1, 0, 12), 'c']: 14833.35\n",
            " > Model[(2, 0, 2), (2, 0, 1, 12), 'c']: 14894.01\n",
            " > Model[(2, 0, 2), (0, 0, 0, 12), 't']: 18628.94\n",
            " > Model[(2, 0, 2), (0, 0, 1, 12), 't']: 16512.45\n",
            " > Model[(2, 0, 2), (0, 1, 0, 12), 't']: 15358.11\n",
            " > Model[(2, 0, 2), (2, 1, 1, 12), 'c']: 15108.57\n",
            " > Model[(2, 0, 2), (0, 1, 1, 12), 't']: 15194.32\n",
            " > Model[(2, 0, 2), (1, 0, 0, 12), 't']: 16791.02\n",
            " > Model[(2, 0, 2), (1, 0, 1, 12), 't']: 16936.01\n",
            " > Model[(2, 0, 2), (1, 1, 0, 12), 't']: 14980.17\n",
            " > Model[(2, 0, 2), (1, 1, 1, 12), 't']: 15250.52\n",
            " > Model[(2, 0, 2), (2, 0, 0, 12), 't']: 16682.70\n",
            " > Model[(2, 0, 2), (2, 0, 1, 12), 't']: 17402.24\n",
            " > Model[(2, 0, 2), (2, 1, 0, 12), 't']: 14889.76\n",
            " > Model[(2, 0, 2), (0, 0, 0, 12), 'ct']: 17210.73\n",
            " > Model[(2, 0, 2), (0, 0, 1, 12), 'ct']: 19920.71\n",
            " > Model[(2, 0, 2), (0, 1, 0, 12), 'ct']: 14990.91\n",
            " > Model[(2, 0, 2), (2, 1, 1, 12), 't']: 17664.38\n",
            " > Model[(2, 0, 2), (1, 0, 0, 12), 'ct']: 16776.61\n",
            " > Model[(2, 0, 2), (0, 1, 1, 12), 'ct']: 14715.27\n",
            " > Model[(2, 0, 2), (1, 0, 1, 12), 'ct']: 18506.98\n",
            " > Model[(2, 0, 2), (1, 1, 0, 12), 'ct']: 15945.72\n",
            " > Model[(2, 0, 2), (2, 0, 0, 12), 'ct']: 18273.67\n",
            " > Model[(2, 0, 2), (1, 1, 1, 12), 'ct']: 14791.56\n",
            " > Model[(2, 0, 2), (2, 0, 1, 12), 'ct']: 19685.70\n",
            " > Model[(2, 0, 2), (2, 1, 0, 12), 'ct']: 16750.67\n",
            " > Model[(2, 1, 0), (0, 0, 0, 12), 'n']: 136980.72\n",
            " > Model[(2, 1, 0), (0, 0, 1, 12), 'n']: 111228.16\n",
            " > Model[(2, 1, 0), (0, 1, 0, 12), 'n']: 140315.02\n",
            " > Model[(2, 1, 0), (0, 1, 1, 12), 'n']: 130642.64\n",
            " > Model[(2, 1, 0), (1, 0, 0, 12), 'n']: 135405.60\n",
            " > Model[(2, 1, 0), (1, 0, 1, 12), 'n']: 117934.65\n",
            " > Model[(2, 1, 0), (1, 1, 0, 12), 'n']: 127688.83\n",
            " > Model[(2, 0, 2), (2, 1, 1, 12), 'ct']: 16715.33\n",
            " > Model[(2, 1, 0), (1, 1, 1, 12), 'n']: 127458.91\n",
            " > Model[(2, 1, 0), (2, 0, 0, 12), 'n']: 117644.33\n",
            " > Model[(2, 1, 0), (2, 1, 0, 12), 'n']: 128797.24\n",
            " > Model[(2, 1, 0), (2, 0, 1, 12), 'n']: 114898.74\n",
            " > Model[(2, 1, 0), (0, 0, 0, 12), 'c']: 136870.66\n",
            " > Model[(2, 1, 0), (0, 0, 1, 12), 'c']: 111226.54\n",
            " > Model[(2, 1, 0), (0, 1, 0, 12), 'c']: 139968.44\n",
            " > Model[(2, 1, 0), (0, 1, 1, 12), 'c']: 130429.42\n",
            " > Model[(2, 1, 0), (1, 0, 0, 12), 'c']: 118181.26\n",
            " > Model[(2, 1, 0), (1, 0, 1, 12), 'c']: 117999.11\n",
            " > Model[(2, 1, 0), (2, 1, 1, 12), 'n']: 131708.84\n",
            " > Model[(2, 1, 0), (1, 1, 0, 12), 'c']: 127396.28\n",
            " > Model[(2, 1, 0), (2, 0, 0, 12), 'c']: 117847.73\n",
            " > Model[(2, 1, 0), (1, 1, 1, 12), 'c']: 127228.96\n",
            " > Model[(2, 1, 0), (2, 0, 1, 12), 'c']: 114960.40\n",
            " > Model[(2, 1, 0), (2, 1, 0, 12), 'c']: 128553.86\n",
            " > Model[(2, 1, 0), (0, 0, 0, 12), 't']: 122124.31\n",
            " > Model[(2, 1, 0), (0, 0, 1, 12), 't']: 111227.58\n",
            " > Model[(2, 1, 0), (0, 1, 0, 12), 't']: 131153.75\n",
            " > Model[(2, 1, 0), (0, 1, 1, 12), 't']: 130716.91\n",
            " > Model[(2, 1, 0), (2, 1, 1, 12), 'c']: 131120.49\n",
            " > Model[(2, 1, 0), (1, 0, 0, 12), 't']: 118049.32\n",
            " > Model[(2, 1, 0), (1, 0, 1, 12), 't']: 117894.56\n",
            " > Model[(2, 1, 0), (1, 1, 0, 12), 't']: 127684.83\n",
            " > Model[(2, 1, 0), (2, 0, 0, 12), 't']: 117543.81\n",
            " > Model[(2, 1, 0), (1, 1, 1, 12), 't']: 127467.39\n",
            " > Model[(2, 1, 0), (2, 0, 1, 12), 't']: 114900.97\n",
            " > Model[(2, 1, 0), (2, 1, 0, 12), 't']: 128567.56\n",
            " > Model[(2, 1, 0), (0, 0, 0, 12), 'ct']: 121189.48\n",
            " > Model[(2, 1, 0), (0, 0, 1, 12), 'ct']: 111207.58\n",
            " > Model[(2, 1, 0), (0, 1, 0, 12), 'ct']: 139248.02\n",
            " > Model[(2, 1, 0), (0, 1, 1, 12), 'ct']: 129669.03\n",
            " > Model[(2, 1, 0), (1, 0, 0, 12), 'ct']: 117465.87\n",
            " > Model[(2, 1, 0), (2, 1, 1, 12), 't']: 131029.94\n",
            " > Model[(2, 1, 0), (1, 0, 1, 12), 'ct']: 117070.24\n",
            " > Model[(2, 1, 0), (1, 1, 0, 12), 'ct']: 126951.39\n",
            " > Model[(2, 1, 0), (2, 0, 0, 12), 'ct']: 117848.03\n",
            " > Model[(2, 1, 0), (1, 1, 1, 12), 'ct']: 126868.34\n",
            " > Model[(2, 1, 0), (2, 0, 1, 12), 'ct']: 114827.95\n",
            " > Model[(2, 1, 0), (2, 1, 0, 12), 'ct']: 128007.29\n",
            " > Model[(2, 1, 1), (0, 0, 0, 12), 'n']: 111915.18\n",
            " > Model[(2, 1, 1), (0, 0, 1, 12), 'n']: 111242.69\n",
            " > Model[(2, 1, 1), (0, 1, 0, 12), 'n']: 131158.08\n",
            " > Model[(2, 1, 1), (0, 1, 1, 12), 'n']: 134698.49\n",
            " > Model[(2, 1, 1), (1, 0, 0, 12), 'n']: 118446.10\n",
            " > Model[(2, 1, 0), (2, 1, 1, 12), 'ct']: 130001.83\n",
            " > Model[(2, 1, 1), (1, 0, 1, 12), 'n']: 118273.84\n",
            " > Model[(2, 1, 1), (1, 1, 0, 12), 'n']: 127813.56\n",
            " > Model[(2, 1, 1), (2, 0, 0, 12), 'n']: 120827.95\n",
            " > Model[(2, 1, 1), (1, 1, 1, 12), 'n']: 127568.61\n",
            " > Model[(2, 1, 1), (2, 0, 1, 12), 'n']: 117214.29\n",
            " > Model[(2, 1, 1), (2, 1, 1, 12), 'n']: 131715.99\n",
            " > Model[(2, 1, 1), (0, 0, 0, 12), 'c']: 111900.78\n",
            " > Model[(2, 1, 1), (0, 0, 1, 12), 'c']: 111241.38\n",
            " > Model[(2, 1, 1), (0, 1, 0, 12), 'c']: 130995.15\n",
            " > Model[(2, 1, 1), (0, 1, 1, 12), 'c']: 131461.88\n",
            " > Model[(2, 1, 1), (2, 1, 0, 12), 'n']: 153913.05\n",
            " > Model[(2, 1, 1), (1, 0, 0, 12), 'c']: 118615.43\n",
            " > Model[(2, 1, 1), (1, 0, 1, 12), 'c']: 118413.80\n",
            " > Model[(2, 1, 1), (1, 1, 0, 12), 'c']: 127541.23\n",
            " > Model[(2, 1, 1), (2, 0, 0, 12), 'c']: 119772.33\n",
            " > Model[(2, 1, 1), (1, 1, 1, 12), 'c']: 127352.75\n",
            " > Model[(2, 1, 1), (2, 0, 1, 12), 'c']: 116869.39\n",
            " > Model[(2, 1, 1), (2, 1, 0, 12), 'c']: 139777.73\n",
            " > Model[(2, 1, 1), (0, 0, 0, 12), 't']: 111867.82\n",
            " > Model[(2, 1, 1), (0, 0, 1, 12), 't']: 111242.16\n",
            " > Model[(2, 1, 1), (0, 1, 0, 12), 't']: 131200.38\n",
            " > Model[(2, 1, 1), (2, 1, 1, 12), 'c']: 131271.68\n",
            " > Model[(2, 1, 1), (1, 0, 0, 12), 't']: 118403.20\n",
            " > Model[(2, 1, 1), (0, 1, 1, 12), 't']: 135645.17\n",
            " > Model[(2, 1, 1), (1, 0, 1, 12), 't']: 118238.08\n",
            " > Model[(2, 1, 1), (1, 1, 0, 12), 't']: 127822.24\n",
            " > Model[(2, 1, 1), (1, 1, 1, 12), 't']: 127587.95\n",
            " > Model[(2, 1, 1), (2, 0, 0, 12), 't']: 120581.85\n",
            " > Model[(2, 1, 1), (2, 0, 1, 12), 't']: 116288.01\n",
            " > Model[(2, 1, 1), (2, 1, 1, 12), 't']: 131031.31\n",
            " > Model[(2, 1, 1), (2, 1, 0, 12), 't']: 163781.61\n",
            " > Model[(2, 1, 1), (0, 0, 0, 12), 'ct']: 119651.09\n",
            " > Model[(2, 1, 1), (0, 0, 1, 12), 'ct']: 111228.21\n",
            " > Model[(2, 1, 1), (0, 1, 0, 12), 'ct']: 130349.84\n",
            " > Model[(2, 1, 1), (1, 0, 0, 12), 'ct']: 134348.27\n",
            " > Model[(2, 1, 1), (0, 1, 1, 12), 'ct']: 130726.07\n",
            " > Model[(2, 1, 1), (1, 0, 1, 12), 'ct']: 135626.83\n",
            " > Model[(2, 1, 1), (1, 1, 0, 12), 'ct']: 126997.76\n",
            " > Model[(2, 1, 1), (1, 1, 1, 12), 'ct']: 126911.50\n",
            " > Model[(2, 1, 1), (2, 0, 0, 12), 'ct']: 119755.05\n",
            " > Model[(2, 1, 1), (2, 0, 1, 12), 'ct']: 112236.03\n",
            " > Model[(2, 1, 1), (2, 1, 0, 12), 'ct']: 128067.82\n",
            " > Model[(2, 1, 2), (0, 0, 0, 12), 'n']: 113965.94\n",
            " > Model[(2, 1, 2), (0, 0, 1, 12), 'n']: 111230.51\n",
            " > Model[(2, 1, 2), (0, 1, 0, 12), 'n']: 132914.58\n",
            " > Model[(2, 1, 2), (0, 1, 1, 12), 'n']: 134196.79\n",
            " > Model[(2, 1, 2), (1, 0, 0, 12), 'n']: 118464.79\n",
            " > Model[(2, 1, 2), (1, 0, 1, 12), 'n']: 118136.14\n",
            " > Model[(2, 1, 2), (1, 1, 0, 12), 'n']: 127847.96\n",
            " > Model[(2, 1, 1), (2, 1, 1, 12), 'ct']: 130042.70\n",
            " > Model[(2, 1, 2), (2, 0, 0, 12), 'n']: 119845.76\n",
            " > Model[(2, 1, 2), (1, 1, 1, 12), 'n']: 130729.87\n",
            " > Model[(2, 1, 2), (2, 0, 1, 12), 'n']: 117516.61\n",
            " > Model[(2, 1, 2), (2, 1, 0, 12), 'n']: 144014.43\n",
            " > Model[(2, 1, 2), (0, 0, 0, 12), 'c']: 113935.20\n",
            " > Model[(2, 1, 2), (0, 0, 1, 12), 'c']: 111229.96\n",
            " > Model[(2, 1, 2), (0, 1, 0, 12), 'c']: 132745.96\n",
            " > Model[(2, 1, 2), (0, 1, 1, 12), 'c']: 133985.19\n",
            " > Model[(2, 1, 2), (1, 0, 0, 12), 'c']: 118527.83\n",
            " > Model[(2, 1, 2), (1, 0, 1, 12), 'c']: 117955.79\n",
            " > Model[(2, 1, 2), (2, 1, 1, 12), 'n']: 142342.15\n",
            " > Model[(2, 1, 2), (1, 1, 0, 12), 'c']: 127592.98\n",
            " > Model[(2, 1, 2), (1, 1, 1, 12), 'c']: 130670.31\n",
            " > Model[(2, 1, 2), (2, 0, 0, 12), 'c']: 119772.06\n",
            " > Model[(2, 1, 2), (2, 0, 1, 12), 'c']: 117491.25\n",
            " > Model[(2, 1, 2), (2, 1, 0, 12), 'c']: 137642.28\n",
            " > Model[(2, 1, 2), (0, 0, 0, 12), 't']: 114052.70\n",
            " > Model[(2, 1, 2), (2, 1, 1, 12), 'c']: 131399.88\n"
          ],
          "name": "stdout"
        }
      ]
    },
    {
      "cell_type": "code",
      "metadata": {
        "id": "MVlYRml704BF",
        "colab_type": "code",
        "colab": {}
      },
      "source": [
        "scores[:3]"
      ],
      "execution_count": null,
      "outputs": []
    },
    {
      "cell_type": "code",
      "metadata": {
        "id": "5oIIpjO9kLLq",
        "colab_type": "code",
        "colab": {}
      },
      "source": [
        "test_scores = test_grid_search_results(df, exog, scores, ntop_scores=2)"
      ],
      "execution_count": null,
      "outputs": []
    },
    {
      "cell_type": "code",
      "metadata": {
        "id": "xPlaymyj7dJY",
        "colab_type": "code",
        "colab": {}
      },
      "source": [
        "test_scores"
      ],
      "execution_count": null,
      "outputs": []
    },
    {
      "cell_type": "code",
      "metadata": {
        "id": "66-cWYnWBPzc",
        "colab_type": "code",
        "colab": {
          "base_uri": "https://localhost:8080/",
          "height": 614
        },
        "outputId": "83211a1a-b80e-4663-ca00-061d7bb19ee5"
      },
      "source": [
        "plot_model(df, exog, eval(test_scores[0][0]))"
      ],
      "execution_count": null,
      "outputs": [
        {
          "output_type": "stream",
          "text": [
            "/usr/local/lib/python3.6/dist-packages/statsmodels/tsa/base/tsa_model.py:165: ValueWarning: No frequency information was provided, so inferred frequency MS will be used.\n",
            "  % freq, ValueWarning)\n"
          ],
          "name": "stderr"
        },
        {
          "output_type": "stream",
          "text": [
            "Error: 17216.282104952123\n"
          ],
          "name": "stdout"
        },
        {
          "output_type": "display_data",
          "data": {
            "image/png": "[encoded data removed]",
            "text/plain": [
              "<Figure size 1584x720 with 1 Axes>"
            ]
          },
          "metadata": {
            "tags": []
          }
        }
      ]
    },
    {
      "cell_type": "markdown",
      "metadata": {
        "id": "1mm1mQP6I3tk",
        "colab_type": "text"
      },
      "source": [
        "___"
      ]
    },
    {
      "cell_type": "markdown",
      "metadata": {
        "id": "xKxy7ujzvCxy",
        "colab_type": "text"
      },
      "source": [
        "## Previsão"
      ]
    },
    {
      "cell_type": "code",
      "metadata": {
        "id": "Lsp8I1dtn40j",
        "colab_type": "code",
        "colab": {
          "base_uri": "https://localhost:8080/",
          "height": 73
        },
        "outputId": "5ac382d0-3c53-4571-a166-d847b60a3db7"
      },
      "source": [
        "cfg= eval(test_scores[0][0])\n",
        "# cfg = [(0, 1, 2), (0, 0, 1, 12), 't']\n",
        "order = cfg[0]\n",
        "s_order = cfg[1]\n",
        "trend = cfg[2]\n",
        "sarimax_pred = SARIMAX(\n",
        "    endog=df, exog=df_ibc.indice_ajus, order=order, seasonal_order=s_order, trend=trend,\n",
        "    enforce_stationarity=False, enforce_invertibility=False)\n",
        "\n",
        "model_sarimax_pred = sarimax_pred.fit(disp=False)\n",
        "\n",
        "fcast_sarimax = model_sarimax_pred.get_forecast(5, exog=df_ibc.indice_ajus[-5:].values.reshape(-1, 1))\n"
      ],
      "execution_count": null,
      "outputs": [
        {
          "output_type": "stream",
          "text": [
            "/usr/local/lib/python3.6/dist-packages/statsmodels/tsa/base/tsa_model.py:165: ValueWarning: No frequency information was provided, so inferred frequency MS will be used.\n",
            "  % freq, ValueWarning)\n"
          ],
          "name": "stderr"
        }
      ]
    },
    {
      "cell_type": "code",
      "metadata": {
        "id": "rqZ3UU1gqBkG",
        "colab_type": "code",
        "colab": {}
      },
      "source": [
        "df_fcast = pd.concat([model_sarimax_pred.predict(), fcast_sarimax.predicted_mean], axis=0)"
      ],
      "execution_count": null,
      "outputs": []
    },
    {
      "cell_type": "code",
      "metadata": {
        "id": "favbcK0yqbKV",
        "colab_type": "code",
        "colab": {
          "base_uri": "https://localhost:8080/",
          "height": 206
        },
        "outputId": "9711ccef-be65-4014-eb63-34a229d44c3d"
      },
      "source": [
        "df_fcast.name = 'fcast'\n",
        "df_fcast = pd.concat([df_fcast, fcast_sarimax.conf_int()], axis=1)\n",
        "df_fcast.tail()"
      ],
      "execution_count": null,
      "outputs": [
        {
          "output_type": "execute_result",
          "data": {
            "text/html": [
              "<div>\n",
              "<style scoped>\n",
              "    .dataframe tbody tr th:only-of-type {\n",
              "        vertical-align: middle;\n",
              "    }\n",
              "\n",
              "    .dataframe tbody tr th {\n",
              "        vertical-align: top;\n",
              "    }\n",
              "\n",
              "    .dataframe thead th {\n",
              "        text-align: right;\n",
              "    }\n",
              "</style>\n",
              "<table border=\"1\" class=\"dataframe\">\n",
              "  <thead>\n",
              "    <tr style=\"text-align: right;\">\n",
              "      <th></th>\n",
              "      <th>fcast</th>\n",
              "      <th>lower estoques</th>\n",
              "      <th>upper estoques</th>\n",
              "    </tr>\n",
              "  </thead>\n",
              "  <tbody>\n",
              "    <tr>\n",
              "      <th>2020-08-01</th>\n",
              "      <td>1.194649e+06</td>\n",
              "      <td>1.161092e+06</td>\n",
              "      <td>1.228207e+06</td>\n",
              "    </tr>\n",
              "    <tr>\n",
              "      <th>2020-09-01</th>\n",
              "      <td>1.110412e+06</td>\n",
              "      <td>1.063742e+06</td>\n",
              "      <td>1.157083e+06</td>\n",
              "    </tr>\n",
              "    <tr>\n",
              "      <th>2020-10-01</th>\n",
              "      <td>1.131321e+06</td>\n",
              "      <td>1.079486e+06</td>\n",
              "      <td>1.183155e+06</td>\n",
              "    </tr>\n",
              "    <tr>\n",
              "      <th>2020-11-01</th>\n",
              "      <td>1.184591e+06</td>\n",
              "      <td>1.129819e+06</td>\n",
              "      <td>1.239363e+06</td>\n",
              "    </tr>\n",
              "    <tr>\n",
              "      <th>2020-12-01</th>\n",
              "      <td>1.199323e+06</td>\n",
              "      <td>1.142515e+06</td>\n",
              "      <td>1.256132e+06</td>\n",
              "    </tr>\n",
              "  </tbody>\n",
              "</table>\n",
              "</div>"
            ],
            "text/plain": [
              "                   fcast  lower estoques  upper estoques\n",
              "2020-08-01  1.194649e+06    1.161092e+06    1.228207e+06\n",
              "2020-09-01  1.110412e+06    1.063742e+06    1.157083e+06\n",
              "2020-10-01  1.131321e+06    1.079486e+06    1.183155e+06\n",
              "2020-11-01  1.184591e+06    1.129819e+06    1.239363e+06\n",
              "2020-12-01  1.199323e+06    1.142515e+06    1.256132e+06"
            ]
          },
          "metadata": {
            "tags": []
          },
          "execution_count": 201
        }
      ]
    },
    {
      "cell_type": "code",
      "metadata": {
        "id": "zKn4JeG7rFGz",
        "colab_type": "code",
        "colab": {}
      },
      "source": [
        "previsoes_sarimax = pd.concat(\n",
        "    [df['estoques'], df_fcast],\n",
        "    axis=1)"
      ],
      "execution_count": null,
      "outputs": []
    },
    {
      "cell_type": "code",
      "metadata": {
        "id": "bGEGC6u2rb_v",
        "colab_type": "code",
        "colab": {
          "base_uri": "https://localhost:8080/",
          "height": 408
        },
        "outputId": "9d2aafcd-88ab-4b8d-81a4-65e01baa5fce"
      },
      "source": [
        "fig, ax = plt.subplots(figsize=(16, 6))\n",
        "previsoes_sarimax.estoques.loc['2012-03-01':].plot(ax=ax, style='o', label='real')\n",
        "\n",
        "previsoes_sarimax.fcast.loc['2012-03-01':].plot(ax=ax, style='g--x', label='previsão')\n",
        "\n",
        "ax.fill_between(\n",
        "    previsoes_sarimax.index, \n",
        "    previsoes_sarimax.iloc[:,2], \n",
        "    previsoes_sarimax.iloc[:,3], color='g', alpha=0.1)\n",
        "\n",
        "plt.title('Estimativa do estoque de empregos formais para PERNAMBUCO')\n",
        "legend = ax.legend(loc='lower left')"
      ],
      "execution_count": null,
      "outputs": [
        {
          "output_type": "display_data",
          "data": {
            "image/png": "[encoded data removed]",
            "text/plain": [
              "<Figure size 1152x432 with 1 Axes>"
            ]
          },
          "metadata": {
            "tags": []
          }
        }
      ]
    },
    {
      "cell_type": "markdown",
      "metadata": {
        "id": "TwOU21Mn6kD7",
        "colab_type": "text"
      },
      "source": [
        "Até o fim do ano o saldo será:"
      ]
    },
    {
      "cell_type": "code",
      "metadata": {
        "id": "lqPZq_8a6ks9",
        "colab_type": "code",
        "colab": {
          "base_uri": "https://localhost:8080/",
          "height": 35
        },
        "outputId": "3b731481-e662-488f-dd8a-7a4d29e7e63b"
      },
      "source": [
        "fcast_sarimax.predicted_mean[-1] - df.estoques[-1]"
      ],
      "execution_count": null,
      "outputs": [
        {
          "output_type": "execute_result",
          "data": {
            "text/plain": [
              "29267.315637353575"
            ]
          },
          "metadata": {
            "tags": []
          },
          "execution_count": 204
        }
      ]
    },
    {
      "cell_type": "code",
      "metadata": {
        "id": "V9UUWpve7hU0",
        "colab_type": "code",
        "colab": {}
      },
      "source": [
        "pred2020df = pd.DataFrame(df_saldo.saldo[-1] + fcast_sarimax.predicted_mean[-1] - df.estoques[-1], \n",
        "                          index=[\"2020\"], columns=['saldo'])\n",
        "pred2020df.index.name = \"Ano\"\n",
        "pred2020df.index = pd.to_datetime(pred2020df.index, format=\"%Y\")"
      ],
      "execution_count": null,
      "outputs": []
    },
    {
      "cell_type": "code",
      "metadata": {
        "id": "IKDPI80WCnQz",
        "colab_type": "code",
        "colab": {}
      },
      "source": [
        "df_saldo_pred = pd.concat([df_saldo[1:][:-1], pred2020df], axis=0)\n",
        "df_saldo_pred['saldo'] = df_saldo_pred.saldo.astype('int')\n",
        "df_saldo_pred.index.name = 'data'"
      ],
      "execution_count": null,
      "outputs": []
    },
    {
      "cell_type": "code",
      "metadata": {
        "id": "5oQ4XJrJ_5Xj",
        "colab_type": "code",
        "colab": {
          "base_uri": "https://localhost:8080/",
          "height": 408
        },
        "outputId": "8247d625-96cd-4a63-e63c-eef1be440bd3"
      },
      "source": [
        "plt.figure(figsize=(12, 6))\n",
        "plt.bar(df_saldo_pred.index.year, df_saldo_pred.saldo, color='g')\n",
        "plt.title('Saldo de vagas - Pernambuco')\n",
        "plt.show();"
      ],
      "execution_count": null,
      "outputs": [
        {
          "output_type": "display_data",
          "data": {
            "image/png": "[encoded data removed]",
            "text/plain": [
              "<Figure size 864x432 with 1 Axes>"
            ]
          },
          "metadata": {
            "tags": []
          }
        }
      ]
    },
    {
      "cell_type": "code",
      "metadata": {
        "id": "h41s1NQWeqK7",
        "colab_type": "code",
        "colab": {}
      },
      "source": [
        "df_saldo_pred.to_csv(\"/content/drive/My Drive/Colab Notebooks/emprego/bases/saldo_pe_pred.csv\")"
      ],
      "execution_count": null,
      "outputs": []
    },
    {
      "cell_type": "code",
      "metadata": {
        "id": "r5MS_qcHDN31",
        "colab_type": "code",
        "colab": {
          "base_uri": "https://localhost:8080/",
          "height": 394
        },
        "outputId": "84cccb1d-cbfb-4b14-859c-66c84ed589cf"
      },
      "source": [
        "df_saldo_pred.groupby(df_saldo_pred.index.year).sum()"
      ],
      "execution_count": null,
      "outputs": [
        {
          "output_type": "execute_result",
          "data": {
            "text/html": [
              "<div>\n",
              "<style scoped>\n",
              "    .dataframe tbody tr th:only-of-type {\n",
              "        vertical-align: middle;\n",
              "    }\n",
              "\n",
              "    .dataframe tbody tr th {\n",
              "        vertical-align: top;\n",
              "    }\n",
              "\n",
              "    .dataframe thead th {\n",
              "        text-align: right;\n",
              "    }\n",
              "</style>\n",
              "<table border=\"1\" class=\"dataframe\">\n",
              "  <thead>\n",
              "    <tr style=\"text-align: right;\">\n",
              "      <th></th>\n",
              "      <th>saldo</th>\n",
              "    </tr>\n",
              "    <tr>\n",
              "      <th>data</th>\n",
              "      <th></th>\n",
              "    </tr>\n",
              "  </thead>\n",
              "  <tbody>\n",
              "    <tr>\n",
              "      <th>2011</th>\n",
              "      <td>76082</td>\n",
              "    </tr>\n",
              "    <tr>\n",
              "      <th>2012</th>\n",
              "      <td>52256</td>\n",
              "    </tr>\n",
              "    <tr>\n",
              "      <th>2013</th>\n",
              "      <td>35068</td>\n",
              "    </tr>\n",
              "    <tr>\n",
              "      <th>2014</th>\n",
              "      <td>-9566</td>\n",
              "    </tr>\n",
              "    <tr>\n",
              "      <th>2015</th>\n",
              "      <td>-87207</td>\n",
              "    </tr>\n",
              "    <tr>\n",
              "      <th>2016</th>\n",
              "      <td>-47617</td>\n",
              "    </tr>\n",
              "    <tr>\n",
              "      <th>2017</th>\n",
              "      <td>-6498</td>\n",
              "    </tr>\n",
              "    <tr>\n",
              "      <th>2018</th>\n",
              "      <td>4091</td>\n",
              "    </tr>\n",
              "    <tr>\n",
              "      <th>2019</th>\n",
              "      <td>9696</td>\n",
              "    </tr>\n",
              "    <tr>\n",
              "      <th>2020</th>\n",
              "      <td>-33833</td>\n",
              "    </tr>\n",
              "  </tbody>\n",
              "</table>\n",
              "</div>"
            ],
            "text/plain": [
              "      saldo\n",
              "data       \n",
              "2011  76082\n",
              "2012  52256\n",
              "2013  35068\n",
              "2014  -9566\n",
              "2015 -87207\n",
              "2016 -47617\n",
              "2017  -6498\n",
              "2018   4091\n",
              "2019   9696\n",
              "2020 -33833"
            ]
          },
          "metadata": {
            "tags": []
          },
          "execution_count": 209
        }
      ]
    },
    {
      "cell_type": "markdown",
      "metadata": {
        "id": "uvT8_07hNchy",
        "colab_type": "text"
      },
      "source": [
        "### Otimista"
      ]
    },
    {
      "cell_type": "code",
      "metadata": {
        "id": "s-4X1iUGNW_g",
        "colab_type": "code",
        "colab": {
          "base_uri": "https://localhost:8080/",
          "height": 408
        },
        "outputId": "745f50cc-9201-4939-e394-033b7c530b28"
      },
      "source": [
        "pred2020df_otimista = pd.DataFrame(df_saldo.saldo[-1] + df_fcast.iloc[-1:, 2][0] - df.estoques[-1], \n",
        "                          index=[\"2020\"], columns=['saldo'])\n",
        "pred2020df_otimista.index.name = \"Ano\"\n",
        "pred2020df_otimista.index = pd.to_datetime(pred2020df_otimista.index, format=\"%Y\")\n",
        "\n",
        "df_saldo_pred_otimista = pd.concat([df_saldo[1:][:-1], pred2020df_otimista], axis=0)\n",
        "df_saldo_pred_otimista['saldo'] = df_saldo_pred_otimista.saldo.astype('int')\n",
        "df_saldo_pred_otimista.index.name = 'data'\n",
        "\n",
        "plt.figure(figsize=(12, 6))\n",
        "plt.bar(df_saldo_pred_otimista.index.year, df_saldo_pred_otimista.saldo, color='g')\n",
        "plt.title('Saldo de vagas - Pernambuco (cenário otimista')\n",
        "plt.show();"
      ],
      "execution_count": null,
      "outputs": [
        {
          "output_type": "display_data",
          "data": {
            "image/png": "[encoded data removed]",
            "text/plain": [
              "<Figure size 864x432 with 1 Axes>"
            ]
          },
          "metadata": {
            "tags": []
          }
        }
      ]
    },
    {
      "cell_type": "markdown",
      "metadata": {
        "id": "rkljPHkGNDkO",
        "colab_type": "text"
      },
      "source": [
        "### Pessimista"
      ]
    },
    {
      "cell_type": "code",
      "metadata": {
        "id": "0OHP7NSDLiYB",
        "colab_type": "code",
        "colab": {
          "base_uri": "https://localhost:8080/",
          "height": 408
        },
        "outputId": "8fc06830-4ed9-42c7-a0f3-f201d865ea70"
      },
      "source": [
        "pred2020df_pess = pd.DataFrame(df_saldo.saldo[-1] + df_fcast.iloc[-1:, 1][0] - df.estoques[-1], \n",
        "                          index=[\"2020\"], columns=['saldo'])\n",
        "pred2020df_pess.index.name = \"Ano\"\n",
        "pred2020df_pess.index = pd.to_datetime(pred2020df_pess.index, format=\"%Y\")\n",
        "\n",
        "df_saldo_pred_pess = pd.concat([df_saldo[1:][:-1], pred2020df_pess], axis=0)\n",
        "df_saldo_pred_pess['saldo'] = df_saldo_pred_pess.saldo.astype('int')\n",
        "df_saldo_pred_pess.index.name = 'data'\n",
        "\n",
        "plt.figure(figsize=(12, 6))\n",
        "plt.bar(df_saldo_pred_pess.index.year, df_saldo_pred_pess.saldo, color='g')\n",
        "plt.title('Saldo de vagas - Pernambuco (cenário pessimista')\n",
        "plt.show();"
      ],
      "execution_count": null,
      "outputs": [
        {
          "output_type": "display_data",
          "data": {
            "image/png": "[encoded data removed]",
            "text/plain": [
              "<Figure size 864x432 with 1 Axes>"
            ]
          },
          "metadata": {
            "tags": []
          }
        }
      ]
    }
  ]
}